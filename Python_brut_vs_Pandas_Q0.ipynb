{
 "cells": [
  {
   "cell_type": "markdown",
   "metadata": {},
   "source": [
    "# Récupération des données\n",
    "\n",
    "Deux types de classement ATP et WPA\n",
    "\n",
    "ATP -> 1968 à 2024\n",
    "\n",
    "Distinction simple/double homme/Femme\n",
    "\n",
    "WPA -> 1968 à 2024\n",
    "\n",
    "\n",
    "Etude python pur + pandas\n",
    "\n",
    "Question : Distribution joeurs par pays"
   ]
  },
  {
   "cell_type": "markdown",
   "metadata": {},
   "source": [
    "Sur l'ensemble des données (de 1968 à 2024) quelle est la répartition pays gagnant en fonction du type de surface du terrain. On ne considère que les matches en simple."
   ]
  },
  {
   "cell_type": "markdown",
   "metadata": {},
   "source": [
    "## I. Python brut"
   ]
  },
  {
   "cell_type": "markdown",
   "metadata": {},
   "source": [
    "Récupération des informations chez les hommes"
   ]
  },
  {
   "cell_type": "code",
   "execution_count": 2,
   "metadata": {},
   "outputs": [],
   "source": [
    "import os\n",
    "\n",
    "joueurs_hommes = []\n",
    "chemin = os.path.join(\"donnees_tennis\",\"ATP\",\"atp_players.csv\")\n",
    "with open(chemin, 'r') as fd:\n",
    "    for ligne in fd:\n",
    "        s = ligne.strip('\\n')\n",
    "        l = s.split(',')\n",
    "        joueurs_hommes.append(l)\n"
   ]
  },
  {
   "cell_type": "markdown",
   "metadata": {},
   "source": [
    "Création d'un dictionnaire avec les origines et les effectifs"
   ]
  },
  {
   "cell_type": "code",
   "execution_count": 6,
   "metadata": {},
   "outputs": [
    {
     "name": "stdout",
     "output_type": "stream",
     "text": [
      "{'USA': [13229, 0], 'ECU': [452, 0], 'AUS': [3285, 0], 'ITA': [2726, 0], 'RSA': [1053, 0], 'DEN': [245, 0], 'HUN': [382, 0], 'CHI': [691, 0], 'POL': [695, 0], 'PER': [270, 0], 'IND': [1095, 0], 'SWE': [889, 0], 'ESP': [3081, 0], 'SUI': [685, 0], 'GER': [2742, 0], 'ROU': [760, 0], 'CRO': [554, 0], 'JPN': [1329, 0], 'CZE': [756, 0], 'RUS': [1118, 0], 'GBR': [3281, 0], 'BRA': [2104, 0], 'FRA': [2648, 0], 'ZIM': [108, 0], 'SRB': [410, 0], 'NED': [810, 0], 'CAN': [1005, 0], 'GRE': [341, 0], 'MEX': [1342, 0], 'JAM': [123, 0], 'COL': [670, 0], 'ARG': [1760, 0], 'BEL': [558, 0], 'NZL': [368, 0], 'VEN': [439, 0], 'EGY': [329, 0], 'BOL': [225, 0], 'AUT': [789, 0], 'PAK': [160, 0], 'YUG': [210, 0], 'NGR': [233, 0], 'PUR': [82, 0], 'PAR': [109, 0], 'IRL': [347, 0], 'IRI': [266, 0], 'FIN': [333, 0], 'URU': [119, 0], 'ISR': [556, 0], 'KOR': [596, 0], 'CRC': [54, 0], 'MAR': [364, 0], 'HAI': [39, 0], 'LAT': [83, 0], 'INA': [278, 0], 'SEN': [35, 0], 'LUX': [84, 0], 'BAH': [34, 0], 'SVK': [397, 0], 'UKR': [398, 0], 'PHI': [157, 0], 'TUR': [405, 0], 'HKG': [156, 0], 'CUB': [109, 0], 'BUL': [310, 0], 'NOR': [200, 0], 'MAS': [133, 0], 'KEN': [54, 0], 'POR': [506, 0], 'GEO': [118, 0], 'THA': [211, 0], 'AND': [20, 0], 'CHN': [562, 0], 'CIV': [40, 0], 'MKD': [87, 0], 'TPE': [201, 0], 'AHO': [27, 0], 'ESA': [53, 0], 'GUA': [72, 0], 'MON': [48, 0], 'GHA': [82, 0], 'SLO': [293, 0], 'EST': [91, 0], 'TRI': [26, 0], 'ALG': [121, 0], 'DOM': [109, 0], 'BLR': [171, 0], 'UZB': [252, 0], 'CAF': [3, 0], 'ARM': [43, 0], 'QAT': [53, 0], 'BIH': [151, 0], 'LIB': [66, 0], 'LTU': [97, 0], 'MDA': [35, 0], 'KUW': [84, 0], 'BEN': [27, 0], 'MRI': [15, 0], 'TUN': [145, 0], 'AZE': [20, 0], 'KAZ': [147, 0], 'ISL': [8, 0], 'UAE': [26, 0], 'MNE': [24, 0], 'SLE': [3, 0], 'VIE': [84, 0], 'CYP': [72, 0], 'TOG': [48, 0], 'SRI': [76, 0], 'BAR': [35, 0], 'SOL': [2, 0], 'ARU': [26, 0], 'TJK': [11, 0], 'NAM': [29, 0], 'MAD': [11, 0], 'SYR': [41, 0], 'MLT': [23, 0], 'CAM': [11, 0], 'UGA': [28, 0], 'KGZ': [13, 0], 'LBA': [7, 0], 'BUR': [8, 0], 'RHO': [15, 0], 'ZAM': [25, 0], 'BER': [25, 0], 'MLI': [9, 0], 'SGP': [69, 0], 'OMA': [5, 0], 'VAN': [5, 0], 'KSA': [34, 0], 'BRN': [24, 0], 'GUM': [13, 0], 'URS': [31, 0], 'PNG': [2, 0], 'FIJ': [2, 0], 'SAM': [1, 0], 'COK': [1, 0], 'MHL': [1, 0], 'BRU': [11, 0], 'SMR': [13, 0], '': [670, 0], 'NIG': [3, 0], 'ECA': [5, 0], 'BAN': [29, 0], 'IRQ': [8, 0], 'CAR': [12, 0], 'CGO': [4, 0], 'CMR': [34, 0], 'JOR': [34, 0], 'PAN': [38, 0], 'BDI': [10, 0], 'ISV': [6, 0], 'TCH': [66, 0], 'FRG': [159, 0], 'ANZ': [4, 0], 'BRI': [3, 0], 'HAW': [2, 0], 'TAN': [5, 0], 'HON': [18, 0], 'SCG': [14, 0], 'BOT': [48, 0], 'CAY': [4, 0], 'COD': [8, 0], 'VIN': [2, 0], 'RWA': [38, 0], 'TKM': [16, 0], 'SUD': [35, 0], 'LCA': [2, 0], 'NCA': [9, 0], 'GAB': [12, 0], 'NMI': [3, 0], 'LAO': [4, 0], 'ANG': [5, 0], 'LES': [6, 0], 'MYA': [7, 0], 'SUR': [3, 0], 'GUD': [5, 0], 'MOZ': [17, 0], 'SEY': [1, 0], 'CAL': [1, 0], 'REU': [2, 0], 'GRN': [4, 0], 'LIE': [7, 0], 'SWZ': [1, 0], 'LBN': [5, 0], 'ALB': [2, 0], 'BIZ': [1, 0], 'LBR': [1, 0], 'ANT': [3, 0], 'ASA': [2, 0], 'ETH': [4, 0], 'MGL': [1, 0], 'CPV': [1, 0], 'PLW': [1, 0], 'NEP': [4, 0], 'TKS': [1, 0], 'GDR': [29, 0], 'LEB': [7, 0], 'CEY': [3, 0], 'BIR': [1, 0], 'GUY': [1, 0], 'SIN': [4, 0], '?': [1, 0], 'ZWE': [1, 0], 'YEM': [2, 0], 'POC': [3, 0], 'TTO': [5, 0], 'MTN': [2, 0], 'ITF': [1, 0], 'ERI': [1, 0], 'CUW': [8, 0], 'AFG': [1, 0], 'TGO': [1, 0], 'CHL': [7, 0], 'MDG': [1, 0], 'GTM': [2, 0], 'PRY': [4, 0], 'MRT': [1, 0], 'KWT': [4, 0], 'NPL': [1, 0], 'VIR': [1, 0], 'UNK': [1, 0], 'BHR': [2, 0], 'COG': [2, 0], 'TWN': [1, 0], 'NGA': [1, 0], 'NIC': [1, 0], 'AGO': [2, 0], 'BWA': [1, 0], 'DEU': [1, 0]}\n"
     ]
    }
   ],
   "source": [
    "repartition_loc = dict()\n",
    "repartition_loc['USA'] = [1,0]\n",
    "for joueur in joueurs_hommes[1:]:\n",
    "    if joueur[5] in repartition_loc.keys():\n",
    "        repartition_loc[joueur[5]][0] += 1\n",
    "    else:\n",
    "        repartition_loc[joueur[5]] = [1,0]\n",
    "\n",
    "print(repartition_loc)"
   ]
  },
  {
   "cell_type": "markdown",
   "metadata": {},
   "source": [
    "Récupération des informations chez les femmes"
   ]
  },
  {
   "cell_type": "code",
   "execution_count": 7,
   "metadata": {},
   "outputs": [],
   "source": [
    "joueurs_femmes = []\n",
    "chemin = os.path.join(\"donnees_tennis\",\"WTA\",\"wta_players.csv\")\n",
    "with open(chemin, 'r') as fd:\n",
    "    for ligne in fd:\n",
    "        s = ligne.strip('\\n')\n",
    "        l = s.split(',')\n",
    "        joueurs_femmes.append(l)"
   ]
  },
  {
   "cell_type": "markdown",
   "metadata": {},
   "source": [
    "Ajout des effectifs des femmes aux dictionnaires"
   ]
  },
  {
   "cell_type": "code",
   "execution_count": 8,
   "metadata": {},
   "outputs": [
    {
     "name": "stdout",
     "output_type": "stream",
     "text": [
      "{'USA': [13229, 19226], 'ECU': [452, 129], 'AUS': [3285, 3063], 'ITA': [2726, 1818], 'RSA': [1053, 1119], 'DEN': [245, 187], 'HUN': [382, 378], 'CHI': [691, 173], 'POL': [695, 492], 'PER': [270, 141], 'IND': [1095, 965], 'SWE': [889, 586], 'ESP': [3081, 1483], 'SUI': [685, 661], 'GER': [2742, 2069], 'ROU': [760, 739], 'CRO': [554, 334], 'JPN': [1329, 1344], 'CZE': [756, 728], 'RUS': [1118, 1284], 'GBR': [3281, 12631], 'BRA': [2104, 768], 'FRA': [2648, 2239], 'ZIM': [108, 30], 'SRB': [410, 356], 'NED': [810, 657], 'CAN': [1005, 1254], 'GRE': [341, 241], 'MEX': [1342, 712], 'JAM': [123, 105], 'COL': [670, 394], 'ARG': [1760, 831], 'BEL': [558, 466], 'NZL': [368, 715], 'VEN': [439, 231], 'EGY': [329, 291], 'BOL': [225, 129], 'AUT': [789, 507], 'PAK': [160, 29], 'YUG': [210, 102], 'NGR': [233, 139], 'PUR': [82, 77], 'PAR': [109, 76], 'IRL': [347, 666], 'IRI': [266, 36], 'FIN': [333, 173], 'URU': [119, 79], 'ISR': [556, 391], 'KOR': [596, 461], 'CRC': [54, 29], 'MAR': [364, 161], 'HAI': [39, 5], 'LAT': [83, 98], 'INA': [278, 295], 'SEN': [35, 10], 'LUX': [84, 52], 'BAH': [34, 43], 'SVK': [397, 363], 'UKR': [398, 453], 'PHI': [157, 138], 'TUR': [405, 369], 'HKG': [156, 84], 'CUB': [109, 87], 'BUL': [310, 305], 'NOR': [200, 125], 'MAS': [133, 105], 'KEN': [54, 67], 'POR': [506, 242], 'GEO': [118, 123], 'THA': [211, 262], 'AND': [20, 2], 'CHN': [562, 638], 'CIV': [40, 1], 'MKD': [87, 33], 'TPE': [201, 191], 'AHO': [27, 22], 'ESA': [53, 41], 'GUA': [72, 39], 'MON': [48, 6], 'GHA': [82, 6], 'SLO': [293, 208], 'EST': [91, 93], 'TRI': [26, 1], 'ALG': [121, 85], 'DOM': [109, 61], 'BLR': [171, 201], 'UZB': [252, 148], 'CAF': [3, 0], 'ARM': [43, 41], 'QAT': [53, 2], 'BIH': [151, 95], 'LIB': [66, 11], 'LTU': [97, 54], 'MDA': [35, 55], 'KUW': [84, 3], 'BEN': [27, 5], 'MRI': [15, 15], 'TUN': [145, 123], 'AZE': [20, 12], 'KAZ': [147, 188], 'ISL': [8, 18], 'UAE': [26, 1], 'MNE': [24, 34], 'SLE': [3, 0], 'VIE': [84, 20], 'CYP': [72, 63], 'TOG': [48, 2], 'SRI': [76, 82], 'BAR': [35, 26], 'SOL': [2, 0], 'ARU': [26, 0], 'TJK': [11, 9], 'NAM': [29, 14], 'MAD': [11, 22], 'SYR': [41, 21], 'MLT': [23, 27], 'CAM': [11, 1], 'UGA': [28, 2], 'KGZ': [13, 27], 'LBA': [7, 0], 'BUR': [8, 1], 'RHO': [15, 25], 'ZAM': [25, 2], 'BER': [25, 112], 'MLI': [9, 1], 'SGP': [69, 91], 'OMA': [5, 5], 'VAN': [5, 0], 'KSA': [34, 1], 'BRN': [24, 7], 'GUM': [13, 4], 'URS': [31, 141], 'PNG': [2, 1], 'FIJ': [2, 6], 'SAM': [1, 3], 'COK': [1, 0], 'MHL': [1, 0], 'BRU': [11, 8], 'SMR': [13, 7], '': [670, 1091], 'NIG': [3, 0], 'ECA': [5, 3], 'BAN': [29, 1], 'IRQ': [8, 7], 'CAR': [12, 0], 'CGO': [4, 2], 'CMR': [34, 12], 'JOR': [34, 7], 'PAN': [38, 30], 'BDI': [10, 11], 'ISV': [6, 0], 'TCH': [66, 112], 'FRG': [159, 22], 'ANZ': [4, 0], 'BRI': [3, 0], 'HAW': [2, 0], 'TAN': [5, 10], 'HON': [18, 11], 'SCG': [14, 16], 'BOT': [48, 21], 'CAY': [4, 0], 'COD': [8, 0], 'VIN': [2, 1], 'RWA': [38, 2], 'TKM': [16, 16], 'SUD': [35, 3], 'LCA': [2, 0], 'NCA': [9, 3], 'GAB': [12, 3], 'NMI': [3, 0], 'LAO': [4, 0], 'ANG': [5, 1], 'LES': [6, 3], 'MYA': [7, 0], 'SUR': [3, 0], 'GUD': [5, 10], 'MOZ': [17, 3], 'SEY': [1, 0], 'CAL': [1, 0], 'REU': [2, 17], 'GRN': [4, 1], 'LIE': [7, 16], 'SWZ': [1, 0], 'LBN': [5, 10], 'ALB': [2, 4], 'BIZ': [1, 0], 'LBR': [1, 0], 'ANT': [3, 8], 'ASA': [2, 0], 'ETH': [4, 8], 'MGL': [1, 5], 'CPV': [1, 0], 'PLW': [1, 0], 'NEP': [4, 0], 'TKS': [1, 0], 'GDR': [29, 13], 'LEB': [7, 5], 'CEY': [3, 8], 'BIR': [1, 1], 'GUY': [1, 1], 'SIN': [4, 28], '?': [1, 1], 'ZWE': [1, 4], 'YEM': [2, 0], 'POC': [3, 15], 'TTO': [5, 38], 'MTN': [2, 0], 'ITF': [1, 0], 'ERI': [1, 0], 'CUW': [8, 1], 'AFG': [1, 0], 'TGO': [1, 0], 'CHL': [7, 5], 'MDG': [1, 2], 'GTM': [2, 7], 'PRY': [4, 15], 'MRT': [1, 0], 'KWT': [4, 0], 'NPL': [1, 1], 'VIR': [1, 2], 'UNK': [1, 31], 'BHR': [2, 0], 'COG': [2, 0], 'TWN': [1, 17], 'NGA': [1, 3], 'NIC': [1, 0], 'AGO': [2, 0], 'BWA': [1, 3], 'DEU': [1, 14], 'MRN': [0, 5], 'CIS': [0, 12], 'NLD': [0, 5], 'SAU': [0, 3], 'BGR': [0, 1], 'CRI': [0, 3], 'NCL': [0, 2], 'ZMB': [0, 1], 'PLE': [0, 1], 'LVA': [0, 4], 'PRI': [0, 2], 'MAC': [0, 1], 'TRT': [0, 1], 'GLP': [0, 3], 'KNA': [0, 2], 'KOS': [0, 2], 'MUS': [0, 1], 'BHS': [0, 1], 'GRC': [0, 9], 'MNG': [0, 2], 'PHL': [0, 4], 'ASM': [0, 1]}\n"
     ]
    }
   ],
   "source": [
    "for joueur in joueurs_femmes[1:]:\n",
    "    if joueur[5] in repartition_loc.keys():\n",
    "        repartition_loc[joueur[5]][1] += 1\n",
    "    else:\n",
    "        repartition_loc[joueur[5]] = [0,1]\n",
    "\n",
    "print(repartition_loc)"
   ]
  },
  {
   "cell_type": "markdown",
   "metadata": {},
   "source": [
    "Transformation en tableau à double entrée : effectif par nationnalité et sexe"
   ]
  },
  {
   "cell_type": "code",
   "execution_count": 9,
   "metadata": {},
   "outputs": [],
   "source": [
    "tableau = [['Nationalité', 'Hommes', 'Femmes', 'Total']] # En-têtes\n",
    "\n",
    "for nationalite, effectifs in repartition_loc.items():\n",
    "    hommes, femmes = effectifs[0], effectifs[1]\n",
    "    total = hommes + femmes\n",
    "    tableau.append([nationalite, hommes, femmes, total])"
   ]
  },
  {
   "cell_type": "markdown",
   "metadata": {},
   "source": [
    "Création de l'histogramme"
   ]
  },
  {
   "cell_type": "code",
   "execution_count": 10,
   "metadata": {},
   "outputs": [],
   "source": [
    "# Importation des bibliothèques\n",
    "import matplotlib.pyplot as plt\n",
    "import numpy as np"
   ]
  },
  {
   "cell_type": "code",
   "execution_count": 11,
   "metadata": {},
   "outputs": [],
   "source": [
    "tableau_filtre = [tableau[0]]  # Garder les en-têtes\n",
    "\n",
    "lignes_filtrees = []  # Stocker les lignes filtrées\n",
    "\n",
    "for ligne in tableau[1:]:\n",
    "    if ligne[3] > 1500:\n",
    "        lignes_filtrees.append(ligne)\n",
    "\n",
    "# Trier les lignes filtrées\n",
    "lignes_filtrees_tri = sorted(lignes_filtrees, key=lambda ligne: ligne[3], reverse=True)\n",
    "\n",
    "# Ajouter les lignes triées au tableau filtré\n",
    "tableau_filtre.extend(lignes_filtrees_tri)"
   ]
  },
  {
   "cell_type": "code",
   "execution_count": 12,
   "metadata": {},
   "outputs": [
    {
     "data": {
      "image/png": "[encoded data removed]",
      "text/plain": [
       "<Figure size 1000x600 with 1 Axes>"
      ]
     },
     "metadata": {},
     "output_type": "display_data"
    }
   ],
   "source": [
    "# Construction d'une liste nationnalité, hommes et femmes\n",
    "nationalites = [ligne[0] for ligne in tableau_filtre[1:]]\n",
    "hommes = [ligne[1] for ligne in tableau_filtre[1:]]\n",
    "femmes = [ligne[2] for ligne in tableau_filtre[1:]]\n",
    "\n",
    "x = np.arange(len(nationalites))  # Emplacements des étiquettes\n",
    "largeur = 0.35  # Largeur des barres\n",
    "\n",
    "# Modifier la taille de la figure\n",
    "fig, ax = plt.subplots(figsize=(10, 6))  # Largeur = 10 pouces, Hauteur = 6 pouces\n",
    "rects1 = ax.bar(x - largeur/2, hommes, largeur, label='Hommes', color='blue')\n",
    "rects2 = ax.bar(x + largeur/2, femmes, largeur, label='Femmes', color='red')\n",
    "\n",
    "# Ajout des étiquettes et du titre\n",
    "ax.set_ylabel('Effectifs')\n",
    "ax.set_title('Effectifs par nationalité et par genre')\n",
    "ax.set_xticks(x)\n",
    "ax.set_xticklabels(nationalites)\n",
    "ax.legend()\n",
    "\n",
    "# Ajout des valeurs au-dessus des barres\n",
    "def autolabel(rects):\n",
    "    for rect in rects:\n",
    "        hauteur = rect.get_height()\n",
    "        ax.annotate('{}'.format(hauteur),\n",
    "                    xy=(rect.get_x() + rect.get_width() / 2, hauteur),\n",
    "                    xytext=(0, 3),  # 3 points vertical offset\n",
    "                    textcoords=\"offset points\",\n",
    "                    ha='center', va='bottom')\n",
    "\n",
    "autolabel(rects1)\n",
    "autolabel(rects2)\n",
    "\n",
    "fig.tight_layout()\n",
    "\n",
    "plt.show()"
   ]
  },
  {
   "cell_type": "markdown",
   "metadata": {},
   "source": [
    "## Pandas"
   ]
  },
  {
   "cell_type": "code",
   "execution_count": 60,
   "metadata": {},
   "outputs": [],
   "source": [
    "%reset -f"
   ]
  },
  {
   "cell_type": "code",
   "execution_count": 61,
   "metadata": {},
   "outputs": [],
   "source": [
    "# Librairie\n",
    "import time\n",
    "import pandas as pd\n",
    "import os\n",
    "import matplotlib.pyplot as plt\n",
    "import numpy as np"
   ]
  },
  {
   "cell_type": "markdown",
   "metadata": {},
   "source": [
    "### Récupération des données"
   ]
  },
  {
   "cell_type": "markdown",
   "metadata": {},
   "source": [
    "### Récupération mour chaque catégorie / sexe du gagnant de chaque tournoi avec son origine"
   ]
  },
  {
   "cell_type": "markdown",
   "metadata": {},
   "source": [
    "#### Récuperation des données - match simple hommes"
   ]
  },
  {
   "cell_type": "code",
   "execution_count": 68,
   "metadata": {},
   "outputs": [],
   "source": [
    "matchs_simple_homme = pd.DataFrame()\n",
    "\n",
    "liste_fichier = os.listdir('donnees_tennis\\ATP')\n",
    "for fichier in liste_fichier:\n",
    "    if fichier.startswith('atp_matches_19') or fichier.startswith('atp_matches_20'):\n",
    "        data_annee = pd.read_csv('donnees_tennis\\ATP\\\\' + fichier)\n",
    "        matchs_simple_homme = pd.concat([matchs_simple_homme, data_annee], axis=0)\n"
   ]
  },
  {
   "cell_type": "code",
   "execution_count": 69,
   "metadata": {},
   "outputs": [],
   "source": [
    "matchs_simple_homme_final = matchs_simple_homme[matchs_simple_homme[\"round\"]==\"F\"]\n",
    "matchs_simple_homme_final = matchs_simple_homme_final[[\"surface\",\"winner_ioc\"]]"
   ]
  },
  {
   "cell_type": "markdown",
   "metadata": {},
   "source": [
    "#### Récuperation des données - matches espoires"
   ]
  },
  {
   "cell_type": "code",
   "execution_count": 77,
   "metadata": {},
   "outputs": [],
   "source": [
    "matchs_espoir_homme  = pd.DataFrame()\n",
    "\n",
    "liste_fichier = os.listdir('donnees_tennis\\ATP')\n",
    "for fichier in liste_fichier:\n",
    "    if fichier.startswith('atp_matches_futures'):\n",
    "        data_annee = pd.read_csv('donnees_tennis\\ATP\\\\' + fichier)\n",
    "        matchs_espoir_homme  = pd.concat([matchs_espoir_homme , data_annee], axis=0)"
   ]
  },
  {
   "cell_type": "code",
   "execution_count": 78,
   "metadata": {},
   "outputs": [],
   "source": [
    "matchs_espoir_homme_final = matchs_espoir_homme[matchs_espoir_homme [\"round\"]==\"F\"]\n",
    "matchs_espoir_homme_final = matchs_espoir_homme_final[[\"surface\",\"winner_ioc\"]]"
   ]
  },
  {
   "cell_type": "markdown",
   "metadata": {},
   "source": [
    "#### Récuperation des données - matches simple femmes"
   ]
  },
  {
   "cell_type": "code",
   "execution_count": 80,
   "metadata": {},
   "outputs": [],
   "source": [
    "matchs_simple_femme = pd.DataFrame()\n",
    "\n",
    "liste_fichier = os.listdir('donnees_tennis\\WTA')\n",
    "for fichier in liste_fichier:\n",
    "    if fichier.startswith('wta_matches_19') or fichier.startswith('wta_matches_20'):\n",
    "        data_annee = pd.read_csv('donnees_tennis\\WTA\\\\' + fichier)\n",
    "        matchs_simple_femme = pd.concat([matchs_simple_femme, data_annee], axis=0)"
   ]
  },
  {
   "cell_type": "code",
   "execution_count": 83,
   "metadata": {},
   "outputs": [],
   "source": [
    "matchs_simple_femme_final = matchs_simple_femme[matchs_simple_femme[\"round\"]==\"F\"]\n",
    "matchs_simple_femme_final = matchs_simple_femme_final[[\"surface\",\"winner_ioc\"]]"
   ]
  },
  {
   "cell_type": "markdown",
   "metadata": {},
   "source": [
    "#### Récuperation des données - matches qualification femmes"
   ]
  },
  {
   "cell_type": "code",
   "execution_count": 86,
   "metadata": {},
   "outputs": [],
   "source": [
    "matchs_qualif_femme = pd.DataFrame()\n",
    "\n",
    "liste_fichier = os.listdir('donnees_tennis\\WTA')\n",
    "for fichier in liste_fichier:\n",
    "    if fichier.startswith('wta_matches_qual'):\n",
    "        data_annee = pd.read_csv('donnees_tennis\\WTA\\\\' + fichier, low_memory=False)\n",
    "        matchs_qualif_femme = pd.concat([matchs_qualif_femme, data_annee], axis=0)"
   ]
  },
  {
   "cell_type": "code",
   "execution_count": 88,
   "metadata": {},
   "outputs": [],
   "source": [
    "matchs_qualif_femme_final = matchs_qualif_femme[matchs_qualif_femme[\"round\"]==\"F\"]\n",
    "matchs_qualif_femme_final = matchs_qualif_femme_final[[\"surface\",\"winner_ioc\"]]"
   ]
  },
  {
   "cell_type": "markdown",
   "metadata": {},
   "source": [
    "### Création d'un dataFrame bilan par sexe"
   ]
  },
  {
   "cell_type": "markdown",
   "metadata": {},
   "source": [
    "#### Pour ATP"
   ]
  },
  {
   "cell_type": "code",
   "execution_count": 116,
   "metadata": {},
   "outputs": [],
   "source": [
    "match_bilan_homme = pd.concat([matchs_simple_homme_final,matchs_espoir_homme_final], axis=0)\n",
    "\n",
    "resultat_homme = match_bilan_homme.groupby('surface')['winner_ioc'].value_counts().reset_index()\n",
    "resultat_homme = resultat_homme.rename(columns = {\"winner_ioc\": \"nationalite\", \"count\" : \"nb_hommes\"})"
   ]
  },
  {
   "cell_type": "markdown",
   "metadata": {},
   "source": [
    "### Pour WTA"
   ]
  },
  {
   "cell_type": "code",
   "execution_count": 135,
   "metadata": {},
   "outputs": [],
   "source": [
    "match_bilan_femme = pd.concat([matchs_simple_femme_final,matchs_qualif_femme_final], axis=0)\n",
    "\n",
    "resultat_femme = match_bilan_femme.groupby('surface')['winner_ioc'].value_counts().reset_index()\n",
    "resultat_femme = resultat_femme.rename(columns = {\"winner_ioc\": \"nationalite\", \"count\" : \"nb_femmes\"})"
   ]
  },
  {
   "cell_type": "markdown",
   "metadata": {},
   "source": [
    "### Regroupement par surface pour les hommes et les femmes"
   ]
  },
  {
   "cell_type": "code",
   "execution_count": 140,
   "metadata": {},
   "outputs": [],
   "source": [
    "noms_surface = resultat_homme[\"surface\"].unique()\n",
    "\n",
    "resultat = {}\n",
    "\n",
    "for nom_surface in noms_surface:\n",
    "    homme = resultat_homme[resultat_homme[\"surface\"] == nom_surface]\n",
    "    homme = homme.drop(\"surface\", axis=1)\n",
    "    femme = resultat_femme[resultat_femme[\"surface\"] == nom_surface]\n",
    "    femme = femme.drop(\"surface\", axis=1)\n",
    "    resultat[nom_surface]= pd.merge(homme, femme, on='nationalite')\n"
   ]
  },
  {
   "cell_type": "markdown",
   "metadata": {},
   "source": [
    "### Représentation graphique"
   ]
  },
  {
   "cell_type": "code",
   "execution_count": null,
   "metadata": {},
   "outputs": [
    {
     "data": {
      "text/plain": [
       "{'Carpet':    nationalite  nb_hommes  nb_femmes\n",
       " 0          USA        317        281\n",
       " 1          GER        141         96\n",
       " 2          SWE        114         21\n",
       " 3          CZE         85         63\n",
       " 4          AUS         71         76\n",
       " 5          FRA         70         42\n",
       " 6          GBR         59         82\n",
       " 7          SUI         46         39\n",
       " 8          NED         44         31\n",
       " 9          RUS         36         51\n",
       " 10         ITA         32         31\n",
       " 11         JPN         27         82\n",
       " 12         BEL         25         28\n",
       " 13         CRO         25          9\n",
       " 14         AUT         24          3\n",
       " 15         ESP         19          9\n",
       " 16         SVK         19         13\n",
       " 17         ROU         15          6\n",
       " 18         RSA         14          5\n",
       " 19         POL         14         11\n",
       " 20         ARG         11          8\n",
       " 21         LAT         10          2\n",
       " 22         DEN          8         10\n",
       " 23         BLR          8         20\n",
       " 24         CAN          8          4\n",
       " 25         IRL          8          4\n",
       " 26         ISR          8          2\n",
       " 27         GEO          7          3\n",
       " 28         KOR          7          3\n",
       " 29         FIN          6          2\n",
       " 30         UKR          5         18\n",
       " 31         POR          4          5\n",
       " 32         GRE          4          7\n",
       " 33         KAZ          3          1\n",
       " 34         NZL          3          1\n",
       " 35         EST          3          3\n",
       " 36         BRA          2          1\n",
       " 37         BUL          2         11\n",
       " 38         IND          2          7\n",
       " 39         SLO          2          4\n",
       " 40         NOR          2          2\n",
       " 41         TPE          1         12\n",
       " 42         YUG          1          1\n",
       " 43         HUN          1          9,\n",
       " 'Clay':    nationalite  nb_hommes  nb_femmes\n",
       " 0          ESP       1329        497\n",
       " 1          ARG       1095        368\n",
       " 2          ITA        748        501\n",
       " 3          FRA        705        435\n",
       " 4          GER        478        477\n",
       " ..         ...        ...        ...\n",
       " 72         PHI          2          1\n",
       " 73         YUG          1          4\n",
       " 74         PUR          1          4\n",
       " 75         HKG          1          4\n",
       " 76         ARM          1          5\n",
       " \n",
       " [77 rows x 3 columns],\n",
       " 'Grass':    nationalite  nb_hommes  nb_femmes\n",
       " 0          AUS        126        227\n",
       " 1          USA        118        178\n",
       " 2          GBR         56         99\n",
       " 3          FRA         25         21\n",
       " 4          GER         25         18\n",
       " 5          SUI         23          4\n",
       " 6          SWE         21          5\n",
       " 7          NED         17          6\n",
       " 8          ESP         15          3\n",
       " 9          RUS         14         27\n",
       " 10         CRO         13          3\n",
       " 11         RSA         12         15\n",
       " 12         NZL         10         22\n",
       " 13         ITA          9          6\n",
       " 14         SRB          9          6\n",
       " 15         IND          8          4\n",
       " 16         ARG          6          1\n",
       " 17         CZE          5         26\n",
       " 18         JPN          4         36\n",
       " 19         ROU          3          5\n",
       " 20         BUL          2          1\n",
       " 21         AUT          2          3\n",
       " 22         SVK          2          6\n",
       " 23         ISR          2          2\n",
       " 24         IRL          1          2\n",
       " 25         GRE          1          3\n",
       " 26         BRA          1          5\n",
       " 27         POL          1          4\n",
       " 28         KAZ          1          4\n",
       " 29         UZB          1          1\n",
       " 30         UKR          1          2\n",
       " 31         TUN          1          5\n",
       " 32         THA          1         10,\n",
       " 'Hard':    nationalite  nb_hommes  nb_femmes\n",
       " 0          USA       1165       1241\n",
       " 1          FRA        669        386\n",
       " 2          AUS        535        337\n",
       " 3          GBR        401        253\n",
       " 4          ESP        321        211\n",
       " ..         ...        ...        ...\n",
       " 74         BOL          2          6\n",
       " 75         PUR          1         19\n",
       " 76         KEN          1          1\n",
       " 77         KGZ          1          6\n",
       " 78         BDI          1          1\n",
       " \n",
       " [79 rows x 3 columns]}"
      ]
     },
     "execution_count": 141,
     "metadata": {},
     "output_type": "execute_result"
    }
   ],
   "source": []
  }
 ],
 "metadata": {
  "kernelspec": {
   "display_name": "base",
   "language": "python",
   "name": "python3"
  },
  "language_info": {
   "codemirror_mode": {
    "name": "ipython",
    "version": 3
   },
   "file_extension": ".py",
   "mimetype": "text/x-python",
   "name": "python",
   "nbconvert_exporter": "python",
   "pygments_lexer": "ipython3",
   "version": "3.11.7"
  }
 },
 "nbformat": 4,
 "nbformat_minor": 2
}
