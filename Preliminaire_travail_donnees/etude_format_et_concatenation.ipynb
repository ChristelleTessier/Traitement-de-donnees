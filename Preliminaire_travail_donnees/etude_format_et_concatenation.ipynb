{
 "cells": [
  {
   "cell_type": "code",
   "execution_count": 1,
   "id": "3adf23dd",
   "metadata": {},
   "outputs": [],
   "source": [
    "import pandas as pd\n",
    "import os"
   ]
  },
  {
   "cell_type": "markdown",
   "id": "8c02a1e9",
   "metadata": {},
   "source": [
    "# Vérification des données"
   ]
  },
  {
   "cell_type": "markdown",
   "id": "467c1101",
   "metadata": {},
   "source": [
    "## Fonctions de travail"
   ]
  },
  {
   "cell_type": "code",
   "execution_count": null,
   "id": "14f31c9c",
   "metadata": {},
   "outputs": [],
   "source": [
    "var_interet = [\n",
    "    \"tourney_date\", \"tourney_id\", \"tourney_name\", \"tourney_level\", \"surface\",\n",
    "    \"score\", \"round\", \"match_num\", \"minutes\", \"winner_id\", \"winner_rank\",\n",
    "    \"winner_ioc\", \"winner_name\", \"winner_hand\", \"loser_id\", \"loser_rank\",\n",
    "    \"loser_ioc\", \"loser_name\", \"loser_hand\", \"w_bpSaved\", \"w_bpFaced\",\n",
    "    \"l_bpSaved\",\"l_bpFaced\"\n",
    "    ]"
   ]
  },
  {
   "cell_type": "code",
   "execution_count": null,
   "id": "fed5bb8b",
   "metadata": {},
   "outputs": [],
   "source": [
    "def recup_match(type, genre, ind_deb, ind_fin):\n",
    "    \"\"\"Récupère les matches de tennis simples pour un genre\n",
    "    et une période spécifiés.\"\"\"\n",
    "\n",
    "    data_dict = {}\n",
    "    formats_colonnes = {}\n",
    "\n",
    "    if genre == 'atp':\n",
    "        liste_fichier = os.listdir('../donnees_tennis/ATP')\n",
    "    else:\n",
    "        liste_fichier = os.listdir('../donnees_tennis/WTA')\n",
    "\n",
    "    for fichier in liste_fichier:\n",
    "        nom_deb = type + ind_deb\n",
    "        nom_fin = type + ind_fin\n",
    "\n",
    "        if fichier.startswith(nom_deb) or fichier.startswith(nom_fin):\n",
    "            file_path = (\n",
    "                f\"../donnees_tennis/{'ATP' if genre == 'atp' else 'WTA'}/{fichier}\"\n",
    "            )\n",
    "            data = pd.read_csv(file_path, index_col=False)\n",
    "\n",
    "            # Stockage du DataFrame\n",
    "            data_dict[fichier] = data\n",
    "\n",
    "            # Récupérer le format des colonnes pour ce DataFrame\n",
    "            format_actuel = data.dtypes.to_dict()\n",
    "            formats_colonnes[fichier] = format_actuel\n",
    "\n",
    "    return data_dict, formats_colonnes"
   ]
  },
  {
   "cell_type": "code",
   "execution_count": null,
   "id": "b7ff1b21",
   "metadata": {},
   "outputs": [],
   "source": [
    "def comp_format(formats_colonnes):\n",
    "    \"\"\"Compare les formats de colonnes entre plusieurs DataFrames.\"\"\"\n",
    "\n",
    "    print(\"\\nComparaison des formats de colonnes entre les DataFrames:\")\n",
    "    print(\"------------------------------------------------------\")\n",
    "\n",
    "    # Vérifier si tous les DataFrames ont le même ensemble de colonnes\n",
    "    noms_colonnes = None\n",
    "    premiere_iteration = True\n",
    "\n",
    "    for fichier, format_cols in formats_colonnes.items():\n",
    "        colonnes_actuelles = set(format_cols.keys())\n",
    "        if premiere_iteration:\n",
    "            noms_colonnes = colonnes_actuelles\n",
    "            premiere_iteration = False\n",
    "        elif colonnes_actuelles != noms_colonnes:\n",
    "            print(\n",
    "                f\"Erreur : Le fichier '{fichier}' a des colonnes \"\n",
    "                \"différentes des autres DataFrames.\")\n",
    "            break\n",
    "    else:\n",
    "        # Si tous les DataFrames ont les mêmes colonnes, comparer les types\n",
    "        premiere_iteration_types = True\n",
    "        types_colonnes_reference = None\n",
    "\n",
    "        for fichier, format_cols in formats_colonnes.items():\n",
    "            if premiere_iteration_types:\n",
    "                types_colonnes_reference = format_cols\n",
    "                premiere_iteration_types = False\n",
    "            elif format_cols != types_colonnes_reference:\n",
    "                print(\n",
    "                    f\"Erreur : Le fichier '{fichier}' a des formats de \"\n",
    "                    \"colonnes différents.\")\n",
    "                # Afficher les différences spécifiques pour ce fichier\n",
    "                for colonne, type_ref in types_colonnes_reference.items():\n",
    "                    if colonne in format_cols and format_cols[colonne] != type_ref:\n",
    "                        print(\n",
    "                            f\"  - La colonne '{colonne}' a le format\"\n",
    "                            f\"'{format_cols[colonne]}' dans '{fichier}' \"\n",
    "                            f\"au lieu de '{type_ref}'.\"\n",
    "                            )\n",
    "                    elif colonne not in format_cols:\n",
    "                        print(\n",
    "                            f\"  - La colonne '{colonne}' est manquante\"\n",
    "                            f\"dans '{fichier}'.\"\n",
    "                            )\n",
    "                for colonne, type_act in format_cols.items():\n",
    "                    if colonne not in types_colonnes_reference:\n",
    "                        print(\n",
    "                            f\"  - La colonne '{colonne}' est présente dans\"\n",
    "                            f\" '{fichier}' mais pas dans le premier DataFrame.\"\n",
    "                            )\n",
    "            else:\n",
    "                print(\n",
    "                    f\"Le fichier '{fichier}' a le même format de colonnes \"\n",
    "                    \"que les précédents.\"\n",
    "                    )\n"
   ]
  },
  {
   "cell_type": "code",
   "execution_count": null,
   "id": "19592c2d",
   "metadata": {},
   "outputs": [],
   "source": [
    "def modif_format(fichier, colonne, format, data_dict, formats_colonnes):\n",
    "    \"\"\"Modifie le format d'une colonne d'un DataFrame dans le dictionnaire.\"\"\"\n",
    "\n",
    "    data = data_dict[fichier]\n",
    "\n",
    "    # On remplace les valeurs manquantes par 0 pour pouvoir changer le format\n",
    "    data = data.fillna({colonne: 0})\n",
    "\n",
    "    # Réassigner le résultat de astype à la colonne spécifiée\n",
    "    data[colonne] = data[colonne].astype(format)\n",
    "\n",
    "    # Mettre à jour le dictionnaire avec le DataFrame modifié\n",
    "    data_dict[fichier] = data\n",
    "    formats_colonnes[fichier] = data.dtypes.to_dict()\n",
    "\n",
    "    return data_dict, formats_colonnes"
   ]
  },
  {
   "cell_type": "code",
   "execution_count": null,
   "id": "9f7e99f5",
   "metadata": {},
   "outputs": [],
   "source": [
    "def concatenation(data_dict):\n",
    "    \"\"\"Effectue la concaténation de tous les DataFrames contenus\n",
    "     dans le dictionnaire.\"\"\"\n",
    "\n",
    "    data_fin = pd.DataFrame()\n",
    "\n",
    "    for data in data_dict.values():\n",
    "        data_fin = pd.concat([data_fin, data], axis=0)\n",
    "\n",
    "    return data_fin\n"
   ]
  },
  {
   "cell_type": "code",
   "execution_count": null,
   "id": "4f140294",
   "metadata": {},
   "outputs": [],
   "source": [
    "def ajout_annee(data, var_date):\n",
    "    \"\"\"\n",
    "    Ajoute une colonne 'annee' au DataFrame correspondant à la composante\n",
    "    année de \"tourney_date\".\n",
    "\n",
    "    Args:\n",
    "        data (pd.DataFrame):\n",
    "            Le DataFrame contenant les données.\n",
    "        var_date (str):\n",
    "            Le nom de la colonne contenant les dates au format 'YYYYMMDD'.\n",
    "\n",
    "    Returns:\n",
    "        pd.DataFrame:\n",
    "            Le DataFrame avec la colonne 'annee' ajoutée en première position.\n",
    "    \"\"\"\n",
    "    # Conversion de int64 -> datetime\n",
    "    data[var_date] = pd.to_datetime(\n",
    "        data[var_date].astype(str),\n",
    "        format=\"%Y%m%d\",\n",
    "        errors='coerce'\n",
    "        )\n",
    "\n",
    "    # Création de la colonne année\n",
    "    data['annee'] = data[var_date].dt.year\n",
    "\n",
    "    # Conversion en date simple (sans heure)\n",
    "    data[var_date] = data[var_date].dt.date\n",
    "\n",
    "    # Placer 'annee' en première position\n",
    "    colonnes = ['annee'] + [col for col in data.columns if col != 'annee']\n",
    "    data = data[colonnes]\n",
    "\n",
    "    return data"
   ]
  },
  {
   "cell_type": "code",
   "execution_count": null,
   "id": "60b5965c",
   "metadata": {},
   "outputs": [],
   "source": [
    "def afficher(data):\n",
    "    \"\"\"Affiche un descriptif des colonnes du DataFrame.\n",
    "\n",
    "    Args:\n",
    "        data (pd.DataFrame): Le DataFrame à analyser.\n",
    "    \"\"\"\n",
    "    descriptif = pd.DataFrame({\n",
    "        'Type': data.dtypes,\n",
    "        'Nombre de valeurs manquantes': data.isnull().sum(),\n",
    "        'Pourcentage de valeurs manquantes': (data.isnull().sum() / len(data)) * 100\n",
    "    })\n",
    "    display(descriptif)"
   ]
  },
  {
   "cell_type": "markdown",
   "id": "ef6c681e",
   "metadata": {},
   "source": [
    "## ATP"
   ]
  },
  {
   "cell_type": "markdown",
   "id": "40f199b5",
   "metadata": {},
   "source": [
    "### matches simple"
   ]
  },
  {
   "cell_type": "code",
   "execution_count": 215,
   "id": "ab18e657",
   "metadata": {},
   "outputs": [],
   "source": [
    "data_dict, formats_colonnes = recup_match(\"atp_matches\",\"atp\",\"_19\",\"_20\")"
   ]
  },
  {
   "cell_type": "code",
   "execution_count": 216,
   "id": "ac59d9fe",
   "metadata": {},
   "outputs": [
    {
     "name": "stdout",
     "output_type": "stream",
     "text": [
      "\n",
      "Comparaison des formats de colonnes entre les DataFrames:\n",
      "------------------------------------------------------\n",
      "Erreur : Le fichier 'atp_matches_1969.csv' a des formats de colonnes différents.\n",
      "  - La colonne 'draw_size' a le format 'int64' dans 'atp_matches_1969.csv' au lieu de 'float64'.\n",
      "Erreur : Le fichier 'atp_matches_1970.csv' a des formats de colonnes différents.\n",
      "  - La colonne 'draw_size' a le format 'int64' dans 'atp_matches_1970.csv' au lieu de 'float64'.\n",
      "Erreur : Le fichier 'atp_matches_1971.csv' a des formats de colonnes différents.\n",
      "  - La colonne 'draw_size' a le format 'int64' dans 'atp_matches_1971.csv' au lieu de 'float64'.\n",
      "Erreur : Le fichier 'atp_matches_1972.csv' a des formats de colonnes différents.\n",
      "  - La colonne 'draw_size' a le format 'int64' dans 'atp_matches_1972.csv' au lieu de 'float64'.\n",
      "Erreur : Le fichier 'atp_matches_1973.csv' a des formats de colonnes différents.\n",
      "  - La colonne 'draw_size' a le format 'int64' dans 'atp_matches_1973.csv' au lieu de 'float64'.\n",
      "Erreur : Le fichier 'atp_matches_1974.csv' a des formats de colonnes différents.\n",
      "  - La colonne 'draw_size' a le format 'int64' dans 'atp_matches_1974.csv' au lieu de 'float64'.\n",
      "Erreur : Le fichier 'atp_matches_1975.csv' a des formats de colonnes différents.\n",
      "  - La colonne 'draw_size' a le format 'int64' dans 'atp_matches_1975.csv' au lieu de 'float64'.\n",
      "Erreur : Le fichier 'atp_matches_1976.csv' a des formats de colonnes différents.\n",
      "  - La colonne 'draw_size' a le format 'int64' dans 'atp_matches_1976.csv' au lieu de 'float64'.\n",
      "Erreur : Le fichier 'atp_matches_1977.csv' a des formats de colonnes différents.\n",
      "  - La colonne 'draw_size' a le format 'int64' dans 'atp_matches_1977.csv' au lieu de 'float64'.\n",
      "Erreur : Le fichier 'atp_matches_1978.csv' a des formats de colonnes différents.\n",
      "  - La colonne 'draw_size' a le format 'int64' dans 'atp_matches_1978.csv' au lieu de 'float64'.\n",
      "Erreur : Le fichier 'atp_matches_1979.csv' a des formats de colonnes différents.\n",
      "  - La colonne 'draw_size' a le format 'int64' dans 'atp_matches_1979.csv' au lieu de 'float64'.\n",
      "Erreur : Le fichier 'atp_matches_1980.csv' a des formats de colonnes différents.\n",
      "  - La colonne 'draw_size' a le format 'int64' dans 'atp_matches_1980.csv' au lieu de 'float64'.\n",
      "Erreur : Le fichier 'atp_matches_1981.csv' a des formats de colonnes différents.\n",
      "  - La colonne 'draw_size' a le format 'int64' dans 'atp_matches_1981.csv' au lieu de 'float64'.\n",
      "Erreur : Le fichier 'atp_matches_1982.csv' a des formats de colonnes différents.\n",
      "  - La colonne 'draw_size' a le format 'int64' dans 'atp_matches_1982.csv' au lieu de 'float64'.\n",
      "Erreur : Le fichier 'atp_matches_1983.csv' a des formats de colonnes différents.\n",
      "  - La colonne 'draw_size' a le format 'int64' dans 'atp_matches_1983.csv' au lieu de 'float64'.\n",
      "Erreur : Le fichier 'atp_matches_1984.csv' a des formats de colonnes différents.\n",
      "  - La colonne 'draw_size' a le format 'int64' dans 'atp_matches_1984.csv' au lieu de 'float64'.\n",
      "Erreur : Le fichier 'atp_matches_1985.csv' a des formats de colonnes différents.\n",
      "  - La colonne 'draw_size' a le format 'int64' dans 'atp_matches_1985.csv' au lieu de 'float64'.\n",
      "Erreur : Le fichier 'atp_matches_1986.csv' a des formats de colonnes différents.\n",
      "  - La colonne 'draw_size' a le format 'int64' dans 'atp_matches_1986.csv' au lieu de 'float64'.\n",
      "Erreur : Le fichier 'atp_matches_1987.csv' a des formats de colonnes différents.\n",
      "  - La colonne 'draw_size' a le format 'int64' dans 'atp_matches_1987.csv' au lieu de 'float64'.\n",
      "Erreur : Le fichier 'atp_matches_1988.csv' a des formats de colonnes différents.\n",
      "  - La colonne 'draw_size' a le format 'int64' dans 'atp_matches_1988.csv' au lieu de 'float64'.\n",
      "Erreur : Le fichier 'atp_matches_1989.csv' a des formats de colonnes différents.\n",
      "  - La colonne 'draw_size' a le format 'int64' dans 'atp_matches_1989.csv' au lieu de 'float64'.\n",
      "Erreur : Le fichier 'atp_matches_1990.csv' a des formats de colonnes différents.\n",
      "  - La colonne 'draw_size' a le format 'int64' dans 'atp_matches_1990.csv' au lieu de 'float64'.\n",
      "Erreur : Le fichier 'atp_matches_1991.csv' a des formats de colonnes différents.\n",
      "  - La colonne 'draw_size' a le format 'int64' dans 'atp_matches_1991.csv' au lieu de 'float64'.\n",
      "Erreur : Le fichier 'atp_matches_1992.csv' a des formats de colonnes différents.\n",
      "  - La colonne 'draw_size' a le format 'int64' dans 'atp_matches_1992.csv' au lieu de 'float64'.\n",
      "Erreur : Le fichier 'atp_matches_1993.csv' a des formats de colonnes différents.\n",
      "  - La colonne 'draw_size' a le format 'int64' dans 'atp_matches_1993.csv' au lieu de 'float64'.\n",
      "Erreur : Le fichier 'atp_matches_1994.csv' a des formats de colonnes différents.\n",
      "  - La colonne 'draw_size' a le format 'int64' dans 'atp_matches_1994.csv' au lieu de 'float64'.\n",
      "Erreur : Le fichier 'atp_matches_1995.csv' a des formats de colonnes différents.\n",
      "  - La colonne 'draw_size' a le format 'int64' dans 'atp_matches_1995.csv' au lieu de 'float64'.\n",
      "Erreur : Le fichier 'atp_matches_1996.csv' a des formats de colonnes différents.\n",
      "  - La colonne 'draw_size' a le format 'int64' dans 'atp_matches_1996.csv' au lieu de 'float64'.\n",
      "Erreur : Le fichier 'atp_matches_1997.csv' a des formats de colonnes différents.\n",
      "  - La colonne 'draw_size' a le format 'int64' dans 'atp_matches_1997.csv' au lieu de 'float64'.\n",
      "Erreur : Le fichier 'atp_matches_1998.csv' a des formats de colonnes différents.\n",
      "  - La colonne 'draw_size' a le format 'int64' dans 'atp_matches_1998.csv' au lieu de 'float64'.\n",
      "Erreur : Le fichier 'atp_matches_1999.csv' a des formats de colonnes différents.\n",
      "  - La colonne 'draw_size' a le format 'int64' dans 'atp_matches_1999.csv' au lieu de 'float64'.\n",
      "Erreur : Le fichier 'atp_matches_2000.csv' a des formats de colonnes différents.\n",
      "  - La colonne 'draw_size' a le format 'int64' dans 'atp_matches_2000.csv' au lieu de 'float64'.\n",
      "Erreur : Le fichier 'atp_matches_2001.csv' a des formats de colonnes différents.\n",
      "  - La colonne 'draw_size' a le format 'int64' dans 'atp_matches_2001.csv' au lieu de 'float64'.\n",
      "Erreur : Le fichier 'atp_matches_2002.csv' a des formats de colonnes différents.\n",
      "  - La colonne 'draw_size' a le format 'int64' dans 'atp_matches_2002.csv' au lieu de 'float64'.\n",
      "Erreur : Le fichier 'atp_matches_2003.csv' a des formats de colonnes différents.\n",
      "  - La colonne 'draw_size' a le format 'int64' dans 'atp_matches_2003.csv' au lieu de 'float64'.\n",
      "Erreur : Le fichier 'atp_matches_2004.csv' a des formats de colonnes différents.\n",
      "  - La colonne 'draw_size' a le format 'int64' dans 'atp_matches_2004.csv' au lieu de 'float64'.\n",
      "Erreur : Le fichier 'atp_matches_2005.csv' a des formats de colonnes différents.\n",
      "  - La colonne 'draw_size' a le format 'int64' dans 'atp_matches_2005.csv' au lieu de 'float64'.\n",
      "Erreur : Le fichier 'atp_matches_2006.csv' a des formats de colonnes différents.\n",
      "  - La colonne 'draw_size' a le format 'int64' dans 'atp_matches_2006.csv' au lieu de 'float64'.\n",
      "Erreur : Le fichier 'atp_matches_2007.csv' a des formats de colonnes différents.\n",
      "  - La colonne 'draw_size' a le format 'int64' dans 'atp_matches_2007.csv' au lieu de 'float64'.\n",
      "Erreur : Le fichier 'atp_matches_2008.csv' a des formats de colonnes différents.\n",
      "  - La colonne 'draw_size' a le format 'int64' dans 'atp_matches_2008.csv' au lieu de 'float64'.\n",
      "Erreur : Le fichier 'atp_matches_2009.csv' a des formats de colonnes différents.\n",
      "  - La colonne 'draw_size' a le format 'int64' dans 'atp_matches_2009.csv' au lieu de 'float64'.\n",
      "Erreur : Le fichier 'atp_matches_2010.csv' a des formats de colonnes différents.\n",
      "  - La colonne 'draw_size' a le format 'int64' dans 'atp_matches_2010.csv' au lieu de 'float64'.\n",
      "Erreur : Le fichier 'atp_matches_2011.csv' a des formats de colonnes différents.\n",
      "  - La colonne 'draw_size' a le format 'int64' dans 'atp_matches_2011.csv' au lieu de 'float64'.\n",
      "Erreur : Le fichier 'atp_matches_2012.csv' a des formats de colonnes différents.\n",
      "  - La colonne 'draw_size' a le format 'int64' dans 'atp_matches_2012.csv' au lieu de 'float64'.\n",
      "Erreur : Le fichier 'atp_matches_2013.csv' a des formats de colonnes différents.\n",
      "  - La colonne 'draw_size' a le format 'int64' dans 'atp_matches_2013.csv' au lieu de 'float64'.\n",
      "Erreur : Le fichier 'atp_matches_2014.csv' a des formats de colonnes différents.\n",
      "  - La colonne 'draw_size' a le format 'int64' dans 'atp_matches_2014.csv' au lieu de 'float64'.\n",
      "Erreur : Le fichier 'atp_matches_2015.csv' a des formats de colonnes différents.\n",
      "  - La colonne 'draw_size' a le format 'int64' dans 'atp_matches_2015.csv' au lieu de 'float64'.\n",
      "Erreur : Le fichier 'atp_matches_2016.csv' a des formats de colonnes différents.\n",
      "  - La colonne 'draw_size' a le format 'int64' dans 'atp_matches_2016.csv' au lieu de 'float64'.\n",
      "Erreur : Le fichier 'atp_matches_2017.csv' a des formats de colonnes différents.\n",
      "  - La colonne 'draw_size' a le format 'int64' dans 'atp_matches_2017.csv' au lieu de 'float64'.\n",
      "Erreur : Le fichier 'atp_matches_2018.csv' a des formats de colonnes différents.\n",
      "  - La colonne 'draw_size' a le format 'int64' dans 'atp_matches_2018.csv' au lieu de 'float64'.\n",
      "Erreur : Le fichier 'atp_matches_2019.csv' a des formats de colonnes différents.\n",
      "  - La colonne 'draw_size' a le format 'int64' dans 'atp_matches_2019.csv' au lieu de 'float64'.\n",
      "Erreur : Le fichier 'atp_matches_2020.csv' a des formats de colonnes différents.\n",
      "  - La colonne 'draw_size' a le format 'int64' dans 'atp_matches_2020.csv' au lieu de 'float64'.\n",
      "Erreur : Le fichier 'atp_matches_2021.csv' a des formats de colonnes différents.\n",
      "  - La colonne 'draw_size' a le format 'int64' dans 'atp_matches_2021.csv' au lieu de 'float64'.\n",
      "Erreur : Le fichier 'atp_matches_2022.csv' a des formats de colonnes différents.\n",
      "  - La colonne 'draw_size' a le format 'int64' dans 'atp_matches_2022.csv' au lieu de 'float64'.\n",
      "Erreur : Le fichier 'atp_matches_2023.csv' a des formats de colonnes différents.\n",
      "  - La colonne 'draw_size' a le format 'int64' dans 'atp_matches_2023.csv' au lieu de 'float64'.\n",
      "Erreur : Le fichier 'atp_matches_2024.csv' a des formats de colonnes différents.\n",
      "  - La colonne 'draw_size' a le format 'int64' dans 'atp_matches_2024.csv' au lieu de 'float64'.\n"
     ]
    }
   ],
   "source": [
    "comp_format(formats_colonnes)"
   ]
  },
  {
   "cell_type": "code",
   "execution_count": 217,
   "id": "bbe8da50",
   "metadata": {},
   "outputs": [
    {
     "data": {
      "application/vnd.microsoft.datawrangler.viewer.v0+json": {
       "columns": [
        {
         "name": "index",
         "rawType": "int64",
         "type": "integer"
        },
        {
         "name": "tourney_id",
         "rawType": "object",
         "type": "string"
        },
        {
         "name": "tourney_name",
         "rawType": "object",
         "type": "string"
        },
        {
         "name": "surface",
         "rawType": "object",
         "type": "string"
        },
        {
         "name": "draw_size",
         "rawType": "float64",
         "type": "float"
        },
        {
         "name": "tourney_level",
         "rawType": "object",
         "type": "string"
        },
        {
         "name": "tourney_date",
         "rawType": "int64",
         "type": "integer"
        },
        {
         "name": "match_num",
         "rawType": "int64",
         "type": "integer"
        },
        {
         "name": "winner_id",
         "rawType": "int64",
         "type": "integer"
        },
        {
         "name": "winner_seed",
         "rawType": "float64",
         "type": "float"
        },
        {
         "name": "winner_entry",
         "rawType": "object",
         "type": "unknown"
        },
        {
         "name": "winner_name",
         "rawType": "object",
         "type": "string"
        },
        {
         "name": "winner_hand",
         "rawType": "object",
         "type": "string"
        },
        {
         "name": "winner_ht",
         "rawType": "float64",
         "type": "float"
        },
        {
         "name": "winner_ioc",
         "rawType": "object",
         "type": "string"
        },
        {
         "name": "winner_age",
         "rawType": "float64",
         "type": "float"
        },
        {
         "name": "loser_id",
         "rawType": "int64",
         "type": "integer"
        },
        {
         "name": "loser_seed",
         "rawType": "float64",
         "type": "float"
        },
        {
         "name": "loser_entry",
         "rawType": "object",
         "type": "unknown"
        },
        {
         "name": "loser_name",
         "rawType": "object",
         "type": "string"
        },
        {
         "name": "loser_hand",
         "rawType": "object",
         "type": "string"
        },
        {
         "name": "loser_ht",
         "rawType": "float64",
         "type": "float"
        },
        {
         "name": "loser_ioc",
         "rawType": "object",
         "type": "unknown"
        },
        {
         "name": "loser_age",
         "rawType": "float64",
         "type": "float"
        },
        {
         "name": "score",
         "rawType": "object",
         "type": "string"
        },
        {
         "name": "best_of",
         "rawType": "int64",
         "type": "integer"
        },
        {
         "name": "round",
         "rawType": "object",
         "type": "string"
        },
        {
         "name": "minutes",
         "rawType": "float64",
         "type": "float"
        },
        {
         "name": "w_ace",
         "rawType": "float64",
         "type": "float"
        },
        {
         "name": "w_df",
         "rawType": "float64",
         "type": "float"
        },
        {
         "name": "w_svpt",
         "rawType": "float64",
         "type": "float"
        },
        {
         "name": "w_1stIn",
         "rawType": "float64",
         "type": "float"
        },
        {
         "name": "w_1stWon",
         "rawType": "float64",
         "type": "float"
        },
        {
         "name": "w_2ndWon",
         "rawType": "float64",
         "type": "float"
        },
        {
         "name": "w_SvGms",
         "rawType": "float64",
         "type": "float"
        },
        {
         "name": "w_bpSaved",
         "rawType": "float64",
         "type": "float"
        },
        {
         "name": "w_bpFaced",
         "rawType": "float64",
         "type": "float"
        },
        {
         "name": "l_ace",
         "rawType": "float64",
         "type": "float"
        },
        {
         "name": "l_df",
         "rawType": "float64",
         "type": "float"
        },
        {
         "name": "l_svpt",
         "rawType": "float64",
         "type": "float"
        },
        {
         "name": "l_1stIn",
         "rawType": "float64",
         "type": "float"
        },
        {
         "name": "l_1stWon",
         "rawType": "float64",
         "type": "float"
        },
        {
         "name": "l_2ndWon",
         "rawType": "float64",
         "type": "float"
        },
        {
         "name": "l_SvGms",
         "rawType": "float64",
         "type": "float"
        },
        {
         "name": "l_bpSaved",
         "rawType": "float64",
         "type": "float"
        },
        {
         "name": "l_bpFaced",
         "rawType": "float64",
         "type": "float"
        },
        {
         "name": "winner_rank",
         "rawType": "float64",
         "type": "float"
        },
        {
         "name": "winner_rank_points",
         "rawType": "float64",
         "type": "float"
        },
        {
         "name": "loser_rank",
         "rawType": "float64",
         "type": "float"
        },
        {
         "name": "loser_rank_points",
         "rawType": "float64",
         "type": "float"
        }
       ],
       "conversionMethod": "pd.DataFrame",
       "ref": "cefbdf2c-60ed-4703-87f5-6a010419aca1",
       "rows": [
        [
         "0",
         "1968-2029",
         "Dublin",
         "Grass",
         "32.0",
         "A",
         "19680708",
         "270",
         "112411",
         null,
         null,
         "Doug Smith",
         "U",
         null,
         "AUS",
         null,
         "110196",
         null,
         null,
         "Peter Ledbetter",
         "U",
         null,
         "IRL",
         "24.0",
         "6-1 7-5",
         "3",
         "R32",
         null,
         null,
         null,
         null,
         null,
         null,
         null,
         null,
         null,
         null,
         null,
         null,
         null,
         null,
         null,
         null,
         null,
         null,
         null,
         null,
         null,
         null,
         null
        ],
        [
         "1",
         "1968-2029",
         "Dublin",
         "Grass",
         "32.0",
         "A",
         "19680708",
         "271",
         "126914",
         null,
         null,
         "Louis Pretorius",
         "R",
         null,
         "RSA",
         null,
         "209536",
         null,
         null,
         "Maurice Pollock",
         "U",
         null,
         "IRL",
         null,
         "6-1 6-1",
         "3",
         "R32",
         null,
         null,
         null,
         null,
         null,
         null,
         null,
         null,
         null,
         null,
         null,
         null,
         null,
         null,
         null,
         null,
         null,
         null,
         null,
         null,
         null,
         null,
         null
        ],
        [
         "2",
         "1968-2029",
         "Dublin",
         "Grass",
         "32.0",
         "A",
         "19680708",
         "272",
         "209523",
         null,
         null,
         "Cecil Pedlow",
         "U",
         null,
         "IRL",
         null,
         "209535",
         null,
         null,
         "John Mulvey",
         "U",
         null,
         "IRL",
         null,
         "6-2 6-2",
         "3",
         "R32",
         null,
         null,
         null,
         null,
         null,
         null,
         null,
         null,
         null,
         null,
         null,
         null,
         null,
         null,
         null,
         null,
         null,
         null,
         null,
         null,
         null,
         null,
         null
        ],
        [
         "3",
         "1968-2029",
         "Dublin",
         "Grass",
         "32.0",
         "A",
         "19680708",
         "273",
         "100084",
         null,
         null,
         "Tom Okker",
         "R",
         "178.0",
         "NED",
         "24.3",
         "209534",
         null,
         null,
         "Unknown Fearmon",
         "U",
         null,
         null,
         null,
         "6-1 6-1",
         "3",
         "R32",
         null,
         null,
         null,
         null,
         null,
         null,
         null,
         null,
         null,
         null,
         null,
         null,
         null,
         null,
         null,
         null,
         null,
         null,
         null,
         null,
         null,
         null,
         null
        ],
        [
         "4",
         "1968-2029",
         "Dublin",
         "Grass",
         "32.0",
         "A",
         "19680708",
         "274",
         "100132",
         null,
         null,
         "Armistead Neely",
         "R",
         null,
         "USA",
         "21.3",
         "209533",
         null,
         null,
         "Harry Sheridan",
         "U",
         null,
         "IRL",
         null,
         "6-2 6-4",
         "3",
         "R32",
         null,
         null,
         null,
         null,
         null,
         null,
         null,
         null,
         null,
         null,
         null,
         null,
         null,
         null,
         null,
         null,
         null,
         null,
         null,
         null,
         null,
         null,
         null
        ]
       ],
       "shape": {
        "columns": 49,
        "rows": 5
       }
      },
      "text/html": [
       "<div>\n",
       "<style scoped>\n",
       "    .dataframe tbody tr th:only-of-type {\n",
       "        vertical-align: middle;\n",
       "    }\n",
       "\n",
       "    .dataframe tbody tr th {\n",
       "        vertical-align: top;\n",
       "    }\n",
       "\n",
       "    .dataframe thead th {\n",
       "        text-align: right;\n",
       "    }\n",
       "</style>\n",
       "<table border=\"1\" class=\"dataframe\">\n",
       "  <thead>\n",
       "    <tr style=\"text-align: right;\">\n",
       "      <th></th>\n",
       "      <th>tourney_id</th>\n",
       "      <th>tourney_name</th>\n",
       "      <th>surface</th>\n",
       "      <th>draw_size</th>\n",
       "      <th>tourney_level</th>\n",
       "      <th>tourney_date</th>\n",
       "      <th>match_num</th>\n",
       "      <th>winner_id</th>\n",
       "      <th>winner_seed</th>\n",
       "      <th>winner_entry</th>\n",
       "      <th>...</th>\n",
       "      <th>l_1stIn</th>\n",
       "      <th>l_1stWon</th>\n",
       "      <th>l_2ndWon</th>\n",
       "      <th>l_SvGms</th>\n",
       "      <th>l_bpSaved</th>\n",
       "      <th>l_bpFaced</th>\n",
       "      <th>winner_rank</th>\n",
       "      <th>winner_rank_points</th>\n",
       "      <th>loser_rank</th>\n",
       "      <th>loser_rank_points</th>\n",
       "    </tr>\n",
       "  </thead>\n",
       "  <tbody>\n",
       "    <tr>\n",
       "      <th>0</th>\n",
       "      <td>1968-2029</td>\n",
       "      <td>Dublin</td>\n",
       "      <td>Grass</td>\n",
       "      <td>32.0</td>\n",
       "      <td>A</td>\n",
       "      <td>19680708</td>\n",
       "      <td>270</td>\n",
       "      <td>112411</td>\n",
       "      <td>NaN</td>\n",
       "      <td>NaN</td>\n",
       "      <td>...</td>\n",
       "      <td>NaN</td>\n",
       "      <td>NaN</td>\n",
       "      <td>NaN</td>\n",
       "      <td>NaN</td>\n",
       "      <td>NaN</td>\n",
       "      <td>NaN</td>\n",
       "      <td>NaN</td>\n",
       "      <td>NaN</td>\n",
       "      <td>NaN</td>\n",
       "      <td>NaN</td>\n",
       "    </tr>\n",
       "    <tr>\n",
       "      <th>1</th>\n",
       "      <td>1968-2029</td>\n",
       "      <td>Dublin</td>\n",
       "      <td>Grass</td>\n",
       "      <td>32.0</td>\n",
       "      <td>A</td>\n",
       "      <td>19680708</td>\n",
       "      <td>271</td>\n",
       "      <td>126914</td>\n",
       "      <td>NaN</td>\n",
       "      <td>NaN</td>\n",
       "      <td>...</td>\n",
       "      <td>NaN</td>\n",
       "      <td>NaN</td>\n",
       "      <td>NaN</td>\n",
       "      <td>NaN</td>\n",
       "      <td>NaN</td>\n",
       "      <td>NaN</td>\n",
       "      <td>NaN</td>\n",
       "      <td>NaN</td>\n",
       "      <td>NaN</td>\n",
       "      <td>NaN</td>\n",
       "    </tr>\n",
       "    <tr>\n",
       "      <th>2</th>\n",
       "      <td>1968-2029</td>\n",
       "      <td>Dublin</td>\n",
       "      <td>Grass</td>\n",
       "      <td>32.0</td>\n",
       "      <td>A</td>\n",
       "      <td>19680708</td>\n",
       "      <td>272</td>\n",
       "      <td>209523</td>\n",
       "      <td>NaN</td>\n",
       "      <td>NaN</td>\n",
       "      <td>...</td>\n",
       "      <td>NaN</td>\n",
       "      <td>NaN</td>\n",
       "      <td>NaN</td>\n",
       "      <td>NaN</td>\n",
       "      <td>NaN</td>\n",
       "      <td>NaN</td>\n",
       "      <td>NaN</td>\n",
       "      <td>NaN</td>\n",
       "      <td>NaN</td>\n",
       "      <td>NaN</td>\n",
       "    </tr>\n",
       "    <tr>\n",
       "      <th>3</th>\n",
       "      <td>1968-2029</td>\n",
       "      <td>Dublin</td>\n",
       "      <td>Grass</td>\n",
       "      <td>32.0</td>\n",
       "      <td>A</td>\n",
       "      <td>19680708</td>\n",
       "      <td>273</td>\n",
       "      <td>100084</td>\n",
       "      <td>NaN</td>\n",
       "      <td>NaN</td>\n",
       "      <td>...</td>\n",
       "      <td>NaN</td>\n",
       "      <td>NaN</td>\n",
       "      <td>NaN</td>\n",
       "      <td>NaN</td>\n",
       "      <td>NaN</td>\n",
       "      <td>NaN</td>\n",
       "      <td>NaN</td>\n",
       "      <td>NaN</td>\n",
       "      <td>NaN</td>\n",
       "      <td>NaN</td>\n",
       "    </tr>\n",
       "    <tr>\n",
       "      <th>4</th>\n",
       "      <td>1968-2029</td>\n",
       "      <td>Dublin</td>\n",
       "      <td>Grass</td>\n",
       "      <td>32.0</td>\n",
       "      <td>A</td>\n",
       "      <td>19680708</td>\n",
       "      <td>274</td>\n",
       "      <td>100132</td>\n",
       "      <td>NaN</td>\n",
       "      <td>NaN</td>\n",
       "      <td>...</td>\n",
       "      <td>NaN</td>\n",
       "      <td>NaN</td>\n",
       "      <td>NaN</td>\n",
       "      <td>NaN</td>\n",
       "      <td>NaN</td>\n",
       "      <td>NaN</td>\n",
       "      <td>NaN</td>\n",
       "      <td>NaN</td>\n",
       "      <td>NaN</td>\n",
       "      <td>NaN</td>\n",
       "    </tr>\n",
       "  </tbody>\n",
       "</table>\n",
       "<p>5 rows × 49 columns</p>\n",
       "</div>"
      ],
      "text/plain": [
       "  tourney_id tourney_name surface  draw_size tourney_level  tourney_date  \\\n",
       "0  1968-2029       Dublin   Grass       32.0             A      19680708   \n",
       "1  1968-2029       Dublin   Grass       32.0             A      19680708   \n",
       "2  1968-2029       Dublin   Grass       32.0             A      19680708   \n",
       "3  1968-2029       Dublin   Grass       32.0             A      19680708   \n",
       "4  1968-2029       Dublin   Grass       32.0             A      19680708   \n",
       "\n",
       "   match_num  winner_id  winner_seed winner_entry  ... l_1stIn l_1stWon  \\\n",
       "0        270     112411          NaN          NaN  ...     NaN      NaN   \n",
       "1        271     126914          NaN          NaN  ...     NaN      NaN   \n",
       "2        272     209523          NaN          NaN  ...     NaN      NaN   \n",
       "3        273     100084          NaN          NaN  ...     NaN      NaN   \n",
       "4        274     100132          NaN          NaN  ...     NaN      NaN   \n",
       "\n",
       "   l_2ndWon l_SvGms  l_bpSaved  l_bpFaced  winner_rank winner_rank_points  \\\n",
       "0       NaN     NaN        NaN        NaN          NaN                NaN   \n",
       "1       NaN     NaN        NaN        NaN          NaN                NaN   \n",
       "2       NaN     NaN        NaN        NaN          NaN                NaN   \n",
       "3       NaN     NaN        NaN        NaN          NaN                NaN   \n",
       "4       NaN     NaN        NaN        NaN          NaN                NaN   \n",
       "\n",
       "  loser_rank loser_rank_points  \n",
       "0        NaN               NaN  \n",
       "1        NaN               NaN  \n",
       "2        NaN               NaN  \n",
       "3        NaN               NaN  \n",
       "4        NaN               NaN  \n",
       "\n",
       "[5 rows x 49 columns]"
      ]
     },
     "execution_count": 217,
     "metadata": {},
     "output_type": "execute_result"
    }
   ],
   "source": [
    "data_dict['atp_matches_1968.csv'].head()"
   ]
  },
  {
   "cell_type": "code",
   "execution_count": null,
   "id": "afad4956",
   "metadata": {},
   "outputs": [],
   "source": [
    "data_dict, formats_colonnes = modif_format(\n",
    "    'atp_matches_1968.csv',\n",
    "    'draw_size', 'int64',\n",
    "    data_dict,\n",
    "    formats_colonnes\n",
    "    )"
   ]
  },
  {
   "cell_type": "code",
   "execution_count": 219,
   "id": "690453b2",
   "metadata": {},
   "outputs": [
    {
     "name": "stdout",
     "output_type": "stream",
     "text": [
      "\n",
      "Comparaison des formats de colonnes entre les DataFrames:\n",
      "------------------------------------------------------\n",
      "Le fichier 'atp_matches_1969.csv' a le même format de colonnes que les précédents.\n",
      "Le fichier 'atp_matches_1970.csv' a le même format de colonnes que les précédents.\n",
      "Le fichier 'atp_matches_1971.csv' a le même format de colonnes que les précédents.\n",
      "Le fichier 'atp_matches_1972.csv' a le même format de colonnes que les précédents.\n",
      "Le fichier 'atp_matches_1973.csv' a le même format de colonnes que les précédents.\n",
      "Le fichier 'atp_matches_1974.csv' a le même format de colonnes que les précédents.\n",
      "Le fichier 'atp_matches_1975.csv' a le même format de colonnes que les précédents.\n",
      "Le fichier 'atp_matches_1976.csv' a le même format de colonnes que les précédents.\n",
      "Le fichier 'atp_matches_1977.csv' a le même format de colonnes que les précédents.\n",
      "Le fichier 'atp_matches_1978.csv' a le même format de colonnes que les précédents.\n",
      "Le fichier 'atp_matches_1979.csv' a le même format de colonnes que les précédents.\n",
      "Le fichier 'atp_matches_1980.csv' a le même format de colonnes que les précédents.\n",
      "Le fichier 'atp_matches_1981.csv' a le même format de colonnes que les précédents.\n",
      "Le fichier 'atp_matches_1982.csv' a le même format de colonnes que les précédents.\n",
      "Le fichier 'atp_matches_1983.csv' a le même format de colonnes que les précédents.\n",
      "Le fichier 'atp_matches_1984.csv' a le même format de colonnes que les précédents.\n",
      "Le fichier 'atp_matches_1985.csv' a le même format de colonnes que les précédents.\n",
      "Le fichier 'atp_matches_1986.csv' a le même format de colonnes que les précédents.\n",
      "Le fichier 'atp_matches_1987.csv' a le même format de colonnes que les précédents.\n",
      "Le fichier 'atp_matches_1988.csv' a le même format de colonnes que les précédents.\n",
      "Le fichier 'atp_matches_1989.csv' a le même format de colonnes que les précédents.\n",
      "Le fichier 'atp_matches_1990.csv' a le même format de colonnes que les précédents.\n",
      "Le fichier 'atp_matches_1991.csv' a le même format de colonnes que les précédents.\n",
      "Le fichier 'atp_matches_1992.csv' a le même format de colonnes que les précédents.\n",
      "Le fichier 'atp_matches_1993.csv' a le même format de colonnes que les précédents.\n",
      "Le fichier 'atp_matches_1994.csv' a le même format de colonnes que les précédents.\n",
      "Le fichier 'atp_matches_1995.csv' a le même format de colonnes que les précédents.\n",
      "Le fichier 'atp_matches_1996.csv' a le même format de colonnes que les précédents.\n",
      "Le fichier 'atp_matches_1997.csv' a le même format de colonnes que les précédents.\n",
      "Le fichier 'atp_matches_1998.csv' a le même format de colonnes que les précédents.\n",
      "Le fichier 'atp_matches_1999.csv' a le même format de colonnes que les précédents.\n",
      "Le fichier 'atp_matches_2000.csv' a le même format de colonnes que les précédents.\n",
      "Le fichier 'atp_matches_2001.csv' a le même format de colonnes que les précédents.\n",
      "Le fichier 'atp_matches_2002.csv' a le même format de colonnes que les précédents.\n",
      "Le fichier 'atp_matches_2003.csv' a le même format de colonnes que les précédents.\n",
      "Le fichier 'atp_matches_2004.csv' a le même format de colonnes que les précédents.\n",
      "Le fichier 'atp_matches_2005.csv' a le même format de colonnes que les précédents.\n",
      "Le fichier 'atp_matches_2006.csv' a le même format de colonnes que les précédents.\n",
      "Le fichier 'atp_matches_2007.csv' a le même format de colonnes que les précédents.\n",
      "Le fichier 'atp_matches_2008.csv' a le même format de colonnes que les précédents.\n",
      "Le fichier 'atp_matches_2009.csv' a le même format de colonnes que les précédents.\n",
      "Le fichier 'atp_matches_2010.csv' a le même format de colonnes que les précédents.\n",
      "Le fichier 'atp_matches_2011.csv' a le même format de colonnes que les précédents.\n",
      "Le fichier 'atp_matches_2012.csv' a le même format de colonnes que les précédents.\n",
      "Le fichier 'atp_matches_2013.csv' a le même format de colonnes que les précédents.\n",
      "Le fichier 'atp_matches_2014.csv' a le même format de colonnes que les précédents.\n",
      "Le fichier 'atp_matches_2015.csv' a le même format de colonnes que les précédents.\n",
      "Le fichier 'atp_matches_2016.csv' a le même format de colonnes que les précédents.\n",
      "Le fichier 'atp_matches_2017.csv' a le même format de colonnes que les précédents.\n",
      "Le fichier 'atp_matches_2018.csv' a le même format de colonnes que les précédents.\n",
      "Le fichier 'atp_matches_2019.csv' a le même format de colonnes que les précédents.\n",
      "Le fichier 'atp_matches_2020.csv' a le même format de colonnes que les précédents.\n",
      "Le fichier 'atp_matches_2021.csv' a le même format de colonnes que les précédents.\n",
      "Le fichier 'atp_matches_2022.csv' a le même format de colonnes que les précédents.\n",
      "Le fichier 'atp_matches_2023.csv' a le même format de colonnes que les précédents.\n",
      "Le fichier 'atp_matches_2024.csv' a le même format de colonnes que les précédents.\n"
     ]
    }
   ],
   "source": [
    "comp_format(formats_colonnes)"
   ]
  },
  {
   "cell_type": "markdown",
   "id": "2aef76e1",
   "metadata": {},
   "source": [
    "Concaténation"
   ]
  },
  {
   "cell_type": "code",
   "execution_count": 220,
   "id": "071a2993",
   "metadata": {},
   "outputs": [],
   "source": [
    "atp_matches_1968_2024 = concatenation(data_dict)"
   ]
  },
  {
   "cell_type": "markdown",
   "id": "0f7d5e28",
   "metadata": {},
   "source": [
    "Selection des variables d'intérets"
   ]
  },
  {
   "cell_type": "code",
   "execution_count": 221,
   "id": "182cadc4",
   "metadata": {},
   "outputs": [],
   "source": [
    "atp_matches_1968_2024 = atp_matches_1968_2024[var_interet]"
   ]
  },
  {
   "cell_type": "code",
   "execution_count": 222,
   "id": "c7967116",
   "metadata": {},
   "outputs": [
    {
     "data": {
      "application/vnd.microsoft.datawrangler.viewer.v0+json": {
       "columns": [
        {
         "name": "index",
         "rawType": "object",
         "type": "string"
        },
        {
         "name": "Type",
         "rawType": "object",
         "type": "unknown"
        },
        {
         "name": "Nombre de valeurs manquantes",
         "rawType": "int64",
         "type": "integer"
        },
        {
         "name": "Pourcentage de valeurs manquantes",
         "rawType": "float64",
         "type": "float"
        }
       ],
       "conversionMethod": "pd.DataFrame",
       "ref": "dcb70d62-ecd9-4e71-b48d-fcf13720770a",
       "rows": [
        [
         "annee",
         "int32",
         "0",
         "0.0"
        ],
        [
         "tourney_date",
         "object",
         "0",
         "0.0"
        ],
        [
         "tourney_id",
         "object",
         "0",
         "0.0"
        ],
        [
         "tourney_name",
         "object",
         "0",
         "0.0"
        ],
        [
         "tourney_level",
         "object",
         "0",
         "0.0"
        ],
        [
         "surface",
         "object",
         "2990",
         "1.5333647869699891"
        ],
        [
         "score",
         "object",
         "9",
         "0.004615479291882911"
        ],
        [
         "round",
         "object",
         "0",
         "0.0"
        ],
        [
         "match_num",
         "int64",
         "0",
         "0.0"
        ],
        [
         "minutes",
         "float64",
         "99891",
         "51.22720466060843"
        ],
        [
         "winner_id",
         "int64",
         "0",
         "0.0"
        ],
        [
         "winner_rank",
         "float64",
         "35775",
         "18.34653018523457"
        ],
        [
         "winner_ioc",
         "object",
         "8",
         "0.004102648259451476"
        ],
        [
         "winner_name",
         "object",
         "0",
         "0.0"
        ],
        [
         "winner_hand",
         "object",
         "3",
         "0.0015384930972943034"
        ],
        [
         "loser_id",
         "int64",
         "0",
         "0.0"
        ],
        [
         "loser_rank",
         "float64",
         "44170",
         "22.65174670249646"
        ],
        [
         "loser_ioc",
         "object",
         "72",
         "0.036923834335063285"
        ],
        [
         "loser_name",
         "object",
         "0",
         "0.0"
        ],
        [
         "loser_hand",
         "object",
         "11",
         "0.005641141356745779"
        ],
        [
         "w_bpSaved",
         "float64",
         "96946",
         "49.71691727009785"
        ],
        [
         "w_bpFaced",
         "float64",
         "96946",
         "49.71691727009785"
        ],
        [
         "l_bpSaved",
         "float64",
         "96946",
         "49.71691727009785"
        ],
        [
         "l_bpFaced",
         "float64",
         "96946",
         "49.71691727009785"
        ]
       ],
       "shape": {
        "columns": 3,
        "rows": 24
       }
      },
      "text/html": [
       "<div>\n",
       "<style scoped>\n",
       "    .dataframe tbody tr th:only-of-type {\n",
       "        vertical-align: middle;\n",
       "    }\n",
       "\n",
       "    .dataframe tbody tr th {\n",
       "        vertical-align: top;\n",
       "    }\n",
       "\n",
       "    .dataframe thead th {\n",
       "        text-align: right;\n",
       "    }\n",
       "</style>\n",
       "<table border=\"1\" class=\"dataframe\">\n",
       "  <thead>\n",
       "    <tr style=\"text-align: right;\">\n",
       "      <th></th>\n",
       "      <th>Type</th>\n",
       "      <th>Nombre de valeurs manquantes</th>\n",
       "      <th>Pourcentage de valeurs manquantes</th>\n",
       "    </tr>\n",
       "  </thead>\n",
       "  <tbody>\n",
       "    <tr>\n",
       "      <th>annee</th>\n",
       "      <td>int32</td>\n",
       "      <td>0</td>\n",
       "      <td>0.000000</td>\n",
       "    </tr>\n",
       "    <tr>\n",
       "      <th>tourney_date</th>\n",
       "      <td>object</td>\n",
       "      <td>0</td>\n",
       "      <td>0.000000</td>\n",
       "    </tr>\n",
       "    <tr>\n",
       "      <th>tourney_id</th>\n",
       "      <td>object</td>\n",
       "      <td>0</td>\n",
       "      <td>0.000000</td>\n",
       "    </tr>\n",
       "    <tr>\n",
       "      <th>tourney_name</th>\n",
       "      <td>object</td>\n",
       "      <td>0</td>\n",
       "      <td>0.000000</td>\n",
       "    </tr>\n",
       "    <tr>\n",
       "      <th>tourney_level</th>\n",
       "      <td>object</td>\n",
       "      <td>0</td>\n",
       "      <td>0.000000</td>\n",
       "    </tr>\n",
       "    <tr>\n",
       "      <th>surface</th>\n",
       "      <td>object</td>\n",
       "      <td>2990</td>\n",
       "      <td>1.533365</td>\n",
       "    </tr>\n",
       "    <tr>\n",
       "      <th>score</th>\n",
       "      <td>object</td>\n",
       "      <td>9</td>\n",
       "      <td>0.004615</td>\n",
       "    </tr>\n",
       "    <tr>\n",
       "      <th>round</th>\n",
       "      <td>object</td>\n",
       "      <td>0</td>\n",
       "      <td>0.000000</td>\n",
       "    </tr>\n",
       "    <tr>\n",
       "      <th>match_num</th>\n",
       "      <td>int64</td>\n",
       "      <td>0</td>\n",
       "      <td>0.000000</td>\n",
       "    </tr>\n",
       "    <tr>\n",
       "      <th>minutes</th>\n",
       "      <td>float64</td>\n",
       "      <td>99891</td>\n",
       "      <td>51.227205</td>\n",
       "    </tr>\n",
       "    <tr>\n",
       "      <th>winner_id</th>\n",
       "      <td>int64</td>\n",
       "      <td>0</td>\n",
       "      <td>0.000000</td>\n",
       "    </tr>\n",
       "    <tr>\n",
       "      <th>winner_rank</th>\n",
       "      <td>float64</td>\n",
       "      <td>35775</td>\n",
       "      <td>18.346530</td>\n",
       "    </tr>\n",
       "    <tr>\n",
       "      <th>winner_ioc</th>\n",
       "      <td>object</td>\n",
       "      <td>8</td>\n",
       "      <td>0.004103</td>\n",
       "    </tr>\n",
       "    <tr>\n",
       "      <th>winner_name</th>\n",
       "      <td>object</td>\n",
       "      <td>0</td>\n",
       "      <td>0.000000</td>\n",
       "    </tr>\n",
       "    <tr>\n",
       "      <th>winner_hand</th>\n",
       "      <td>object</td>\n",
       "      <td>3</td>\n",
       "      <td>0.001538</td>\n",
       "    </tr>\n",
       "    <tr>\n",
       "      <th>loser_id</th>\n",
       "      <td>int64</td>\n",
       "      <td>0</td>\n",
       "      <td>0.000000</td>\n",
       "    </tr>\n",
       "    <tr>\n",
       "      <th>loser_rank</th>\n",
       "      <td>float64</td>\n",
       "      <td>44170</td>\n",
       "      <td>22.651747</td>\n",
       "    </tr>\n",
       "    <tr>\n",
       "      <th>loser_ioc</th>\n",
       "      <td>object</td>\n",
       "      <td>72</td>\n",
       "      <td>0.036924</td>\n",
       "    </tr>\n",
       "    <tr>\n",
       "      <th>loser_name</th>\n",
       "      <td>object</td>\n",
       "      <td>0</td>\n",
       "      <td>0.000000</td>\n",
       "    </tr>\n",
       "    <tr>\n",
       "      <th>loser_hand</th>\n",
       "      <td>object</td>\n",
       "      <td>11</td>\n",
       "      <td>0.005641</td>\n",
       "    </tr>\n",
       "    <tr>\n",
       "      <th>w_bpSaved</th>\n",
       "      <td>float64</td>\n",
       "      <td>96946</td>\n",
       "      <td>49.716917</td>\n",
       "    </tr>\n",
       "    <tr>\n",
       "      <th>w_bpFaced</th>\n",
       "      <td>float64</td>\n",
       "      <td>96946</td>\n",
       "      <td>49.716917</td>\n",
       "    </tr>\n",
       "    <tr>\n",
       "      <th>l_bpSaved</th>\n",
       "      <td>float64</td>\n",
       "      <td>96946</td>\n",
       "      <td>49.716917</td>\n",
       "    </tr>\n",
       "    <tr>\n",
       "      <th>l_bpFaced</th>\n",
       "      <td>float64</td>\n",
       "      <td>96946</td>\n",
       "      <td>49.716917</td>\n",
       "    </tr>\n",
       "  </tbody>\n",
       "</table>\n",
       "</div>"
      ],
      "text/plain": [
       "                  Type  Nombre de valeurs manquantes  \\\n",
       "annee            int32                             0   \n",
       "tourney_date    object                             0   \n",
       "tourney_id      object                             0   \n",
       "tourney_name    object                             0   \n",
       "tourney_level   object                             0   \n",
       "surface         object                          2990   \n",
       "score           object                             9   \n",
       "round           object                             0   \n",
       "match_num        int64                             0   \n",
       "minutes        float64                         99891   \n",
       "winner_id        int64                             0   \n",
       "winner_rank    float64                         35775   \n",
       "winner_ioc      object                             8   \n",
       "winner_name     object                             0   \n",
       "winner_hand     object                             3   \n",
       "loser_id         int64                             0   \n",
       "loser_rank     float64                         44170   \n",
       "loser_ioc       object                            72   \n",
       "loser_name      object                             0   \n",
       "loser_hand      object                            11   \n",
       "w_bpSaved      float64                         96946   \n",
       "w_bpFaced      float64                         96946   \n",
       "l_bpSaved      float64                         96946   \n",
       "l_bpFaced      float64                         96946   \n",
       "\n",
       "               Pourcentage de valeurs manquantes  \n",
       "annee                                   0.000000  \n",
       "tourney_date                            0.000000  \n",
       "tourney_id                              0.000000  \n",
       "tourney_name                            0.000000  \n",
       "tourney_level                           0.000000  \n",
       "surface                                 1.533365  \n",
       "score                                   0.004615  \n",
       "round                                   0.000000  \n",
       "match_num                               0.000000  \n",
       "minutes                                51.227205  \n",
       "winner_id                               0.000000  \n",
       "winner_rank                            18.346530  \n",
       "winner_ioc                              0.004103  \n",
       "winner_name                             0.000000  \n",
       "winner_hand                             0.001538  \n",
       "loser_id                                0.000000  \n",
       "loser_rank                             22.651747  \n",
       "loser_ioc                               0.036924  \n",
       "loser_name                              0.000000  \n",
       "loser_hand                              0.005641  \n",
       "w_bpSaved                              49.716917  \n",
       "w_bpFaced                              49.716917  \n",
       "l_bpSaved                              49.716917  \n",
       "l_bpFaced                              49.716917  "
      ]
     },
     "metadata": {},
     "output_type": "display_data"
    }
   ],
   "source": [
    "atp_matches_1968_2024 = ajout_annee(atp_matches_1968_2024,'tourney_date')\n",
    "afficher(atp_matches_1968_2024)"
   ]
  },
  {
   "cell_type": "markdown",
   "id": "af4f0de8",
   "metadata": {},
   "source": [
    "Sauvegarde"
   ]
  },
  {
   "cell_type": "code",
   "execution_count": 223,
   "id": "daf4c2c1",
   "metadata": {},
   "outputs": [],
   "source": [
    "\n",
    "atp_matches_1968_2024.to_csv(\"../Donnees/atp_matches_1968_2024.csv\", index=False)"
   ]
  },
  {
   "cell_type": "markdown",
   "id": "368c0b5c",
   "metadata": {},
   "source": [
    "### matchs futures"
   ]
  },
  {
   "cell_type": "code",
   "execution_count": 224,
   "id": "1743125b",
   "metadata": {},
   "outputs": [],
   "source": [
    "data_dict, formats_colonnes = recup_match(\"atp_matches_futures\",\"atp\",\"_19\",\"_20\")"
   ]
  },
  {
   "cell_type": "code",
   "execution_count": 225,
   "id": "2f59b92a",
   "metadata": {},
   "outputs": [
    {
     "name": "stdout",
     "output_type": "stream",
     "text": [
      "\n",
      "Comparaison des formats de colonnes entre les DataFrames:\n",
      "------------------------------------------------------\n",
      "Le fichier 'atp_matches_futures_1992.csv' a le même format de colonnes que les précédents.\n",
      "Le fichier 'atp_matches_futures_1993.csv' a le même format de colonnes que les précédents.\n",
      "Le fichier 'atp_matches_futures_1994.csv' a le même format de colonnes que les précédents.\n",
      "Le fichier 'atp_matches_futures_1995.csv' a le même format de colonnes que les précédents.\n",
      "Le fichier 'atp_matches_futures_1996.csv' a le même format de colonnes que les précédents.\n",
      "Le fichier 'atp_matches_futures_1997.csv' a le même format de colonnes que les précédents.\n",
      "Le fichier 'atp_matches_futures_1998.csv' a le même format de colonnes que les précédents.\n",
      "Le fichier 'atp_matches_futures_1999.csv' a le même format de colonnes que les précédents.\n",
      "Le fichier 'atp_matches_futures_2000.csv' a le même format de colonnes que les précédents.\n",
      "Le fichier 'atp_matches_futures_2001.csv' a le même format de colonnes que les précédents.\n",
      "Le fichier 'atp_matches_futures_2002.csv' a le même format de colonnes que les précédents.\n",
      "Le fichier 'atp_matches_futures_2003.csv' a le même format de colonnes que les précédents.\n",
      "Le fichier 'atp_matches_futures_2004.csv' a le même format de colonnes que les précédents.\n",
      "Le fichier 'atp_matches_futures_2005.csv' a le même format de colonnes que les précédents.\n",
      "Le fichier 'atp_matches_futures_2006.csv' a le même format de colonnes que les précédents.\n",
      "Le fichier 'atp_matches_futures_2007.csv' a le même format de colonnes que les précédents.\n",
      "Le fichier 'atp_matches_futures_2008.csv' a le même format de colonnes que les précédents.\n",
      "Le fichier 'atp_matches_futures_2009.csv' a le même format de colonnes que les précédents.\n",
      "Le fichier 'atp_matches_futures_2010.csv' a le même format de colonnes que les précédents.\n",
      "Le fichier 'atp_matches_futures_2011.csv' a le même format de colonnes que les précédents.\n",
      "Le fichier 'atp_matches_futures_2012.csv' a le même format de colonnes que les précédents.\n",
      "Le fichier 'atp_matches_futures_2013.csv' a le même format de colonnes que les précédents.\n",
      "Le fichier 'atp_matches_futures_2014.csv' a le même format de colonnes que les précédents.\n",
      "Le fichier 'atp_matches_futures_2015.csv' a le même format de colonnes que les précédents.\n",
      "Le fichier 'atp_matches_futures_2016.csv' a le même format de colonnes que les précédents.\n",
      "Le fichier 'atp_matches_futures_2017.csv' a le même format de colonnes que les précédents.\n",
      "Le fichier 'atp_matches_futures_2018.csv' a le même format de colonnes que les précédents.\n",
      "Le fichier 'atp_matches_futures_2019.csv' a le même format de colonnes que les précédents.\n",
      "Erreur : Le fichier 'atp_matches_futures_2020.csv' a des formats de colonnes différents.\n",
      "  - La colonne 'tourney_level' a le format 'int64' dans 'atp_matches_futures_2020.csv' au lieu de 'object'.\n",
      "Erreur : Le fichier 'atp_matches_futures_2021.csv' a des formats de colonnes différents.\n",
      "  - La colonne 'tourney_level' a le format 'int64' dans 'atp_matches_futures_2021.csv' au lieu de 'object'.\n",
      "Erreur : Le fichier 'atp_matches_futures_2022.csv' a des formats de colonnes différents.\n",
      "  - La colonne 'tourney_level' a le format 'int64' dans 'atp_matches_futures_2022.csv' au lieu de 'object'.\n",
      "Erreur : Le fichier 'atp_matches_futures_2023.csv' a des formats de colonnes différents.\n",
      "  - La colonne 'tourney_level' a le format 'int64' dans 'atp_matches_futures_2023.csv' au lieu de 'object'.\n",
      "Erreur : Le fichier 'atp_matches_futures_2024.csv' a des formats de colonnes différents.\n",
      "  - La colonne 'tourney_level' a le format 'int64' dans 'atp_matches_futures_2024.csv' au lieu de 'object'.\n"
     ]
    }
   ],
   "source": [
    "comp_format(formats_colonnes)"
   ]
  },
  {
   "cell_type": "code",
   "execution_count": 226,
   "id": "43d47fdf",
   "metadata": {},
   "outputs": [
    {
     "data": {
      "application/vnd.microsoft.datawrangler.viewer.v0+json": {
       "columns": [
        {
         "name": "index",
         "rawType": "int64",
         "type": "integer"
        },
        {
         "name": "tourney_id",
         "rawType": "object",
         "type": "string"
        },
        {
         "name": "tourney_name",
         "rawType": "object",
         "type": "string"
        },
        {
         "name": "surface",
         "rawType": "object",
         "type": "string"
        },
        {
         "name": "draw_size",
         "rawType": "int64",
         "type": "integer"
        },
        {
         "name": "tourney_level",
         "rawType": "int64",
         "type": "integer"
        },
        {
         "name": "tourney_date",
         "rawType": "int64",
         "type": "integer"
        },
        {
         "name": "match_num",
         "rawType": "int64",
         "type": "integer"
        },
        {
         "name": "winner_id",
         "rawType": "int64",
         "type": "integer"
        },
        {
         "name": "winner_seed",
         "rawType": "float64",
         "type": "float"
        },
        {
         "name": "winner_entry",
         "rawType": "object",
         "type": "unknown"
        },
        {
         "name": "winner_name",
         "rawType": "object",
         "type": "string"
        },
        {
         "name": "winner_hand",
         "rawType": "object",
         "type": "string"
        },
        {
         "name": "winner_ht",
         "rawType": "float64",
         "type": "float"
        },
        {
         "name": "winner_ioc",
         "rawType": "object",
         "type": "string"
        },
        {
         "name": "winner_age",
         "rawType": "float64",
         "type": "float"
        },
        {
         "name": "loser_id",
         "rawType": "int64",
         "type": "integer"
        },
        {
         "name": "loser_seed",
         "rawType": "float64",
         "type": "float"
        },
        {
         "name": "loser_entry",
         "rawType": "object",
         "type": "unknown"
        },
        {
         "name": "loser_name",
         "rawType": "object",
         "type": "string"
        },
        {
         "name": "loser_hand",
         "rawType": "object",
         "type": "string"
        },
        {
         "name": "loser_ht",
         "rawType": "float64",
         "type": "float"
        },
        {
         "name": "loser_ioc",
         "rawType": "object",
         "type": "string"
        },
        {
         "name": "loser_age",
         "rawType": "float64",
         "type": "float"
        },
        {
         "name": "score",
         "rawType": "object",
         "type": "string"
        },
        {
         "name": "best_of",
         "rawType": "int64",
         "type": "integer"
        },
        {
         "name": "round",
         "rawType": "object",
         "type": "string"
        },
        {
         "name": "minutes",
         "rawType": "float64",
         "type": "float"
        },
        {
         "name": "w_ace",
         "rawType": "float64",
         "type": "float"
        },
        {
         "name": "w_df",
         "rawType": "float64",
         "type": "float"
        },
        {
         "name": "w_svpt",
         "rawType": "float64",
         "type": "float"
        },
        {
         "name": "w_1stIn",
         "rawType": "float64",
         "type": "float"
        },
        {
         "name": "w_1stWon",
         "rawType": "float64",
         "type": "float"
        },
        {
         "name": "w_2ndWon",
         "rawType": "float64",
         "type": "float"
        },
        {
         "name": "w_SvGms",
         "rawType": "float64",
         "type": "float"
        },
        {
         "name": "w_bpSaved",
         "rawType": "float64",
         "type": "float"
        },
        {
         "name": "w_bpFaced",
         "rawType": "float64",
         "type": "float"
        },
        {
         "name": "l_ace",
         "rawType": "float64",
         "type": "float"
        },
        {
         "name": "l_df",
         "rawType": "float64",
         "type": "float"
        },
        {
         "name": "l_svpt",
         "rawType": "float64",
         "type": "float"
        },
        {
         "name": "l_1stIn",
         "rawType": "float64",
         "type": "float"
        },
        {
         "name": "l_1stWon",
         "rawType": "float64",
         "type": "float"
        },
        {
         "name": "l_2ndWon",
         "rawType": "float64",
         "type": "float"
        },
        {
         "name": "l_SvGms",
         "rawType": "float64",
         "type": "float"
        },
        {
         "name": "l_bpSaved",
         "rawType": "float64",
         "type": "float"
        },
        {
         "name": "l_bpFaced",
         "rawType": "float64",
         "type": "float"
        },
        {
         "name": "winner_rank",
         "rawType": "float64",
         "type": "float"
        },
        {
         "name": "winner_rank_points",
         "rawType": "float64",
         "type": "float"
        },
        {
         "name": "loser_rank",
         "rawType": "float64",
         "type": "float"
        },
        {
         "name": "loser_rank_points",
         "rawType": "float64",
         "type": "float"
        }
       ],
       "conversionMethod": "pd.DataFrame",
       "ref": "a823af43-af2e-49db-ab77-19cd902d6657",
       "rows": [
        [
         "0",
         "2020-M-ITF-ARG-01A-2020",
         "M25 Rio Cuarto",
         "Clay",
         "32",
         "25",
         "20200224",
         "101",
         "144869",
         "1.0",
         null,
         "Tomas Martin Etcheverry",
         "R",
         "196.0",
         "ARG",
         "20.6",
         "200030",
         null,
         null,
         "Facundo Juarez",
         "R",
         "180.0",
         "ITA",
         "22.4",
         "6-1 6-4",
         "3",
         "R32",
         null,
         null,
         null,
         null,
         null,
         null,
         null,
         null,
         null,
         null,
         null,
         null,
         null,
         null,
         null,
         null,
         null,
         null,
         null,
         "330.0",
         "117.0",
         "560.0",
         "44.0"
        ],
        [
         "1",
         "2020-M-ITF-ARG-01A-2020",
         "M25 Rio Cuarto",
         "Clay",
         "32",
         "25",
         "20200224",
         "102",
         "208262",
         null,
         "WC",
         "Alejo Lorenzo Lingua Lavallen",
         "L",
         "175.0",
         "ARG",
         "18.9",
         "206556",
         null,
         "LL",
         "Lautaro Agustin Falabella",
         "L",
         "175.0",
         "ARG",
         "22.0",
         "6-7(4) 6-3 6-4",
         "3",
         "R32",
         null,
         null,
         null,
         null,
         null,
         null,
         null,
         null,
         null,
         null,
         null,
         null,
         null,
         null,
         null,
         null,
         null,
         null,
         null,
         "857.0",
         "15.0",
         "1670.0",
         "1.0"
        ],
        [
         "2",
         "2020-M-ITF-ARG-01A-2020",
         "M25 Rio Cuarto",
         "Clay",
         "32",
         "25",
         "20200224",
         "103",
         "105607",
         null,
         "Q",
         "Gabriel Alejandro Hidalgo",
         "R",
         null,
         "ARG",
         "29.5",
         "200426",
         null,
         "Q",
         "Felipe Derdoy",
         "U",
         null,
         "ARG",
         "23.0",
         "6-2 6-2",
         "3",
         "R32",
         null,
         null,
         null,
         null,
         null,
         null,
         null,
         null,
         null,
         null,
         null,
         null,
         null,
         null,
         null,
         null,
         null,
         null,
         null,
         "852.0",
         "15.0",
         "1892.0",
         "1.0"
        ],
        [
         "3",
         "2020-M-ITF-ARG-01A-2020",
         "M25 Rio Cuarto",
         "Clay",
         "32",
         "25",
         "20200224",
         "104",
         "106032",
         "6.0",
         null,
         "Facundo Arguello",
         "R",
         "178.0",
         "ARG",
         "27.5",
         "208363",
         null,
         "WC",
         "Mariano Navone",
         "R",
         "178.0",
         "ARG",
         "18.9",
         "6-3 2-6 6-1",
         "3",
         "R32",
         null,
         null,
         null,
         null,
         null,
         null,
         null,
         null,
         null,
         null,
         null,
         null,
         null,
         null,
         null,
         null,
         null,
         null,
         null,
         "342.0",
         "110.0",
         "903.0",
         "13.0"
        ],
        [
         "4",
         "2020-M-ITF-ARG-01A-2020",
         "M25 Rio Cuarto",
         "Clay",
         "32",
         "25",
         "20200224",
         "105",
         "207678",
         "3.0",
         null,
         "Juan Manuel Cerundolo",
         "L",
         "183.0",
         "ARG",
         "18.2",
         "200331",
         null,
         "LL",
         "Leonardo Aboian",
         "L",
         "175.0",
         "ARG",
         "21.8",
         "7-5 6-4",
         "3",
         "R32",
         null,
         null,
         null,
         null,
         null,
         null,
         null,
         null,
         null,
         null,
         null,
         null,
         null,
         null,
         null,
         null,
         null,
         null,
         null,
         "371.0",
         "97.0",
         "1212.0",
         "5.0"
        ]
       ],
       "shape": {
        "columns": 49,
        "rows": 5
       }
      },
      "text/html": [
       "<div>\n",
       "<style scoped>\n",
       "    .dataframe tbody tr th:only-of-type {\n",
       "        vertical-align: middle;\n",
       "    }\n",
       "\n",
       "    .dataframe tbody tr th {\n",
       "        vertical-align: top;\n",
       "    }\n",
       "\n",
       "    .dataframe thead th {\n",
       "        text-align: right;\n",
       "    }\n",
       "</style>\n",
       "<table border=\"1\" class=\"dataframe\">\n",
       "  <thead>\n",
       "    <tr style=\"text-align: right;\">\n",
       "      <th></th>\n",
       "      <th>tourney_id</th>\n",
       "      <th>tourney_name</th>\n",
       "      <th>surface</th>\n",
       "      <th>draw_size</th>\n",
       "      <th>tourney_level</th>\n",
       "      <th>tourney_date</th>\n",
       "      <th>match_num</th>\n",
       "      <th>winner_id</th>\n",
       "      <th>winner_seed</th>\n",
       "      <th>winner_entry</th>\n",
       "      <th>...</th>\n",
       "      <th>l_1stIn</th>\n",
       "      <th>l_1stWon</th>\n",
       "      <th>l_2ndWon</th>\n",
       "      <th>l_SvGms</th>\n",
       "      <th>l_bpSaved</th>\n",
       "      <th>l_bpFaced</th>\n",
       "      <th>winner_rank</th>\n",
       "      <th>winner_rank_points</th>\n",
       "      <th>loser_rank</th>\n",
       "      <th>loser_rank_points</th>\n",
       "    </tr>\n",
       "  </thead>\n",
       "  <tbody>\n",
       "    <tr>\n",
       "      <th>0</th>\n",
       "      <td>2020-M-ITF-ARG-01A-2020</td>\n",
       "      <td>M25 Rio Cuarto</td>\n",
       "      <td>Clay</td>\n",
       "      <td>32</td>\n",
       "      <td>25</td>\n",
       "      <td>20200224</td>\n",
       "      <td>101</td>\n",
       "      <td>144869</td>\n",
       "      <td>1.0</td>\n",
       "      <td>NaN</td>\n",
       "      <td>...</td>\n",
       "      <td>NaN</td>\n",
       "      <td>NaN</td>\n",
       "      <td>NaN</td>\n",
       "      <td>NaN</td>\n",
       "      <td>NaN</td>\n",
       "      <td>NaN</td>\n",
       "      <td>330.0</td>\n",
       "      <td>117.0</td>\n",
       "      <td>560.0</td>\n",
       "      <td>44.0</td>\n",
       "    </tr>\n",
       "    <tr>\n",
       "      <th>1</th>\n",
       "      <td>2020-M-ITF-ARG-01A-2020</td>\n",
       "      <td>M25 Rio Cuarto</td>\n",
       "      <td>Clay</td>\n",
       "      <td>32</td>\n",
       "      <td>25</td>\n",
       "      <td>20200224</td>\n",
       "      <td>102</td>\n",
       "      <td>208262</td>\n",
       "      <td>NaN</td>\n",
       "      <td>WC</td>\n",
       "      <td>...</td>\n",
       "      <td>NaN</td>\n",
       "      <td>NaN</td>\n",
       "      <td>NaN</td>\n",
       "      <td>NaN</td>\n",
       "      <td>NaN</td>\n",
       "      <td>NaN</td>\n",
       "      <td>857.0</td>\n",
       "      <td>15.0</td>\n",
       "      <td>1670.0</td>\n",
       "      <td>1.0</td>\n",
       "    </tr>\n",
       "    <tr>\n",
       "      <th>2</th>\n",
       "      <td>2020-M-ITF-ARG-01A-2020</td>\n",
       "      <td>M25 Rio Cuarto</td>\n",
       "      <td>Clay</td>\n",
       "      <td>32</td>\n",
       "      <td>25</td>\n",
       "      <td>20200224</td>\n",
       "      <td>103</td>\n",
       "      <td>105607</td>\n",
       "      <td>NaN</td>\n",
       "      <td>Q</td>\n",
       "      <td>...</td>\n",
       "      <td>NaN</td>\n",
       "      <td>NaN</td>\n",
       "      <td>NaN</td>\n",
       "      <td>NaN</td>\n",
       "      <td>NaN</td>\n",
       "      <td>NaN</td>\n",
       "      <td>852.0</td>\n",
       "      <td>15.0</td>\n",
       "      <td>1892.0</td>\n",
       "      <td>1.0</td>\n",
       "    </tr>\n",
       "    <tr>\n",
       "      <th>3</th>\n",
       "      <td>2020-M-ITF-ARG-01A-2020</td>\n",
       "      <td>M25 Rio Cuarto</td>\n",
       "      <td>Clay</td>\n",
       "      <td>32</td>\n",
       "      <td>25</td>\n",
       "      <td>20200224</td>\n",
       "      <td>104</td>\n",
       "      <td>106032</td>\n",
       "      <td>6.0</td>\n",
       "      <td>NaN</td>\n",
       "      <td>...</td>\n",
       "      <td>NaN</td>\n",
       "      <td>NaN</td>\n",
       "      <td>NaN</td>\n",
       "      <td>NaN</td>\n",
       "      <td>NaN</td>\n",
       "      <td>NaN</td>\n",
       "      <td>342.0</td>\n",
       "      <td>110.0</td>\n",
       "      <td>903.0</td>\n",
       "      <td>13.0</td>\n",
       "    </tr>\n",
       "    <tr>\n",
       "      <th>4</th>\n",
       "      <td>2020-M-ITF-ARG-01A-2020</td>\n",
       "      <td>M25 Rio Cuarto</td>\n",
       "      <td>Clay</td>\n",
       "      <td>32</td>\n",
       "      <td>25</td>\n",
       "      <td>20200224</td>\n",
       "      <td>105</td>\n",
       "      <td>207678</td>\n",
       "      <td>3.0</td>\n",
       "      <td>NaN</td>\n",
       "      <td>...</td>\n",
       "      <td>NaN</td>\n",
       "      <td>NaN</td>\n",
       "      <td>NaN</td>\n",
       "      <td>NaN</td>\n",
       "      <td>NaN</td>\n",
       "      <td>NaN</td>\n",
       "      <td>371.0</td>\n",
       "      <td>97.0</td>\n",
       "      <td>1212.0</td>\n",
       "      <td>5.0</td>\n",
       "    </tr>\n",
       "  </tbody>\n",
       "</table>\n",
       "<p>5 rows × 49 columns</p>\n",
       "</div>"
      ],
      "text/plain": [
       "                tourney_id    tourney_name surface  draw_size  tourney_level  \\\n",
       "0  2020-M-ITF-ARG-01A-2020  M25 Rio Cuarto    Clay         32             25   \n",
       "1  2020-M-ITF-ARG-01A-2020  M25 Rio Cuarto    Clay         32             25   \n",
       "2  2020-M-ITF-ARG-01A-2020  M25 Rio Cuarto    Clay         32             25   \n",
       "3  2020-M-ITF-ARG-01A-2020  M25 Rio Cuarto    Clay         32             25   \n",
       "4  2020-M-ITF-ARG-01A-2020  M25 Rio Cuarto    Clay         32             25   \n",
       "\n",
       "   tourney_date  match_num  winner_id  winner_seed winner_entry  ... l_1stIn  \\\n",
       "0      20200224        101     144869          1.0          NaN  ...     NaN   \n",
       "1      20200224        102     208262          NaN           WC  ...     NaN   \n",
       "2      20200224        103     105607          NaN            Q  ...     NaN   \n",
       "3      20200224        104     106032          6.0          NaN  ...     NaN   \n",
       "4      20200224        105     207678          3.0          NaN  ...     NaN   \n",
       "\n",
       "  l_1stWon  l_2ndWon l_SvGms  l_bpSaved  l_bpFaced  winner_rank  \\\n",
       "0      NaN       NaN     NaN        NaN        NaN        330.0   \n",
       "1      NaN       NaN     NaN        NaN        NaN        857.0   \n",
       "2      NaN       NaN     NaN        NaN        NaN        852.0   \n",
       "3      NaN       NaN     NaN        NaN        NaN        342.0   \n",
       "4      NaN       NaN     NaN        NaN        NaN        371.0   \n",
       "\n",
       "  winner_rank_points loser_rank loser_rank_points  \n",
       "0              117.0      560.0              44.0  \n",
       "1               15.0     1670.0               1.0  \n",
       "2               15.0     1892.0               1.0  \n",
       "3              110.0      903.0              13.0  \n",
       "4               97.0     1212.0               5.0  \n",
       "\n",
       "[5 rows x 49 columns]"
      ]
     },
     "execution_count": 226,
     "metadata": {},
     "output_type": "execute_result"
    }
   ],
   "source": [
    "data_dict['atp_matches_futures_2020.csv'].head()"
   ]
  },
  {
   "cell_type": "code",
   "execution_count": 227,
   "id": "883405e4",
   "metadata": {},
   "outputs": [
    {
     "data": {
      "application/vnd.microsoft.datawrangler.viewer.v0+json": {
       "columns": [
        {
         "name": "index",
         "rawType": "int64",
         "type": "integer"
        },
        {
         "name": "tourney_id",
         "rawType": "object",
         "type": "string"
        },
        {
         "name": "tourney_name",
         "rawType": "object",
         "type": "string"
        },
        {
         "name": "surface",
         "rawType": "object",
         "type": "string"
        },
        {
         "name": "draw_size",
         "rawType": "int64",
         "type": "integer"
        },
        {
         "name": "tourney_level",
         "rawType": "object",
         "type": "string"
        },
        {
         "name": "tourney_date",
         "rawType": "int64",
         "type": "integer"
        },
        {
         "name": "match_num",
         "rawType": "int64",
         "type": "integer"
        },
        {
         "name": "winner_id",
         "rawType": "int64",
         "type": "integer"
        },
        {
         "name": "winner_seed",
         "rawType": "float64",
         "type": "float"
        },
        {
         "name": "winner_entry",
         "rawType": "object",
         "type": "unknown"
        },
        {
         "name": "winner_name",
         "rawType": "object",
         "type": "string"
        },
        {
         "name": "winner_hand",
         "rawType": "object",
         "type": "string"
        },
        {
         "name": "winner_ht",
         "rawType": "float64",
         "type": "float"
        },
        {
         "name": "winner_ioc",
         "rawType": "object",
         "type": "string"
        },
        {
         "name": "winner_age",
         "rawType": "float64",
         "type": "float"
        },
        {
         "name": "loser_id",
         "rawType": "int64",
         "type": "integer"
        },
        {
         "name": "loser_seed",
         "rawType": "float64",
         "type": "float"
        },
        {
         "name": "loser_entry",
         "rawType": "object",
         "type": "unknown"
        },
        {
         "name": "loser_name",
         "rawType": "object",
         "type": "string"
        },
        {
         "name": "loser_hand",
         "rawType": "object",
         "type": "string"
        },
        {
         "name": "loser_ht",
         "rawType": "float64",
         "type": "float"
        },
        {
         "name": "loser_ioc",
         "rawType": "object",
         "type": "string"
        },
        {
         "name": "loser_age",
         "rawType": "float64",
         "type": "float"
        },
        {
         "name": "score",
         "rawType": "object",
         "type": "string"
        },
        {
         "name": "best_of",
         "rawType": "int64",
         "type": "integer"
        },
        {
         "name": "round",
         "rawType": "object",
         "type": "string"
        },
        {
         "name": "minutes",
         "rawType": "float64",
         "type": "float"
        },
        {
         "name": "w_ace",
         "rawType": "float64",
         "type": "float"
        },
        {
         "name": "w_df",
         "rawType": "float64",
         "type": "float"
        },
        {
         "name": "w_svpt",
         "rawType": "float64",
         "type": "float"
        },
        {
         "name": "w_1stIn",
         "rawType": "float64",
         "type": "float"
        },
        {
         "name": "w_1stWon",
         "rawType": "float64",
         "type": "float"
        },
        {
         "name": "w_2ndWon",
         "rawType": "float64",
         "type": "float"
        },
        {
         "name": "w_SvGms",
         "rawType": "float64",
         "type": "float"
        },
        {
         "name": "w_bpSaved",
         "rawType": "float64",
         "type": "float"
        },
        {
         "name": "w_bpFaced",
         "rawType": "float64",
         "type": "float"
        },
        {
         "name": "l_ace",
         "rawType": "float64",
         "type": "float"
        },
        {
         "name": "l_df",
         "rawType": "float64",
         "type": "float"
        },
        {
         "name": "l_svpt",
         "rawType": "float64",
         "type": "float"
        },
        {
         "name": "l_1stIn",
         "rawType": "float64",
         "type": "float"
        },
        {
         "name": "l_1stWon",
         "rawType": "float64",
         "type": "float"
        },
        {
         "name": "l_2ndWon",
         "rawType": "float64",
         "type": "float"
        },
        {
         "name": "l_SvGms",
         "rawType": "float64",
         "type": "float"
        },
        {
         "name": "l_bpSaved",
         "rawType": "float64",
         "type": "float"
        },
        {
         "name": "l_bpFaced",
         "rawType": "float64",
         "type": "float"
        },
        {
         "name": "winner_rank",
         "rawType": "float64",
         "type": "float"
        },
        {
         "name": "winner_rank_points",
         "rawType": "float64",
         "type": "float"
        },
        {
         "name": "loser_rank",
         "rawType": "float64",
         "type": "float"
        },
        {
         "name": "loser_rank_points",
         "rawType": "float64",
         "type": "float"
        }
       ],
       "conversionMethod": "pd.DataFrame",
       "ref": "03b36d09-374d-49f9-aa13-4f02b311cd03",
       "rows": [
        [
         "0",
         "2019-M-ITF-HKG-01A-2019",
         "M25 Hong Kong",
         "Hard",
         "32",
         "S",
         "20181231",
         "1",
         "126135",
         null,
         "Q",
         "Jumpei Yamasaki",
         "R",
         "180.0",
         "JPN",
         "21.4",
         "200436",
         null,
         null,
         "Zsombor Piros",
         "R",
         "180.0",
         "HUN",
         "19.2",
         "7-6(4) 7-5",
         "3",
         "R32",
         null,
         null,
         null,
         null,
         null,
         null,
         null,
         null,
         null,
         null,
         null,
         null,
         null,
         null,
         null,
         null,
         null,
         null,
         null,
         "618.0",
         "3.0",
         "338.0",
         "67.0"
        ],
        [
         "1",
         "2019-M-ITF-HKG-01A-2019",
         "M25 Hong Kong",
         "Hard",
         "32",
         "S",
         "20181231",
         "2",
         "200553",
         null,
         null,
         "Alen Avidzba",
         "R",
         null,
         "RUS",
         "18.8",
         "127187",
         null,
         null,
         "Chien Hsun Lo",
         "U",
         null,
         "TPE",
         "20.1",
         "6-0 6-4",
         "3",
         "R32",
         null,
         null,
         null,
         null,
         null,
         null,
         null,
         null,
         null,
         null,
         null,
         null,
         null,
         null,
         null,
         null,
         null,
         null,
         null,
         "415.0",
         "27.0",
         "403.0",
         "30.0"
        ],
        [
         "2",
         "2019-M-ITF-HKG-01A-2019",
         "M25 Hong Kong",
         "Hard",
         "32",
         "S",
         "20181231",
         "3",
         "145001",
         null,
         null,
         "Evan Furness",
         "R",
         "173.0",
         "FRA",
         "20.3",
         "109686",
         null,
         null,
         "Riccardo Bonadio",
         "R",
         "180.0",
         "ITA",
         "25.4",
         "1-6 7-6(8) 6-2",
         "3",
         "R32",
         null,
         null,
         null,
         null,
         null,
         null,
         null,
         null,
         null,
         null,
         null,
         null,
         null,
         null,
         null,
         null,
         null,
         null,
         null,
         "466.0",
         "16.0",
         "503.0",
         "11.0"
        ],
        [
         "3",
         "2019-M-ITF-HKG-01A-2019",
         "M25 Hong Kong",
         "Hard",
         "32",
         "S",
         "20181231",
         "4",
         "106187",
         "5.0",
         null,
         "Denis Yevseyev",
         "R",
         "188.0",
         "KAZ",
         "25.6",
         "105515",
         null,
         null,
         "Jordi Samper Montana",
         "U",
         null,
         "ESP",
         "28.6",
         "6-4 6-3",
         "3",
         "R32",
         null,
         null,
         null,
         null,
         null,
         null,
         null,
         null,
         null,
         null,
         null,
         null,
         null,
         null,
         null,
         null,
         null,
         null,
         null,
         "359.0",
         "57.0",
         "413.0",
         "28.0"
        ],
        [
         "4",
         "2019-M-ITF-HKG-01A-2019",
         "M25 Hong Kong",
         "Hard",
         "32",
         "S",
         "20181231",
         "5",
         "134120",
         null,
         "Q",
         "Kuan Yi Lee",
         "R",
         "178.0",
         "TPE",
         "22.3",
         "144696",
         null,
         null,
         "Zihao Xia",
         "R",
         null,
         "CHN",
         "21.9",
         "6-1 6-2",
         "3",
         "R32",
         null,
         null,
         null,
         null,
         null,
         null,
         null,
         null,
         null,
         null,
         null,
         null,
         null,
         null,
         null,
         null,
         null,
         null,
         null,
         null,
         null,
         "354.0",
         "58.0"
        ]
       ],
       "shape": {
        "columns": 49,
        "rows": 5
       }
      },
      "text/html": [
       "<div>\n",
       "<style scoped>\n",
       "    .dataframe tbody tr th:only-of-type {\n",
       "        vertical-align: middle;\n",
       "    }\n",
       "\n",
       "    .dataframe tbody tr th {\n",
       "        vertical-align: top;\n",
       "    }\n",
       "\n",
       "    .dataframe thead th {\n",
       "        text-align: right;\n",
       "    }\n",
       "</style>\n",
       "<table border=\"1\" class=\"dataframe\">\n",
       "  <thead>\n",
       "    <tr style=\"text-align: right;\">\n",
       "      <th></th>\n",
       "      <th>tourney_id</th>\n",
       "      <th>tourney_name</th>\n",
       "      <th>surface</th>\n",
       "      <th>draw_size</th>\n",
       "      <th>tourney_level</th>\n",
       "      <th>tourney_date</th>\n",
       "      <th>match_num</th>\n",
       "      <th>winner_id</th>\n",
       "      <th>winner_seed</th>\n",
       "      <th>winner_entry</th>\n",
       "      <th>...</th>\n",
       "      <th>l_1stIn</th>\n",
       "      <th>l_1stWon</th>\n",
       "      <th>l_2ndWon</th>\n",
       "      <th>l_SvGms</th>\n",
       "      <th>l_bpSaved</th>\n",
       "      <th>l_bpFaced</th>\n",
       "      <th>winner_rank</th>\n",
       "      <th>winner_rank_points</th>\n",
       "      <th>loser_rank</th>\n",
       "      <th>loser_rank_points</th>\n",
       "    </tr>\n",
       "  </thead>\n",
       "  <tbody>\n",
       "    <tr>\n",
       "      <th>0</th>\n",
       "      <td>2019-M-ITF-HKG-01A-2019</td>\n",
       "      <td>M25 Hong Kong</td>\n",
       "      <td>Hard</td>\n",
       "      <td>32</td>\n",
       "      <td>S</td>\n",
       "      <td>20181231</td>\n",
       "      <td>1</td>\n",
       "      <td>126135</td>\n",
       "      <td>NaN</td>\n",
       "      <td>Q</td>\n",
       "      <td>...</td>\n",
       "      <td>NaN</td>\n",
       "      <td>NaN</td>\n",
       "      <td>NaN</td>\n",
       "      <td>NaN</td>\n",
       "      <td>NaN</td>\n",
       "      <td>NaN</td>\n",
       "      <td>618.0</td>\n",
       "      <td>3.0</td>\n",
       "      <td>338.0</td>\n",
       "      <td>67.0</td>\n",
       "    </tr>\n",
       "    <tr>\n",
       "      <th>1</th>\n",
       "      <td>2019-M-ITF-HKG-01A-2019</td>\n",
       "      <td>M25 Hong Kong</td>\n",
       "      <td>Hard</td>\n",
       "      <td>32</td>\n",
       "      <td>S</td>\n",
       "      <td>20181231</td>\n",
       "      <td>2</td>\n",
       "      <td>200553</td>\n",
       "      <td>NaN</td>\n",
       "      <td>NaN</td>\n",
       "      <td>...</td>\n",
       "      <td>NaN</td>\n",
       "      <td>NaN</td>\n",
       "      <td>NaN</td>\n",
       "      <td>NaN</td>\n",
       "      <td>NaN</td>\n",
       "      <td>NaN</td>\n",
       "      <td>415.0</td>\n",
       "      <td>27.0</td>\n",
       "      <td>403.0</td>\n",
       "      <td>30.0</td>\n",
       "    </tr>\n",
       "    <tr>\n",
       "      <th>2</th>\n",
       "      <td>2019-M-ITF-HKG-01A-2019</td>\n",
       "      <td>M25 Hong Kong</td>\n",
       "      <td>Hard</td>\n",
       "      <td>32</td>\n",
       "      <td>S</td>\n",
       "      <td>20181231</td>\n",
       "      <td>3</td>\n",
       "      <td>145001</td>\n",
       "      <td>NaN</td>\n",
       "      <td>NaN</td>\n",
       "      <td>...</td>\n",
       "      <td>NaN</td>\n",
       "      <td>NaN</td>\n",
       "      <td>NaN</td>\n",
       "      <td>NaN</td>\n",
       "      <td>NaN</td>\n",
       "      <td>NaN</td>\n",
       "      <td>466.0</td>\n",
       "      <td>16.0</td>\n",
       "      <td>503.0</td>\n",
       "      <td>11.0</td>\n",
       "    </tr>\n",
       "    <tr>\n",
       "      <th>3</th>\n",
       "      <td>2019-M-ITF-HKG-01A-2019</td>\n",
       "      <td>M25 Hong Kong</td>\n",
       "      <td>Hard</td>\n",
       "      <td>32</td>\n",
       "      <td>S</td>\n",
       "      <td>20181231</td>\n",
       "      <td>4</td>\n",
       "      <td>106187</td>\n",
       "      <td>5.0</td>\n",
       "      <td>NaN</td>\n",
       "      <td>...</td>\n",
       "      <td>NaN</td>\n",
       "      <td>NaN</td>\n",
       "      <td>NaN</td>\n",
       "      <td>NaN</td>\n",
       "      <td>NaN</td>\n",
       "      <td>NaN</td>\n",
       "      <td>359.0</td>\n",
       "      <td>57.0</td>\n",
       "      <td>413.0</td>\n",
       "      <td>28.0</td>\n",
       "    </tr>\n",
       "    <tr>\n",
       "      <th>4</th>\n",
       "      <td>2019-M-ITF-HKG-01A-2019</td>\n",
       "      <td>M25 Hong Kong</td>\n",
       "      <td>Hard</td>\n",
       "      <td>32</td>\n",
       "      <td>S</td>\n",
       "      <td>20181231</td>\n",
       "      <td>5</td>\n",
       "      <td>134120</td>\n",
       "      <td>NaN</td>\n",
       "      <td>Q</td>\n",
       "      <td>...</td>\n",
       "      <td>NaN</td>\n",
       "      <td>NaN</td>\n",
       "      <td>NaN</td>\n",
       "      <td>NaN</td>\n",
       "      <td>NaN</td>\n",
       "      <td>NaN</td>\n",
       "      <td>NaN</td>\n",
       "      <td>NaN</td>\n",
       "      <td>354.0</td>\n",
       "      <td>58.0</td>\n",
       "    </tr>\n",
       "  </tbody>\n",
       "</table>\n",
       "<p>5 rows × 49 columns</p>\n",
       "</div>"
      ],
      "text/plain": [
       "                tourney_id   tourney_name surface  draw_size tourney_level  \\\n",
       "0  2019-M-ITF-HKG-01A-2019  M25 Hong Kong    Hard         32             S   \n",
       "1  2019-M-ITF-HKG-01A-2019  M25 Hong Kong    Hard         32             S   \n",
       "2  2019-M-ITF-HKG-01A-2019  M25 Hong Kong    Hard         32             S   \n",
       "3  2019-M-ITF-HKG-01A-2019  M25 Hong Kong    Hard         32             S   \n",
       "4  2019-M-ITF-HKG-01A-2019  M25 Hong Kong    Hard         32             S   \n",
       "\n",
       "   tourney_date  match_num  winner_id  winner_seed winner_entry  ... l_1stIn  \\\n",
       "0      20181231          1     126135          NaN            Q  ...     NaN   \n",
       "1      20181231          2     200553          NaN          NaN  ...     NaN   \n",
       "2      20181231          3     145001          NaN          NaN  ...     NaN   \n",
       "3      20181231          4     106187          5.0          NaN  ...     NaN   \n",
       "4      20181231          5     134120          NaN            Q  ...     NaN   \n",
       "\n",
       "  l_1stWon  l_2ndWon l_SvGms  l_bpSaved  l_bpFaced  winner_rank  \\\n",
       "0      NaN       NaN     NaN        NaN        NaN        618.0   \n",
       "1      NaN       NaN     NaN        NaN        NaN        415.0   \n",
       "2      NaN       NaN     NaN        NaN        NaN        466.0   \n",
       "3      NaN       NaN     NaN        NaN        NaN        359.0   \n",
       "4      NaN       NaN     NaN        NaN        NaN          NaN   \n",
       "\n",
       "  winner_rank_points loser_rank loser_rank_points  \n",
       "0                3.0      338.0              67.0  \n",
       "1               27.0      403.0              30.0  \n",
       "2               16.0      503.0              11.0  \n",
       "3               57.0      413.0              28.0  \n",
       "4                NaN      354.0              58.0  \n",
       "\n",
       "[5 rows x 49 columns]"
      ]
     },
     "execution_count": 227,
     "metadata": {},
     "output_type": "execute_result"
    }
   ],
   "source": [
    "data_dict['atp_matches_futures_2019.csv'].head()"
   ]
  },
  {
   "cell_type": "markdown",
   "id": "1c0193d9",
   "metadata": {},
   "source": [
    "On choisit de modifier la variables \"tourney_level\" en str"
   ]
  },
  {
   "cell_type": "code",
   "execution_count": null,
   "id": "095a23b1",
   "metadata": {},
   "outputs": [],
   "source": [
    "for fichier in data_dict.keys():\n",
    "    data_dict, formats_colonnes = modif_format(\n",
    "        fichier,\n",
    "        \"tourney_level\",\n",
    "        'str',\n",
    "        data_dict,\n",
    "        formats_colonnes\n",
    "        )"
   ]
  },
  {
   "cell_type": "code",
   "execution_count": 229,
   "id": "113898a2",
   "metadata": {},
   "outputs": [
    {
     "name": "stdout",
     "output_type": "stream",
     "text": [
      "\n",
      "Comparaison des formats de colonnes entre les DataFrames:\n",
      "------------------------------------------------------\n",
      "Le fichier 'atp_matches_futures_1992.csv' a le même format de colonnes que les précédents.\n",
      "Le fichier 'atp_matches_futures_1993.csv' a le même format de colonnes que les précédents.\n",
      "Le fichier 'atp_matches_futures_1994.csv' a le même format de colonnes que les précédents.\n",
      "Le fichier 'atp_matches_futures_1995.csv' a le même format de colonnes que les précédents.\n",
      "Le fichier 'atp_matches_futures_1996.csv' a le même format de colonnes que les précédents.\n",
      "Le fichier 'atp_matches_futures_1997.csv' a le même format de colonnes que les précédents.\n",
      "Le fichier 'atp_matches_futures_1998.csv' a le même format de colonnes que les précédents.\n",
      "Le fichier 'atp_matches_futures_1999.csv' a le même format de colonnes que les précédents.\n",
      "Le fichier 'atp_matches_futures_2000.csv' a le même format de colonnes que les précédents.\n",
      "Le fichier 'atp_matches_futures_2001.csv' a le même format de colonnes que les précédents.\n",
      "Le fichier 'atp_matches_futures_2002.csv' a le même format de colonnes que les précédents.\n",
      "Le fichier 'atp_matches_futures_2003.csv' a le même format de colonnes que les précédents.\n",
      "Le fichier 'atp_matches_futures_2004.csv' a le même format de colonnes que les précédents.\n",
      "Le fichier 'atp_matches_futures_2005.csv' a le même format de colonnes que les précédents.\n",
      "Le fichier 'atp_matches_futures_2006.csv' a le même format de colonnes que les précédents.\n",
      "Le fichier 'atp_matches_futures_2007.csv' a le même format de colonnes que les précédents.\n",
      "Le fichier 'atp_matches_futures_2008.csv' a le même format de colonnes que les précédents.\n",
      "Le fichier 'atp_matches_futures_2009.csv' a le même format de colonnes que les précédents.\n",
      "Le fichier 'atp_matches_futures_2010.csv' a le même format de colonnes que les précédents.\n",
      "Le fichier 'atp_matches_futures_2011.csv' a le même format de colonnes que les précédents.\n",
      "Le fichier 'atp_matches_futures_2012.csv' a le même format de colonnes que les précédents.\n",
      "Le fichier 'atp_matches_futures_2013.csv' a le même format de colonnes que les précédents.\n",
      "Le fichier 'atp_matches_futures_2014.csv' a le même format de colonnes que les précédents.\n",
      "Le fichier 'atp_matches_futures_2015.csv' a le même format de colonnes que les précédents.\n",
      "Le fichier 'atp_matches_futures_2016.csv' a le même format de colonnes que les précédents.\n",
      "Le fichier 'atp_matches_futures_2017.csv' a le même format de colonnes que les précédents.\n",
      "Le fichier 'atp_matches_futures_2018.csv' a le même format de colonnes que les précédents.\n",
      "Le fichier 'atp_matches_futures_2019.csv' a le même format de colonnes que les précédents.\n",
      "Le fichier 'atp_matches_futures_2020.csv' a le même format de colonnes que les précédents.\n",
      "Le fichier 'atp_matches_futures_2021.csv' a le même format de colonnes que les précédents.\n",
      "Le fichier 'atp_matches_futures_2022.csv' a le même format de colonnes que les précédents.\n",
      "Le fichier 'atp_matches_futures_2023.csv' a le même format de colonnes que les précédents.\n",
      "Le fichier 'atp_matches_futures_2024.csv' a le même format de colonnes que les précédents.\n"
     ]
    }
   ],
   "source": [
    "comp_format(formats_colonnes)"
   ]
  },
  {
   "cell_type": "markdown",
   "id": "b0f0fa3e",
   "metadata": {},
   "source": [
    "Concaténation"
   ]
  },
  {
   "cell_type": "code",
   "execution_count": 230,
   "id": "2037cf5f",
   "metadata": {},
   "outputs": [],
   "source": [
    "atp_matches_futures_1992_2024 = concatenation(data_dict)"
   ]
  },
  {
   "cell_type": "code",
   "execution_count": 231,
   "id": "67abcaa6",
   "metadata": {},
   "outputs": [],
   "source": [
    "atp_matches_futures_1992_2024 = atp_matches_futures_1992_2024[var_interet]"
   ]
  },
  {
   "cell_type": "code",
   "execution_count": null,
   "id": "5d62ebb4",
   "metadata": {},
   "outputs": [
    {
     "data": {
      "application/vnd.microsoft.datawrangler.viewer.v0+json": {
       "columns": [
        {
         "name": "index",
         "rawType": "object",
         "type": "string"
        },
        {
         "name": "Type",
         "rawType": "object",
         "type": "unknown"
        },
        {
         "name": "Nombre de valeurs manquantes",
         "rawType": "int64",
         "type": "integer"
        },
        {
         "name": "Pourcentage de valeurs manquantes",
         "rawType": "float64",
         "type": "float"
        }
       ],
       "conversionMethod": "pd.DataFrame",
       "ref": "313c7026-08b5-4e4a-88f6-34b78d3a3047",
       "rows": [
        [
         "annee",
         "int32",
         "0",
         "0.0"
        ],
        [
         "tourney_date",
         "object",
         "0",
         "0.0"
        ],
        [
         "tourney_id",
         "object",
         "0",
         "0.0"
        ],
        [
         "tourney_name",
         "object",
         "0",
         "0.0"
        ],
        [
         "tourney_level",
         "object",
         "0",
         "0.0"
        ],
        [
         "surface",
         "object",
         "0",
         "0.0"
        ],
        [
         "score",
         "object",
         "33",
         "0.00661912928362969"
        ],
        [
         "round",
         "object",
         "0",
         "0.0"
        ],
        [
         "match_num",
         "int64",
         "0",
         "0.0"
        ],
        [
         "minutes",
         "float64",
         "498555",
         "100.0"
        ],
        [
         "winner_id",
         "int64",
         "0",
         "0.0"
        ],
        [
         "winner_rank",
         "float64",
         "39346",
         "7.892007902839206"
        ],
        [
         "winner_ioc",
         "object",
         "0",
         "0.0"
        ],
        [
         "winner_name",
         "object",
         "0",
         "0.0"
        ],
        [
         "winner_hand",
         "object",
         "0",
         "0.0"
        ],
        [
         "loser_id",
         "int64",
         "0",
         "0.0"
        ],
        [
         "loser_rank",
         "float64",
         "93395",
         "18.73313877104833"
        ],
        [
         "loser_ioc",
         "object",
         "8",
         "0.0016046374020920462"
        ],
        [
         "loser_name",
         "object",
         "0",
         "0.0"
        ],
        [
         "loser_hand",
         "object",
         "2",
         "0.00040115935052301155"
        ],
        [
         "w_bpSaved",
         "float64",
         "498555",
         "100.0"
        ],
        [
         "w_bpFaced",
         "float64",
         "498555",
         "100.0"
        ],
        [
         "l_bpSaved",
         "float64",
         "498555",
         "100.0"
        ],
        [
         "l_bpFaced",
         "float64",
         "498555",
         "100.0"
        ]
       ],
       "shape": {
        "columns": 3,
        "rows": 24
       }
      },
      "text/html": [
       "<div>\n",
       "<style scoped>\n",
       "    .dataframe tbody tr th:only-of-type {\n",
       "        vertical-align: middle;\n",
       "    }\n",
       "\n",
       "    .dataframe tbody tr th {\n",
       "        vertical-align: top;\n",
       "    }\n",
       "\n",
       "    .dataframe thead th {\n",
       "        text-align: right;\n",
       "    }\n",
       "</style>\n",
       "<table border=\"1\" class=\"dataframe\">\n",
       "  <thead>\n",
       "    <tr style=\"text-align: right;\">\n",
       "      <th></th>\n",
       "      <th>Type</th>\n",
       "      <th>Nombre de valeurs manquantes</th>\n",
       "      <th>Pourcentage de valeurs manquantes</th>\n",
       "    </tr>\n",
       "  </thead>\n",
       "  <tbody>\n",
       "    <tr>\n",
       "      <th>annee</th>\n",
       "      <td>int32</td>\n",
       "      <td>0</td>\n",
       "      <td>0.000000</td>\n",
       "    </tr>\n",
       "    <tr>\n",
       "      <th>tourney_date</th>\n",
       "      <td>object</td>\n",
       "      <td>0</td>\n",
       "      <td>0.000000</td>\n",
       "    </tr>\n",
       "    <tr>\n",
       "      <th>tourney_id</th>\n",
       "      <td>object</td>\n",
       "      <td>0</td>\n",
       "      <td>0.000000</td>\n",
       "    </tr>\n",
       "    <tr>\n",
       "      <th>tourney_name</th>\n",
       "      <td>object</td>\n",
       "      <td>0</td>\n",
       "      <td>0.000000</td>\n",
       "    </tr>\n",
       "    <tr>\n",
       "      <th>tourney_level</th>\n",
       "      <td>object</td>\n",
       "      <td>0</td>\n",
       "      <td>0.000000</td>\n",
       "    </tr>\n",
       "    <tr>\n",
       "      <th>surface</th>\n",
       "      <td>object</td>\n",
       "      <td>0</td>\n",
       "      <td>0.000000</td>\n",
       "    </tr>\n",
       "    <tr>\n",
       "      <th>score</th>\n",
       "      <td>object</td>\n",
       "      <td>33</td>\n",
       "      <td>0.006619</td>\n",
       "    </tr>\n",
       "    <tr>\n",
       "      <th>round</th>\n",
       "      <td>object</td>\n",
       "      <td>0</td>\n",
       "      <td>0.000000</td>\n",
       "    </tr>\n",
       "    <tr>\n",
       "      <th>match_num</th>\n",
       "      <td>int64</td>\n",
       "      <td>0</td>\n",
       "      <td>0.000000</td>\n",
       "    </tr>\n",
       "    <tr>\n",
       "      <th>minutes</th>\n",
       "      <td>float64</td>\n",
       "      <td>498555</td>\n",
       "      <td>100.000000</td>\n",
       "    </tr>\n",
       "    <tr>\n",
       "      <th>winner_id</th>\n",
       "      <td>int64</td>\n",
       "      <td>0</td>\n",
       "      <td>0.000000</td>\n",
       "    </tr>\n",
       "    <tr>\n",
       "      <th>winner_rank</th>\n",
       "      <td>float64</td>\n",
       "      <td>39346</td>\n",
       "      <td>7.892008</td>\n",
       "    </tr>\n",
       "    <tr>\n",
       "      <th>winner_ioc</th>\n",
       "      <td>object</td>\n",
       "      <td>0</td>\n",
       "      <td>0.000000</td>\n",
       "    </tr>\n",
       "    <tr>\n",
       "      <th>winner_name</th>\n",
       "      <td>object</td>\n",
       "      <td>0</td>\n",
       "      <td>0.000000</td>\n",
       "    </tr>\n",
       "    <tr>\n",
       "      <th>winner_hand</th>\n",
       "      <td>object</td>\n",
       "      <td>0</td>\n",
       "      <td>0.000000</td>\n",
       "    </tr>\n",
       "    <tr>\n",
       "      <th>loser_id</th>\n",
       "      <td>int64</td>\n",
       "      <td>0</td>\n",
       "      <td>0.000000</td>\n",
       "    </tr>\n",
       "    <tr>\n",
       "      <th>loser_rank</th>\n",
       "      <td>float64</td>\n",
       "      <td>93395</td>\n",
       "      <td>18.733139</td>\n",
       "    </tr>\n",
       "    <tr>\n",
       "      <th>loser_ioc</th>\n",
       "      <td>object</td>\n",
       "      <td>8</td>\n",
       "      <td>0.001605</td>\n",
       "    </tr>\n",
       "    <tr>\n",
       "      <th>loser_name</th>\n",
       "      <td>object</td>\n",
       "      <td>0</td>\n",
       "      <td>0.000000</td>\n",
       "    </tr>\n",
       "    <tr>\n",
       "      <th>loser_hand</th>\n",
       "      <td>object</td>\n",
       "      <td>2</td>\n",
       "      <td>0.000401</td>\n",
       "    </tr>\n",
       "    <tr>\n",
       "      <th>w_bpSaved</th>\n",
       "      <td>float64</td>\n",
       "      <td>498555</td>\n",
       "      <td>100.000000</td>\n",
       "    </tr>\n",
       "    <tr>\n",
       "      <th>w_bpFaced</th>\n",
       "      <td>float64</td>\n",
       "      <td>498555</td>\n",
       "      <td>100.000000</td>\n",
       "    </tr>\n",
       "    <tr>\n",
       "      <th>l_bpSaved</th>\n",
       "      <td>float64</td>\n",
       "      <td>498555</td>\n",
       "      <td>100.000000</td>\n",
       "    </tr>\n",
       "    <tr>\n",
       "      <th>l_bpFaced</th>\n",
       "      <td>float64</td>\n",
       "      <td>498555</td>\n",
       "      <td>100.000000</td>\n",
       "    </tr>\n",
       "  </tbody>\n",
       "</table>\n",
       "</div>"
      ],
      "text/plain": [
       "                  Type  Nombre de valeurs manquantes  \\\n",
       "annee            int32                             0   \n",
       "tourney_date    object                             0   \n",
       "tourney_id      object                             0   \n",
       "tourney_name    object                             0   \n",
       "tourney_level   object                             0   \n",
       "surface         object                             0   \n",
       "score           object                            33   \n",
       "round           object                             0   \n",
       "match_num        int64                             0   \n",
       "minutes        float64                        498555   \n",
       "winner_id        int64                             0   \n",
       "winner_rank    float64                         39346   \n",
       "winner_ioc      object                             0   \n",
       "winner_name     object                             0   \n",
       "winner_hand     object                             0   \n",
       "loser_id         int64                             0   \n",
       "loser_rank     float64                         93395   \n",
       "loser_ioc       object                             8   \n",
       "loser_name      object                             0   \n",
       "loser_hand      object                             2   \n",
       "w_bpSaved      float64                        498555   \n",
       "w_bpFaced      float64                        498555   \n",
       "l_bpSaved      float64                        498555   \n",
       "l_bpFaced      float64                        498555   \n",
       "\n",
       "               Pourcentage de valeurs manquantes  \n",
       "annee                                   0.000000  \n",
       "tourney_date                            0.000000  \n",
       "tourney_id                              0.000000  \n",
       "tourney_name                            0.000000  \n",
       "tourney_level                           0.000000  \n",
       "surface                                 0.000000  \n",
       "score                                   0.006619  \n",
       "round                                   0.000000  \n",
       "match_num                               0.000000  \n",
       "minutes                               100.000000  \n",
       "winner_id                               0.000000  \n",
       "winner_rank                             7.892008  \n",
       "winner_ioc                              0.000000  \n",
       "winner_name                             0.000000  \n",
       "winner_hand                             0.000000  \n",
       "loser_id                                0.000000  \n",
       "loser_rank                             18.733139  \n",
       "loser_ioc                               0.001605  \n",
       "loser_name                              0.000000  \n",
       "loser_hand                              0.000401  \n",
       "w_bpSaved                             100.000000  \n",
       "w_bpFaced                             100.000000  \n",
       "l_bpSaved                             100.000000  \n",
       "l_bpFaced                             100.000000  "
      ]
     },
     "metadata": {},
     "output_type": "display_data"
    }
   ],
   "source": [
    "\n",
    "atp_matches_futures_1992_2024 = ajout_annee(\n",
    "    atp_matches_futures_1992_2024,\n",
    "    'tourney_date'\n",
    "    )\n",
    "afficher(atp_matches_futures_1992_2024)"
   ]
  },
  {
   "cell_type": "markdown",
   "id": "81410172",
   "metadata": {},
   "source": [
    "Sauvegarde"
   ]
  },
  {
   "cell_type": "code",
   "execution_count": null,
   "id": "6e5bdc31",
   "metadata": {},
   "outputs": [],
   "source": [
    "atp_matches_futures_1992_2024.to_csv(\n",
    "    \"../Donnees/atp_matches_futures_1992_2024.csv\",\n",
    "    index=False)"
   ]
  },
  {
   "cell_type": "markdown",
   "id": "93778fad",
   "metadata": {},
   "source": [
    "### matchs qualificatifs"
   ]
  },
  {
   "cell_type": "code",
   "execution_count": 234,
   "id": "ed651b1f",
   "metadata": {},
   "outputs": [],
   "source": [
    "data_dict, formats_colonnes = recup_match(\"atp_matches_qual_chall\",\"atp\",\"_19\",\"_20\")"
   ]
  },
  {
   "cell_type": "code",
   "execution_count": 235,
   "id": "1158fcfb",
   "metadata": {},
   "outputs": [
    {
     "name": "stdout",
     "output_type": "stream",
     "text": [
      "\n",
      "Comparaison des formats de colonnes entre les DataFrames:\n",
      "------------------------------------------------------\n",
      "Le fichier 'atp_matches_qual_chall_1979.csv' a le même format de colonnes que les précédents.\n",
      "Le fichier 'atp_matches_qual_chall_1980.csv' a le même format de colonnes que les précédents.\n",
      "Le fichier 'atp_matches_qual_chall_1981.csv' a le même format de colonnes que les précédents.\n",
      "Le fichier 'atp_matches_qual_chall_1982.csv' a le même format de colonnes que les précédents.\n",
      "Le fichier 'atp_matches_qual_chall_1983.csv' a le même format de colonnes que les précédents.\n",
      "Le fichier 'atp_matches_qual_chall_1984.csv' a le même format de colonnes que les précédents.\n",
      "Le fichier 'atp_matches_qual_chall_1985.csv' a le même format de colonnes que les précédents.\n",
      "Le fichier 'atp_matches_qual_chall_1986.csv' a le même format de colonnes que les précédents.\n",
      "Le fichier 'atp_matches_qual_chall_1987.csv' a le même format de colonnes que les précédents.\n",
      "Le fichier 'atp_matches_qual_chall_1988.csv' a le même format de colonnes que les précédents.\n",
      "Le fichier 'atp_matches_qual_chall_1989.csv' a le même format de colonnes que les précédents.\n",
      "Le fichier 'atp_matches_qual_chall_1990.csv' a le même format de colonnes que les précédents.\n",
      "Le fichier 'atp_matches_qual_chall_1991.csv' a le même format de colonnes que les précédents.\n",
      "Le fichier 'atp_matches_qual_chall_1992.csv' a le même format de colonnes que les précédents.\n",
      "Le fichier 'atp_matches_qual_chall_1993.csv' a le même format de colonnes que les précédents.\n",
      "Le fichier 'atp_matches_qual_chall_1994.csv' a le même format de colonnes que les précédents.\n",
      "Le fichier 'atp_matches_qual_chall_1995.csv' a le même format de colonnes que les précédents.\n",
      "Le fichier 'atp_matches_qual_chall_1996.csv' a le même format de colonnes que les précédents.\n",
      "Le fichier 'atp_matches_qual_chall_1997.csv' a le même format de colonnes que les précédents.\n",
      "Le fichier 'atp_matches_qual_chall_1998.csv' a le même format de colonnes que les précédents.\n",
      "Le fichier 'atp_matches_qual_chall_1999.csv' a le même format de colonnes que les précédents.\n",
      "Le fichier 'atp_matches_qual_chall_2000.csv' a le même format de colonnes que les précédents.\n",
      "Le fichier 'atp_matches_qual_chall_2001.csv' a le même format de colonnes que les précédents.\n",
      "Le fichier 'atp_matches_qual_chall_2002.csv' a le même format de colonnes que les précédents.\n",
      "Le fichier 'atp_matches_qual_chall_2003.csv' a le même format de colonnes que les précédents.\n",
      "Le fichier 'atp_matches_qual_chall_2004.csv' a le même format de colonnes que les précédents.\n",
      "Le fichier 'atp_matches_qual_chall_2005.csv' a le même format de colonnes que les précédents.\n",
      "Le fichier 'atp_matches_qual_chall_2006.csv' a le même format de colonnes que les précédents.\n",
      "Le fichier 'atp_matches_qual_chall_2007.csv' a le même format de colonnes que les précédents.\n",
      "Le fichier 'atp_matches_qual_chall_2008.csv' a le même format de colonnes que les précédents.\n",
      "Le fichier 'atp_matches_qual_chall_2009.csv' a le même format de colonnes que les précédents.\n",
      "Le fichier 'atp_matches_qual_chall_2010.csv' a le même format de colonnes que les précédents.\n",
      "Le fichier 'atp_matches_qual_chall_2011.csv' a le même format de colonnes que les précédents.\n",
      "Le fichier 'atp_matches_qual_chall_2012.csv' a le même format de colonnes que les précédents.\n",
      "Le fichier 'atp_matches_qual_chall_2013.csv' a le même format de colonnes que les précédents.\n",
      "Le fichier 'atp_matches_qual_chall_2014.csv' a le même format de colonnes que les précédents.\n",
      "Le fichier 'atp_matches_qual_chall_2015.csv' a le même format de colonnes que les précédents.\n",
      "Le fichier 'atp_matches_qual_chall_2016.csv' a le même format de colonnes que les précédents.\n",
      "Le fichier 'atp_matches_qual_chall_2017.csv' a le même format de colonnes que les précédents.\n",
      "Le fichier 'atp_matches_qual_chall_2018.csv' a le même format de colonnes que les précédents.\n",
      "Le fichier 'atp_matches_qual_chall_2019.csv' a le même format de colonnes que les précédents.\n",
      "Le fichier 'atp_matches_qual_chall_2020.csv' a le même format de colonnes que les précédents.\n",
      "Le fichier 'atp_matches_qual_chall_2021.csv' a le même format de colonnes que les précédents.\n",
      "Le fichier 'atp_matches_qual_chall_2022.csv' a le même format de colonnes que les précédents.\n",
      "Le fichier 'atp_matches_qual_chall_2023.csv' a le même format de colonnes que les précédents.\n",
      "Le fichier 'atp_matches_qual_chall_2024.csv' a le même format de colonnes que les précédents.\n"
     ]
    }
   ],
   "source": [
    "comp_format(formats_colonnes)"
   ]
  },
  {
   "cell_type": "markdown",
   "id": "daf8d4b9",
   "metadata": {},
   "source": [
    "Concaténation"
   ]
  },
  {
   "cell_type": "code",
   "execution_count": 236,
   "id": "71b3f22b",
   "metadata": {},
   "outputs": [],
   "source": [
    "atp_matches_qual_1978_2024 = concatenation(data_dict)"
   ]
  },
  {
   "cell_type": "code",
   "execution_count": 237,
   "id": "6820fde3",
   "metadata": {},
   "outputs": [],
   "source": [
    "atp_matches_qual_1978_2024 = atp_matches_qual_1978_2024[var_interet]"
   ]
  },
  {
   "cell_type": "code",
   "execution_count": 238,
   "id": "72c911ba",
   "metadata": {},
   "outputs": [
    {
     "data": {
      "application/vnd.microsoft.datawrangler.viewer.v0+json": {
       "columns": [
        {
         "name": "index",
         "rawType": "object",
         "type": "string"
        },
        {
         "name": "Type",
         "rawType": "object",
         "type": "unknown"
        },
        {
         "name": "Nombre de valeurs manquantes",
         "rawType": "int64",
         "type": "integer"
        },
        {
         "name": "Pourcentage de valeurs manquantes",
         "rawType": "float64",
         "type": "float"
        }
       ],
       "conversionMethod": "pd.DataFrame",
       "ref": "ca292ac4-40c1-4307-8b39-a41d46f4c199",
       "rows": [
        [
         "annee",
         "int32",
         "0",
         "0.0"
        ],
        [
         "tourney_date",
         "object",
         "0",
         "0.0"
        ],
        [
         "tourney_id",
         "object",
         "0",
         "0.0"
        ],
        [
         "tourney_name",
         "object",
         "0",
         "0.0"
        ],
        [
         "tourney_level",
         "object",
         "0",
         "0.0"
        ],
        [
         "surface",
         "object",
         "0",
         "0.0"
        ],
        [
         "score",
         "object",
         "77",
         "0.0345141351071507"
        ],
        [
         "round",
         "object",
         "0",
         "0.0"
        ],
        [
         "match_num",
         "int64",
         "0",
         "0.0"
        ],
        [
         "minutes",
         "float64",
         "111056",
         "49.7792440059705"
        ],
        [
         "winner_id",
         "int64",
         "0",
         "0.0"
        ],
        [
         "winner_rank",
         "float64",
         "8494",
         "3.8073125142875073"
        ],
        [
         "winner_ioc",
         "object",
         "0",
         "0.0"
        ],
        [
         "winner_name",
         "object",
         "0",
         "0.0"
        ],
        [
         "winner_hand",
         "object",
         "0",
         "0.0"
        ],
        [
         "loser_id",
         "int64",
         "0",
         "0.0"
        ],
        [
         "loser_rank",
         "float64",
         "14816",
         "6.6410574772408415"
        ],
        [
         "loser_ioc",
         "object",
         "1",
         "0.00044823552087208706"
        ],
        [
         "loser_name",
         "object",
         "0",
         "0.0"
        ],
        [
         "loser_hand",
         "object",
         "9",
         "0.004034119687848783"
        ],
        [
         "w_bpSaved",
         "float64",
         "106978",
         "47.951339551854126"
        ],
        [
         "w_bpFaced",
         "float64",
         "106978",
         "47.951339551854126"
        ],
        [
         "l_bpSaved",
         "float64",
         "106978",
         "47.951339551854126"
        ],
        [
         "l_bpFaced",
         "float64",
         "106978",
         "47.951339551854126"
        ]
       ],
       "shape": {
        "columns": 3,
        "rows": 24
       }
      },
      "text/html": [
       "<div>\n",
       "<style scoped>\n",
       "    .dataframe tbody tr th:only-of-type {\n",
       "        vertical-align: middle;\n",
       "    }\n",
       "\n",
       "    .dataframe tbody tr th {\n",
       "        vertical-align: top;\n",
       "    }\n",
       "\n",
       "    .dataframe thead th {\n",
       "        text-align: right;\n",
       "    }\n",
       "</style>\n",
       "<table border=\"1\" class=\"dataframe\">\n",
       "  <thead>\n",
       "    <tr style=\"text-align: right;\">\n",
       "      <th></th>\n",
       "      <th>Type</th>\n",
       "      <th>Nombre de valeurs manquantes</th>\n",
       "      <th>Pourcentage de valeurs manquantes</th>\n",
       "    </tr>\n",
       "  </thead>\n",
       "  <tbody>\n",
       "    <tr>\n",
       "      <th>annee</th>\n",
       "      <td>int32</td>\n",
       "      <td>0</td>\n",
       "      <td>0.000000</td>\n",
       "    </tr>\n",
       "    <tr>\n",
       "      <th>tourney_date</th>\n",
       "      <td>object</td>\n",
       "      <td>0</td>\n",
       "      <td>0.000000</td>\n",
       "    </tr>\n",
       "    <tr>\n",
       "      <th>tourney_id</th>\n",
       "      <td>object</td>\n",
       "      <td>0</td>\n",
       "      <td>0.000000</td>\n",
       "    </tr>\n",
       "    <tr>\n",
       "      <th>tourney_name</th>\n",
       "      <td>object</td>\n",
       "      <td>0</td>\n",
       "      <td>0.000000</td>\n",
       "    </tr>\n",
       "    <tr>\n",
       "      <th>tourney_level</th>\n",
       "      <td>object</td>\n",
       "      <td>0</td>\n",
       "      <td>0.000000</td>\n",
       "    </tr>\n",
       "    <tr>\n",
       "      <th>surface</th>\n",
       "      <td>object</td>\n",
       "      <td>0</td>\n",
       "      <td>0.000000</td>\n",
       "    </tr>\n",
       "    <tr>\n",
       "      <th>score</th>\n",
       "      <td>object</td>\n",
       "      <td>77</td>\n",
       "      <td>0.034514</td>\n",
       "    </tr>\n",
       "    <tr>\n",
       "      <th>round</th>\n",
       "      <td>object</td>\n",
       "      <td>0</td>\n",
       "      <td>0.000000</td>\n",
       "    </tr>\n",
       "    <tr>\n",
       "      <th>match_num</th>\n",
       "      <td>int64</td>\n",
       "      <td>0</td>\n",
       "      <td>0.000000</td>\n",
       "    </tr>\n",
       "    <tr>\n",
       "      <th>minutes</th>\n",
       "      <td>float64</td>\n",
       "      <td>111056</td>\n",
       "      <td>49.779244</td>\n",
       "    </tr>\n",
       "    <tr>\n",
       "      <th>winner_id</th>\n",
       "      <td>int64</td>\n",
       "      <td>0</td>\n",
       "      <td>0.000000</td>\n",
       "    </tr>\n",
       "    <tr>\n",
       "      <th>winner_rank</th>\n",
       "      <td>float64</td>\n",
       "      <td>8494</td>\n",
       "      <td>3.807313</td>\n",
       "    </tr>\n",
       "    <tr>\n",
       "      <th>winner_ioc</th>\n",
       "      <td>object</td>\n",
       "      <td>0</td>\n",
       "      <td>0.000000</td>\n",
       "    </tr>\n",
       "    <tr>\n",
       "      <th>winner_name</th>\n",
       "      <td>object</td>\n",
       "      <td>0</td>\n",
       "      <td>0.000000</td>\n",
       "    </tr>\n",
       "    <tr>\n",
       "      <th>winner_hand</th>\n",
       "      <td>object</td>\n",
       "      <td>0</td>\n",
       "      <td>0.000000</td>\n",
       "    </tr>\n",
       "    <tr>\n",
       "      <th>loser_id</th>\n",
       "      <td>int64</td>\n",
       "      <td>0</td>\n",
       "      <td>0.000000</td>\n",
       "    </tr>\n",
       "    <tr>\n",
       "      <th>loser_rank</th>\n",
       "      <td>float64</td>\n",
       "      <td>14816</td>\n",
       "      <td>6.641057</td>\n",
       "    </tr>\n",
       "    <tr>\n",
       "      <th>loser_ioc</th>\n",
       "      <td>object</td>\n",
       "      <td>1</td>\n",
       "      <td>0.000448</td>\n",
       "    </tr>\n",
       "    <tr>\n",
       "      <th>loser_name</th>\n",
       "      <td>object</td>\n",
       "      <td>0</td>\n",
       "      <td>0.000000</td>\n",
       "    </tr>\n",
       "    <tr>\n",
       "      <th>loser_hand</th>\n",
       "      <td>object</td>\n",
       "      <td>9</td>\n",
       "      <td>0.004034</td>\n",
       "    </tr>\n",
       "    <tr>\n",
       "      <th>w_bpSaved</th>\n",
       "      <td>float64</td>\n",
       "      <td>106978</td>\n",
       "      <td>47.951340</td>\n",
       "    </tr>\n",
       "    <tr>\n",
       "      <th>w_bpFaced</th>\n",
       "      <td>float64</td>\n",
       "      <td>106978</td>\n",
       "      <td>47.951340</td>\n",
       "    </tr>\n",
       "    <tr>\n",
       "      <th>l_bpSaved</th>\n",
       "      <td>float64</td>\n",
       "      <td>106978</td>\n",
       "      <td>47.951340</td>\n",
       "    </tr>\n",
       "    <tr>\n",
       "      <th>l_bpFaced</th>\n",
       "      <td>float64</td>\n",
       "      <td>106978</td>\n",
       "      <td>47.951340</td>\n",
       "    </tr>\n",
       "  </tbody>\n",
       "</table>\n",
       "</div>"
      ],
      "text/plain": [
       "                  Type  Nombre de valeurs manquantes  \\\n",
       "annee            int32                             0   \n",
       "tourney_date    object                             0   \n",
       "tourney_id      object                             0   \n",
       "tourney_name    object                             0   \n",
       "tourney_level   object                             0   \n",
       "surface         object                             0   \n",
       "score           object                            77   \n",
       "round           object                             0   \n",
       "match_num        int64                             0   \n",
       "minutes        float64                        111056   \n",
       "winner_id        int64                             0   \n",
       "winner_rank    float64                          8494   \n",
       "winner_ioc      object                             0   \n",
       "winner_name     object                             0   \n",
       "winner_hand     object                             0   \n",
       "loser_id         int64                             0   \n",
       "loser_rank     float64                         14816   \n",
       "loser_ioc       object                             1   \n",
       "loser_name      object                             0   \n",
       "loser_hand      object                             9   \n",
       "w_bpSaved      float64                        106978   \n",
       "w_bpFaced      float64                        106978   \n",
       "l_bpSaved      float64                        106978   \n",
       "l_bpFaced      float64                        106978   \n",
       "\n",
       "               Pourcentage de valeurs manquantes  \n",
       "annee                                   0.000000  \n",
       "tourney_date                            0.000000  \n",
       "tourney_id                              0.000000  \n",
       "tourney_name                            0.000000  \n",
       "tourney_level                           0.000000  \n",
       "surface                                 0.000000  \n",
       "score                                   0.034514  \n",
       "round                                   0.000000  \n",
       "match_num                               0.000000  \n",
       "minutes                                49.779244  \n",
       "winner_id                               0.000000  \n",
       "winner_rank                             3.807313  \n",
       "winner_ioc                              0.000000  \n",
       "winner_name                             0.000000  \n",
       "winner_hand                             0.000000  \n",
       "loser_id                                0.000000  \n",
       "loser_rank                              6.641057  \n",
       "loser_ioc                               0.000448  \n",
       "loser_name                              0.000000  \n",
       "loser_hand                              0.004034  \n",
       "w_bpSaved                              47.951340  \n",
       "w_bpFaced                              47.951340  \n",
       "l_bpSaved                              47.951340  \n",
       "l_bpFaced                              47.951340  "
      ]
     },
     "metadata": {},
     "output_type": "display_data"
    }
   ],
   "source": [
    "atp_matches_qual_1978_2024 = ajout_annee(atp_matches_qual_1978_2024,'tourney_date')\n",
    "afficher(atp_matches_qual_1978_2024)"
   ]
  },
  {
   "cell_type": "markdown",
   "id": "96a4b82c",
   "metadata": {},
   "source": [
    "Sauvegarde"
   ]
  },
  {
   "cell_type": "code",
   "execution_count": null,
   "id": "09a768b2",
   "metadata": {},
   "outputs": [],
   "source": [
    "atp_matches_qual_1978_2024.to_csv(\n",
    "    \"../Donnees/atp_matches_qual_1978_2024.csv\",\n",
    "    index=False)"
   ]
  },
  {
   "cell_type": "markdown",
   "id": "3a731bb2",
   "metadata": {},
   "source": [
    "### Rankings rangs"
   ]
  },
  {
   "cell_type": "code",
   "execution_count": 240,
   "id": "053e873e",
   "metadata": {},
   "outputs": [],
   "source": [
    "data_dict, formats_colonnes = recup_match(\"atp_rank\",\"atp\",\"\",\"\")"
   ]
  },
  {
   "cell_type": "code",
   "execution_count": 241,
   "id": "76209841",
   "metadata": {},
   "outputs": [
    {
     "name": "stdout",
     "output_type": "stream",
     "text": [
      "\n",
      "Comparaison des formats de colonnes entre les DataFrames:\n",
      "------------------------------------------------------\n",
      "Le fichier 'atp_rankings_10s.csv' a le même format de colonnes que les précédents.\n",
      "Erreur : Le fichier 'atp_rankings_20s.csv' a des formats de colonnes différents.\n",
      "  - La colonne 'points' a le format 'int64' dans 'atp_rankings_20s.csv' au lieu de 'float64'.\n",
      "Le fichier 'atp_rankings_70s.csv' a le même format de colonnes que les précédents.\n",
      "Le fichier 'atp_rankings_80s.csv' a le même format de colonnes que les précédents.\n",
      "Le fichier 'atp_rankings_90s.csv' a le même format de colonnes que les précédents.\n",
      "Erreur : Le fichier 'atp_rankings_current.csv' a des formats de colonnes différents.\n",
      "  - La colonne 'points' a le format 'int64' dans 'atp_rankings_current.csv' au lieu de 'float64'.\n"
     ]
    }
   ],
   "source": [
    "comp_format(formats_colonnes)"
   ]
  },
  {
   "cell_type": "code",
   "execution_count": 242,
   "id": "d38ba3cc",
   "metadata": {},
   "outputs": [
    {
     "data": {
      "application/vnd.microsoft.datawrangler.viewer.v0+json": {
       "columns": [
        {
         "name": "index",
         "rawType": "int64",
         "type": "integer"
        },
        {
         "name": "ranking_date",
         "rawType": "int64",
         "type": "integer"
        },
        {
         "name": "rank",
         "rawType": "int64",
         "type": "integer"
        },
        {
         "name": "player",
         "rawType": "int64",
         "type": "integer"
        },
        {
         "name": "points",
         "rawType": "float64",
         "type": "float"
        }
       ],
       "conversionMethod": "pd.DataFrame",
       "ref": "fe57bb41-81c7-4c7a-a193-adf194240d82",
       "rows": [
        [
         "0",
         "20100104",
         "1",
         "103819",
         "10550.0"
        ],
        [
         "1",
         "20100104",
         "2",
         "104745",
         "9205.0"
        ],
        [
         "2",
         "20100104",
         "3",
         "104925",
         "8310.0"
        ],
        [
         "3",
         "20100104",
         "4",
         "104918",
         "7030.0"
        ],
        [
         "4",
         "20100104",
         "5",
         "105223",
         "6785.0"
        ]
       ],
       "shape": {
        "columns": 4,
        "rows": 5
       }
      },
      "text/html": [
       "<div>\n",
       "<style scoped>\n",
       "    .dataframe tbody tr th:only-of-type {\n",
       "        vertical-align: middle;\n",
       "    }\n",
       "\n",
       "    .dataframe tbody tr th {\n",
       "        vertical-align: top;\n",
       "    }\n",
       "\n",
       "    .dataframe thead th {\n",
       "        text-align: right;\n",
       "    }\n",
       "</style>\n",
       "<table border=\"1\" class=\"dataframe\">\n",
       "  <thead>\n",
       "    <tr style=\"text-align: right;\">\n",
       "      <th></th>\n",
       "      <th>ranking_date</th>\n",
       "      <th>rank</th>\n",
       "      <th>player</th>\n",
       "      <th>points</th>\n",
       "    </tr>\n",
       "  </thead>\n",
       "  <tbody>\n",
       "    <tr>\n",
       "      <th>0</th>\n",
       "      <td>20100104</td>\n",
       "      <td>1</td>\n",
       "      <td>103819</td>\n",
       "      <td>10550.0</td>\n",
       "    </tr>\n",
       "    <tr>\n",
       "      <th>1</th>\n",
       "      <td>20100104</td>\n",
       "      <td>2</td>\n",
       "      <td>104745</td>\n",
       "      <td>9205.0</td>\n",
       "    </tr>\n",
       "    <tr>\n",
       "      <th>2</th>\n",
       "      <td>20100104</td>\n",
       "      <td>3</td>\n",
       "      <td>104925</td>\n",
       "      <td>8310.0</td>\n",
       "    </tr>\n",
       "    <tr>\n",
       "      <th>3</th>\n",
       "      <td>20100104</td>\n",
       "      <td>4</td>\n",
       "      <td>104918</td>\n",
       "      <td>7030.0</td>\n",
       "    </tr>\n",
       "    <tr>\n",
       "      <th>4</th>\n",
       "      <td>20100104</td>\n",
       "      <td>5</td>\n",
       "      <td>105223</td>\n",
       "      <td>6785.0</td>\n",
       "    </tr>\n",
       "  </tbody>\n",
       "</table>\n",
       "</div>"
      ],
      "text/plain": [
       "   ranking_date  rank  player   points\n",
       "0      20100104     1  103819  10550.0\n",
       "1      20100104     2  104745   9205.0\n",
       "2      20100104     3  104925   8310.0\n",
       "3      20100104     4  104918   7030.0\n",
       "4      20100104     5  105223   6785.0"
      ]
     },
     "execution_count": 242,
     "metadata": {},
     "output_type": "execute_result"
    }
   ],
   "source": [
    "data_dict['atp_rankings_10s.csv'].head()"
   ]
  },
  {
   "cell_type": "code",
   "execution_count": 243,
   "id": "6ac3a8d6",
   "metadata": {},
   "outputs": [
    {
     "data": {
      "application/vnd.microsoft.datawrangler.viewer.v0+json": {
       "columns": [
        {
         "name": "index",
         "rawType": "int64",
         "type": "integer"
        },
        {
         "name": "ranking_date",
         "rawType": "int64",
         "type": "integer"
        },
        {
         "name": "rank",
         "rawType": "int64",
         "type": "integer"
        },
        {
         "name": "player",
         "rawType": "int64",
         "type": "integer"
        },
        {
         "name": "points",
         "rawType": "int64",
         "type": "integer"
        }
       ],
       "conversionMethod": "pd.DataFrame",
       "ref": "fd7fb28d-b7c6-4def-8318-922a356f11b0",
       "rows": [
        [
         "0",
         "20200106",
         "1",
         "104745",
         "9985"
        ],
        [
         "1",
         "20200106",
         "2",
         "104925",
         "9055"
        ],
        [
         "2",
         "20200106",
         "3",
         "103819",
         "6590"
        ],
        [
         "3",
         "20200106",
         "4",
         "106233",
         "5825"
        ],
        [
         "4",
         "20200106",
         "5",
         "106421",
         "5705"
        ]
       ],
       "shape": {
        "columns": 4,
        "rows": 5
       }
      },
      "text/html": [
       "<div>\n",
       "<style scoped>\n",
       "    .dataframe tbody tr th:only-of-type {\n",
       "        vertical-align: middle;\n",
       "    }\n",
       "\n",
       "    .dataframe tbody tr th {\n",
       "        vertical-align: top;\n",
       "    }\n",
       "\n",
       "    .dataframe thead th {\n",
       "        text-align: right;\n",
       "    }\n",
       "</style>\n",
       "<table border=\"1\" class=\"dataframe\">\n",
       "  <thead>\n",
       "    <tr style=\"text-align: right;\">\n",
       "      <th></th>\n",
       "      <th>ranking_date</th>\n",
       "      <th>rank</th>\n",
       "      <th>player</th>\n",
       "      <th>points</th>\n",
       "    </tr>\n",
       "  </thead>\n",
       "  <tbody>\n",
       "    <tr>\n",
       "      <th>0</th>\n",
       "      <td>20200106</td>\n",
       "      <td>1</td>\n",
       "      <td>104745</td>\n",
       "      <td>9985</td>\n",
       "    </tr>\n",
       "    <tr>\n",
       "      <th>1</th>\n",
       "      <td>20200106</td>\n",
       "      <td>2</td>\n",
       "      <td>104925</td>\n",
       "      <td>9055</td>\n",
       "    </tr>\n",
       "    <tr>\n",
       "      <th>2</th>\n",
       "      <td>20200106</td>\n",
       "      <td>3</td>\n",
       "      <td>103819</td>\n",
       "      <td>6590</td>\n",
       "    </tr>\n",
       "    <tr>\n",
       "      <th>3</th>\n",
       "      <td>20200106</td>\n",
       "      <td>4</td>\n",
       "      <td>106233</td>\n",
       "      <td>5825</td>\n",
       "    </tr>\n",
       "    <tr>\n",
       "      <th>4</th>\n",
       "      <td>20200106</td>\n",
       "      <td>5</td>\n",
       "      <td>106421</td>\n",
       "      <td>5705</td>\n",
       "    </tr>\n",
       "  </tbody>\n",
       "</table>\n",
       "</div>"
      ],
      "text/plain": [
       "   ranking_date  rank  player  points\n",
       "0      20200106     1  104745    9985\n",
       "1      20200106     2  104925    9055\n",
       "2      20200106     3  103819    6590\n",
       "3      20200106     4  106233    5825\n",
       "4      20200106     5  106421    5705"
      ]
     },
     "execution_count": 243,
     "metadata": {},
     "output_type": "execute_result"
    }
   ],
   "source": [
    "data_dict['atp_rankings_20s.csv'].head()"
   ]
  },
  {
   "cell_type": "code",
   "execution_count": null,
   "id": "949a81ab",
   "metadata": {},
   "outputs": [],
   "source": [
    "data_dict, formats_colonnes = modif_format(\n",
    "    'atp_rankings_20s.csv',\n",
    "    'points',\n",
    "    'float64',\n",
    "    data_dict,\n",
    "    formats_colonnes\n",
    "    )\n",
    "\n",
    "data_dict, formats_colonnes = modif_format(\n",
    "    'atp_rankings_current.csv',\n",
    "    'points',\n",
    "    'float64',\n",
    "    data_dict,\n",
    "    formats_colonnes\n",
    "    )"
   ]
  },
  {
   "cell_type": "code",
   "execution_count": 245,
   "id": "716a110c",
   "metadata": {},
   "outputs": [
    {
     "name": "stdout",
     "output_type": "stream",
     "text": [
      "\n",
      "Comparaison des formats de colonnes entre les DataFrames:\n",
      "------------------------------------------------------\n",
      "Le fichier 'atp_rankings_10s.csv' a le même format de colonnes que les précédents.\n",
      "Le fichier 'atp_rankings_20s.csv' a le même format de colonnes que les précédents.\n",
      "Le fichier 'atp_rankings_70s.csv' a le même format de colonnes que les précédents.\n",
      "Le fichier 'atp_rankings_80s.csv' a le même format de colonnes que les précédents.\n",
      "Le fichier 'atp_rankings_90s.csv' a le même format de colonnes que les précédents.\n",
      "Le fichier 'atp_rankings_current.csv' a le même format de colonnes que les précédents.\n"
     ]
    }
   ],
   "source": [
    "comp_format(formats_colonnes)"
   ]
  },
  {
   "cell_type": "markdown",
   "id": "da953147",
   "metadata": {},
   "source": [
    "Concatenation"
   ]
  },
  {
   "cell_type": "code",
   "execution_count": 246,
   "id": "59745e92",
   "metadata": {},
   "outputs": [],
   "source": [
    "atp_rankings = concatenation(data_dict)"
   ]
  },
  {
   "cell_type": "markdown",
   "id": "a3fa76a1",
   "metadata": {},
   "source": [
    "Selection des variables d'intérêts"
   ]
  },
  {
   "cell_type": "code",
   "execution_count": 247,
   "id": "6f9058a8",
   "metadata": {},
   "outputs": [],
   "source": [
    "atp_rankings = atp_rankings[[\"ranking_date\", \"rank\", \"player\"]]"
   ]
  },
  {
   "cell_type": "code",
   "execution_count": 248,
   "id": "0dd4c62e",
   "metadata": {},
   "outputs": [
    {
     "data": {
      "application/vnd.microsoft.datawrangler.viewer.v0+json": {
       "columns": [
        {
         "name": "index",
         "rawType": "object",
         "type": "string"
        },
        {
         "name": "Type",
         "rawType": "object",
         "type": "unknown"
        },
        {
         "name": "Nombre de valeurs manquantes",
         "rawType": "int64",
         "type": "integer"
        },
        {
         "name": "Pourcentage de valeurs manquantes",
         "rawType": "float64",
         "type": "float"
        }
       ],
       "conversionMethod": "pd.DataFrame",
       "ref": "34b1a110-f238-4031-b9a9-210f4cc4176a",
       "rows": [
        [
         "annee",
         "int32",
         "0",
         "0.0"
        ],
        [
         "ranking_date",
         "object",
         "0",
         "0.0"
        ],
        [
         "rank",
         "int64",
         "0",
         "0.0"
        ],
        [
         "player",
         "int64",
         "0",
         "0.0"
        ]
       ],
       "shape": {
        "columns": 3,
        "rows": 4
       }
      },
      "text/html": [
       "<div>\n",
       "<style scoped>\n",
       "    .dataframe tbody tr th:only-of-type {\n",
       "        vertical-align: middle;\n",
       "    }\n",
       "\n",
       "    .dataframe tbody tr th {\n",
       "        vertical-align: top;\n",
       "    }\n",
       "\n",
       "    .dataframe thead th {\n",
       "        text-align: right;\n",
       "    }\n",
       "</style>\n",
       "<table border=\"1\" class=\"dataframe\">\n",
       "  <thead>\n",
       "    <tr style=\"text-align: right;\">\n",
       "      <th></th>\n",
       "      <th>Type</th>\n",
       "      <th>Nombre de valeurs manquantes</th>\n",
       "      <th>Pourcentage de valeurs manquantes</th>\n",
       "    </tr>\n",
       "  </thead>\n",
       "  <tbody>\n",
       "    <tr>\n",
       "      <th>annee</th>\n",
       "      <td>int32</td>\n",
       "      <td>0</td>\n",
       "      <td>0.0</td>\n",
       "    </tr>\n",
       "    <tr>\n",
       "      <th>ranking_date</th>\n",
       "      <td>object</td>\n",
       "      <td>0</td>\n",
       "      <td>0.0</td>\n",
       "    </tr>\n",
       "    <tr>\n",
       "      <th>rank</th>\n",
       "      <td>int64</td>\n",
       "      <td>0</td>\n",
       "      <td>0.0</td>\n",
       "    </tr>\n",
       "    <tr>\n",
       "      <th>player</th>\n",
       "      <td>int64</td>\n",
       "      <td>0</td>\n",
       "      <td>0.0</td>\n",
       "    </tr>\n",
       "  </tbody>\n",
       "</table>\n",
       "</div>"
      ],
      "text/plain": [
       "                Type  Nombre de valeurs manquantes  \\\n",
       "annee          int32                             0   \n",
       "ranking_date  object                             0   \n",
       "rank           int64                             0   \n",
       "player         int64                             0   \n",
       "\n",
       "              Pourcentage de valeurs manquantes  \n",
       "annee                                       0.0  \n",
       "ranking_date                                0.0  \n",
       "rank                                        0.0  \n",
       "player                                      0.0  "
      ]
     },
     "metadata": {},
     "output_type": "display_data"
    }
   ],
   "source": [
    "atp_rankings = ajout_annee(atp_rankings,'ranking_date')\n",
    "afficher(atp_rankings)"
   ]
  },
  {
   "cell_type": "markdown",
   "id": "21438edc",
   "metadata": {},
   "source": [
    "Sauvegarde"
   ]
  },
  {
   "cell_type": "code",
   "execution_count": 249,
   "id": "94c723a9",
   "metadata": {},
   "outputs": [],
   "source": [
    "atp_rankings.to_csv(\"../Donnees/atp_rankings.csv\", index=False)"
   ]
  },
  {
   "cell_type": "markdown",
   "id": "bba4fd61",
   "metadata": {},
   "source": [
    "## WTA"
   ]
  },
  {
   "cell_type": "markdown",
   "id": "2ae3eca5",
   "metadata": {},
   "source": [
    "### matches simple"
   ]
  },
  {
   "cell_type": "code",
   "execution_count": 250,
   "id": "71aa49f2",
   "metadata": {},
   "outputs": [],
   "source": [
    "data_dict, formats_colonnes = recup_match(\"wta_matches\",\"wta\",\"_19\",\"_20\")"
   ]
  },
  {
   "cell_type": "code",
   "execution_count": 251,
   "id": "fc9c23cf",
   "metadata": {},
   "outputs": [
    {
     "name": "stdout",
     "output_type": "stream",
     "text": [
      "\n",
      "Comparaison des formats de colonnes entre les DataFrames:\n",
      "------------------------------------------------------\n",
      "Erreur : Le fichier 'wta_matches_1969.csv' a des formats de colonnes différents.\n",
      "  - La colonne 'winner_entry' a le format 'object' dans 'wta_matches_1969.csv' au lieu de 'float64'.\n",
      "Erreur : Le fichier 'wta_matches_1970.csv' a des formats de colonnes différents.\n",
      "  - La colonne 'draw_size' a le format 'object' dans 'wta_matches_1970.csv' au lieu de 'float64'.\n",
      "  - La colonne 'winner_entry' a le format 'object' dans 'wta_matches_1970.csv' au lieu de 'float64'.\n",
      "Erreur : Le fichier 'wta_matches_1971.csv' a des formats de colonnes différents.\n",
      "  - La colonne 'winner_entry' a le format 'object' dans 'wta_matches_1971.csv' au lieu de 'float64'.\n",
      "Erreur : Le fichier 'wta_matches_1972.csv' a des formats de colonnes différents.\n",
      "  - La colonne 'winner_seed' a le format 'float64' dans 'wta_matches_1972.csv' au lieu de 'object'.\n",
      "  - La colonne 'winner_entry' a le format 'object' dans 'wta_matches_1972.csv' au lieu de 'float64'.\n",
      "  - La colonne 'loser_seed' a le format 'float64' dans 'wta_matches_1972.csv' au lieu de 'object'.\n",
      "Erreur : Le fichier 'wta_matches_1973.csv' a des formats de colonnes différents.\n",
      "  - La colonne 'winner_seed' a le format 'float64' dans 'wta_matches_1973.csv' au lieu de 'object'.\n",
      "  - La colonne 'winner_entry' a le format 'object' dans 'wta_matches_1973.csv' au lieu de 'float64'.\n",
      "  - La colonne 'loser_seed' a le format 'float64' dans 'wta_matches_1973.csv' au lieu de 'object'.\n",
      "Erreur : Le fichier 'wta_matches_1974.csv' a des formats de colonnes différents.\n",
      "  - La colonne 'winner_seed' a le format 'float64' dans 'wta_matches_1974.csv' au lieu de 'object'.\n",
      "  - La colonne 'winner_entry' a le format 'object' dans 'wta_matches_1974.csv' au lieu de 'float64'.\n",
      "  - La colonne 'loser_seed' a le format 'float64' dans 'wta_matches_1974.csv' au lieu de 'object'.\n",
      "Erreur : Le fichier 'wta_matches_1975.csv' a des formats de colonnes différents.\n",
      "  - La colonne 'winner_seed' a le format 'float64' dans 'wta_matches_1975.csv' au lieu de 'object'.\n",
      "  - La colonne 'winner_entry' a le format 'object' dans 'wta_matches_1975.csv' au lieu de 'float64'.\n",
      "  - La colonne 'loser_seed' a le format 'float64' dans 'wta_matches_1975.csv' au lieu de 'object'.\n",
      "Erreur : Le fichier 'wta_matches_1976.csv' a des formats de colonnes différents.\n",
      "  - La colonne 'winner_seed' a le format 'float64' dans 'wta_matches_1976.csv' au lieu de 'object'.\n",
      "  - La colonne 'winner_entry' a le format 'object' dans 'wta_matches_1976.csv' au lieu de 'float64'.\n",
      "  - La colonne 'loser_seed' a le format 'float64' dans 'wta_matches_1976.csv' au lieu de 'object'.\n",
      "Erreur : Le fichier 'wta_matches_1977.csv' a des formats de colonnes différents.\n",
      "  - La colonne 'winner_seed' a le format 'float64' dans 'wta_matches_1977.csv' au lieu de 'object'.\n",
      "  - La colonne 'winner_entry' a le format 'object' dans 'wta_matches_1977.csv' au lieu de 'float64'.\n",
      "  - La colonne 'loser_seed' a le format 'float64' dans 'wta_matches_1977.csv' au lieu de 'object'.\n",
      "Erreur : Le fichier 'wta_matches_1978.csv' a des formats de colonnes différents.\n",
      "  - La colonne 'winner_seed' a le format 'float64' dans 'wta_matches_1978.csv' au lieu de 'object'.\n",
      "  - La colonne 'winner_entry' a le format 'object' dans 'wta_matches_1978.csv' au lieu de 'float64'.\n",
      "  - La colonne 'loser_seed' a le format 'float64' dans 'wta_matches_1978.csv' au lieu de 'object'.\n",
      "Erreur : Le fichier 'wta_matches_1979.csv' a des formats de colonnes différents.\n",
      "  - La colonne 'winner_seed' a le format 'float64' dans 'wta_matches_1979.csv' au lieu de 'object'.\n",
      "  - La colonne 'winner_entry' a le format 'object' dans 'wta_matches_1979.csv' au lieu de 'float64'.\n",
      "  - La colonne 'loser_seed' a le format 'float64' dans 'wta_matches_1979.csv' au lieu de 'object'.\n",
      "Erreur : Le fichier 'wta_matches_1980.csv' a des formats de colonnes différents.\n",
      "  - La colonne 'winner_seed' a le format 'float64' dans 'wta_matches_1980.csv' au lieu de 'object'.\n",
      "  - La colonne 'winner_entry' a le format 'object' dans 'wta_matches_1980.csv' au lieu de 'float64'.\n",
      "  - La colonne 'loser_seed' a le format 'float64' dans 'wta_matches_1980.csv' au lieu de 'object'.\n",
      "Erreur : Le fichier 'wta_matches_1981.csv' a des formats de colonnes différents.\n",
      "  - La colonne 'winner_seed' a le format 'float64' dans 'wta_matches_1981.csv' au lieu de 'object'.\n",
      "  - La colonne 'winner_entry' a le format 'object' dans 'wta_matches_1981.csv' au lieu de 'float64'.\n",
      "  - La colonne 'loser_seed' a le format 'float64' dans 'wta_matches_1981.csv' au lieu de 'object'.\n",
      "Erreur : Le fichier 'wta_matches_1982.csv' a des formats de colonnes différents.\n",
      "  - La colonne 'winner_seed' a le format 'float64' dans 'wta_matches_1982.csv' au lieu de 'object'.\n",
      "  - La colonne 'winner_entry' a le format 'object' dans 'wta_matches_1982.csv' au lieu de 'float64'.\n",
      "  - La colonne 'loser_seed' a le format 'float64' dans 'wta_matches_1982.csv' au lieu de 'object'.\n",
      "Erreur : Le fichier 'wta_matches_1983.csv' a des formats de colonnes différents.\n",
      "  - La colonne 'winner_seed' a le format 'float64' dans 'wta_matches_1983.csv' au lieu de 'object'.\n",
      "  - La colonne 'winner_entry' a le format 'object' dans 'wta_matches_1983.csv' au lieu de 'float64'.\n",
      "  - La colonne 'loser_seed' a le format 'float64' dans 'wta_matches_1983.csv' au lieu de 'object'.\n",
      "Erreur : Le fichier 'wta_matches_1984.csv' a des formats de colonnes différents.\n",
      "  - La colonne 'winner_seed' a le format 'float64' dans 'wta_matches_1984.csv' au lieu de 'object'.\n",
      "  - La colonne 'winner_entry' a le format 'object' dans 'wta_matches_1984.csv' au lieu de 'float64'.\n",
      "  - La colonne 'loser_seed' a le format 'float64' dans 'wta_matches_1984.csv' au lieu de 'object'.\n",
      "Erreur : Le fichier 'wta_matches_1985.csv' a des formats de colonnes différents.\n",
      "  - La colonne 'winner_seed' a le format 'float64' dans 'wta_matches_1985.csv' au lieu de 'object'.\n",
      "  - La colonne 'winner_entry' a le format 'object' dans 'wta_matches_1985.csv' au lieu de 'float64'.\n",
      "  - La colonne 'loser_seed' a le format 'float64' dans 'wta_matches_1985.csv' au lieu de 'object'.\n",
      "Erreur : Le fichier 'wta_matches_1986.csv' a des formats de colonnes différents.\n",
      "  - La colonne 'winner_seed' a le format 'float64' dans 'wta_matches_1986.csv' au lieu de 'object'.\n",
      "  - La colonne 'winner_entry' a le format 'object' dans 'wta_matches_1986.csv' au lieu de 'float64'.\n",
      "  - La colonne 'loser_seed' a le format 'float64' dans 'wta_matches_1986.csv' au lieu de 'object'.\n",
      "Erreur : Le fichier 'wta_matches_1987.csv' a des formats de colonnes différents.\n",
      "  - La colonne 'winner_seed' a le format 'float64' dans 'wta_matches_1987.csv' au lieu de 'object'.\n",
      "  - La colonne 'winner_entry' a le format 'object' dans 'wta_matches_1987.csv' au lieu de 'float64'.\n",
      "  - La colonne 'loser_seed' a le format 'float64' dans 'wta_matches_1987.csv' au lieu de 'object'.\n",
      "Erreur : Le fichier 'wta_matches_1988.csv' a des formats de colonnes différents.\n",
      "  - La colonne 'winner_seed' a le format 'float64' dans 'wta_matches_1988.csv' au lieu de 'object'.\n",
      "  - La colonne 'winner_entry' a le format 'object' dans 'wta_matches_1988.csv' au lieu de 'float64'.\n",
      "  - La colonne 'loser_seed' a le format 'float64' dans 'wta_matches_1988.csv' au lieu de 'object'.\n",
      "Erreur : Le fichier 'wta_matches_1989.csv' a des formats de colonnes différents.\n",
      "  - La colonne 'winner_seed' a le format 'float64' dans 'wta_matches_1989.csv' au lieu de 'object'.\n",
      "  - La colonne 'winner_entry' a le format 'object' dans 'wta_matches_1989.csv' au lieu de 'float64'.\n",
      "  - La colonne 'loser_seed' a le format 'float64' dans 'wta_matches_1989.csv' au lieu de 'object'.\n",
      "Erreur : Le fichier 'wta_matches_1990.csv' a des formats de colonnes différents.\n",
      "  - La colonne 'draw_size' a le format 'int64' dans 'wta_matches_1990.csv' au lieu de 'float64'.\n",
      "  - La colonne 'winner_seed' a le format 'float64' dans 'wta_matches_1990.csv' au lieu de 'object'.\n",
      "  - La colonne 'winner_entry' a le format 'object' dans 'wta_matches_1990.csv' au lieu de 'float64'.\n",
      "  - La colonne 'loser_seed' a le format 'float64' dans 'wta_matches_1990.csv' au lieu de 'object'.\n",
      "Erreur : Le fichier 'wta_matches_1991.csv' a des formats de colonnes différents.\n",
      "  - La colonne 'draw_size' a le format 'int64' dans 'wta_matches_1991.csv' au lieu de 'float64'.\n",
      "  - La colonne 'winner_seed' a le format 'float64' dans 'wta_matches_1991.csv' au lieu de 'object'.\n",
      "  - La colonne 'winner_entry' a le format 'object' dans 'wta_matches_1991.csv' au lieu de 'float64'.\n",
      "  - La colonne 'loser_seed' a le format 'float64' dans 'wta_matches_1991.csv' au lieu de 'object'.\n",
      "Erreur : Le fichier 'wta_matches_1992.csv' a des formats de colonnes différents.\n",
      "  - La colonne 'draw_size' a le format 'int64' dans 'wta_matches_1992.csv' au lieu de 'float64'.\n",
      "  - La colonne 'winner_seed' a le format 'float64' dans 'wta_matches_1992.csv' au lieu de 'object'.\n",
      "  - La colonne 'winner_entry' a le format 'object' dans 'wta_matches_1992.csv' au lieu de 'float64'.\n",
      "  - La colonne 'loser_seed' a le format 'float64' dans 'wta_matches_1992.csv' au lieu de 'object'.\n",
      "Erreur : Le fichier 'wta_matches_1993.csv' a des formats de colonnes différents.\n",
      "  - La colonne 'draw_size' a le format 'int64' dans 'wta_matches_1993.csv' au lieu de 'float64'.\n",
      "  - La colonne 'winner_seed' a le format 'float64' dans 'wta_matches_1993.csv' au lieu de 'object'.\n",
      "  - La colonne 'winner_entry' a le format 'object' dans 'wta_matches_1993.csv' au lieu de 'float64'.\n",
      "  - La colonne 'loser_seed' a le format 'float64' dans 'wta_matches_1993.csv' au lieu de 'object'.\n",
      "Erreur : Le fichier 'wta_matches_1994.csv' a des formats de colonnes différents.\n",
      "  - La colonne 'draw_size' a le format 'int64' dans 'wta_matches_1994.csv' au lieu de 'float64'.\n",
      "  - La colonne 'winner_seed' a le format 'float64' dans 'wta_matches_1994.csv' au lieu de 'object'.\n",
      "  - La colonne 'winner_entry' a le format 'object' dans 'wta_matches_1994.csv' au lieu de 'float64'.\n",
      "  - La colonne 'loser_seed' a le format 'float64' dans 'wta_matches_1994.csv' au lieu de 'object'.\n",
      "Erreur : Le fichier 'wta_matches_1995.csv' a des formats de colonnes différents.\n",
      "  - La colonne 'draw_size' a le format 'int64' dans 'wta_matches_1995.csv' au lieu de 'float64'.\n",
      "  - La colonne 'winner_seed' a le format 'float64' dans 'wta_matches_1995.csv' au lieu de 'object'.\n",
      "  - La colonne 'winner_entry' a le format 'object' dans 'wta_matches_1995.csv' au lieu de 'float64'.\n",
      "  - La colonne 'loser_seed' a le format 'float64' dans 'wta_matches_1995.csv' au lieu de 'object'.\n",
      "Erreur : Le fichier 'wta_matches_1996.csv' a des formats de colonnes différents.\n",
      "  - La colonne 'draw_size' a le format 'int64' dans 'wta_matches_1996.csv' au lieu de 'float64'.\n",
      "  - La colonne 'winner_seed' a le format 'float64' dans 'wta_matches_1996.csv' au lieu de 'object'.\n",
      "  - La colonne 'winner_entry' a le format 'object' dans 'wta_matches_1996.csv' au lieu de 'float64'.\n",
      "  - La colonne 'loser_seed' a le format 'float64' dans 'wta_matches_1996.csv' au lieu de 'object'.\n",
      "Erreur : Le fichier 'wta_matches_1997.csv' a des formats de colonnes différents.\n",
      "  - La colonne 'draw_size' a le format 'int64' dans 'wta_matches_1997.csv' au lieu de 'float64'.\n",
      "  - La colonne 'winner_seed' a le format 'float64' dans 'wta_matches_1997.csv' au lieu de 'object'.\n",
      "  - La colonne 'winner_entry' a le format 'object' dans 'wta_matches_1997.csv' au lieu de 'float64'.\n",
      "  - La colonne 'loser_seed' a le format 'float64' dans 'wta_matches_1997.csv' au lieu de 'object'.\n",
      "Erreur : Le fichier 'wta_matches_1998.csv' a des formats de colonnes différents.\n",
      "  - La colonne 'draw_size' a le format 'int64' dans 'wta_matches_1998.csv' au lieu de 'float64'.\n",
      "  - La colonne 'winner_seed' a le format 'float64' dans 'wta_matches_1998.csv' au lieu de 'object'.\n",
      "  - La colonne 'winner_entry' a le format 'object' dans 'wta_matches_1998.csv' au lieu de 'float64'.\n",
      "Erreur : Le fichier 'wta_matches_1999.csv' a des formats de colonnes différents.\n",
      "  - La colonne 'draw_size' a le format 'int64' dans 'wta_matches_1999.csv' au lieu de 'float64'.\n",
      "  - La colonne 'winner_seed' a le format 'float64' dans 'wta_matches_1999.csv' au lieu de 'object'.\n",
      "  - La colonne 'winner_entry' a le format 'object' dans 'wta_matches_1999.csv' au lieu de 'float64'.\n",
      "Erreur : Le fichier 'wta_matches_2000.csv' a des formats de colonnes différents.\n",
      "  - La colonne 'draw_size' a le format 'int64' dans 'wta_matches_2000.csv' au lieu de 'float64'.\n",
      "  - La colonne 'winner_seed' a le format 'float64' dans 'wta_matches_2000.csv' au lieu de 'object'.\n",
      "  - La colonne 'winner_entry' a le format 'object' dans 'wta_matches_2000.csv' au lieu de 'float64'.\n",
      "  - La colonne 'loser_seed' a le format 'float64' dans 'wta_matches_2000.csv' au lieu de 'object'.\n",
      "Erreur : Le fichier 'wta_matches_2001.csv' a des formats de colonnes différents.\n",
      "  - La colonne 'draw_size' a le format 'int64' dans 'wta_matches_2001.csv' au lieu de 'float64'.\n",
      "  - La colonne 'winner_seed' a le format 'float64' dans 'wta_matches_2001.csv' au lieu de 'object'.\n",
      "  - La colonne 'winner_entry' a le format 'object' dans 'wta_matches_2001.csv' au lieu de 'float64'.\n",
      "  - La colonne 'loser_seed' a le format 'float64' dans 'wta_matches_2001.csv' au lieu de 'object'.\n",
      "Erreur : Le fichier 'wta_matches_2002.csv' a des formats de colonnes différents.\n",
      "  - La colonne 'draw_size' a le format 'int64' dans 'wta_matches_2002.csv' au lieu de 'float64'.\n",
      "  - La colonne 'winner_seed' a le format 'float64' dans 'wta_matches_2002.csv' au lieu de 'object'.\n",
      "  - La colonne 'winner_entry' a le format 'object' dans 'wta_matches_2002.csv' au lieu de 'float64'.\n",
      "  - La colonne 'loser_seed' a le format 'float64' dans 'wta_matches_2002.csv' au lieu de 'object'.\n",
      "Erreur : Le fichier 'wta_matches_2003.csv' a des formats de colonnes différents.\n",
      "  - La colonne 'draw_size' a le format 'int64' dans 'wta_matches_2003.csv' au lieu de 'float64'.\n",
      "  - La colonne 'winner_seed' a le format 'float64' dans 'wta_matches_2003.csv' au lieu de 'object'.\n",
      "  - La colonne 'winner_entry' a le format 'object' dans 'wta_matches_2003.csv' au lieu de 'float64'.\n",
      "  - La colonne 'loser_seed' a le format 'float64' dans 'wta_matches_2003.csv' au lieu de 'object'.\n",
      "Erreur : Le fichier 'wta_matches_2004.csv' a des formats de colonnes différents.\n",
      "  - La colonne 'draw_size' a le format 'int64' dans 'wta_matches_2004.csv' au lieu de 'float64'.\n",
      "  - La colonne 'winner_seed' a le format 'float64' dans 'wta_matches_2004.csv' au lieu de 'object'.\n",
      "  - La colonne 'winner_entry' a le format 'object' dans 'wta_matches_2004.csv' au lieu de 'float64'.\n",
      "  - La colonne 'loser_seed' a le format 'float64' dans 'wta_matches_2004.csv' au lieu de 'object'.\n",
      "Erreur : Le fichier 'wta_matches_2005.csv' a des formats de colonnes différents.\n",
      "  - La colonne 'draw_size' a le format 'int64' dans 'wta_matches_2005.csv' au lieu de 'float64'.\n",
      "  - La colonne 'winner_seed' a le format 'float64' dans 'wta_matches_2005.csv' au lieu de 'object'.\n",
      "  - La colonne 'winner_entry' a le format 'object' dans 'wta_matches_2005.csv' au lieu de 'float64'.\n",
      "  - La colonne 'loser_seed' a le format 'float64' dans 'wta_matches_2005.csv' au lieu de 'object'.\n",
      "Erreur : Le fichier 'wta_matches_2006.csv' a des formats de colonnes différents.\n",
      "  - La colonne 'draw_size' a le format 'int64' dans 'wta_matches_2006.csv' au lieu de 'float64'.\n",
      "  - La colonne 'winner_seed' a le format 'float64' dans 'wta_matches_2006.csv' au lieu de 'object'.\n",
      "  - La colonne 'winner_entry' a le format 'object' dans 'wta_matches_2006.csv' au lieu de 'float64'.\n",
      "  - La colonne 'loser_seed' a le format 'float64' dans 'wta_matches_2006.csv' au lieu de 'object'.\n",
      "Erreur : Le fichier 'wta_matches_2007.csv' a des formats de colonnes différents.\n",
      "  - La colonne 'draw_size' a le format 'int64' dans 'wta_matches_2007.csv' au lieu de 'float64'.\n",
      "  - La colonne 'winner_seed' a le format 'float64' dans 'wta_matches_2007.csv' au lieu de 'object'.\n",
      "  - La colonne 'winner_entry' a le format 'object' dans 'wta_matches_2007.csv' au lieu de 'float64'.\n",
      "  - La colonne 'loser_seed' a le format 'float64' dans 'wta_matches_2007.csv' au lieu de 'object'.\n",
      "Erreur : Le fichier 'wta_matches_2008.csv' a des formats de colonnes différents.\n",
      "  - La colonne 'draw_size' a le format 'int64' dans 'wta_matches_2008.csv' au lieu de 'float64'.\n",
      "  - La colonne 'winner_seed' a le format 'float64' dans 'wta_matches_2008.csv' au lieu de 'object'.\n",
      "  - La colonne 'winner_entry' a le format 'object' dans 'wta_matches_2008.csv' au lieu de 'float64'.\n",
      "  - La colonne 'loser_seed' a le format 'float64' dans 'wta_matches_2008.csv' au lieu de 'object'.\n",
      "Erreur : Le fichier 'wta_matches_2009.csv' a des formats de colonnes différents.\n",
      "  - La colonne 'draw_size' a le format 'int64' dans 'wta_matches_2009.csv' au lieu de 'float64'.\n",
      "  - La colonne 'winner_seed' a le format 'float64' dans 'wta_matches_2009.csv' au lieu de 'object'.\n",
      "  - La colonne 'winner_entry' a le format 'object' dans 'wta_matches_2009.csv' au lieu de 'float64'.\n",
      "  - La colonne 'loser_seed' a le format 'float64' dans 'wta_matches_2009.csv' au lieu de 'object'.\n",
      "Erreur : Le fichier 'wta_matches_2010.csv' a des formats de colonnes différents.\n",
      "  - La colonne 'draw_size' a le format 'int64' dans 'wta_matches_2010.csv' au lieu de 'float64'.\n",
      "  - La colonne 'winner_seed' a le format 'float64' dans 'wta_matches_2010.csv' au lieu de 'object'.\n",
      "  - La colonne 'winner_entry' a le format 'object' dans 'wta_matches_2010.csv' au lieu de 'float64'.\n",
      "  - La colonne 'loser_seed' a le format 'float64' dans 'wta_matches_2010.csv' au lieu de 'object'.\n",
      "Erreur : Le fichier 'wta_matches_2011.csv' a des formats de colonnes différents.\n",
      "  - La colonne 'draw_size' a le format 'int64' dans 'wta_matches_2011.csv' au lieu de 'float64'.\n",
      "  - La colonne 'winner_seed' a le format 'float64' dans 'wta_matches_2011.csv' au lieu de 'object'.\n",
      "  - La colonne 'winner_entry' a le format 'object' dans 'wta_matches_2011.csv' au lieu de 'float64'.\n",
      "  - La colonne 'loser_seed' a le format 'float64' dans 'wta_matches_2011.csv' au lieu de 'object'.\n",
      "Erreur : Le fichier 'wta_matches_2012.csv' a des formats de colonnes différents.\n",
      "  - La colonne 'draw_size' a le format 'int64' dans 'wta_matches_2012.csv' au lieu de 'float64'.\n",
      "  - La colonne 'winner_seed' a le format 'float64' dans 'wta_matches_2012.csv' au lieu de 'object'.\n",
      "  - La colonne 'winner_entry' a le format 'object' dans 'wta_matches_2012.csv' au lieu de 'float64'.\n",
      "  - La colonne 'loser_seed' a le format 'float64' dans 'wta_matches_2012.csv' au lieu de 'object'.\n",
      "Erreur : Le fichier 'wta_matches_2013.csv' a des formats de colonnes différents.\n",
      "  - La colonne 'draw_size' a le format 'int64' dans 'wta_matches_2013.csv' au lieu de 'float64'.\n",
      "  - La colonne 'winner_seed' a le format 'float64' dans 'wta_matches_2013.csv' au lieu de 'object'.\n",
      "  - La colonne 'winner_entry' a le format 'object' dans 'wta_matches_2013.csv' au lieu de 'float64'.\n",
      "  - La colonne 'loser_seed' a le format 'float64' dans 'wta_matches_2013.csv' au lieu de 'object'.\n",
      "Erreur : Le fichier 'wta_matches_2014.csv' a des formats de colonnes différents.\n",
      "  - La colonne 'draw_size' a le format 'int64' dans 'wta_matches_2014.csv' au lieu de 'float64'.\n",
      "  - La colonne 'winner_seed' a le format 'float64' dans 'wta_matches_2014.csv' au lieu de 'object'.\n",
      "  - La colonne 'winner_entry' a le format 'object' dans 'wta_matches_2014.csv' au lieu de 'float64'.\n",
      "  - La colonne 'loser_seed' a le format 'float64' dans 'wta_matches_2014.csv' au lieu de 'object'.\n",
      "Erreur : Le fichier 'wta_matches_2015.csv' a des formats de colonnes différents.\n",
      "  - La colonne 'draw_size' a le format 'int64' dans 'wta_matches_2015.csv' au lieu de 'float64'.\n",
      "  - La colonne 'winner_seed' a le format 'float64' dans 'wta_matches_2015.csv' au lieu de 'object'.\n",
      "  - La colonne 'winner_entry' a le format 'object' dans 'wta_matches_2015.csv' au lieu de 'float64'.\n",
      "  - La colonne 'loser_seed' a le format 'float64' dans 'wta_matches_2015.csv' au lieu de 'object'.\n",
      "Erreur : Le fichier 'wta_matches_2016.csv' a des formats de colonnes différents.\n",
      "  - La colonne 'draw_size' a le format 'int64' dans 'wta_matches_2016.csv' au lieu de 'float64'.\n",
      "  - La colonne 'winner_entry' a le format 'object' dans 'wta_matches_2016.csv' au lieu de 'float64'.\n",
      "  - La colonne 'loser_seed' a le format 'float64' dans 'wta_matches_2016.csv' au lieu de 'object'.\n",
      "Erreur : Le fichier 'wta_matches_2017.csv' a des formats de colonnes différents.\n",
      "  - La colonne 'draw_size' a le format 'int64' dans 'wta_matches_2017.csv' au lieu de 'float64'.\n",
      "  - La colonne 'winner_seed' a le format 'float64' dans 'wta_matches_2017.csv' au lieu de 'object'.\n",
      "  - La colonne 'winner_entry' a le format 'object' dans 'wta_matches_2017.csv' au lieu de 'float64'.\n",
      "  - La colonne 'loser_seed' a le format 'float64' dans 'wta_matches_2017.csv' au lieu de 'object'.\n",
      "Erreur : Le fichier 'wta_matches_2018.csv' a des formats de colonnes différents.\n",
      "  - La colonne 'draw_size' a le format 'int64' dans 'wta_matches_2018.csv' au lieu de 'float64'.\n",
      "  - La colonne 'winner_seed' a le format 'float64' dans 'wta_matches_2018.csv' au lieu de 'object'.\n",
      "  - La colonne 'winner_entry' a le format 'object' dans 'wta_matches_2018.csv' au lieu de 'float64'.\n",
      "  - La colonne 'loser_seed' a le format 'float64' dans 'wta_matches_2018.csv' au lieu de 'object'.\n",
      "Erreur : Le fichier 'wta_matches_2019.csv' a des formats de colonnes différents.\n",
      "  - La colonne 'draw_size' a le format 'int64' dans 'wta_matches_2019.csv' au lieu de 'float64'.\n",
      "  - La colonne 'winner_seed' a le format 'float64' dans 'wta_matches_2019.csv' au lieu de 'object'.\n",
      "  - La colonne 'winner_entry' a le format 'object' dans 'wta_matches_2019.csv' au lieu de 'float64'.\n",
      "  - La colonne 'loser_seed' a le format 'float64' dans 'wta_matches_2019.csv' au lieu de 'object'.\n",
      "Erreur : Le fichier 'wta_matches_2020.csv' a des formats de colonnes différents.\n",
      "  - La colonne 'draw_size' a le format 'int64' dans 'wta_matches_2020.csv' au lieu de 'float64'.\n",
      "  - La colonne 'winner_entry' a le format 'object' dans 'wta_matches_2020.csv' au lieu de 'float64'.\n",
      "Erreur : Le fichier 'wta_matches_2021.csv' a des formats de colonnes différents.\n",
      "  - La colonne 'draw_size' a le format 'int64' dans 'wta_matches_2021.csv' au lieu de 'float64'.\n",
      "  - La colonne 'winner_seed' a le format 'float64' dans 'wta_matches_2021.csv' au lieu de 'object'.\n",
      "  - La colonne 'winner_entry' a le format 'object' dans 'wta_matches_2021.csv' au lieu de 'float64'.\n",
      "  - La colonne 'loser_seed' a le format 'float64' dans 'wta_matches_2021.csv' au lieu de 'object'.\n",
      "Erreur : Le fichier 'wta_matches_2022.csv' a des formats de colonnes différents.\n",
      "  - La colonne 'draw_size' a le format 'int64' dans 'wta_matches_2022.csv' au lieu de 'float64'.\n",
      "  - La colonne 'winner_entry' a le format 'object' dans 'wta_matches_2022.csv' au lieu de 'float64'.\n",
      "Erreur : Le fichier 'wta_matches_2023.csv' a des formats de colonnes différents.\n",
      "  - La colonne 'draw_size' a le format 'int64' dans 'wta_matches_2023.csv' au lieu de 'float64'.\n",
      "  - La colonne 'winner_seed' a le format 'float64' dans 'wta_matches_2023.csv' au lieu de 'object'.\n",
      "  - La colonne 'winner_entry' a le format 'object' dans 'wta_matches_2023.csv' au lieu de 'float64'.\n",
      "  - La colonne 'loser_seed' a le format 'float64' dans 'wta_matches_2023.csv' au lieu de 'object'.\n",
      "Erreur : Le fichier 'wta_matches_2024.csv' a des formats de colonnes différents.\n",
      "  - La colonne 'draw_size' a le format 'int64' dans 'wta_matches_2024.csv' au lieu de 'float64'.\n",
      "  - La colonne 'winner_seed' a le format 'float64' dans 'wta_matches_2024.csv' au lieu de 'object'.\n",
      "  - La colonne 'winner_entry' a le format 'object' dans 'wta_matches_2024.csv' au lieu de 'float64'.\n",
      "  - La colonne 'loser_seed' a le format 'float64' dans 'wta_matches_2024.csv' au lieu de 'object'.\n"
     ]
    }
   ],
   "source": [
    "comp_format(formats_colonnes)"
   ]
  },
  {
   "cell_type": "code",
   "execution_count": 252,
   "id": "d822db21",
   "metadata": {},
   "outputs": [
    {
     "data": {
      "text/plain": [
       "array([nan])"
      ]
     },
     "execution_count": 252,
     "metadata": {},
     "output_type": "execute_result"
    }
   ],
   "source": [
    "data_dict['wta_matches_1968.csv'][\"winner_entry\"].unique()"
   ]
  },
  {
   "cell_type": "code",
   "execution_count": 253,
   "id": "2ea153b1",
   "metadata": {},
   "outputs": [
    {
     "data": {
      "text/plain": [
       "array([nan, 'LL', 'Q'], dtype=object)"
      ]
     },
     "execution_count": 253,
     "metadata": {},
     "output_type": "execute_result"
    }
   ],
   "source": [
    "data_dict['wta_matches_1969.csv'][\"winner_entry\"].unique()"
   ]
  },
  {
   "cell_type": "code",
   "execution_count": null,
   "id": "d15d1079",
   "metadata": {},
   "outputs": [],
   "source": [
    "data_dict, formats_colonnes = modif_format(\n",
    "    'wta_matches_1968.csv',\n",
    "    \"winner_entry\",\n",
    "    'str',\n",
    "    data_dict,\n",
    "    formats_colonnes\n",
    "    )"
   ]
  },
  {
   "cell_type": "code",
   "execution_count": 255,
   "id": "e4a4cc2d",
   "metadata": {},
   "outputs": [
    {
     "name": "stdout",
     "output_type": "stream",
     "text": [
      "\n",
      "Comparaison des formats de colonnes entre les DataFrames:\n",
      "------------------------------------------------------\n",
      "Le fichier 'wta_matches_1969.csv' a le même format de colonnes que les précédents.\n",
      "Erreur : Le fichier 'wta_matches_1970.csv' a des formats de colonnes différents.\n",
      "  - La colonne 'draw_size' a le format 'object' dans 'wta_matches_1970.csv' au lieu de 'float64'.\n",
      "Le fichier 'wta_matches_1971.csv' a le même format de colonnes que les précédents.\n",
      "Erreur : Le fichier 'wta_matches_1972.csv' a des formats de colonnes différents.\n",
      "  - La colonne 'winner_seed' a le format 'float64' dans 'wta_matches_1972.csv' au lieu de 'object'.\n",
      "  - La colonne 'loser_seed' a le format 'float64' dans 'wta_matches_1972.csv' au lieu de 'object'.\n",
      "Erreur : Le fichier 'wta_matches_1973.csv' a des formats de colonnes différents.\n",
      "  - La colonne 'winner_seed' a le format 'float64' dans 'wta_matches_1973.csv' au lieu de 'object'.\n",
      "  - La colonne 'loser_seed' a le format 'float64' dans 'wta_matches_1973.csv' au lieu de 'object'.\n",
      "Erreur : Le fichier 'wta_matches_1974.csv' a des formats de colonnes différents.\n",
      "  - La colonne 'winner_seed' a le format 'float64' dans 'wta_matches_1974.csv' au lieu de 'object'.\n",
      "  - La colonne 'loser_seed' a le format 'float64' dans 'wta_matches_1974.csv' au lieu de 'object'.\n",
      "Erreur : Le fichier 'wta_matches_1975.csv' a des formats de colonnes différents.\n",
      "  - La colonne 'winner_seed' a le format 'float64' dans 'wta_matches_1975.csv' au lieu de 'object'.\n",
      "  - La colonne 'loser_seed' a le format 'float64' dans 'wta_matches_1975.csv' au lieu de 'object'.\n",
      "Erreur : Le fichier 'wta_matches_1976.csv' a des formats de colonnes différents.\n",
      "  - La colonne 'winner_seed' a le format 'float64' dans 'wta_matches_1976.csv' au lieu de 'object'.\n",
      "  - La colonne 'loser_seed' a le format 'float64' dans 'wta_matches_1976.csv' au lieu de 'object'.\n",
      "Erreur : Le fichier 'wta_matches_1977.csv' a des formats de colonnes différents.\n",
      "  - La colonne 'winner_seed' a le format 'float64' dans 'wta_matches_1977.csv' au lieu de 'object'.\n",
      "  - La colonne 'loser_seed' a le format 'float64' dans 'wta_matches_1977.csv' au lieu de 'object'.\n",
      "Erreur : Le fichier 'wta_matches_1978.csv' a des formats de colonnes différents.\n",
      "  - La colonne 'winner_seed' a le format 'float64' dans 'wta_matches_1978.csv' au lieu de 'object'.\n",
      "  - La colonne 'loser_seed' a le format 'float64' dans 'wta_matches_1978.csv' au lieu de 'object'.\n",
      "Erreur : Le fichier 'wta_matches_1979.csv' a des formats de colonnes différents.\n",
      "  - La colonne 'winner_seed' a le format 'float64' dans 'wta_matches_1979.csv' au lieu de 'object'.\n",
      "  - La colonne 'loser_seed' a le format 'float64' dans 'wta_matches_1979.csv' au lieu de 'object'.\n",
      "Erreur : Le fichier 'wta_matches_1980.csv' a des formats de colonnes différents.\n",
      "  - La colonne 'winner_seed' a le format 'float64' dans 'wta_matches_1980.csv' au lieu de 'object'.\n",
      "  - La colonne 'loser_seed' a le format 'float64' dans 'wta_matches_1980.csv' au lieu de 'object'.\n",
      "Erreur : Le fichier 'wta_matches_1981.csv' a des formats de colonnes différents.\n",
      "  - La colonne 'winner_seed' a le format 'float64' dans 'wta_matches_1981.csv' au lieu de 'object'.\n",
      "  - La colonne 'loser_seed' a le format 'float64' dans 'wta_matches_1981.csv' au lieu de 'object'.\n",
      "Erreur : Le fichier 'wta_matches_1982.csv' a des formats de colonnes différents.\n",
      "  - La colonne 'winner_seed' a le format 'float64' dans 'wta_matches_1982.csv' au lieu de 'object'.\n",
      "  - La colonne 'loser_seed' a le format 'float64' dans 'wta_matches_1982.csv' au lieu de 'object'.\n",
      "Erreur : Le fichier 'wta_matches_1983.csv' a des formats de colonnes différents.\n",
      "  - La colonne 'winner_seed' a le format 'float64' dans 'wta_matches_1983.csv' au lieu de 'object'.\n",
      "  - La colonne 'loser_seed' a le format 'float64' dans 'wta_matches_1983.csv' au lieu de 'object'.\n",
      "Erreur : Le fichier 'wta_matches_1984.csv' a des formats de colonnes différents.\n",
      "  - La colonne 'winner_seed' a le format 'float64' dans 'wta_matches_1984.csv' au lieu de 'object'.\n",
      "  - La colonne 'loser_seed' a le format 'float64' dans 'wta_matches_1984.csv' au lieu de 'object'.\n",
      "Erreur : Le fichier 'wta_matches_1985.csv' a des formats de colonnes différents.\n",
      "  - La colonne 'winner_seed' a le format 'float64' dans 'wta_matches_1985.csv' au lieu de 'object'.\n",
      "  - La colonne 'loser_seed' a le format 'float64' dans 'wta_matches_1985.csv' au lieu de 'object'.\n",
      "Erreur : Le fichier 'wta_matches_1986.csv' a des formats de colonnes différents.\n",
      "  - La colonne 'winner_seed' a le format 'float64' dans 'wta_matches_1986.csv' au lieu de 'object'.\n",
      "  - La colonne 'loser_seed' a le format 'float64' dans 'wta_matches_1986.csv' au lieu de 'object'.\n",
      "Erreur : Le fichier 'wta_matches_1987.csv' a des formats de colonnes différents.\n",
      "  - La colonne 'winner_seed' a le format 'float64' dans 'wta_matches_1987.csv' au lieu de 'object'.\n",
      "  - La colonne 'loser_seed' a le format 'float64' dans 'wta_matches_1987.csv' au lieu de 'object'.\n",
      "Erreur : Le fichier 'wta_matches_1988.csv' a des formats de colonnes différents.\n",
      "  - La colonne 'winner_seed' a le format 'float64' dans 'wta_matches_1988.csv' au lieu de 'object'.\n",
      "  - La colonne 'loser_seed' a le format 'float64' dans 'wta_matches_1988.csv' au lieu de 'object'.\n",
      "Erreur : Le fichier 'wta_matches_1989.csv' a des formats de colonnes différents.\n",
      "  - La colonne 'winner_seed' a le format 'float64' dans 'wta_matches_1989.csv' au lieu de 'object'.\n",
      "  - La colonne 'loser_seed' a le format 'float64' dans 'wta_matches_1989.csv' au lieu de 'object'.\n",
      "Erreur : Le fichier 'wta_matches_1990.csv' a des formats de colonnes différents.\n",
      "  - La colonne 'draw_size' a le format 'int64' dans 'wta_matches_1990.csv' au lieu de 'float64'.\n",
      "  - La colonne 'winner_seed' a le format 'float64' dans 'wta_matches_1990.csv' au lieu de 'object'.\n",
      "  - La colonne 'loser_seed' a le format 'float64' dans 'wta_matches_1990.csv' au lieu de 'object'.\n",
      "Erreur : Le fichier 'wta_matches_1991.csv' a des formats de colonnes différents.\n",
      "  - La colonne 'draw_size' a le format 'int64' dans 'wta_matches_1991.csv' au lieu de 'float64'.\n",
      "  - La colonne 'winner_seed' a le format 'float64' dans 'wta_matches_1991.csv' au lieu de 'object'.\n",
      "  - La colonne 'loser_seed' a le format 'float64' dans 'wta_matches_1991.csv' au lieu de 'object'.\n",
      "Erreur : Le fichier 'wta_matches_1992.csv' a des formats de colonnes différents.\n",
      "  - La colonne 'draw_size' a le format 'int64' dans 'wta_matches_1992.csv' au lieu de 'float64'.\n",
      "  - La colonne 'winner_seed' a le format 'float64' dans 'wta_matches_1992.csv' au lieu de 'object'.\n",
      "  - La colonne 'loser_seed' a le format 'float64' dans 'wta_matches_1992.csv' au lieu de 'object'.\n",
      "Erreur : Le fichier 'wta_matches_1993.csv' a des formats de colonnes différents.\n",
      "  - La colonne 'draw_size' a le format 'int64' dans 'wta_matches_1993.csv' au lieu de 'float64'.\n",
      "  - La colonne 'winner_seed' a le format 'float64' dans 'wta_matches_1993.csv' au lieu de 'object'.\n",
      "  - La colonne 'loser_seed' a le format 'float64' dans 'wta_matches_1993.csv' au lieu de 'object'.\n",
      "Erreur : Le fichier 'wta_matches_1994.csv' a des formats de colonnes différents.\n",
      "  - La colonne 'draw_size' a le format 'int64' dans 'wta_matches_1994.csv' au lieu de 'float64'.\n",
      "  - La colonne 'winner_seed' a le format 'float64' dans 'wta_matches_1994.csv' au lieu de 'object'.\n",
      "  - La colonne 'loser_seed' a le format 'float64' dans 'wta_matches_1994.csv' au lieu de 'object'.\n",
      "Erreur : Le fichier 'wta_matches_1995.csv' a des formats de colonnes différents.\n",
      "  - La colonne 'draw_size' a le format 'int64' dans 'wta_matches_1995.csv' au lieu de 'float64'.\n",
      "  - La colonne 'winner_seed' a le format 'float64' dans 'wta_matches_1995.csv' au lieu de 'object'.\n",
      "  - La colonne 'loser_seed' a le format 'float64' dans 'wta_matches_1995.csv' au lieu de 'object'.\n",
      "Erreur : Le fichier 'wta_matches_1996.csv' a des formats de colonnes différents.\n",
      "  - La colonne 'draw_size' a le format 'int64' dans 'wta_matches_1996.csv' au lieu de 'float64'.\n",
      "  - La colonne 'winner_seed' a le format 'float64' dans 'wta_matches_1996.csv' au lieu de 'object'.\n",
      "  - La colonne 'loser_seed' a le format 'float64' dans 'wta_matches_1996.csv' au lieu de 'object'.\n",
      "Erreur : Le fichier 'wta_matches_1997.csv' a des formats de colonnes différents.\n",
      "  - La colonne 'draw_size' a le format 'int64' dans 'wta_matches_1997.csv' au lieu de 'float64'.\n",
      "  - La colonne 'winner_seed' a le format 'float64' dans 'wta_matches_1997.csv' au lieu de 'object'.\n",
      "  - La colonne 'loser_seed' a le format 'float64' dans 'wta_matches_1997.csv' au lieu de 'object'.\n",
      "Erreur : Le fichier 'wta_matches_1998.csv' a des formats de colonnes différents.\n",
      "  - La colonne 'draw_size' a le format 'int64' dans 'wta_matches_1998.csv' au lieu de 'float64'.\n",
      "  - La colonne 'winner_seed' a le format 'float64' dans 'wta_matches_1998.csv' au lieu de 'object'.\n",
      "Erreur : Le fichier 'wta_matches_1999.csv' a des formats de colonnes différents.\n",
      "  - La colonne 'draw_size' a le format 'int64' dans 'wta_matches_1999.csv' au lieu de 'float64'.\n",
      "  - La colonne 'winner_seed' a le format 'float64' dans 'wta_matches_1999.csv' au lieu de 'object'.\n",
      "Erreur : Le fichier 'wta_matches_2000.csv' a des formats de colonnes différents.\n",
      "  - La colonne 'draw_size' a le format 'int64' dans 'wta_matches_2000.csv' au lieu de 'float64'.\n",
      "  - La colonne 'winner_seed' a le format 'float64' dans 'wta_matches_2000.csv' au lieu de 'object'.\n",
      "  - La colonne 'loser_seed' a le format 'float64' dans 'wta_matches_2000.csv' au lieu de 'object'.\n",
      "Erreur : Le fichier 'wta_matches_2001.csv' a des formats de colonnes différents.\n",
      "  - La colonne 'draw_size' a le format 'int64' dans 'wta_matches_2001.csv' au lieu de 'float64'.\n",
      "  - La colonne 'winner_seed' a le format 'float64' dans 'wta_matches_2001.csv' au lieu de 'object'.\n",
      "  - La colonne 'loser_seed' a le format 'float64' dans 'wta_matches_2001.csv' au lieu de 'object'.\n",
      "Erreur : Le fichier 'wta_matches_2002.csv' a des formats de colonnes différents.\n",
      "  - La colonne 'draw_size' a le format 'int64' dans 'wta_matches_2002.csv' au lieu de 'float64'.\n",
      "  - La colonne 'winner_seed' a le format 'float64' dans 'wta_matches_2002.csv' au lieu de 'object'.\n",
      "  - La colonne 'loser_seed' a le format 'float64' dans 'wta_matches_2002.csv' au lieu de 'object'.\n",
      "Erreur : Le fichier 'wta_matches_2003.csv' a des formats de colonnes différents.\n",
      "  - La colonne 'draw_size' a le format 'int64' dans 'wta_matches_2003.csv' au lieu de 'float64'.\n",
      "  - La colonne 'winner_seed' a le format 'float64' dans 'wta_matches_2003.csv' au lieu de 'object'.\n",
      "  - La colonne 'loser_seed' a le format 'float64' dans 'wta_matches_2003.csv' au lieu de 'object'.\n",
      "Erreur : Le fichier 'wta_matches_2004.csv' a des formats de colonnes différents.\n",
      "  - La colonne 'draw_size' a le format 'int64' dans 'wta_matches_2004.csv' au lieu de 'float64'.\n",
      "  - La colonne 'winner_seed' a le format 'float64' dans 'wta_matches_2004.csv' au lieu de 'object'.\n",
      "  - La colonne 'loser_seed' a le format 'float64' dans 'wta_matches_2004.csv' au lieu de 'object'.\n",
      "Erreur : Le fichier 'wta_matches_2005.csv' a des formats de colonnes différents.\n",
      "  - La colonne 'draw_size' a le format 'int64' dans 'wta_matches_2005.csv' au lieu de 'float64'.\n",
      "  - La colonne 'winner_seed' a le format 'float64' dans 'wta_matches_2005.csv' au lieu de 'object'.\n",
      "  - La colonne 'loser_seed' a le format 'float64' dans 'wta_matches_2005.csv' au lieu de 'object'.\n",
      "Erreur : Le fichier 'wta_matches_2006.csv' a des formats de colonnes différents.\n",
      "  - La colonne 'draw_size' a le format 'int64' dans 'wta_matches_2006.csv' au lieu de 'float64'.\n",
      "  - La colonne 'winner_seed' a le format 'float64' dans 'wta_matches_2006.csv' au lieu de 'object'.\n",
      "  - La colonne 'loser_seed' a le format 'float64' dans 'wta_matches_2006.csv' au lieu de 'object'.\n",
      "Erreur : Le fichier 'wta_matches_2007.csv' a des formats de colonnes différents.\n",
      "  - La colonne 'draw_size' a le format 'int64' dans 'wta_matches_2007.csv' au lieu de 'float64'.\n",
      "  - La colonne 'winner_seed' a le format 'float64' dans 'wta_matches_2007.csv' au lieu de 'object'.\n",
      "  - La colonne 'loser_seed' a le format 'float64' dans 'wta_matches_2007.csv' au lieu de 'object'.\n",
      "Erreur : Le fichier 'wta_matches_2008.csv' a des formats de colonnes différents.\n",
      "  - La colonne 'draw_size' a le format 'int64' dans 'wta_matches_2008.csv' au lieu de 'float64'.\n",
      "  - La colonne 'winner_seed' a le format 'float64' dans 'wta_matches_2008.csv' au lieu de 'object'.\n",
      "  - La colonne 'loser_seed' a le format 'float64' dans 'wta_matches_2008.csv' au lieu de 'object'.\n",
      "Erreur : Le fichier 'wta_matches_2009.csv' a des formats de colonnes différents.\n",
      "  - La colonne 'draw_size' a le format 'int64' dans 'wta_matches_2009.csv' au lieu de 'float64'.\n",
      "  - La colonne 'winner_seed' a le format 'float64' dans 'wta_matches_2009.csv' au lieu de 'object'.\n",
      "  - La colonne 'loser_seed' a le format 'float64' dans 'wta_matches_2009.csv' au lieu de 'object'.\n",
      "Erreur : Le fichier 'wta_matches_2010.csv' a des formats de colonnes différents.\n",
      "  - La colonne 'draw_size' a le format 'int64' dans 'wta_matches_2010.csv' au lieu de 'float64'.\n",
      "  - La colonne 'winner_seed' a le format 'float64' dans 'wta_matches_2010.csv' au lieu de 'object'.\n",
      "  - La colonne 'loser_seed' a le format 'float64' dans 'wta_matches_2010.csv' au lieu de 'object'.\n",
      "Erreur : Le fichier 'wta_matches_2011.csv' a des formats de colonnes différents.\n",
      "  - La colonne 'draw_size' a le format 'int64' dans 'wta_matches_2011.csv' au lieu de 'float64'.\n",
      "  - La colonne 'winner_seed' a le format 'float64' dans 'wta_matches_2011.csv' au lieu de 'object'.\n",
      "  - La colonne 'loser_seed' a le format 'float64' dans 'wta_matches_2011.csv' au lieu de 'object'.\n",
      "Erreur : Le fichier 'wta_matches_2012.csv' a des formats de colonnes différents.\n",
      "  - La colonne 'draw_size' a le format 'int64' dans 'wta_matches_2012.csv' au lieu de 'float64'.\n",
      "  - La colonne 'winner_seed' a le format 'float64' dans 'wta_matches_2012.csv' au lieu de 'object'.\n",
      "  - La colonne 'loser_seed' a le format 'float64' dans 'wta_matches_2012.csv' au lieu de 'object'.\n",
      "Erreur : Le fichier 'wta_matches_2013.csv' a des formats de colonnes différents.\n",
      "  - La colonne 'draw_size' a le format 'int64' dans 'wta_matches_2013.csv' au lieu de 'float64'.\n",
      "  - La colonne 'winner_seed' a le format 'float64' dans 'wta_matches_2013.csv' au lieu de 'object'.\n",
      "  - La colonne 'loser_seed' a le format 'float64' dans 'wta_matches_2013.csv' au lieu de 'object'.\n",
      "Erreur : Le fichier 'wta_matches_2014.csv' a des formats de colonnes différents.\n",
      "  - La colonne 'draw_size' a le format 'int64' dans 'wta_matches_2014.csv' au lieu de 'float64'.\n",
      "  - La colonne 'winner_seed' a le format 'float64' dans 'wta_matches_2014.csv' au lieu de 'object'.\n",
      "  - La colonne 'loser_seed' a le format 'float64' dans 'wta_matches_2014.csv' au lieu de 'object'.\n",
      "Erreur : Le fichier 'wta_matches_2015.csv' a des formats de colonnes différents.\n",
      "  - La colonne 'draw_size' a le format 'int64' dans 'wta_matches_2015.csv' au lieu de 'float64'.\n",
      "  - La colonne 'winner_seed' a le format 'float64' dans 'wta_matches_2015.csv' au lieu de 'object'.\n",
      "  - La colonne 'loser_seed' a le format 'float64' dans 'wta_matches_2015.csv' au lieu de 'object'.\n",
      "Erreur : Le fichier 'wta_matches_2016.csv' a des formats de colonnes différents.\n",
      "  - La colonne 'draw_size' a le format 'int64' dans 'wta_matches_2016.csv' au lieu de 'float64'.\n",
      "  - La colonne 'loser_seed' a le format 'float64' dans 'wta_matches_2016.csv' au lieu de 'object'.\n",
      "Erreur : Le fichier 'wta_matches_2017.csv' a des formats de colonnes différents.\n",
      "  - La colonne 'draw_size' a le format 'int64' dans 'wta_matches_2017.csv' au lieu de 'float64'.\n",
      "  - La colonne 'winner_seed' a le format 'float64' dans 'wta_matches_2017.csv' au lieu de 'object'.\n",
      "  - La colonne 'loser_seed' a le format 'float64' dans 'wta_matches_2017.csv' au lieu de 'object'.\n",
      "Erreur : Le fichier 'wta_matches_2018.csv' a des formats de colonnes différents.\n",
      "  - La colonne 'draw_size' a le format 'int64' dans 'wta_matches_2018.csv' au lieu de 'float64'.\n",
      "  - La colonne 'winner_seed' a le format 'float64' dans 'wta_matches_2018.csv' au lieu de 'object'.\n",
      "  - La colonne 'loser_seed' a le format 'float64' dans 'wta_matches_2018.csv' au lieu de 'object'.\n",
      "Erreur : Le fichier 'wta_matches_2019.csv' a des formats de colonnes différents.\n",
      "  - La colonne 'draw_size' a le format 'int64' dans 'wta_matches_2019.csv' au lieu de 'float64'.\n",
      "  - La colonne 'winner_seed' a le format 'float64' dans 'wta_matches_2019.csv' au lieu de 'object'.\n",
      "  - La colonne 'loser_seed' a le format 'float64' dans 'wta_matches_2019.csv' au lieu de 'object'.\n",
      "Erreur : Le fichier 'wta_matches_2020.csv' a des formats de colonnes différents.\n",
      "  - La colonne 'draw_size' a le format 'int64' dans 'wta_matches_2020.csv' au lieu de 'float64'.\n",
      "Erreur : Le fichier 'wta_matches_2021.csv' a des formats de colonnes différents.\n",
      "  - La colonne 'draw_size' a le format 'int64' dans 'wta_matches_2021.csv' au lieu de 'float64'.\n",
      "  - La colonne 'winner_seed' a le format 'float64' dans 'wta_matches_2021.csv' au lieu de 'object'.\n",
      "  - La colonne 'loser_seed' a le format 'float64' dans 'wta_matches_2021.csv' au lieu de 'object'.\n",
      "Erreur : Le fichier 'wta_matches_2022.csv' a des formats de colonnes différents.\n",
      "  - La colonne 'draw_size' a le format 'int64' dans 'wta_matches_2022.csv' au lieu de 'float64'.\n",
      "Erreur : Le fichier 'wta_matches_2023.csv' a des formats de colonnes différents.\n",
      "  - La colonne 'draw_size' a le format 'int64' dans 'wta_matches_2023.csv' au lieu de 'float64'.\n",
      "  - La colonne 'winner_seed' a le format 'float64' dans 'wta_matches_2023.csv' au lieu de 'object'.\n",
      "  - La colonne 'loser_seed' a le format 'float64' dans 'wta_matches_2023.csv' au lieu de 'object'.\n",
      "Erreur : Le fichier 'wta_matches_2024.csv' a des formats de colonnes différents.\n",
      "  - La colonne 'draw_size' a le format 'int64' dans 'wta_matches_2024.csv' au lieu de 'float64'.\n",
      "  - La colonne 'winner_seed' a le format 'float64' dans 'wta_matches_2024.csv' au lieu de 'object'.\n",
      "  - La colonne 'loser_seed' a le format 'float64' dans 'wta_matches_2024.csv' au lieu de 'object'.\n"
     ]
    }
   ],
   "source": [
    "comp_format(formats_colonnes)"
   ]
  },
  {
   "cell_type": "code",
   "execution_count": 256,
   "id": "40dfa938",
   "metadata": {},
   "outputs": [
    {
     "data": {
      "text/plain": [
       "array([13., 11., 62., 96., 64.,  4., 32., 59., 16., 15., 31., 38., 23.,\n",
       "        8., 55., 12., 29., 25., 27., 24., nan])"
      ]
     },
     "execution_count": 256,
     "metadata": {},
     "output_type": "execute_result"
    }
   ],
   "source": [
    "data_dict['wta_matches_1968.csv'][\"draw_size\"].unique()"
   ]
  },
  {
   "cell_type": "code",
   "execution_count": 257,
   "id": "cf01d4fd",
   "metadata": {},
   "outputs": [
    {
     "data": {
      "text/plain": [
       "array(['43', '96', '64', '4', '16', '8', '12', '31', '32', '40', '27',\n",
       "       '24', '48', '25', '28', '30', '6', '15', nan, 'exho'], dtype=object)"
      ]
     },
     "execution_count": 257,
     "metadata": {},
     "output_type": "execute_result"
    }
   ],
   "source": [
    "data_dict['wta_matches_1970.csv'][\"draw_size\"].unique()"
   ]
  },
  {
   "cell_type": "markdown",
   "id": "fd6056b3",
   "metadata": {},
   "source": [
    "Ajout du type exho pour exhibition -> modification de toute les valeur en str"
   ]
  },
  {
   "cell_type": "code",
   "execution_count": null,
   "id": "66994d44",
   "metadata": {},
   "outputs": [],
   "source": [
    "for fichier in data_dict.keys():\n",
    "    data_dict, formats_colonnes = modif_format(\n",
    "        fichier,\n",
    "        \"draw_size\",\n",
    "        'str',\n",
    "        data_dict,\n",
    "        formats_colonnes\n",
    "        )\n"
   ]
  },
  {
   "cell_type": "code",
   "execution_count": 259,
   "id": "dc6f9641",
   "metadata": {},
   "outputs": [
    {
     "name": "stdout",
     "output_type": "stream",
     "text": [
      "\n",
      "Comparaison des formats de colonnes entre les DataFrames:\n",
      "------------------------------------------------------\n",
      "Le fichier 'wta_matches_1969.csv' a le même format de colonnes que les précédents.\n",
      "Le fichier 'wta_matches_1970.csv' a le même format de colonnes que les précédents.\n",
      "Le fichier 'wta_matches_1971.csv' a le même format de colonnes que les précédents.\n",
      "Erreur : Le fichier 'wta_matches_1972.csv' a des formats de colonnes différents.\n",
      "  - La colonne 'winner_seed' a le format 'float64' dans 'wta_matches_1972.csv' au lieu de 'object'.\n",
      "  - La colonne 'loser_seed' a le format 'float64' dans 'wta_matches_1972.csv' au lieu de 'object'.\n",
      "Erreur : Le fichier 'wta_matches_1973.csv' a des formats de colonnes différents.\n",
      "  - La colonne 'winner_seed' a le format 'float64' dans 'wta_matches_1973.csv' au lieu de 'object'.\n",
      "  - La colonne 'loser_seed' a le format 'float64' dans 'wta_matches_1973.csv' au lieu de 'object'.\n",
      "Erreur : Le fichier 'wta_matches_1974.csv' a des formats de colonnes différents.\n",
      "  - La colonne 'winner_seed' a le format 'float64' dans 'wta_matches_1974.csv' au lieu de 'object'.\n",
      "  - La colonne 'loser_seed' a le format 'float64' dans 'wta_matches_1974.csv' au lieu de 'object'.\n",
      "Erreur : Le fichier 'wta_matches_1975.csv' a des formats de colonnes différents.\n",
      "  - La colonne 'winner_seed' a le format 'float64' dans 'wta_matches_1975.csv' au lieu de 'object'.\n",
      "  - La colonne 'loser_seed' a le format 'float64' dans 'wta_matches_1975.csv' au lieu de 'object'.\n",
      "Erreur : Le fichier 'wta_matches_1976.csv' a des formats de colonnes différents.\n",
      "  - La colonne 'winner_seed' a le format 'float64' dans 'wta_matches_1976.csv' au lieu de 'object'.\n",
      "  - La colonne 'loser_seed' a le format 'float64' dans 'wta_matches_1976.csv' au lieu de 'object'.\n",
      "Erreur : Le fichier 'wta_matches_1977.csv' a des formats de colonnes différents.\n",
      "  - La colonne 'winner_seed' a le format 'float64' dans 'wta_matches_1977.csv' au lieu de 'object'.\n",
      "  - La colonne 'loser_seed' a le format 'float64' dans 'wta_matches_1977.csv' au lieu de 'object'.\n",
      "Erreur : Le fichier 'wta_matches_1978.csv' a des formats de colonnes différents.\n",
      "  - La colonne 'winner_seed' a le format 'float64' dans 'wta_matches_1978.csv' au lieu de 'object'.\n",
      "  - La colonne 'loser_seed' a le format 'float64' dans 'wta_matches_1978.csv' au lieu de 'object'.\n",
      "Erreur : Le fichier 'wta_matches_1979.csv' a des formats de colonnes différents.\n",
      "  - La colonne 'winner_seed' a le format 'float64' dans 'wta_matches_1979.csv' au lieu de 'object'.\n",
      "  - La colonne 'loser_seed' a le format 'float64' dans 'wta_matches_1979.csv' au lieu de 'object'.\n",
      "Erreur : Le fichier 'wta_matches_1980.csv' a des formats de colonnes différents.\n",
      "  - La colonne 'winner_seed' a le format 'float64' dans 'wta_matches_1980.csv' au lieu de 'object'.\n",
      "  - La colonne 'loser_seed' a le format 'float64' dans 'wta_matches_1980.csv' au lieu de 'object'.\n",
      "Erreur : Le fichier 'wta_matches_1981.csv' a des formats de colonnes différents.\n",
      "  - La colonne 'winner_seed' a le format 'float64' dans 'wta_matches_1981.csv' au lieu de 'object'.\n",
      "  - La colonne 'loser_seed' a le format 'float64' dans 'wta_matches_1981.csv' au lieu de 'object'.\n",
      "Erreur : Le fichier 'wta_matches_1982.csv' a des formats de colonnes différents.\n",
      "  - La colonne 'winner_seed' a le format 'float64' dans 'wta_matches_1982.csv' au lieu de 'object'.\n",
      "  - La colonne 'loser_seed' a le format 'float64' dans 'wta_matches_1982.csv' au lieu de 'object'.\n",
      "Erreur : Le fichier 'wta_matches_1983.csv' a des formats de colonnes différents.\n",
      "  - La colonne 'winner_seed' a le format 'float64' dans 'wta_matches_1983.csv' au lieu de 'object'.\n",
      "  - La colonne 'loser_seed' a le format 'float64' dans 'wta_matches_1983.csv' au lieu de 'object'.\n",
      "Erreur : Le fichier 'wta_matches_1984.csv' a des formats de colonnes différents.\n",
      "  - La colonne 'winner_seed' a le format 'float64' dans 'wta_matches_1984.csv' au lieu de 'object'.\n",
      "  - La colonne 'loser_seed' a le format 'float64' dans 'wta_matches_1984.csv' au lieu de 'object'.\n",
      "Erreur : Le fichier 'wta_matches_1985.csv' a des formats de colonnes différents.\n",
      "  - La colonne 'winner_seed' a le format 'float64' dans 'wta_matches_1985.csv' au lieu de 'object'.\n",
      "  - La colonne 'loser_seed' a le format 'float64' dans 'wta_matches_1985.csv' au lieu de 'object'.\n",
      "Erreur : Le fichier 'wta_matches_1986.csv' a des formats de colonnes différents.\n",
      "  - La colonne 'winner_seed' a le format 'float64' dans 'wta_matches_1986.csv' au lieu de 'object'.\n",
      "  - La colonne 'loser_seed' a le format 'float64' dans 'wta_matches_1986.csv' au lieu de 'object'.\n",
      "Erreur : Le fichier 'wta_matches_1987.csv' a des formats de colonnes différents.\n",
      "  - La colonne 'winner_seed' a le format 'float64' dans 'wta_matches_1987.csv' au lieu de 'object'.\n",
      "  - La colonne 'loser_seed' a le format 'float64' dans 'wta_matches_1987.csv' au lieu de 'object'.\n",
      "Erreur : Le fichier 'wta_matches_1988.csv' a des formats de colonnes différents.\n",
      "  - La colonne 'winner_seed' a le format 'float64' dans 'wta_matches_1988.csv' au lieu de 'object'.\n",
      "  - La colonne 'loser_seed' a le format 'float64' dans 'wta_matches_1988.csv' au lieu de 'object'.\n",
      "Erreur : Le fichier 'wta_matches_1989.csv' a des formats de colonnes différents.\n",
      "  - La colonne 'winner_seed' a le format 'float64' dans 'wta_matches_1989.csv' au lieu de 'object'.\n",
      "  - La colonne 'loser_seed' a le format 'float64' dans 'wta_matches_1989.csv' au lieu de 'object'.\n",
      "Erreur : Le fichier 'wta_matches_1990.csv' a des formats de colonnes différents.\n",
      "  - La colonne 'winner_seed' a le format 'float64' dans 'wta_matches_1990.csv' au lieu de 'object'.\n",
      "  - La colonne 'loser_seed' a le format 'float64' dans 'wta_matches_1990.csv' au lieu de 'object'.\n",
      "Erreur : Le fichier 'wta_matches_1991.csv' a des formats de colonnes différents.\n",
      "  - La colonne 'winner_seed' a le format 'float64' dans 'wta_matches_1991.csv' au lieu de 'object'.\n",
      "  - La colonne 'loser_seed' a le format 'float64' dans 'wta_matches_1991.csv' au lieu de 'object'.\n",
      "Erreur : Le fichier 'wta_matches_1992.csv' a des formats de colonnes différents.\n",
      "  - La colonne 'winner_seed' a le format 'float64' dans 'wta_matches_1992.csv' au lieu de 'object'.\n",
      "  - La colonne 'loser_seed' a le format 'float64' dans 'wta_matches_1992.csv' au lieu de 'object'.\n",
      "Erreur : Le fichier 'wta_matches_1993.csv' a des formats de colonnes différents.\n",
      "  - La colonne 'winner_seed' a le format 'float64' dans 'wta_matches_1993.csv' au lieu de 'object'.\n",
      "  - La colonne 'loser_seed' a le format 'float64' dans 'wta_matches_1993.csv' au lieu de 'object'.\n",
      "Erreur : Le fichier 'wta_matches_1994.csv' a des formats de colonnes différents.\n",
      "  - La colonne 'winner_seed' a le format 'float64' dans 'wta_matches_1994.csv' au lieu de 'object'.\n",
      "  - La colonne 'loser_seed' a le format 'float64' dans 'wta_matches_1994.csv' au lieu de 'object'.\n",
      "Erreur : Le fichier 'wta_matches_1995.csv' a des formats de colonnes différents.\n",
      "  - La colonne 'winner_seed' a le format 'float64' dans 'wta_matches_1995.csv' au lieu de 'object'.\n",
      "  - La colonne 'loser_seed' a le format 'float64' dans 'wta_matches_1995.csv' au lieu de 'object'.\n",
      "Erreur : Le fichier 'wta_matches_1996.csv' a des formats de colonnes différents.\n",
      "  - La colonne 'winner_seed' a le format 'float64' dans 'wta_matches_1996.csv' au lieu de 'object'.\n",
      "  - La colonne 'loser_seed' a le format 'float64' dans 'wta_matches_1996.csv' au lieu de 'object'.\n",
      "Erreur : Le fichier 'wta_matches_1997.csv' a des formats de colonnes différents.\n",
      "  - La colonne 'winner_seed' a le format 'float64' dans 'wta_matches_1997.csv' au lieu de 'object'.\n",
      "  - La colonne 'loser_seed' a le format 'float64' dans 'wta_matches_1997.csv' au lieu de 'object'.\n",
      "Erreur : Le fichier 'wta_matches_1998.csv' a des formats de colonnes différents.\n",
      "  - La colonne 'winner_seed' a le format 'float64' dans 'wta_matches_1998.csv' au lieu de 'object'.\n",
      "Erreur : Le fichier 'wta_matches_1999.csv' a des formats de colonnes différents.\n",
      "  - La colonne 'winner_seed' a le format 'float64' dans 'wta_matches_1999.csv' au lieu de 'object'.\n",
      "Erreur : Le fichier 'wta_matches_2000.csv' a des formats de colonnes différents.\n",
      "  - La colonne 'winner_seed' a le format 'float64' dans 'wta_matches_2000.csv' au lieu de 'object'.\n",
      "  - La colonne 'loser_seed' a le format 'float64' dans 'wta_matches_2000.csv' au lieu de 'object'.\n",
      "Erreur : Le fichier 'wta_matches_2001.csv' a des formats de colonnes différents.\n",
      "  - La colonne 'winner_seed' a le format 'float64' dans 'wta_matches_2001.csv' au lieu de 'object'.\n",
      "  - La colonne 'loser_seed' a le format 'float64' dans 'wta_matches_2001.csv' au lieu de 'object'.\n",
      "Erreur : Le fichier 'wta_matches_2002.csv' a des formats de colonnes différents.\n",
      "  - La colonne 'winner_seed' a le format 'float64' dans 'wta_matches_2002.csv' au lieu de 'object'.\n",
      "  - La colonne 'loser_seed' a le format 'float64' dans 'wta_matches_2002.csv' au lieu de 'object'.\n",
      "Erreur : Le fichier 'wta_matches_2003.csv' a des formats de colonnes différents.\n",
      "  - La colonne 'winner_seed' a le format 'float64' dans 'wta_matches_2003.csv' au lieu de 'object'.\n",
      "  - La colonne 'loser_seed' a le format 'float64' dans 'wta_matches_2003.csv' au lieu de 'object'.\n",
      "Erreur : Le fichier 'wta_matches_2004.csv' a des formats de colonnes différents.\n",
      "  - La colonne 'winner_seed' a le format 'float64' dans 'wta_matches_2004.csv' au lieu de 'object'.\n",
      "  - La colonne 'loser_seed' a le format 'float64' dans 'wta_matches_2004.csv' au lieu de 'object'.\n",
      "Erreur : Le fichier 'wta_matches_2005.csv' a des formats de colonnes différents.\n",
      "  - La colonne 'winner_seed' a le format 'float64' dans 'wta_matches_2005.csv' au lieu de 'object'.\n",
      "  - La colonne 'loser_seed' a le format 'float64' dans 'wta_matches_2005.csv' au lieu de 'object'.\n",
      "Erreur : Le fichier 'wta_matches_2006.csv' a des formats de colonnes différents.\n",
      "  - La colonne 'winner_seed' a le format 'float64' dans 'wta_matches_2006.csv' au lieu de 'object'.\n",
      "  - La colonne 'loser_seed' a le format 'float64' dans 'wta_matches_2006.csv' au lieu de 'object'.\n",
      "Erreur : Le fichier 'wta_matches_2007.csv' a des formats de colonnes différents.\n",
      "  - La colonne 'winner_seed' a le format 'float64' dans 'wta_matches_2007.csv' au lieu de 'object'.\n",
      "  - La colonne 'loser_seed' a le format 'float64' dans 'wta_matches_2007.csv' au lieu de 'object'.\n",
      "Erreur : Le fichier 'wta_matches_2008.csv' a des formats de colonnes différents.\n",
      "  - La colonne 'winner_seed' a le format 'float64' dans 'wta_matches_2008.csv' au lieu de 'object'.\n",
      "  - La colonne 'loser_seed' a le format 'float64' dans 'wta_matches_2008.csv' au lieu de 'object'.\n",
      "Erreur : Le fichier 'wta_matches_2009.csv' a des formats de colonnes différents.\n",
      "  - La colonne 'winner_seed' a le format 'float64' dans 'wta_matches_2009.csv' au lieu de 'object'.\n",
      "  - La colonne 'loser_seed' a le format 'float64' dans 'wta_matches_2009.csv' au lieu de 'object'.\n",
      "Erreur : Le fichier 'wta_matches_2010.csv' a des formats de colonnes différents.\n",
      "  - La colonne 'winner_seed' a le format 'float64' dans 'wta_matches_2010.csv' au lieu de 'object'.\n",
      "  - La colonne 'loser_seed' a le format 'float64' dans 'wta_matches_2010.csv' au lieu de 'object'.\n",
      "Erreur : Le fichier 'wta_matches_2011.csv' a des formats de colonnes différents.\n",
      "  - La colonne 'winner_seed' a le format 'float64' dans 'wta_matches_2011.csv' au lieu de 'object'.\n",
      "  - La colonne 'loser_seed' a le format 'float64' dans 'wta_matches_2011.csv' au lieu de 'object'.\n",
      "Erreur : Le fichier 'wta_matches_2012.csv' a des formats de colonnes différents.\n",
      "  - La colonne 'winner_seed' a le format 'float64' dans 'wta_matches_2012.csv' au lieu de 'object'.\n",
      "  - La colonne 'loser_seed' a le format 'float64' dans 'wta_matches_2012.csv' au lieu de 'object'.\n",
      "Erreur : Le fichier 'wta_matches_2013.csv' a des formats de colonnes différents.\n",
      "  - La colonne 'winner_seed' a le format 'float64' dans 'wta_matches_2013.csv' au lieu de 'object'.\n",
      "  - La colonne 'loser_seed' a le format 'float64' dans 'wta_matches_2013.csv' au lieu de 'object'.\n",
      "Erreur : Le fichier 'wta_matches_2014.csv' a des formats de colonnes différents.\n",
      "  - La colonne 'winner_seed' a le format 'float64' dans 'wta_matches_2014.csv' au lieu de 'object'.\n",
      "  - La colonne 'loser_seed' a le format 'float64' dans 'wta_matches_2014.csv' au lieu de 'object'.\n",
      "Erreur : Le fichier 'wta_matches_2015.csv' a des formats de colonnes différents.\n",
      "  - La colonne 'winner_seed' a le format 'float64' dans 'wta_matches_2015.csv' au lieu de 'object'.\n",
      "  - La colonne 'loser_seed' a le format 'float64' dans 'wta_matches_2015.csv' au lieu de 'object'.\n",
      "Erreur : Le fichier 'wta_matches_2016.csv' a des formats de colonnes différents.\n",
      "  - La colonne 'loser_seed' a le format 'float64' dans 'wta_matches_2016.csv' au lieu de 'object'.\n",
      "Erreur : Le fichier 'wta_matches_2017.csv' a des formats de colonnes différents.\n",
      "  - La colonne 'winner_seed' a le format 'float64' dans 'wta_matches_2017.csv' au lieu de 'object'.\n",
      "  - La colonne 'loser_seed' a le format 'float64' dans 'wta_matches_2017.csv' au lieu de 'object'.\n",
      "Erreur : Le fichier 'wta_matches_2018.csv' a des formats de colonnes différents.\n",
      "  - La colonne 'winner_seed' a le format 'float64' dans 'wta_matches_2018.csv' au lieu de 'object'.\n",
      "  - La colonne 'loser_seed' a le format 'float64' dans 'wta_matches_2018.csv' au lieu de 'object'.\n",
      "Erreur : Le fichier 'wta_matches_2019.csv' a des formats de colonnes différents.\n",
      "  - La colonne 'winner_seed' a le format 'float64' dans 'wta_matches_2019.csv' au lieu de 'object'.\n",
      "  - La colonne 'loser_seed' a le format 'float64' dans 'wta_matches_2019.csv' au lieu de 'object'.\n",
      "Le fichier 'wta_matches_2020.csv' a le même format de colonnes que les précédents.\n",
      "Erreur : Le fichier 'wta_matches_2021.csv' a des formats de colonnes différents.\n",
      "  - La colonne 'winner_seed' a le format 'float64' dans 'wta_matches_2021.csv' au lieu de 'object'.\n",
      "  - La colonne 'loser_seed' a le format 'float64' dans 'wta_matches_2021.csv' au lieu de 'object'.\n",
      "Le fichier 'wta_matches_2022.csv' a le même format de colonnes que les précédents.\n",
      "Erreur : Le fichier 'wta_matches_2023.csv' a des formats de colonnes différents.\n",
      "  - La colonne 'winner_seed' a le format 'float64' dans 'wta_matches_2023.csv' au lieu de 'object'.\n",
      "  - La colonne 'loser_seed' a le format 'float64' dans 'wta_matches_2023.csv' au lieu de 'object'.\n",
      "Erreur : Le fichier 'wta_matches_2024.csv' a des formats de colonnes différents.\n",
      "  - La colonne 'winner_seed' a le format 'float64' dans 'wta_matches_2024.csv' au lieu de 'object'.\n",
      "  - La colonne 'loser_seed' a le format 'float64' dans 'wta_matches_2024.csv' au lieu de 'object'.\n"
     ]
    }
   ],
   "source": [
    "comp_format(formats_colonnes)"
   ]
  },
  {
   "cell_type": "code",
   "execution_count": 260,
   "id": "8d261232",
   "metadata": {},
   "outputs": [
    {
     "data": {
      "text/plain": [
       "array([nan, '8', '5', '7', '1', '2', '3', '6', '4', '8F', '3F', '5F',\n",
       "       '2F', '6F', '4F', '7F', '1F', '12', '14', '9', '10', '13', '15',\n",
       "       '11'], dtype=object)"
      ]
     },
     "execution_count": 260,
     "metadata": {},
     "output_type": "execute_result"
    }
   ],
   "source": [
    "data_dict['wta_matches_1971.csv']['winner_seed'].unique()"
   ]
  },
  {
   "cell_type": "code",
   "execution_count": 261,
   "id": "e52af86d",
   "metadata": {},
   "outputs": [
    {
     "data": {
      "text/plain": [
       "array([ 1., nan,  8.,  5.,  4.,  3.,  6.,  7.,  2., 16.,  9., 12., 13.,\n",
       "       14., 10., 15.])"
      ]
     },
     "execution_count": 261,
     "metadata": {},
     "output_type": "execute_result"
    }
   ],
   "source": [
    "data_dict['wta_matches_1972.csv']['winner_seed'].unique()"
   ]
  },
  {
   "cell_type": "code",
   "execution_count": null,
   "id": "f4e44d5b",
   "metadata": {},
   "outputs": [],
   "source": [
    "for fichier in data_dict.keys():\n",
    "    data_dict, formats_colonnes = modif_format(\n",
    "        fichier,\n",
    "        'winner_seed',\n",
    "        'str',\n",
    "        data_dict,\n",
    "        formats_colonnes\n",
    "        )\n",
    "\n",
    "    data_dict, formats_colonnes = modif_format(\n",
    "        fichier,\n",
    "        'loser_seed',\n",
    "        'str',\n",
    "        data_dict,\n",
    "        formats_colonnes\n",
    "        )"
   ]
  },
  {
   "cell_type": "code",
   "execution_count": 263,
   "id": "4b129e25",
   "metadata": {},
   "outputs": [
    {
     "name": "stdout",
     "output_type": "stream",
     "text": [
      "\n",
      "Comparaison des formats de colonnes entre les DataFrames:\n",
      "------------------------------------------------------\n",
      "Le fichier 'wta_matches_1969.csv' a le même format de colonnes que les précédents.\n",
      "Le fichier 'wta_matches_1970.csv' a le même format de colonnes que les précédents.\n",
      "Le fichier 'wta_matches_1971.csv' a le même format de colonnes que les précédents.\n",
      "Le fichier 'wta_matches_1972.csv' a le même format de colonnes que les précédents.\n",
      "Le fichier 'wta_matches_1973.csv' a le même format de colonnes que les précédents.\n",
      "Le fichier 'wta_matches_1974.csv' a le même format de colonnes que les précédents.\n",
      "Le fichier 'wta_matches_1975.csv' a le même format de colonnes que les précédents.\n",
      "Le fichier 'wta_matches_1976.csv' a le même format de colonnes que les précédents.\n",
      "Le fichier 'wta_matches_1977.csv' a le même format de colonnes que les précédents.\n",
      "Le fichier 'wta_matches_1978.csv' a le même format de colonnes que les précédents.\n",
      "Le fichier 'wta_matches_1979.csv' a le même format de colonnes que les précédents.\n",
      "Le fichier 'wta_matches_1980.csv' a le même format de colonnes que les précédents.\n",
      "Le fichier 'wta_matches_1981.csv' a le même format de colonnes que les précédents.\n",
      "Le fichier 'wta_matches_1982.csv' a le même format de colonnes que les précédents.\n",
      "Le fichier 'wta_matches_1983.csv' a le même format de colonnes que les précédents.\n",
      "Le fichier 'wta_matches_1984.csv' a le même format de colonnes que les précédents.\n",
      "Le fichier 'wta_matches_1985.csv' a le même format de colonnes que les précédents.\n",
      "Le fichier 'wta_matches_1986.csv' a le même format de colonnes que les précédents.\n",
      "Le fichier 'wta_matches_1987.csv' a le même format de colonnes que les précédents.\n",
      "Le fichier 'wta_matches_1988.csv' a le même format de colonnes que les précédents.\n",
      "Le fichier 'wta_matches_1989.csv' a le même format de colonnes que les précédents.\n",
      "Le fichier 'wta_matches_1990.csv' a le même format de colonnes que les précédents.\n",
      "Le fichier 'wta_matches_1991.csv' a le même format de colonnes que les précédents.\n",
      "Le fichier 'wta_matches_1992.csv' a le même format de colonnes que les précédents.\n",
      "Le fichier 'wta_matches_1993.csv' a le même format de colonnes que les précédents.\n",
      "Le fichier 'wta_matches_1994.csv' a le même format de colonnes que les précédents.\n",
      "Le fichier 'wta_matches_1995.csv' a le même format de colonnes que les précédents.\n",
      "Le fichier 'wta_matches_1996.csv' a le même format de colonnes que les précédents.\n",
      "Le fichier 'wta_matches_1997.csv' a le même format de colonnes que les précédents.\n",
      "Le fichier 'wta_matches_1998.csv' a le même format de colonnes que les précédents.\n",
      "Le fichier 'wta_matches_1999.csv' a le même format de colonnes que les précédents.\n",
      "Le fichier 'wta_matches_2000.csv' a le même format de colonnes que les précédents.\n",
      "Le fichier 'wta_matches_2001.csv' a le même format de colonnes que les précédents.\n",
      "Le fichier 'wta_matches_2002.csv' a le même format de colonnes que les précédents.\n",
      "Le fichier 'wta_matches_2003.csv' a le même format de colonnes que les précédents.\n",
      "Le fichier 'wta_matches_2004.csv' a le même format de colonnes que les précédents.\n",
      "Le fichier 'wta_matches_2005.csv' a le même format de colonnes que les précédents.\n",
      "Le fichier 'wta_matches_2006.csv' a le même format de colonnes que les précédents.\n",
      "Le fichier 'wta_matches_2007.csv' a le même format de colonnes que les précédents.\n",
      "Le fichier 'wta_matches_2008.csv' a le même format de colonnes que les précédents.\n",
      "Le fichier 'wta_matches_2009.csv' a le même format de colonnes que les précédents.\n",
      "Le fichier 'wta_matches_2010.csv' a le même format de colonnes que les précédents.\n",
      "Le fichier 'wta_matches_2011.csv' a le même format de colonnes que les précédents.\n",
      "Le fichier 'wta_matches_2012.csv' a le même format de colonnes que les précédents.\n",
      "Le fichier 'wta_matches_2013.csv' a le même format de colonnes que les précédents.\n",
      "Le fichier 'wta_matches_2014.csv' a le même format de colonnes que les précédents.\n",
      "Le fichier 'wta_matches_2015.csv' a le même format de colonnes que les précédents.\n",
      "Le fichier 'wta_matches_2016.csv' a le même format de colonnes que les précédents.\n",
      "Le fichier 'wta_matches_2017.csv' a le même format de colonnes que les précédents.\n",
      "Le fichier 'wta_matches_2018.csv' a le même format de colonnes que les précédents.\n",
      "Le fichier 'wta_matches_2019.csv' a le même format de colonnes que les précédents.\n",
      "Le fichier 'wta_matches_2020.csv' a le même format de colonnes que les précédents.\n",
      "Le fichier 'wta_matches_2021.csv' a le même format de colonnes que les précédents.\n",
      "Le fichier 'wta_matches_2022.csv' a le même format de colonnes que les précédents.\n",
      "Le fichier 'wta_matches_2023.csv' a le même format de colonnes que les précédents.\n",
      "Le fichier 'wta_matches_2024.csv' a le même format de colonnes que les précédents.\n"
     ]
    }
   ],
   "source": [
    "comp_format(formats_colonnes)"
   ]
  },
  {
   "cell_type": "markdown",
   "id": "c613d4b3",
   "metadata": {},
   "source": [
    "Concaténation"
   ]
  },
  {
   "cell_type": "code",
   "execution_count": 264,
   "id": "59f143e2",
   "metadata": {},
   "outputs": [],
   "source": [
    "wta_matches_1968_2024 = concatenation(data_dict)"
   ]
  },
  {
   "cell_type": "code",
   "execution_count": 265,
   "id": "0d13c72a",
   "metadata": {},
   "outputs": [],
   "source": [
    "wta_matches_1968_2024 = wta_matches_1968_2024[var_interet]"
   ]
  },
  {
   "cell_type": "code",
   "execution_count": 266,
   "id": "e3e329e6",
   "metadata": {},
   "outputs": [
    {
     "data": {
      "application/vnd.microsoft.datawrangler.viewer.v0+json": {
       "columns": [
        {
         "name": "index",
         "rawType": "object",
         "type": "string"
        },
        {
         "name": "Type",
         "rawType": "object",
         "type": "unknown"
        },
        {
         "name": "Nombre de valeurs manquantes",
         "rawType": "int64",
         "type": "integer"
        },
        {
         "name": "Pourcentage de valeurs manquantes",
         "rawType": "float64",
         "type": "float"
        }
       ],
       "conversionMethod": "pd.DataFrame",
       "ref": "274813b1-fc38-4bef-9a6d-46d62826d8ab",
       "rows": [
        [
         "annee",
         "int32",
         "0",
         "0.0"
        ],
        [
         "tourney_date",
         "object",
         "0",
         "0.0"
        ],
        [
         "tourney_id",
         "object",
         "0",
         "0.0"
        ],
        [
         "tourney_name",
         "object",
         "0",
         "0.0"
        ],
        [
         "tourney_level",
         "object",
         "0",
         "0.0"
        ],
        [
         "surface",
         "object",
         "4839",
         "3.060875945651899"
        ],
        [
         "score",
         "object",
         "1",
         "0.0006325430761834881"
        ],
        [
         "round",
         "object",
         "0",
         "0.0"
        ],
        [
         "match_num",
         "int64",
         "0",
         "0.0"
        ],
        [
         "minutes",
         "float64",
         "135965",
         "86.00371935328795"
        ],
        [
         "winner_id",
         "int64",
         "0",
         "0.0"
        ],
        [
         "winner_rank",
         "float64",
         "51616",
         "32.64934342028692"
        ],
        [
         "winner_ioc",
         "object",
         "30",
         "0.018976292285504643"
        ],
        [
         "winner_name",
         "object",
         "0",
         "0.0"
        ],
        [
         "winner_hand",
         "object",
         "0",
         "0.0"
        ],
        [
         "loser_id",
         "int64",
         "0",
         "0.0"
        ],
        [
         "loser_rank",
         "float64",
         "55289",
         "34.972674139108875"
        ],
        [
         "loser_ioc",
         "object",
         "167",
         "0.1056346937226425"
        ],
        [
         "loser_name",
         "object",
         "0",
         "0.0"
        ],
        [
         "loser_hand",
         "object",
         "1",
         "0.0006325430761834881"
        ],
        [
         "w_bpSaved",
         "float64",
         "114094",
         "72.1693697340789"
        ],
        [
         "w_bpFaced",
         "float64",
         "114094",
         "72.1693697340789"
        ],
        [
         "l_bpSaved",
         "float64",
         "114091",
         "72.16747210485033"
        ],
        [
         "l_bpFaced",
         "float64",
         "114091",
         "72.16747210485033"
        ]
       ],
       "shape": {
        "columns": 3,
        "rows": 24
       }
      },
      "text/html": [
       "<div>\n",
       "<style scoped>\n",
       "    .dataframe tbody tr th:only-of-type {\n",
       "        vertical-align: middle;\n",
       "    }\n",
       "\n",
       "    .dataframe tbody tr th {\n",
       "        vertical-align: top;\n",
       "    }\n",
       "\n",
       "    .dataframe thead th {\n",
       "        text-align: right;\n",
       "    }\n",
       "</style>\n",
       "<table border=\"1\" class=\"dataframe\">\n",
       "  <thead>\n",
       "    <tr style=\"text-align: right;\">\n",
       "      <th></th>\n",
       "      <th>Type</th>\n",
       "      <th>Nombre de valeurs manquantes</th>\n",
       "      <th>Pourcentage de valeurs manquantes</th>\n",
       "    </tr>\n",
       "  </thead>\n",
       "  <tbody>\n",
       "    <tr>\n",
       "      <th>annee</th>\n",
       "      <td>int32</td>\n",
       "      <td>0</td>\n",
       "      <td>0.000000</td>\n",
       "    </tr>\n",
       "    <tr>\n",
       "      <th>tourney_date</th>\n",
       "      <td>object</td>\n",
       "      <td>0</td>\n",
       "      <td>0.000000</td>\n",
       "    </tr>\n",
       "    <tr>\n",
       "      <th>tourney_id</th>\n",
       "      <td>object</td>\n",
       "      <td>0</td>\n",
       "      <td>0.000000</td>\n",
       "    </tr>\n",
       "    <tr>\n",
       "      <th>tourney_name</th>\n",
       "      <td>object</td>\n",
       "      <td>0</td>\n",
       "      <td>0.000000</td>\n",
       "    </tr>\n",
       "    <tr>\n",
       "      <th>tourney_level</th>\n",
       "      <td>object</td>\n",
       "      <td>0</td>\n",
       "      <td>0.000000</td>\n",
       "    </tr>\n",
       "    <tr>\n",
       "      <th>surface</th>\n",
       "      <td>object</td>\n",
       "      <td>4839</td>\n",
       "      <td>3.060876</td>\n",
       "    </tr>\n",
       "    <tr>\n",
       "      <th>score</th>\n",
       "      <td>object</td>\n",
       "      <td>1</td>\n",
       "      <td>0.000633</td>\n",
       "    </tr>\n",
       "    <tr>\n",
       "      <th>round</th>\n",
       "      <td>object</td>\n",
       "      <td>0</td>\n",
       "      <td>0.000000</td>\n",
       "    </tr>\n",
       "    <tr>\n",
       "      <th>match_num</th>\n",
       "      <td>int64</td>\n",
       "      <td>0</td>\n",
       "      <td>0.000000</td>\n",
       "    </tr>\n",
       "    <tr>\n",
       "      <th>minutes</th>\n",
       "      <td>float64</td>\n",
       "      <td>135965</td>\n",
       "      <td>86.003719</td>\n",
       "    </tr>\n",
       "    <tr>\n",
       "      <th>winner_id</th>\n",
       "      <td>int64</td>\n",
       "      <td>0</td>\n",
       "      <td>0.000000</td>\n",
       "    </tr>\n",
       "    <tr>\n",
       "      <th>winner_rank</th>\n",
       "      <td>float64</td>\n",
       "      <td>51616</td>\n",
       "      <td>32.649343</td>\n",
       "    </tr>\n",
       "    <tr>\n",
       "      <th>winner_ioc</th>\n",
       "      <td>object</td>\n",
       "      <td>30</td>\n",
       "      <td>0.018976</td>\n",
       "    </tr>\n",
       "    <tr>\n",
       "      <th>winner_name</th>\n",
       "      <td>object</td>\n",
       "      <td>0</td>\n",
       "      <td>0.000000</td>\n",
       "    </tr>\n",
       "    <tr>\n",
       "      <th>winner_hand</th>\n",
       "      <td>object</td>\n",
       "      <td>0</td>\n",
       "      <td>0.000000</td>\n",
       "    </tr>\n",
       "    <tr>\n",
       "      <th>loser_id</th>\n",
       "      <td>int64</td>\n",
       "      <td>0</td>\n",
       "      <td>0.000000</td>\n",
       "    </tr>\n",
       "    <tr>\n",
       "      <th>loser_rank</th>\n",
       "      <td>float64</td>\n",
       "      <td>55289</td>\n",
       "      <td>34.972674</td>\n",
       "    </tr>\n",
       "    <tr>\n",
       "      <th>loser_ioc</th>\n",
       "      <td>object</td>\n",
       "      <td>167</td>\n",
       "      <td>0.105635</td>\n",
       "    </tr>\n",
       "    <tr>\n",
       "      <th>loser_name</th>\n",
       "      <td>object</td>\n",
       "      <td>0</td>\n",
       "      <td>0.000000</td>\n",
       "    </tr>\n",
       "    <tr>\n",
       "      <th>loser_hand</th>\n",
       "      <td>object</td>\n",
       "      <td>1</td>\n",
       "      <td>0.000633</td>\n",
       "    </tr>\n",
       "    <tr>\n",
       "      <th>w_bpSaved</th>\n",
       "      <td>float64</td>\n",
       "      <td>114094</td>\n",
       "      <td>72.169370</td>\n",
       "    </tr>\n",
       "    <tr>\n",
       "      <th>w_bpFaced</th>\n",
       "      <td>float64</td>\n",
       "      <td>114094</td>\n",
       "      <td>72.169370</td>\n",
       "    </tr>\n",
       "    <tr>\n",
       "      <th>l_bpSaved</th>\n",
       "      <td>float64</td>\n",
       "      <td>114091</td>\n",
       "      <td>72.167472</td>\n",
       "    </tr>\n",
       "    <tr>\n",
       "      <th>l_bpFaced</th>\n",
       "      <td>float64</td>\n",
       "      <td>114091</td>\n",
       "      <td>72.167472</td>\n",
       "    </tr>\n",
       "  </tbody>\n",
       "</table>\n",
       "</div>"
      ],
      "text/plain": [
       "                  Type  Nombre de valeurs manquantes  \\\n",
       "annee            int32                             0   \n",
       "tourney_date    object                             0   \n",
       "tourney_id      object                             0   \n",
       "tourney_name    object                             0   \n",
       "tourney_level   object                             0   \n",
       "surface         object                          4839   \n",
       "score           object                             1   \n",
       "round           object                             0   \n",
       "match_num        int64                             0   \n",
       "minutes        float64                        135965   \n",
       "winner_id        int64                             0   \n",
       "winner_rank    float64                         51616   \n",
       "winner_ioc      object                            30   \n",
       "winner_name     object                             0   \n",
       "winner_hand     object                             0   \n",
       "loser_id         int64                             0   \n",
       "loser_rank     float64                         55289   \n",
       "loser_ioc       object                           167   \n",
       "loser_name      object                             0   \n",
       "loser_hand      object                             1   \n",
       "w_bpSaved      float64                        114094   \n",
       "w_bpFaced      float64                        114094   \n",
       "l_bpSaved      float64                        114091   \n",
       "l_bpFaced      float64                        114091   \n",
       "\n",
       "               Pourcentage de valeurs manquantes  \n",
       "annee                                   0.000000  \n",
       "tourney_date                            0.000000  \n",
       "tourney_id                              0.000000  \n",
       "tourney_name                            0.000000  \n",
       "tourney_level                           0.000000  \n",
       "surface                                 3.060876  \n",
       "score                                   0.000633  \n",
       "round                                   0.000000  \n",
       "match_num                               0.000000  \n",
       "minutes                                86.003719  \n",
       "winner_id                               0.000000  \n",
       "winner_rank                            32.649343  \n",
       "winner_ioc                              0.018976  \n",
       "winner_name                             0.000000  \n",
       "winner_hand                             0.000000  \n",
       "loser_id                                0.000000  \n",
       "loser_rank                             34.972674  \n",
       "loser_ioc                               0.105635  \n",
       "loser_name                              0.000000  \n",
       "loser_hand                              0.000633  \n",
       "w_bpSaved                              72.169370  \n",
       "w_bpFaced                              72.169370  \n",
       "l_bpSaved                              72.167472  \n",
       "l_bpFaced                              72.167472  "
      ]
     },
     "metadata": {},
     "output_type": "display_data"
    }
   ],
   "source": [
    "wta_matches_1968_2024 = ajout_annee(wta_matches_1968_2024,'tourney_date')\n",
    "afficher(wta_matches_1968_2024)"
   ]
  },
  {
   "cell_type": "markdown",
   "id": "16100b4a",
   "metadata": {},
   "source": [
    "Enregistrement"
   ]
  },
  {
   "cell_type": "code",
   "execution_count": 267,
   "id": "f614e48c",
   "metadata": {},
   "outputs": [],
   "source": [
    "wta_matches_1968_2024.to_csv(\"../Donnees/wta_matches_1968_2024.csv\", index=False)"
   ]
  },
  {
   "cell_type": "markdown",
   "id": "21b68431",
   "metadata": {},
   "source": [
    "### matchs qualificatifs"
   ]
  },
  {
   "cell_type": "code",
   "execution_count": 268,
   "id": "26b379f7",
   "metadata": {},
   "outputs": [
    {
     "name": "stderr",
     "output_type": "stream",
     "text": [
      "C:\\Users\\33663\\AppData\\Local\\Temp\\ipykernel_118912\\2525029270.py:21: DtypeWarning: Columns (8,16) have mixed types. Specify dtype option on import or set low_memory=False.\n",
      "  data = pd.read_csv('../donnees_tennis/WTA/' + fichier, index_col=False)\n",
      "C:\\Users\\33663\\AppData\\Local\\Temp\\ipykernel_118912\\2525029270.py:21: DtypeWarning: Columns (8,16) have mixed types. Specify dtype option on import or set low_memory=False.\n",
      "  data = pd.read_csv('../donnees_tennis/WTA/' + fichier, index_col=False)\n",
      "C:\\Users\\33663\\AppData\\Local\\Temp\\ipykernel_118912\\2525029270.py:21: DtypeWarning: Columns (8,16) have mixed types. Specify dtype option on import or set low_memory=False.\n",
      "  data = pd.read_csv('../donnees_tennis/WTA/' + fichier, index_col=False)\n",
      "C:\\Users\\33663\\AppData\\Local\\Temp\\ipykernel_118912\\2525029270.py:21: DtypeWarning: Columns (4) have mixed types. Specify dtype option on import or set low_memory=False.\n",
      "  data = pd.read_csv('../donnees_tennis/WTA/' + fichier, index_col=False)\n"
     ]
    }
   ],
   "source": [
    "data_dict, formats_colonnes = recup_match(\"wta_matches_qual\",\"wta\",\"\",\"\")"
   ]
  },
  {
   "cell_type": "code",
   "execution_count": 269,
   "id": "619a5f81",
   "metadata": {},
   "outputs": [
    {
     "name": "stdout",
     "output_type": "stream",
     "text": [
      "\n",
      "Comparaison des formats de colonnes entre les DataFrames:\n",
      "------------------------------------------------------\n",
      "Erreur : Le fichier 'wta_matches_qual_itf_1969.csv' a des formats de colonnes différents.\n",
      "  - La colonne 'draw_size' a le format 'float64' dans 'wta_matches_qual_itf_1969.csv' au lieu de 'int64'.\n",
      "  - La colonne 'winner_seed' a le format 'object' dans 'wta_matches_qual_itf_1969.csv' au lieu de 'float64'.\n",
      "Erreur : Le fichier 'wta_matches_qual_itf_1970.csv' a des formats de colonnes différents.\n",
      "  - La colonne 'draw_size' a le format 'float64' dans 'wta_matches_qual_itf_1970.csv' au lieu de 'int64'.\n",
      "  - La colonne 'winner_seed' a le format 'object' dans 'wta_matches_qual_itf_1970.csv' au lieu de 'float64'.\n",
      "Erreur : Le fichier 'wta_matches_qual_itf_1971.csv' a des formats de colonnes différents.\n",
      "  - La colonne 'draw_size' a le format 'float64' dans 'wta_matches_qual_itf_1971.csv' au lieu de 'int64'.\n",
      "  - La colonne 'loser_entry' a le format 'object' dans 'wta_matches_qual_itf_1971.csv' au lieu de 'float64'.\n",
      "Erreur : Le fichier 'wta_matches_qual_itf_1972.csv' a des formats de colonnes différents.\n",
      "  - La colonne 'draw_size' a le format 'float64' dans 'wta_matches_qual_itf_1972.csv' au lieu de 'int64'.\n",
      "  - La colonne 'winner_entry' a le format 'object' dans 'wta_matches_qual_itf_1972.csv' au lieu de 'float64'.\n",
      "  - La colonne 'loser_entry' a le format 'object' dans 'wta_matches_qual_itf_1972.csv' au lieu de 'float64'.\n",
      "Erreur : Le fichier 'wta_matches_qual_itf_1973.csv' a des formats de colonnes différents.\n",
      "  - La colonne 'draw_size' a le format 'float64' dans 'wta_matches_qual_itf_1973.csv' au lieu de 'int64'.\n",
      "Erreur : Le fichier 'wta_matches_qual_itf_1974.csv' a des formats de colonnes différents.\n",
      "  - La colonne 'draw_size' a le format 'float64' dans 'wta_matches_qual_itf_1974.csv' au lieu de 'int64'.\n",
      "Erreur : Le fichier 'wta_matches_qual_itf_1975.csv' a des formats de colonnes différents.\n",
      "  - La colonne 'draw_size' a le format 'float64' dans 'wta_matches_qual_itf_1975.csv' au lieu de 'int64'.\n",
      "  - La colonne 'loser_entry' a le format 'object' dans 'wta_matches_qual_itf_1975.csv' au lieu de 'float64'.\n",
      "Erreur : Le fichier 'wta_matches_qual_itf_1976.csv' a des formats de colonnes différents.\n",
      "  - La colonne 'draw_size' a le format 'float64' dans 'wta_matches_qual_itf_1976.csv' au lieu de 'int64'.\n",
      "  - La colonne 'winner_entry' a le format 'object' dans 'wta_matches_qual_itf_1976.csv' au lieu de 'float64'.\n",
      "  - La colonne 'loser_entry' a le format 'object' dans 'wta_matches_qual_itf_1976.csv' au lieu de 'float64'.\n",
      "Erreur : Le fichier 'wta_matches_qual_itf_1977.csv' a des formats de colonnes différents.\n",
      "  - La colonne 'draw_size' a le format 'float64' dans 'wta_matches_qual_itf_1977.csv' au lieu de 'int64'.\n",
      "  - La colonne 'loser_entry' a le format 'object' dans 'wta_matches_qual_itf_1977.csv' au lieu de 'float64'.\n",
      "Erreur : Le fichier 'wta_matches_qual_itf_1978.csv' a des formats de colonnes différents.\n",
      "  - La colonne 'winner_entry' a le format 'object' dans 'wta_matches_qual_itf_1978.csv' au lieu de 'float64'.\n",
      "  - La colonne 'loser_entry' a le format 'object' dans 'wta_matches_qual_itf_1978.csv' au lieu de 'float64'.\n",
      "Erreur : Le fichier 'wta_matches_qual_itf_1979.csv' a des formats de colonnes différents.\n",
      "  - La colonne 'draw_size' a le format 'float64' dans 'wta_matches_qual_itf_1979.csv' au lieu de 'int64'.\n",
      "  - La colonne 'winner_entry' a le format 'object' dans 'wta_matches_qual_itf_1979.csv' au lieu de 'float64'.\n",
      "  - La colonne 'loser_entry' a le format 'object' dans 'wta_matches_qual_itf_1979.csv' au lieu de 'float64'.\n",
      "Erreur : Le fichier 'wta_matches_qual_itf_1980.csv' a des formats de colonnes différents.\n",
      "  - La colonne 'draw_size' a le format 'float64' dans 'wta_matches_qual_itf_1980.csv' au lieu de 'int64'.\n",
      "  - La colonne 'winner_entry' a le format 'object' dans 'wta_matches_qual_itf_1980.csv' au lieu de 'float64'.\n",
      "  - La colonne 'loser_entry' a le format 'object' dans 'wta_matches_qual_itf_1980.csv' au lieu de 'float64'.\n",
      "Erreur : Le fichier 'wta_matches_qual_itf_1981.csv' a des formats de colonnes différents.\n",
      "  - La colonne 'draw_size' a le format 'float64' dans 'wta_matches_qual_itf_1981.csv' au lieu de 'int64'.\n",
      "  - La colonne 'winner_entry' a le format 'object' dans 'wta_matches_qual_itf_1981.csv' au lieu de 'float64'.\n",
      "  - La colonne 'loser_entry' a le format 'object' dans 'wta_matches_qual_itf_1981.csv' au lieu de 'float64'.\n",
      "Erreur : Le fichier 'wta_matches_qual_itf_1982.csv' a des formats de colonnes différents.\n",
      "  - La colonne 'draw_size' a le format 'float64' dans 'wta_matches_qual_itf_1982.csv' au lieu de 'int64'.\n",
      "  - La colonne 'winner_entry' a le format 'object' dans 'wta_matches_qual_itf_1982.csv' au lieu de 'float64'.\n",
      "  - La colonne 'loser_entry' a le format 'object' dans 'wta_matches_qual_itf_1982.csv' au lieu de 'float64'.\n",
      "Erreur : Le fichier 'wta_matches_qual_itf_1983.csv' a des formats de colonnes différents.\n",
      "  - La colonne 'draw_size' a le format 'float64' dans 'wta_matches_qual_itf_1983.csv' au lieu de 'int64'.\n",
      "  - La colonne 'winner_seed' a le format 'object' dans 'wta_matches_qual_itf_1983.csv' au lieu de 'float64'.\n",
      "  - La colonne 'winner_entry' a le format 'object' dans 'wta_matches_qual_itf_1983.csv' au lieu de 'float64'.\n",
      "  - La colonne 'loser_entry' a le format 'object' dans 'wta_matches_qual_itf_1983.csv' au lieu de 'float64'.\n",
      "Erreur : Le fichier 'wta_matches_qual_itf_1984.csv' a des formats de colonnes différents.\n",
      "  - La colonne 'draw_size' a le format 'float64' dans 'wta_matches_qual_itf_1984.csv' au lieu de 'int64'.\n",
      "  - La colonne 'winner_seed' a le format 'object' dans 'wta_matches_qual_itf_1984.csv' au lieu de 'float64'.\n",
      "  - La colonne 'winner_entry' a le format 'object' dans 'wta_matches_qual_itf_1984.csv' au lieu de 'float64'.\n",
      "  - La colonne 'loser_entry' a le format 'object' dans 'wta_matches_qual_itf_1984.csv' au lieu de 'float64'.\n",
      "Erreur : Le fichier 'wta_matches_qual_itf_1985.csv' a des formats de colonnes différents.\n",
      "  - La colonne 'draw_size' a le format 'float64' dans 'wta_matches_qual_itf_1985.csv' au lieu de 'int64'.\n",
      "  - La colonne 'winner_entry' a le format 'object' dans 'wta_matches_qual_itf_1985.csv' au lieu de 'float64'.\n",
      "  - La colonne 'loser_entry' a le format 'object' dans 'wta_matches_qual_itf_1985.csv' au lieu de 'float64'.\n",
      "Erreur : Le fichier 'wta_matches_qual_itf_1986.csv' a des formats de colonnes différents.\n",
      "  - La colonne 'draw_size' a le format 'float64' dans 'wta_matches_qual_itf_1986.csv' au lieu de 'int64'.\n",
      "  - La colonne 'loser_entry' a le format 'object' dans 'wta_matches_qual_itf_1986.csv' au lieu de 'float64'.\n",
      "Erreur : Le fichier 'wta_matches_qual_itf_1987.csv' a des formats de colonnes différents.\n",
      "  - La colonne 'draw_size' a le format 'float64' dans 'wta_matches_qual_itf_1987.csv' au lieu de 'int64'.\n",
      "  - La colonne 'winner_entry' a le format 'object' dans 'wta_matches_qual_itf_1987.csv' au lieu de 'float64'.\n",
      "  - La colonne 'loser_entry' a le format 'object' dans 'wta_matches_qual_itf_1987.csv' au lieu de 'float64'.\n",
      "Erreur : Le fichier 'wta_matches_qual_itf_1988.csv' a des formats de colonnes différents.\n",
      "  - La colonne 'winner_entry' a le format 'object' dans 'wta_matches_qual_itf_1988.csv' au lieu de 'float64'.\n",
      "  - La colonne 'loser_entry' a le format 'object' dans 'wta_matches_qual_itf_1988.csv' au lieu de 'float64'.\n",
      "Erreur : Le fichier 'wta_matches_qual_itf_1989.csv' a des formats de colonnes différents.\n",
      "  - La colonne 'winner_entry' a le format 'object' dans 'wta_matches_qual_itf_1989.csv' au lieu de 'float64'.\n",
      "  - La colonne 'loser_entry' a le format 'object' dans 'wta_matches_qual_itf_1989.csv' au lieu de 'float64'.\n",
      "Erreur : Le fichier 'wta_matches_qual_itf_1990.csv' a des formats de colonnes différents.\n",
      "  - La colonne 'winner_entry' a le format 'object' dans 'wta_matches_qual_itf_1990.csv' au lieu de 'float64'.\n",
      "  - La colonne 'loser_entry' a le format 'object' dans 'wta_matches_qual_itf_1990.csv' au lieu de 'float64'.\n",
      "Erreur : Le fichier 'wta_matches_qual_itf_1991.csv' a des formats de colonnes différents.\n",
      "  - La colonne 'winner_entry' a le format 'object' dans 'wta_matches_qual_itf_1991.csv' au lieu de 'float64'.\n",
      "  - La colonne 'loser_entry' a le format 'object' dans 'wta_matches_qual_itf_1991.csv' au lieu de 'float64'.\n",
      "Erreur : Le fichier 'wta_matches_qual_itf_1992.csv' a des formats de colonnes différents.\n",
      "  - La colonne 'winner_entry' a le format 'object' dans 'wta_matches_qual_itf_1992.csv' au lieu de 'float64'.\n",
      "  - La colonne 'loser_entry' a le format 'object' dans 'wta_matches_qual_itf_1992.csv' au lieu de 'float64'.\n",
      "Erreur : Le fichier 'wta_matches_qual_itf_1993.csv' a des formats de colonnes différents.\n",
      "  - La colonne 'winner_entry' a le format 'object' dans 'wta_matches_qual_itf_1993.csv' au lieu de 'float64'.\n",
      "  - La colonne 'loser_entry' a le format 'object' dans 'wta_matches_qual_itf_1993.csv' au lieu de 'float64'.\n",
      "Erreur : Le fichier 'wta_matches_qual_itf_1994.csv' a des formats de colonnes différents.\n",
      "  - La colonne 'winner_entry' a le format 'object' dans 'wta_matches_qual_itf_1994.csv' au lieu de 'float64'.\n",
      "  - La colonne 'loser_entry' a le format 'object' dans 'wta_matches_qual_itf_1994.csv' au lieu de 'float64'.\n",
      "Erreur : Le fichier 'wta_matches_qual_itf_1995.csv' a des formats de colonnes différents.\n",
      "  - La colonne 'winner_entry' a le format 'object' dans 'wta_matches_qual_itf_1995.csv' au lieu de 'float64'.\n",
      "  - La colonne 'loser_entry' a le format 'object' dans 'wta_matches_qual_itf_1995.csv' au lieu de 'float64'.\n",
      "Erreur : Le fichier 'wta_matches_qual_itf_1996.csv' a des formats de colonnes différents.\n",
      "  - La colonne 'winner_entry' a le format 'object' dans 'wta_matches_qual_itf_1996.csv' au lieu de 'float64'.\n",
      "  - La colonne 'loser_entry' a le format 'object' dans 'wta_matches_qual_itf_1996.csv' au lieu de 'float64'.\n",
      "Erreur : Le fichier 'wta_matches_qual_itf_1997.csv' a des formats de colonnes différents.\n",
      "  - La colonne 'winner_entry' a le format 'object' dans 'wta_matches_qual_itf_1997.csv' au lieu de 'float64'.\n",
      "  - La colonne 'loser_entry' a le format 'object' dans 'wta_matches_qual_itf_1997.csv' au lieu de 'float64'.\n",
      "Erreur : Le fichier 'wta_matches_qual_itf_1998.csv' a des formats de colonnes différents.\n",
      "  - La colonne 'winner_entry' a le format 'object' dans 'wta_matches_qual_itf_1998.csv' au lieu de 'float64'.\n",
      "  - La colonne 'loser_entry' a le format 'object' dans 'wta_matches_qual_itf_1998.csv' au lieu de 'float64'.\n",
      "Erreur : Le fichier 'wta_matches_qual_itf_1999.csv' a des formats de colonnes différents.\n",
      "  - La colonne 'winner_entry' a le format 'object' dans 'wta_matches_qual_itf_1999.csv' au lieu de 'float64'.\n",
      "  - La colonne 'loser_entry' a le format 'object' dans 'wta_matches_qual_itf_1999.csv' au lieu de 'float64'.\n",
      "Erreur : Le fichier 'wta_matches_qual_itf_2000.csv' a des formats de colonnes différents.\n",
      "  - La colonne 'winner_entry' a le format 'object' dans 'wta_matches_qual_itf_2000.csv' au lieu de 'float64'.\n",
      "  - La colonne 'loser_entry' a le format 'object' dans 'wta_matches_qual_itf_2000.csv' au lieu de 'float64'.\n",
      "Erreur : Le fichier 'wta_matches_qual_itf_2001.csv' a des formats de colonnes différents.\n",
      "  - La colonne 'winner_entry' a le format 'object' dans 'wta_matches_qual_itf_2001.csv' au lieu de 'float64'.\n",
      "  - La colonne 'loser_entry' a le format 'object' dans 'wta_matches_qual_itf_2001.csv' au lieu de 'float64'.\n",
      "Erreur : Le fichier 'wta_matches_qual_itf_2002.csv' a des formats de colonnes différents.\n",
      "  - La colonne 'winner_entry' a le format 'object' dans 'wta_matches_qual_itf_2002.csv' au lieu de 'float64'.\n",
      "  - La colonne 'loser_entry' a le format 'object' dans 'wta_matches_qual_itf_2002.csv' au lieu de 'float64'.\n",
      "Erreur : Le fichier 'wta_matches_qual_itf_2003.csv' a des formats de colonnes différents.\n",
      "  - La colonne 'winner_entry' a le format 'object' dans 'wta_matches_qual_itf_2003.csv' au lieu de 'float64'.\n",
      "  - La colonne 'loser_entry' a le format 'object' dans 'wta_matches_qual_itf_2003.csv' au lieu de 'float64'.\n",
      "Erreur : Le fichier 'wta_matches_qual_itf_2004.csv' a des formats de colonnes différents.\n",
      "  - La colonne 'winner_entry' a le format 'object' dans 'wta_matches_qual_itf_2004.csv' au lieu de 'float64'.\n",
      "  - La colonne 'loser_entry' a le format 'object' dans 'wta_matches_qual_itf_2004.csv' au lieu de 'float64'.\n",
      "Erreur : Le fichier 'wta_matches_qual_itf_2005.csv' a des formats de colonnes différents.\n",
      "  - La colonne 'winner_entry' a le format 'object' dans 'wta_matches_qual_itf_2005.csv' au lieu de 'float64'.\n",
      "  - La colonne 'loser_entry' a le format 'object' dans 'wta_matches_qual_itf_2005.csv' au lieu de 'float64'.\n",
      "Erreur : Le fichier 'wta_matches_qual_itf_2006.csv' a des formats de colonnes différents.\n",
      "  - La colonne 'winner_entry' a le format 'object' dans 'wta_matches_qual_itf_2006.csv' au lieu de 'float64'.\n",
      "  - La colonne 'loser_entry' a le format 'object' dans 'wta_matches_qual_itf_2006.csv' au lieu de 'float64'.\n",
      "Erreur : Le fichier 'wta_matches_qual_itf_2007.csv' a des formats de colonnes différents.\n",
      "  - La colonne 'winner_entry' a le format 'object' dans 'wta_matches_qual_itf_2007.csv' au lieu de 'float64'.\n",
      "  - La colonne 'loser_entry' a le format 'object' dans 'wta_matches_qual_itf_2007.csv' au lieu de 'float64'.\n",
      "Erreur : Le fichier 'wta_matches_qual_itf_2008.csv' a des formats de colonnes différents.\n",
      "  - La colonne 'winner_entry' a le format 'object' dans 'wta_matches_qual_itf_2008.csv' au lieu de 'float64'.\n",
      "  - La colonne 'loser_entry' a le format 'object' dans 'wta_matches_qual_itf_2008.csv' au lieu de 'float64'.\n",
      "Erreur : Le fichier 'wta_matches_qual_itf_2009.csv' a des formats de colonnes différents.\n",
      "  - La colonne 'winner_entry' a le format 'object' dans 'wta_matches_qual_itf_2009.csv' au lieu de 'float64'.\n",
      "  - La colonne 'loser_entry' a le format 'object' dans 'wta_matches_qual_itf_2009.csv' au lieu de 'float64'.\n",
      "Erreur : Le fichier 'wta_matches_qual_itf_2010.csv' a des formats de colonnes différents.\n",
      "  - La colonne 'winner_entry' a le format 'object' dans 'wta_matches_qual_itf_2010.csv' au lieu de 'float64'.\n",
      "  - La colonne 'loser_entry' a le format 'object' dans 'wta_matches_qual_itf_2010.csv' au lieu de 'float64'.\n",
      "Erreur : Le fichier 'wta_matches_qual_itf_2011.csv' a des formats de colonnes différents.\n",
      "  - La colonne 'winner_entry' a le format 'object' dans 'wta_matches_qual_itf_2011.csv' au lieu de 'float64'.\n",
      "  - La colonne 'loser_entry' a le format 'object' dans 'wta_matches_qual_itf_2011.csv' au lieu de 'float64'.\n",
      "Erreur : Le fichier 'wta_matches_qual_itf_2012.csv' a des formats de colonnes différents.\n",
      "  - La colonne 'winner_entry' a le format 'object' dans 'wta_matches_qual_itf_2012.csv' au lieu de 'float64'.\n",
      "  - La colonne 'loser_entry' a le format 'object' dans 'wta_matches_qual_itf_2012.csv' au lieu de 'float64'.\n",
      "Erreur : Le fichier 'wta_matches_qual_itf_2013.csv' a des formats de colonnes différents.\n",
      "  - La colonne 'winner_entry' a le format 'object' dans 'wta_matches_qual_itf_2013.csv' au lieu de 'float64'.\n",
      "  - La colonne 'loser_entry' a le format 'object' dans 'wta_matches_qual_itf_2013.csv' au lieu de 'float64'.\n",
      "Erreur : Le fichier 'wta_matches_qual_itf_2014.csv' a des formats de colonnes différents.\n",
      "  - La colonne 'winner_entry' a le format 'object' dans 'wta_matches_qual_itf_2014.csv' au lieu de 'float64'.\n",
      "  - La colonne 'loser_entry' a le format 'object' dans 'wta_matches_qual_itf_2014.csv' au lieu de 'float64'.\n",
      "Erreur : Le fichier 'wta_matches_qual_itf_2015.csv' a des formats de colonnes différents.\n",
      "  - La colonne 'winner_entry' a le format 'object' dans 'wta_matches_qual_itf_2015.csv' au lieu de 'float64'.\n",
      "  - La colonne 'loser_entry' a le format 'object' dans 'wta_matches_qual_itf_2015.csv' au lieu de 'float64'.\n",
      "Erreur : Le fichier 'wta_matches_qual_itf_2016.csv' a des formats de colonnes différents.\n",
      "  - La colonne 'winner_entry' a le format 'object' dans 'wta_matches_qual_itf_2016.csv' au lieu de 'float64'.\n",
      "  - La colonne 'loser_entry' a le format 'object' dans 'wta_matches_qual_itf_2016.csv' au lieu de 'float64'.\n",
      "Erreur : Le fichier 'wta_matches_qual_itf_2017.csv' a des formats de colonnes différents.\n",
      "  - La colonne 'winner_entry' a le format 'object' dans 'wta_matches_qual_itf_2017.csv' au lieu de 'float64'.\n",
      "  - La colonne 'loser_entry' a le format 'object' dans 'wta_matches_qual_itf_2017.csv' au lieu de 'float64'.\n",
      "Erreur : Le fichier 'wta_matches_qual_itf_2018.csv' a des formats de colonnes différents.\n",
      "  - La colonne 'winner_entry' a le format 'object' dans 'wta_matches_qual_itf_2018.csv' au lieu de 'float64'.\n",
      "  - La colonne 'loser_entry' a le format 'object' dans 'wta_matches_qual_itf_2018.csv' au lieu de 'float64'.\n",
      "Erreur : Le fichier 'wta_matches_qual_itf_2019.csv' a des formats de colonnes différents.\n",
      "  - La colonne 'winner_seed' a le format 'object' dans 'wta_matches_qual_itf_2019.csv' au lieu de 'float64'.\n",
      "  - La colonne 'winner_entry' a le format 'object' dans 'wta_matches_qual_itf_2019.csv' au lieu de 'float64'.\n",
      "  - La colonne 'loser_seed' a le format 'object' dans 'wta_matches_qual_itf_2019.csv' au lieu de 'float64'.\n",
      "  - La colonne 'loser_entry' a le format 'object' dans 'wta_matches_qual_itf_2019.csv' au lieu de 'float64'.\n",
      "Erreur : Le fichier 'wta_matches_qual_itf_2020.csv' a des formats de colonnes différents.\n",
      "  - La colonne 'winner_seed' a le format 'object' dans 'wta_matches_qual_itf_2020.csv' au lieu de 'float64'.\n",
      "  - La colonne 'winner_entry' a le format 'object' dans 'wta_matches_qual_itf_2020.csv' au lieu de 'float64'.\n",
      "  - La colonne 'loser_seed' a le format 'object' dans 'wta_matches_qual_itf_2020.csv' au lieu de 'float64'.\n",
      "  - La colonne 'loser_entry' a le format 'object' dans 'wta_matches_qual_itf_2020.csv' au lieu de 'float64'.\n",
      "Erreur : Le fichier 'wta_matches_qual_itf_2021.csv' a des formats de colonnes différents.\n",
      "  - La colonne 'winner_seed' a le format 'object' dans 'wta_matches_qual_itf_2021.csv' au lieu de 'float64'.\n",
      "  - La colonne 'winner_entry' a le format 'object' dans 'wta_matches_qual_itf_2021.csv' au lieu de 'float64'.\n",
      "  - La colonne 'loser_seed' a le format 'object' dans 'wta_matches_qual_itf_2021.csv' au lieu de 'float64'.\n",
      "  - La colonne 'loser_entry' a le format 'object' dans 'wta_matches_qual_itf_2021.csv' au lieu de 'float64'.\n",
      "Erreur : Le fichier 'wta_matches_qual_itf_2022.csv' a des formats de colonnes différents.\n",
      "  - La colonne 'winner_seed' a le format 'object' dans 'wta_matches_qual_itf_2022.csv' au lieu de 'float64'.\n",
      "  - La colonne 'winner_entry' a le format 'object' dans 'wta_matches_qual_itf_2022.csv' au lieu de 'float64'.\n",
      "  - La colonne 'loser_seed' a le format 'object' dans 'wta_matches_qual_itf_2022.csv' au lieu de 'float64'.\n",
      "  - La colonne 'loser_entry' a le format 'object' dans 'wta_matches_qual_itf_2022.csv' au lieu de 'float64'.\n",
      "Erreur : Le fichier 'wta_matches_qual_itf_2023.csv' a des formats de colonnes différents.\n",
      "  - La colonne 'winner_entry' a le format 'object' dans 'wta_matches_qual_itf_2023.csv' au lieu de 'float64'.\n",
      "  - La colonne 'loser_entry' a le format 'object' dans 'wta_matches_qual_itf_2023.csv' au lieu de 'float64'.\n",
      "Erreur : Le fichier 'wta_matches_qual_itf_2024.csv' a des formats de colonnes différents.\n",
      "  - La colonne 'winner_entry' a le format 'object' dans 'wta_matches_qual_itf_2024.csv' au lieu de 'float64'.\n",
      "  - La colonne 'loser_entry' a le format 'object' dans 'wta_matches_qual_itf_2024.csv' au lieu de 'float64'.\n"
     ]
    }
   ],
   "source": [
    "comp_format(formats_colonnes)"
   ]
  },
  {
   "cell_type": "code",
   "execution_count": 270,
   "id": "6783d340",
   "metadata": {},
   "outputs": [
    {
     "data": {
      "text/plain": [
       "array([32, 16, 15, 31, 29, 96], dtype=int64)"
      ]
     },
     "execution_count": 270,
     "metadata": {},
     "output_type": "execute_result"
    }
   ],
   "source": [
    "data_dict['wta_matches_qual_itf_1968.csv']['draw_size'].unique()"
   ]
  },
  {
   "cell_type": "code",
   "execution_count": 271,
   "id": "f6ba5b54",
   "metadata": {},
   "outputs": [
    {
     "data": {
      "text/plain": [
       "array([ 5., nan,  6.,  4.])"
      ]
     },
     "execution_count": 271,
     "metadata": {},
     "output_type": "execute_result"
    }
   ],
   "source": [
    "data_dict['wta_matches_qual_itf_1968.csv']['winner_seed'].unique()"
   ]
  },
  {
   "cell_type": "code",
   "execution_count": 272,
   "id": "835b742e",
   "metadata": {},
   "outputs": [
    {
     "data": {
      "text/plain": [
       "array([16., 32., 31., 30., nan, 64., 96.])"
      ]
     },
     "execution_count": 272,
     "metadata": {},
     "output_type": "execute_result"
    }
   ],
   "source": [
    "data_dict['wta_matches_qual_itf_1969.csv']['draw_size'].unique()"
   ]
  },
  {
   "cell_type": "code",
   "execution_count": 273,
   "id": "06539e96",
   "metadata": {},
   "outputs": [
    {
     "data": {
      "text/plain": [
       "array([nan, '4', '6', '5', '3', '7', '8', '2F'], dtype=object)"
      ]
     },
     "execution_count": 273,
     "metadata": {},
     "output_type": "execute_result"
    }
   ],
   "source": [
    "data_dict['wta_matches_qual_itf_1969.csv']['winner_seed'].unique()"
   ]
  },
  {
   "cell_type": "code",
   "execution_count": null,
   "id": "2a625394",
   "metadata": {},
   "outputs": [],
   "source": [
    "for fichier in data_dict.keys():\n",
    "    data_dict, formats_colonnes = modif_format(\n",
    "        fichier,\n",
    "        'winner_seed',\n",
    "        'str',\n",
    "        data_dict,\n",
    "        formats_colonnes\n",
    "        )\n",
    "\n",
    "    data_dict, formats_colonnes = modif_format(\n",
    "        fichier,\n",
    "        'draw_size',\n",
    "        'int64',\n",
    "        data_dict,\n",
    "        formats_colonnes\n",
    "        )"
   ]
  },
  {
   "cell_type": "code",
   "execution_count": 275,
   "id": "5a8fae88",
   "metadata": {},
   "outputs": [
    {
     "name": "stdout",
     "output_type": "stream",
     "text": [
      "\n",
      "Comparaison des formats de colonnes entre les DataFrames:\n",
      "------------------------------------------------------\n",
      "Le fichier 'wta_matches_qual_itf_1969.csv' a le même format de colonnes que les précédents.\n",
      "Le fichier 'wta_matches_qual_itf_1970.csv' a le même format de colonnes que les précédents.\n",
      "Erreur : Le fichier 'wta_matches_qual_itf_1971.csv' a des formats de colonnes différents.\n",
      "  - La colonne 'loser_entry' a le format 'object' dans 'wta_matches_qual_itf_1971.csv' au lieu de 'float64'.\n",
      "Erreur : Le fichier 'wta_matches_qual_itf_1972.csv' a des formats de colonnes différents.\n",
      "  - La colonne 'winner_entry' a le format 'object' dans 'wta_matches_qual_itf_1972.csv' au lieu de 'float64'.\n",
      "  - La colonne 'loser_entry' a le format 'object' dans 'wta_matches_qual_itf_1972.csv' au lieu de 'float64'.\n",
      "Le fichier 'wta_matches_qual_itf_1973.csv' a le même format de colonnes que les précédents.\n",
      "Le fichier 'wta_matches_qual_itf_1974.csv' a le même format de colonnes que les précédents.\n",
      "Erreur : Le fichier 'wta_matches_qual_itf_1975.csv' a des formats de colonnes différents.\n",
      "  - La colonne 'loser_entry' a le format 'object' dans 'wta_matches_qual_itf_1975.csv' au lieu de 'float64'.\n",
      "Erreur : Le fichier 'wta_matches_qual_itf_1976.csv' a des formats de colonnes différents.\n",
      "  - La colonne 'winner_entry' a le format 'object' dans 'wta_matches_qual_itf_1976.csv' au lieu de 'float64'.\n",
      "  - La colonne 'loser_entry' a le format 'object' dans 'wta_matches_qual_itf_1976.csv' au lieu de 'float64'.\n",
      "Erreur : Le fichier 'wta_matches_qual_itf_1977.csv' a des formats de colonnes différents.\n",
      "  - La colonne 'loser_entry' a le format 'object' dans 'wta_matches_qual_itf_1977.csv' au lieu de 'float64'.\n",
      "Erreur : Le fichier 'wta_matches_qual_itf_1978.csv' a des formats de colonnes différents.\n",
      "  - La colonne 'winner_entry' a le format 'object' dans 'wta_matches_qual_itf_1978.csv' au lieu de 'float64'.\n",
      "  - La colonne 'loser_entry' a le format 'object' dans 'wta_matches_qual_itf_1978.csv' au lieu de 'float64'.\n",
      "Erreur : Le fichier 'wta_matches_qual_itf_1979.csv' a des formats de colonnes différents.\n",
      "  - La colonne 'winner_entry' a le format 'object' dans 'wta_matches_qual_itf_1979.csv' au lieu de 'float64'.\n",
      "  - La colonne 'loser_entry' a le format 'object' dans 'wta_matches_qual_itf_1979.csv' au lieu de 'float64'.\n",
      "Erreur : Le fichier 'wta_matches_qual_itf_1980.csv' a des formats de colonnes différents.\n",
      "  - La colonne 'winner_entry' a le format 'object' dans 'wta_matches_qual_itf_1980.csv' au lieu de 'float64'.\n",
      "  - La colonne 'loser_entry' a le format 'object' dans 'wta_matches_qual_itf_1980.csv' au lieu de 'float64'.\n",
      "Erreur : Le fichier 'wta_matches_qual_itf_1981.csv' a des formats de colonnes différents.\n",
      "  - La colonne 'winner_entry' a le format 'object' dans 'wta_matches_qual_itf_1981.csv' au lieu de 'float64'.\n",
      "  - La colonne 'loser_entry' a le format 'object' dans 'wta_matches_qual_itf_1981.csv' au lieu de 'float64'.\n",
      "Erreur : Le fichier 'wta_matches_qual_itf_1982.csv' a des formats de colonnes différents.\n",
      "  - La colonne 'winner_entry' a le format 'object' dans 'wta_matches_qual_itf_1982.csv' au lieu de 'float64'.\n",
      "  - La colonne 'loser_entry' a le format 'object' dans 'wta_matches_qual_itf_1982.csv' au lieu de 'float64'.\n",
      "Erreur : Le fichier 'wta_matches_qual_itf_1983.csv' a des formats de colonnes différents.\n",
      "  - La colonne 'winner_entry' a le format 'object' dans 'wta_matches_qual_itf_1983.csv' au lieu de 'float64'.\n",
      "  - La colonne 'loser_entry' a le format 'object' dans 'wta_matches_qual_itf_1983.csv' au lieu de 'float64'.\n",
      "Erreur : Le fichier 'wta_matches_qual_itf_1984.csv' a des formats de colonnes différents.\n",
      "  - La colonne 'winner_entry' a le format 'object' dans 'wta_matches_qual_itf_1984.csv' au lieu de 'float64'.\n",
      "  - La colonne 'loser_entry' a le format 'object' dans 'wta_matches_qual_itf_1984.csv' au lieu de 'float64'.\n",
      "Erreur : Le fichier 'wta_matches_qual_itf_1985.csv' a des formats de colonnes différents.\n",
      "  - La colonne 'winner_entry' a le format 'object' dans 'wta_matches_qual_itf_1985.csv' au lieu de 'float64'.\n",
      "  - La colonne 'loser_entry' a le format 'object' dans 'wta_matches_qual_itf_1985.csv' au lieu de 'float64'.\n",
      "Erreur : Le fichier 'wta_matches_qual_itf_1986.csv' a des formats de colonnes différents.\n",
      "  - La colonne 'loser_entry' a le format 'object' dans 'wta_matches_qual_itf_1986.csv' au lieu de 'float64'.\n",
      "Erreur : Le fichier 'wta_matches_qual_itf_1987.csv' a des formats de colonnes différents.\n",
      "  - La colonne 'winner_entry' a le format 'object' dans 'wta_matches_qual_itf_1987.csv' au lieu de 'float64'.\n",
      "  - La colonne 'loser_entry' a le format 'object' dans 'wta_matches_qual_itf_1987.csv' au lieu de 'float64'.\n",
      "Erreur : Le fichier 'wta_matches_qual_itf_1988.csv' a des formats de colonnes différents.\n",
      "  - La colonne 'winner_entry' a le format 'object' dans 'wta_matches_qual_itf_1988.csv' au lieu de 'float64'.\n",
      "  - La colonne 'loser_entry' a le format 'object' dans 'wta_matches_qual_itf_1988.csv' au lieu de 'float64'.\n",
      "Erreur : Le fichier 'wta_matches_qual_itf_1989.csv' a des formats de colonnes différents.\n",
      "  - La colonne 'winner_entry' a le format 'object' dans 'wta_matches_qual_itf_1989.csv' au lieu de 'float64'.\n",
      "  - La colonne 'loser_entry' a le format 'object' dans 'wta_matches_qual_itf_1989.csv' au lieu de 'float64'.\n",
      "Erreur : Le fichier 'wta_matches_qual_itf_1990.csv' a des formats de colonnes différents.\n",
      "  - La colonne 'winner_entry' a le format 'object' dans 'wta_matches_qual_itf_1990.csv' au lieu de 'float64'.\n",
      "  - La colonne 'loser_entry' a le format 'object' dans 'wta_matches_qual_itf_1990.csv' au lieu de 'float64'.\n",
      "Erreur : Le fichier 'wta_matches_qual_itf_1991.csv' a des formats de colonnes différents.\n",
      "  - La colonne 'winner_entry' a le format 'object' dans 'wta_matches_qual_itf_1991.csv' au lieu de 'float64'.\n",
      "  - La colonne 'loser_entry' a le format 'object' dans 'wta_matches_qual_itf_1991.csv' au lieu de 'float64'.\n",
      "Erreur : Le fichier 'wta_matches_qual_itf_1992.csv' a des formats de colonnes différents.\n",
      "  - La colonne 'winner_entry' a le format 'object' dans 'wta_matches_qual_itf_1992.csv' au lieu de 'float64'.\n",
      "  - La colonne 'loser_entry' a le format 'object' dans 'wta_matches_qual_itf_1992.csv' au lieu de 'float64'.\n",
      "Erreur : Le fichier 'wta_matches_qual_itf_1993.csv' a des formats de colonnes différents.\n",
      "  - La colonne 'winner_entry' a le format 'object' dans 'wta_matches_qual_itf_1993.csv' au lieu de 'float64'.\n",
      "  - La colonne 'loser_entry' a le format 'object' dans 'wta_matches_qual_itf_1993.csv' au lieu de 'float64'.\n",
      "Erreur : Le fichier 'wta_matches_qual_itf_1994.csv' a des formats de colonnes différents.\n",
      "  - La colonne 'winner_entry' a le format 'object' dans 'wta_matches_qual_itf_1994.csv' au lieu de 'float64'.\n",
      "  - La colonne 'loser_entry' a le format 'object' dans 'wta_matches_qual_itf_1994.csv' au lieu de 'float64'.\n",
      "Erreur : Le fichier 'wta_matches_qual_itf_1995.csv' a des formats de colonnes différents.\n",
      "  - La colonne 'winner_entry' a le format 'object' dans 'wta_matches_qual_itf_1995.csv' au lieu de 'float64'.\n",
      "  - La colonne 'loser_entry' a le format 'object' dans 'wta_matches_qual_itf_1995.csv' au lieu de 'float64'.\n",
      "Erreur : Le fichier 'wta_matches_qual_itf_1996.csv' a des formats de colonnes différents.\n",
      "  - La colonne 'winner_entry' a le format 'object' dans 'wta_matches_qual_itf_1996.csv' au lieu de 'float64'.\n",
      "  - La colonne 'loser_entry' a le format 'object' dans 'wta_matches_qual_itf_1996.csv' au lieu de 'float64'.\n",
      "Erreur : Le fichier 'wta_matches_qual_itf_1997.csv' a des formats de colonnes différents.\n",
      "  - La colonne 'winner_entry' a le format 'object' dans 'wta_matches_qual_itf_1997.csv' au lieu de 'float64'.\n",
      "  - La colonne 'loser_entry' a le format 'object' dans 'wta_matches_qual_itf_1997.csv' au lieu de 'float64'.\n",
      "Erreur : Le fichier 'wta_matches_qual_itf_1998.csv' a des formats de colonnes différents.\n",
      "  - La colonne 'winner_entry' a le format 'object' dans 'wta_matches_qual_itf_1998.csv' au lieu de 'float64'.\n",
      "  - La colonne 'loser_entry' a le format 'object' dans 'wta_matches_qual_itf_1998.csv' au lieu de 'float64'.\n",
      "Erreur : Le fichier 'wta_matches_qual_itf_1999.csv' a des formats de colonnes différents.\n",
      "  - La colonne 'winner_entry' a le format 'object' dans 'wta_matches_qual_itf_1999.csv' au lieu de 'float64'.\n",
      "  - La colonne 'loser_entry' a le format 'object' dans 'wta_matches_qual_itf_1999.csv' au lieu de 'float64'.\n",
      "Erreur : Le fichier 'wta_matches_qual_itf_2000.csv' a des formats de colonnes différents.\n",
      "  - La colonne 'winner_entry' a le format 'object' dans 'wta_matches_qual_itf_2000.csv' au lieu de 'float64'.\n",
      "  - La colonne 'loser_entry' a le format 'object' dans 'wta_matches_qual_itf_2000.csv' au lieu de 'float64'.\n",
      "Erreur : Le fichier 'wta_matches_qual_itf_2001.csv' a des formats de colonnes différents.\n",
      "  - La colonne 'winner_entry' a le format 'object' dans 'wta_matches_qual_itf_2001.csv' au lieu de 'float64'.\n",
      "  - La colonne 'loser_entry' a le format 'object' dans 'wta_matches_qual_itf_2001.csv' au lieu de 'float64'.\n",
      "Erreur : Le fichier 'wta_matches_qual_itf_2002.csv' a des formats de colonnes différents.\n",
      "  - La colonne 'winner_entry' a le format 'object' dans 'wta_matches_qual_itf_2002.csv' au lieu de 'float64'.\n",
      "  - La colonne 'loser_entry' a le format 'object' dans 'wta_matches_qual_itf_2002.csv' au lieu de 'float64'.\n",
      "Erreur : Le fichier 'wta_matches_qual_itf_2003.csv' a des formats de colonnes différents.\n",
      "  - La colonne 'winner_entry' a le format 'object' dans 'wta_matches_qual_itf_2003.csv' au lieu de 'float64'.\n",
      "  - La colonne 'loser_entry' a le format 'object' dans 'wta_matches_qual_itf_2003.csv' au lieu de 'float64'.\n",
      "Erreur : Le fichier 'wta_matches_qual_itf_2004.csv' a des formats de colonnes différents.\n",
      "  - La colonne 'winner_entry' a le format 'object' dans 'wta_matches_qual_itf_2004.csv' au lieu de 'float64'.\n",
      "  - La colonne 'loser_entry' a le format 'object' dans 'wta_matches_qual_itf_2004.csv' au lieu de 'float64'.\n",
      "Erreur : Le fichier 'wta_matches_qual_itf_2005.csv' a des formats de colonnes différents.\n",
      "  - La colonne 'winner_entry' a le format 'object' dans 'wta_matches_qual_itf_2005.csv' au lieu de 'float64'.\n",
      "  - La colonne 'loser_entry' a le format 'object' dans 'wta_matches_qual_itf_2005.csv' au lieu de 'float64'.\n",
      "Erreur : Le fichier 'wta_matches_qual_itf_2006.csv' a des formats de colonnes différents.\n",
      "  - La colonne 'winner_entry' a le format 'object' dans 'wta_matches_qual_itf_2006.csv' au lieu de 'float64'.\n",
      "  - La colonne 'loser_entry' a le format 'object' dans 'wta_matches_qual_itf_2006.csv' au lieu de 'float64'.\n",
      "Erreur : Le fichier 'wta_matches_qual_itf_2007.csv' a des formats de colonnes différents.\n",
      "  - La colonne 'winner_entry' a le format 'object' dans 'wta_matches_qual_itf_2007.csv' au lieu de 'float64'.\n",
      "  - La colonne 'loser_entry' a le format 'object' dans 'wta_matches_qual_itf_2007.csv' au lieu de 'float64'.\n",
      "Erreur : Le fichier 'wta_matches_qual_itf_2008.csv' a des formats de colonnes différents.\n",
      "  - La colonne 'winner_entry' a le format 'object' dans 'wta_matches_qual_itf_2008.csv' au lieu de 'float64'.\n",
      "  - La colonne 'loser_entry' a le format 'object' dans 'wta_matches_qual_itf_2008.csv' au lieu de 'float64'.\n",
      "Erreur : Le fichier 'wta_matches_qual_itf_2009.csv' a des formats de colonnes différents.\n",
      "  - La colonne 'winner_entry' a le format 'object' dans 'wta_matches_qual_itf_2009.csv' au lieu de 'float64'.\n",
      "  - La colonne 'loser_entry' a le format 'object' dans 'wta_matches_qual_itf_2009.csv' au lieu de 'float64'.\n",
      "Erreur : Le fichier 'wta_matches_qual_itf_2010.csv' a des formats de colonnes différents.\n",
      "  - La colonne 'winner_entry' a le format 'object' dans 'wta_matches_qual_itf_2010.csv' au lieu de 'float64'.\n",
      "  - La colonne 'loser_entry' a le format 'object' dans 'wta_matches_qual_itf_2010.csv' au lieu de 'float64'.\n",
      "Erreur : Le fichier 'wta_matches_qual_itf_2011.csv' a des formats de colonnes différents.\n",
      "  - La colonne 'winner_entry' a le format 'object' dans 'wta_matches_qual_itf_2011.csv' au lieu de 'float64'.\n",
      "  - La colonne 'loser_entry' a le format 'object' dans 'wta_matches_qual_itf_2011.csv' au lieu de 'float64'.\n",
      "Erreur : Le fichier 'wta_matches_qual_itf_2012.csv' a des formats de colonnes différents.\n",
      "  - La colonne 'winner_entry' a le format 'object' dans 'wta_matches_qual_itf_2012.csv' au lieu de 'float64'.\n",
      "  - La colonne 'loser_entry' a le format 'object' dans 'wta_matches_qual_itf_2012.csv' au lieu de 'float64'.\n",
      "Erreur : Le fichier 'wta_matches_qual_itf_2013.csv' a des formats de colonnes différents.\n",
      "  - La colonne 'winner_entry' a le format 'object' dans 'wta_matches_qual_itf_2013.csv' au lieu de 'float64'.\n",
      "  - La colonne 'loser_entry' a le format 'object' dans 'wta_matches_qual_itf_2013.csv' au lieu de 'float64'.\n",
      "Erreur : Le fichier 'wta_matches_qual_itf_2014.csv' a des formats de colonnes différents.\n",
      "  - La colonne 'winner_entry' a le format 'object' dans 'wta_matches_qual_itf_2014.csv' au lieu de 'float64'.\n",
      "  - La colonne 'loser_entry' a le format 'object' dans 'wta_matches_qual_itf_2014.csv' au lieu de 'float64'.\n",
      "Erreur : Le fichier 'wta_matches_qual_itf_2015.csv' a des formats de colonnes différents.\n",
      "  - La colonne 'winner_entry' a le format 'object' dans 'wta_matches_qual_itf_2015.csv' au lieu de 'float64'.\n",
      "  - La colonne 'loser_entry' a le format 'object' dans 'wta_matches_qual_itf_2015.csv' au lieu de 'float64'.\n",
      "Erreur : Le fichier 'wta_matches_qual_itf_2016.csv' a des formats de colonnes différents.\n",
      "  - La colonne 'winner_entry' a le format 'object' dans 'wta_matches_qual_itf_2016.csv' au lieu de 'float64'.\n",
      "  - La colonne 'loser_entry' a le format 'object' dans 'wta_matches_qual_itf_2016.csv' au lieu de 'float64'.\n",
      "Erreur : Le fichier 'wta_matches_qual_itf_2017.csv' a des formats de colonnes différents.\n",
      "  - La colonne 'winner_entry' a le format 'object' dans 'wta_matches_qual_itf_2017.csv' au lieu de 'float64'.\n",
      "  - La colonne 'loser_entry' a le format 'object' dans 'wta_matches_qual_itf_2017.csv' au lieu de 'float64'.\n",
      "Erreur : Le fichier 'wta_matches_qual_itf_2018.csv' a des formats de colonnes différents.\n",
      "  - La colonne 'winner_entry' a le format 'object' dans 'wta_matches_qual_itf_2018.csv' au lieu de 'float64'.\n",
      "  - La colonne 'loser_entry' a le format 'object' dans 'wta_matches_qual_itf_2018.csv' au lieu de 'float64'.\n",
      "Erreur : Le fichier 'wta_matches_qual_itf_2019.csv' a des formats de colonnes différents.\n",
      "  - La colonne 'winner_entry' a le format 'object' dans 'wta_matches_qual_itf_2019.csv' au lieu de 'float64'.\n",
      "  - La colonne 'loser_seed' a le format 'object' dans 'wta_matches_qual_itf_2019.csv' au lieu de 'float64'.\n",
      "  - La colonne 'loser_entry' a le format 'object' dans 'wta_matches_qual_itf_2019.csv' au lieu de 'float64'.\n",
      "Erreur : Le fichier 'wta_matches_qual_itf_2020.csv' a des formats de colonnes différents.\n",
      "  - La colonne 'winner_entry' a le format 'object' dans 'wta_matches_qual_itf_2020.csv' au lieu de 'float64'.\n",
      "  - La colonne 'loser_seed' a le format 'object' dans 'wta_matches_qual_itf_2020.csv' au lieu de 'float64'.\n",
      "  - La colonne 'loser_entry' a le format 'object' dans 'wta_matches_qual_itf_2020.csv' au lieu de 'float64'.\n",
      "Erreur : Le fichier 'wta_matches_qual_itf_2021.csv' a des formats de colonnes différents.\n",
      "  - La colonne 'winner_entry' a le format 'object' dans 'wta_matches_qual_itf_2021.csv' au lieu de 'float64'.\n",
      "  - La colonne 'loser_seed' a le format 'object' dans 'wta_matches_qual_itf_2021.csv' au lieu de 'float64'.\n",
      "  - La colonne 'loser_entry' a le format 'object' dans 'wta_matches_qual_itf_2021.csv' au lieu de 'float64'.\n",
      "Erreur : Le fichier 'wta_matches_qual_itf_2022.csv' a des formats de colonnes différents.\n",
      "  - La colonne 'winner_entry' a le format 'object' dans 'wta_matches_qual_itf_2022.csv' au lieu de 'float64'.\n",
      "  - La colonne 'loser_seed' a le format 'object' dans 'wta_matches_qual_itf_2022.csv' au lieu de 'float64'.\n",
      "  - La colonne 'loser_entry' a le format 'object' dans 'wta_matches_qual_itf_2022.csv' au lieu de 'float64'.\n",
      "Erreur : Le fichier 'wta_matches_qual_itf_2023.csv' a des formats de colonnes différents.\n",
      "  - La colonne 'winner_entry' a le format 'object' dans 'wta_matches_qual_itf_2023.csv' au lieu de 'float64'.\n",
      "  - La colonne 'loser_entry' a le format 'object' dans 'wta_matches_qual_itf_2023.csv' au lieu de 'float64'.\n",
      "Erreur : Le fichier 'wta_matches_qual_itf_2024.csv' a des formats de colonnes différents.\n",
      "  - La colonne 'winner_entry' a le format 'object' dans 'wta_matches_qual_itf_2024.csv' au lieu de 'float64'.\n",
      "  - La colonne 'loser_entry' a le format 'object' dans 'wta_matches_qual_itf_2024.csv' au lieu de 'float64'.\n"
     ]
    }
   ],
   "source": [
    "comp_format(formats_colonnes)"
   ]
  },
  {
   "cell_type": "code",
   "execution_count": 276,
   "id": "8e77c5e7",
   "metadata": {},
   "outputs": [
    {
     "data": {
      "text/plain": [
       "array([nan])"
      ]
     },
     "execution_count": 276,
     "metadata": {},
     "output_type": "execute_result"
    }
   ],
   "source": [
    "data_dict['wta_matches_qual_itf_1968.csv']['loser_entry'].unique()"
   ]
  },
  {
   "cell_type": "code",
   "execution_count": 277,
   "id": "07870600",
   "metadata": {},
   "outputs": [
    {
     "data": {
      "text/plain": [
       "array([nan])"
      ]
     },
     "execution_count": 277,
     "metadata": {},
     "output_type": "execute_result"
    }
   ],
   "source": [
    "data_dict['wta_matches_qual_itf_1968.csv']['winner_entry'].unique()"
   ]
  },
  {
   "cell_type": "code",
   "execution_count": 278,
   "id": "ca2987c6",
   "metadata": {},
   "outputs": [
    {
     "data": {
      "text/plain": [
       "array([nan, 'Q'], dtype=object)"
      ]
     },
     "execution_count": 278,
     "metadata": {},
     "output_type": "execute_result"
    }
   ],
   "source": [
    "data_dict['wta_matches_qual_itf_1972.csv']['loser_entry'].unique()"
   ]
  },
  {
   "cell_type": "code",
   "execution_count": 279,
   "id": "a1ef33d3",
   "metadata": {},
   "outputs": [
    {
     "data": {
      "text/plain": [
       "array([nan, 'Q'], dtype=object)"
      ]
     },
     "execution_count": 279,
     "metadata": {},
     "output_type": "execute_result"
    }
   ],
   "source": [
    "data_dict['wta_matches_qual_itf_1972.csv']['winner_entry'].unique()"
   ]
  },
  {
   "cell_type": "code",
   "execution_count": null,
   "id": "525918f3",
   "metadata": {},
   "outputs": [],
   "source": [
    "for fichier in data_dict.keys():\n",
    "    data_dict, formats_colonnes = modif_format(\n",
    "        fichier,\n",
    "        'winner_entry',\n",
    "        'str',\n",
    "        data_dict,\n",
    "        formats_colonnes\n",
    "        )\n",
    "\n",
    "    data_dict, formats_colonnes = modif_format(\n",
    "        fichier,\n",
    "        'loser_entry',\n",
    "        'str',\n",
    "        data_dict,\n",
    "        formats_colonnes\n",
    "        )"
   ]
  },
  {
   "cell_type": "code",
   "execution_count": 281,
   "id": "b92b98b8",
   "metadata": {},
   "outputs": [
    {
     "name": "stdout",
     "output_type": "stream",
     "text": [
      "\n",
      "Comparaison des formats de colonnes entre les DataFrames:\n",
      "------------------------------------------------------\n",
      "Le fichier 'wta_matches_qual_itf_1969.csv' a le même format de colonnes que les précédents.\n",
      "Le fichier 'wta_matches_qual_itf_1970.csv' a le même format de colonnes que les précédents.\n",
      "Le fichier 'wta_matches_qual_itf_1971.csv' a le même format de colonnes que les précédents.\n",
      "Le fichier 'wta_matches_qual_itf_1972.csv' a le même format de colonnes que les précédents.\n",
      "Le fichier 'wta_matches_qual_itf_1973.csv' a le même format de colonnes que les précédents.\n",
      "Le fichier 'wta_matches_qual_itf_1974.csv' a le même format de colonnes que les précédents.\n",
      "Le fichier 'wta_matches_qual_itf_1975.csv' a le même format de colonnes que les précédents.\n",
      "Le fichier 'wta_matches_qual_itf_1976.csv' a le même format de colonnes que les précédents.\n",
      "Le fichier 'wta_matches_qual_itf_1977.csv' a le même format de colonnes que les précédents.\n",
      "Le fichier 'wta_matches_qual_itf_1978.csv' a le même format de colonnes que les précédents.\n",
      "Le fichier 'wta_matches_qual_itf_1979.csv' a le même format de colonnes que les précédents.\n",
      "Le fichier 'wta_matches_qual_itf_1980.csv' a le même format de colonnes que les précédents.\n",
      "Le fichier 'wta_matches_qual_itf_1981.csv' a le même format de colonnes que les précédents.\n",
      "Le fichier 'wta_matches_qual_itf_1982.csv' a le même format de colonnes que les précédents.\n",
      "Le fichier 'wta_matches_qual_itf_1983.csv' a le même format de colonnes que les précédents.\n",
      "Le fichier 'wta_matches_qual_itf_1984.csv' a le même format de colonnes que les précédents.\n",
      "Le fichier 'wta_matches_qual_itf_1985.csv' a le même format de colonnes que les précédents.\n",
      "Le fichier 'wta_matches_qual_itf_1986.csv' a le même format de colonnes que les précédents.\n",
      "Le fichier 'wta_matches_qual_itf_1987.csv' a le même format de colonnes que les précédents.\n",
      "Le fichier 'wta_matches_qual_itf_1988.csv' a le même format de colonnes que les précédents.\n",
      "Le fichier 'wta_matches_qual_itf_1989.csv' a le même format de colonnes que les précédents.\n",
      "Le fichier 'wta_matches_qual_itf_1990.csv' a le même format de colonnes que les précédents.\n",
      "Le fichier 'wta_matches_qual_itf_1991.csv' a le même format de colonnes que les précédents.\n",
      "Le fichier 'wta_matches_qual_itf_1992.csv' a le même format de colonnes que les précédents.\n",
      "Le fichier 'wta_matches_qual_itf_1993.csv' a le même format de colonnes que les précédents.\n",
      "Le fichier 'wta_matches_qual_itf_1994.csv' a le même format de colonnes que les précédents.\n",
      "Le fichier 'wta_matches_qual_itf_1995.csv' a le même format de colonnes que les précédents.\n",
      "Le fichier 'wta_matches_qual_itf_1996.csv' a le même format de colonnes que les précédents.\n",
      "Le fichier 'wta_matches_qual_itf_1997.csv' a le même format de colonnes que les précédents.\n",
      "Le fichier 'wta_matches_qual_itf_1998.csv' a le même format de colonnes que les précédents.\n",
      "Le fichier 'wta_matches_qual_itf_1999.csv' a le même format de colonnes que les précédents.\n",
      "Le fichier 'wta_matches_qual_itf_2000.csv' a le même format de colonnes que les précédents.\n",
      "Le fichier 'wta_matches_qual_itf_2001.csv' a le même format de colonnes que les précédents.\n",
      "Le fichier 'wta_matches_qual_itf_2002.csv' a le même format de colonnes que les précédents.\n",
      "Le fichier 'wta_matches_qual_itf_2003.csv' a le même format de colonnes que les précédents.\n",
      "Le fichier 'wta_matches_qual_itf_2004.csv' a le même format de colonnes que les précédents.\n",
      "Le fichier 'wta_matches_qual_itf_2005.csv' a le même format de colonnes que les précédents.\n",
      "Le fichier 'wta_matches_qual_itf_2006.csv' a le même format de colonnes que les précédents.\n",
      "Le fichier 'wta_matches_qual_itf_2007.csv' a le même format de colonnes que les précédents.\n",
      "Le fichier 'wta_matches_qual_itf_2008.csv' a le même format de colonnes que les précédents.\n",
      "Le fichier 'wta_matches_qual_itf_2009.csv' a le même format de colonnes que les précédents.\n",
      "Le fichier 'wta_matches_qual_itf_2010.csv' a le même format de colonnes que les précédents.\n",
      "Le fichier 'wta_matches_qual_itf_2011.csv' a le même format de colonnes que les précédents.\n",
      "Le fichier 'wta_matches_qual_itf_2012.csv' a le même format de colonnes que les précédents.\n",
      "Le fichier 'wta_matches_qual_itf_2013.csv' a le même format de colonnes que les précédents.\n",
      "Le fichier 'wta_matches_qual_itf_2014.csv' a le même format de colonnes que les précédents.\n",
      "Le fichier 'wta_matches_qual_itf_2015.csv' a le même format de colonnes que les précédents.\n",
      "Le fichier 'wta_matches_qual_itf_2016.csv' a le même format de colonnes que les précédents.\n",
      "Le fichier 'wta_matches_qual_itf_2017.csv' a le même format de colonnes que les précédents.\n",
      "Le fichier 'wta_matches_qual_itf_2018.csv' a le même format de colonnes que les précédents.\n",
      "Erreur : Le fichier 'wta_matches_qual_itf_2019.csv' a des formats de colonnes différents.\n",
      "  - La colonne 'loser_seed' a le format 'object' dans 'wta_matches_qual_itf_2019.csv' au lieu de 'float64'.\n",
      "Erreur : Le fichier 'wta_matches_qual_itf_2020.csv' a des formats de colonnes différents.\n",
      "  - La colonne 'loser_seed' a le format 'object' dans 'wta_matches_qual_itf_2020.csv' au lieu de 'float64'.\n",
      "Erreur : Le fichier 'wta_matches_qual_itf_2021.csv' a des formats de colonnes différents.\n",
      "  - La colonne 'loser_seed' a le format 'object' dans 'wta_matches_qual_itf_2021.csv' au lieu de 'float64'.\n",
      "Erreur : Le fichier 'wta_matches_qual_itf_2022.csv' a des formats de colonnes différents.\n",
      "  - La colonne 'loser_seed' a le format 'object' dans 'wta_matches_qual_itf_2022.csv' au lieu de 'float64'.\n",
      "Le fichier 'wta_matches_qual_itf_2023.csv' a le même format de colonnes que les précédents.\n",
      "Le fichier 'wta_matches_qual_itf_2024.csv' a le même format de colonnes que les précédents.\n"
     ]
    }
   ],
   "source": [
    "comp_format(formats_colonnes)"
   ]
  },
  {
   "cell_type": "code",
   "execution_count": null,
   "id": "047c1147",
   "metadata": {},
   "outputs": [],
   "source": [
    "for fichier in data_dict.keys():\n",
    "    data_dict, formats_colonnes = modif_format(\n",
    "        fichier,\n",
    "        'loser_seed',\n",
    "        'str',\n",
    "        data_dict,\n",
    "        formats_colonnes\n",
    "        )"
   ]
  },
  {
   "cell_type": "code",
   "execution_count": 283,
   "id": "ba1b6729",
   "metadata": {},
   "outputs": [
    {
     "name": "stdout",
     "output_type": "stream",
     "text": [
      "\n",
      "Comparaison des formats de colonnes entre les DataFrames:\n",
      "------------------------------------------------------\n",
      "Le fichier 'wta_matches_qual_itf_1969.csv' a le même format de colonnes que les précédents.\n",
      "Le fichier 'wta_matches_qual_itf_1970.csv' a le même format de colonnes que les précédents.\n",
      "Le fichier 'wta_matches_qual_itf_1971.csv' a le même format de colonnes que les précédents.\n",
      "Le fichier 'wta_matches_qual_itf_1972.csv' a le même format de colonnes que les précédents.\n",
      "Le fichier 'wta_matches_qual_itf_1973.csv' a le même format de colonnes que les précédents.\n",
      "Le fichier 'wta_matches_qual_itf_1974.csv' a le même format de colonnes que les précédents.\n",
      "Le fichier 'wta_matches_qual_itf_1975.csv' a le même format de colonnes que les précédents.\n",
      "Le fichier 'wta_matches_qual_itf_1976.csv' a le même format de colonnes que les précédents.\n",
      "Le fichier 'wta_matches_qual_itf_1977.csv' a le même format de colonnes que les précédents.\n",
      "Le fichier 'wta_matches_qual_itf_1978.csv' a le même format de colonnes que les précédents.\n",
      "Le fichier 'wta_matches_qual_itf_1979.csv' a le même format de colonnes que les précédents.\n",
      "Le fichier 'wta_matches_qual_itf_1980.csv' a le même format de colonnes que les précédents.\n",
      "Le fichier 'wta_matches_qual_itf_1981.csv' a le même format de colonnes que les précédents.\n",
      "Le fichier 'wta_matches_qual_itf_1982.csv' a le même format de colonnes que les précédents.\n",
      "Le fichier 'wta_matches_qual_itf_1983.csv' a le même format de colonnes que les précédents.\n",
      "Le fichier 'wta_matches_qual_itf_1984.csv' a le même format de colonnes que les précédents.\n",
      "Le fichier 'wta_matches_qual_itf_1985.csv' a le même format de colonnes que les précédents.\n",
      "Le fichier 'wta_matches_qual_itf_1986.csv' a le même format de colonnes que les précédents.\n",
      "Le fichier 'wta_matches_qual_itf_1987.csv' a le même format de colonnes que les précédents.\n",
      "Le fichier 'wta_matches_qual_itf_1988.csv' a le même format de colonnes que les précédents.\n",
      "Le fichier 'wta_matches_qual_itf_1989.csv' a le même format de colonnes que les précédents.\n",
      "Le fichier 'wta_matches_qual_itf_1990.csv' a le même format de colonnes que les précédents.\n",
      "Le fichier 'wta_matches_qual_itf_1991.csv' a le même format de colonnes que les précédents.\n",
      "Le fichier 'wta_matches_qual_itf_1992.csv' a le même format de colonnes que les précédents.\n",
      "Le fichier 'wta_matches_qual_itf_1993.csv' a le même format de colonnes que les précédents.\n",
      "Le fichier 'wta_matches_qual_itf_1994.csv' a le même format de colonnes que les précédents.\n",
      "Le fichier 'wta_matches_qual_itf_1995.csv' a le même format de colonnes que les précédents.\n",
      "Le fichier 'wta_matches_qual_itf_1996.csv' a le même format de colonnes que les précédents.\n",
      "Le fichier 'wta_matches_qual_itf_1997.csv' a le même format de colonnes que les précédents.\n",
      "Le fichier 'wta_matches_qual_itf_1998.csv' a le même format de colonnes que les précédents.\n",
      "Le fichier 'wta_matches_qual_itf_1999.csv' a le même format de colonnes que les précédents.\n",
      "Le fichier 'wta_matches_qual_itf_2000.csv' a le même format de colonnes que les précédents.\n",
      "Le fichier 'wta_matches_qual_itf_2001.csv' a le même format de colonnes que les précédents.\n",
      "Le fichier 'wta_matches_qual_itf_2002.csv' a le même format de colonnes que les précédents.\n",
      "Le fichier 'wta_matches_qual_itf_2003.csv' a le même format de colonnes que les précédents.\n",
      "Le fichier 'wta_matches_qual_itf_2004.csv' a le même format de colonnes que les précédents.\n",
      "Le fichier 'wta_matches_qual_itf_2005.csv' a le même format de colonnes que les précédents.\n",
      "Le fichier 'wta_matches_qual_itf_2006.csv' a le même format de colonnes que les précédents.\n",
      "Le fichier 'wta_matches_qual_itf_2007.csv' a le même format de colonnes que les précédents.\n",
      "Le fichier 'wta_matches_qual_itf_2008.csv' a le même format de colonnes que les précédents.\n",
      "Le fichier 'wta_matches_qual_itf_2009.csv' a le même format de colonnes que les précédents.\n",
      "Le fichier 'wta_matches_qual_itf_2010.csv' a le même format de colonnes que les précédents.\n",
      "Le fichier 'wta_matches_qual_itf_2011.csv' a le même format de colonnes que les précédents.\n",
      "Le fichier 'wta_matches_qual_itf_2012.csv' a le même format de colonnes que les précédents.\n",
      "Le fichier 'wta_matches_qual_itf_2013.csv' a le même format de colonnes que les précédents.\n",
      "Le fichier 'wta_matches_qual_itf_2014.csv' a le même format de colonnes que les précédents.\n",
      "Le fichier 'wta_matches_qual_itf_2015.csv' a le même format de colonnes que les précédents.\n",
      "Le fichier 'wta_matches_qual_itf_2016.csv' a le même format de colonnes que les précédents.\n",
      "Le fichier 'wta_matches_qual_itf_2017.csv' a le même format de colonnes que les précédents.\n",
      "Le fichier 'wta_matches_qual_itf_2018.csv' a le même format de colonnes que les précédents.\n",
      "Le fichier 'wta_matches_qual_itf_2019.csv' a le même format de colonnes que les précédents.\n",
      "Le fichier 'wta_matches_qual_itf_2020.csv' a le même format de colonnes que les précédents.\n",
      "Le fichier 'wta_matches_qual_itf_2021.csv' a le même format de colonnes que les précédents.\n",
      "Le fichier 'wta_matches_qual_itf_2022.csv' a le même format de colonnes que les précédents.\n",
      "Le fichier 'wta_matches_qual_itf_2023.csv' a le même format de colonnes que les précédents.\n",
      "Le fichier 'wta_matches_qual_itf_2024.csv' a le même format de colonnes que les précédents.\n"
     ]
    }
   ],
   "source": [
    "comp_format(formats_colonnes)"
   ]
  },
  {
   "cell_type": "markdown",
   "id": "67d5bd56",
   "metadata": {},
   "source": [
    "Concatenation"
   ]
  },
  {
   "cell_type": "code",
   "execution_count": 284,
   "id": "07c4adc6",
   "metadata": {},
   "outputs": [],
   "source": [
    "wta_matches_qual_1968_2024 = concatenation(data_dict)"
   ]
  },
  {
   "cell_type": "code",
   "execution_count": 285,
   "id": "14d98c81",
   "metadata": {},
   "outputs": [],
   "source": [
    "wta_matches_qual_1968_2024 = wta_matches_qual_1968_2024[var_interet]"
   ]
  },
  {
   "cell_type": "code",
   "execution_count": 286,
   "id": "a23a1936",
   "metadata": {},
   "outputs": [
    {
     "data": {
      "application/vnd.microsoft.datawrangler.viewer.v0+json": {
       "columns": [
        {
         "name": "index",
         "rawType": "object",
         "type": "string"
        },
        {
         "name": "Type",
         "rawType": "object",
         "type": "unknown"
        },
        {
         "name": "Nombre de valeurs manquantes",
         "rawType": "int64",
         "type": "integer"
        },
        {
         "name": "Pourcentage de valeurs manquantes",
         "rawType": "float64",
         "type": "float"
        }
       ],
       "conversionMethod": "pd.DataFrame",
       "ref": "58ee5210-efe0-479f-984a-fe3d5703b73b",
       "rows": [
        [
         "annee",
         "int32",
         "0",
         "0.0"
        ],
        [
         "tourney_date",
         "object",
         "0",
         "0.0"
        ],
        [
         "tourney_id",
         "object",
         "0",
         "0.0"
        ],
        [
         "tourney_name",
         "object",
         "0",
         "0.0"
        ],
        [
         "tourney_level",
         "object",
         "0",
         "0.0"
        ],
        [
         "surface",
         "object",
         "1650",
         "0.2778315667174622"
        ],
        [
         "score",
         "object",
         "196",
         "0.03300302247068035"
        ],
        [
         "round",
         "object",
         "0",
         "0.0"
        ],
        [
         "match_num",
         "int64",
         "0",
         "0.0"
        ],
        [
         "minutes",
         "float64",
         "576868",
         "97.13463044192058"
        ],
        [
         "winner_id",
         "int64",
         "0",
         "0.0"
        ],
        [
         "winner_rank",
         "float64",
         "124575",
         "20.97628328716839"
        ],
        [
         "winner_ioc",
         "object",
         "40",
         "0.006735310708302113"
        ],
        [
         "winner_name",
         "object",
         "0",
         "0.0"
        ],
        [
         "winner_hand",
         "object",
         "101",
         "0.017006659538462834"
        ],
        [
         "loser_id",
         "int64",
         "0",
         "0.0"
        ],
        [
         "loser_rank",
         "float64",
         "189436",
         "31.89775798344797"
        ],
        [
         "loser_ioc",
         "object",
         "191",
         "0.03216110863214259"
        ],
        [
         "loser_name",
         "object",
         "0",
         "0.0"
        ],
        [
         "loser_hand",
         "object",
         "82",
         "0.01380738695201933"
        ],
        [
         "w_bpSaved",
         "float64",
         "569813",
         "95.94669001574378"
        ],
        [
         "w_bpFaced",
         "float64",
         "569813",
         "95.94669001574378"
        ],
        [
         "l_bpSaved",
         "float64",
         "569811",
         "95.94635325020838"
        ],
        [
         "l_bpFaced",
         "float64",
         "566186",
         "95.3359657172685"
        ]
       ],
       "shape": {
        "columns": 3,
        "rows": 24
       }
      },
      "text/html": [
       "<div>\n",
       "<style scoped>\n",
       "    .dataframe tbody tr th:only-of-type {\n",
       "        vertical-align: middle;\n",
       "    }\n",
       "\n",
       "    .dataframe tbody tr th {\n",
       "        vertical-align: top;\n",
       "    }\n",
       "\n",
       "    .dataframe thead th {\n",
       "        text-align: right;\n",
       "    }\n",
       "</style>\n",
       "<table border=\"1\" class=\"dataframe\">\n",
       "  <thead>\n",
       "    <tr style=\"text-align: right;\">\n",
       "      <th></th>\n",
       "      <th>Type</th>\n",
       "      <th>Nombre de valeurs manquantes</th>\n",
       "      <th>Pourcentage de valeurs manquantes</th>\n",
       "    </tr>\n",
       "  </thead>\n",
       "  <tbody>\n",
       "    <tr>\n",
       "      <th>annee</th>\n",
       "      <td>int32</td>\n",
       "      <td>0</td>\n",
       "      <td>0.000000</td>\n",
       "    </tr>\n",
       "    <tr>\n",
       "      <th>tourney_date</th>\n",
       "      <td>object</td>\n",
       "      <td>0</td>\n",
       "      <td>0.000000</td>\n",
       "    </tr>\n",
       "    <tr>\n",
       "      <th>tourney_id</th>\n",
       "      <td>object</td>\n",
       "      <td>0</td>\n",
       "      <td>0.000000</td>\n",
       "    </tr>\n",
       "    <tr>\n",
       "      <th>tourney_name</th>\n",
       "      <td>object</td>\n",
       "      <td>0</td>\n",
       "      <td>0.000000</td>\n",
       "    </tr>\n",
       "    <tr>\n",
       "      <th>tourney_level</th>\n",
       "      <td>object</td>\n",
       "      <td>0</td>\n",
       "      <td>0.000000</td>\n",
       "    </tr>\n",
       "    <tr>\n",
       "      <th>surface</th>\n",
       "      <td>object</td>\n",
       "      <td>1650</td>\n",
       "      <td>0.277832</td>\n",
       "    </tr>\n",
       "    <tr>\n",
       "      <th>score</th>\n",
       "      <td>object</td>\n",
       "      <td>196</td>\n",
       "      <td>0.033003</td>\n",
       "    </tr>\n",
       "    <tr>\n",
       "      <th>round</th>\n",
       "      <td>object</td>\n",
       "      <td>0</td>\n",
       "      <td>0.000000</td>\n",
       "    </tr>\n",
       "    <tr>\n",
       "      <th>match_num</th>\n",
       "      <td>int64</td>\n",
       "      <td>0</td>\n",
       "      <td>0.000000</td>\n",
       "    </tr>\n",
       "    <tr>\n",
       "      <th>minutes</th>\n",
       "      <td>float64</td>\n",
       "      <td>576868</td>\n",
       "      <td>97.134630</td>\n",
       "    </tr>\n",
       "    <tr>\n",
       "      <th>winner_id</th>\n",
       "      <td>int64</td>\n",
       "      <td>0</td>\n",
       "      <td>0.000000</td>\n",
       "    </tr>\n",
       "    <tr>\n",
       "      <th>winner_rank</th>\n",
       "      <td>float64</td>\n",
       "      <td>124575</td>\n",
       "      <td>20.976283</td>\n",
       "    </tr>\n",
       "    <tr>\n",
       "      <th>winner_ioc</th>\n",
       "      <td>object</td>\n",
       "      <td>40</td>\n",
       "      <td>0.006735</td>\n",
       "    </tr>\n",
       "    <tr>\n",
       "      <th>winner_name</th>\n",
       "      <td>object</td>\n",
       "      <td>0</td>\n",
       "      <td>0.000000</td>\n",
       "    </tr>\n",
       "    <tr>\n",
       "      <th>winner_hand</th>\n",
       "      <td>object</td>\n",
       "      <td>101</td>\n",
       "      <td>0.017007</td>\n",
       "    </tr>\n",
       "    <tr>\n",
       "      <th>loser_id</th>\n",
       "      <td>int64</td>\n",
       "      <td>0</td>\n",
       "      <td>0.000000</td>\n",
       "    </tr>\n",
       "    <tr>\n",
       "      <th>loser_rank</th>\n",
       "      <td>float64</td>\n",
       "      <td>189436</td>\n",
       "      <td>31.897758</td>\n",
       "    </tr>\n",
       "    <tr>\n",
       "      <th>loser_ioc</th>\n",
       "      <td>object</td>\n",
       "      <td>191</td>\n",
       "      <td>0.032161</td>\n",
       "    </tr>\n",
       "    <tr>\n",
       "      <th>loser_name</th>\n",
       "      <td>object</td>\n",
       "      <td>0</td>\n",
       "      <td>0.000000</td>\n",
       "    </tr>\n",
       "    <tr>\n",
       "      <th>loser_hand</th>\n",
       "      <td>object</td>\n",
       "      <td>82</td>\n",
       "      <td>0.013807</td>\n",
       "    </tr>\n",
       "    <tr>\n",
       "      <th>w_bpSaved</th>\n",
       "      <td>float64</td>\n",
       "      <td>569813</td>\n",
       "      <td>95.946690</td>\n",
       "    </tr>\n",
       "    <tr>\n",
       "      <th>w_bpFaced</th>\n",
       "      <td>float64</td>\n",
       "      <td>569813</td>\n",
       "      <td>95.946690</td>\n",
       "    </tr>\n",
       "    <tr>\n",
       "      <th>l_bpSaved</th>\n",
       "      <td>float64</td>\n",
       "      <td>569811</td>\n",
       "      <td>95.946353</td>\n",
       "    </tr>\n",
       "    <tr>\n",
       "      <th>l_bpFaced</th>\n",
       "      <td>float64</td>\n",
       "      <td>566186</td>\n",
       "      <td>95.335966</td>\n",
       "    </tr>\n",
       "  </tbody>\n",
       "</table>\n",
       "</div>"
      ],
      "text/plain": [
       "                  Type  Nombre de valeurs manquantes  \\\n",
       "annee            int32                             0   \n",
       "tourney_date    object                             0   \n",
       "tourney_id      object                             0   \n",
       "tourney_name    object                             0   \n",
       "tourney_level   object                             0   \n",
       "surface         object                          1650   \n",
       "score           object                           196   \n",
       "round           object                             0   \n",
       "match_num        int64                             0   \n",
       "minutes        float64                        576868   \n",
       "winner_id        int64                             0   \n",
       "winner_rank    float64                        124575   \n",
       "winner_ioc      object                            40   \n",
       "winner_name     object                             0   \n",
       "winner_hand     object                           101   \n",
       "loser_id         int64                             0   \n",
       "loser_rank     float64                        189436   \n",
       "loser_ioc       object                           191   \n",
       "loser_name      object                             0   \n",
       "loser_hand      object                            82   \n",
       "w_bpSaved      float64                        569813   \n",
       "w_bpFaced      float64                        569813   \n",
       "l_bpSaved      float64                        569811   \n",
       "l_bpFaced      float64                        566186   \n",
       "\n",
       "               Pourcentage de valeurs manquantes  \n",
       "annee                                   0.000000  \n",
       "tourney_date                            0.000000  \n",
       "tourney_id                              0.000000  \n",
       "tourney_name                            0.000000  \n",
       "tourney_level                           0.000000  \n",
       "surface                                 0.277832  \n",
       "score                                   0.033003  \n",
       "round                                   0.000000  \n",
       "match_num                               0.000000  \n",
       "minutes                                97.134630  \n",
       "winner_id                               0.000000  \n",
       "winner_rank                            20.976283  \n",
       "winner_ioc                              0.006735  \n",
       "winner_name                             0.000000  \n",
       "winner_hand                             0.017007  \n",
       "loser_id                                0.000000  \n",
       "loser_rank                             31.897758  \n",
       "loser_ioc                               0.032161  \n",
       "loser_name                              0.000000  \n",
       "loser_hand                              0.013807  \n",
       "w_bpSaved                              95.946690  \n",
       "w_bpFaced                              95.946690  \n",
       "l_bpSaved                              95.946353  \n",
       "l_bpFaced                              95.335966  "
      ]
     },
     "metadata": {},
     "output_type": "display_data"
    }
   ],
   "source": [
    "wta_matches_qual_1968_2024 = ajout_annee(wta_matches_qual_1968_2024,'tourney_date')\n",
    "afficher(wta_matches_qual_1968_2024)"
   ]
  },
  {
   "cell_type": "markdown",
   "id": "b9854885",
   "metadata": {},
   "source": [
    "Enregistrement"
   ]
  },
  {
   "cell_type": "code",
   "execution_count": null,
   "id": "95a9b9ff",
   "metadata": {},
   "outputs": [],
   "source": [
    "wta_matches_qual_1968_2024.to_csv(\n",
    "    \"../Donnees/wta_matches_qual_1968_2024.csv\",\n",
    "    index=False)"
   ]
  },
  {
   "cell_type": "markdown",
   "id": "a5aa2d6e",
   "metadata": {},
   "source": [
    "### rankings"
   ]
  },
  {
   "cell_type": "code",
   "execution_count": 8,
   "id": "05456a74",
   "metadata": {},
   "outputs": [],
   "source": [
    "data_dict, formats_colonnes = recup_match(\"wta_rank\",\"wta\",\"\",\"\")"
   ]
  },
  {
   "cell_type": "code",
   "execution_count": 9,
   "id": "fe524df1",
   "metadata": {},
   "outputs": [
    {
     "name": "stdout",
     "output_type": "stream",
     "text": [
      "\n",
      "Comparaison des formats de colonnes entre les DataFrames:\n",
      "------------------------------------------------------\n",
      "Erreur : Le fichier 'wta_rankings_10s.csv' a des formats de colonnes différents.\n",
      "  - La colonne 'points' a le format 'float64' dans 'wta_rankings_10s.csv' au lieu de 'int64'.\n",
      "Erreur : Le fichier 'wta_rankings_20s.csv' a des formats de colonnes différents.\n",
      "  - La colonne 'tours' a le format 'int64' dans 'wta_rankings_20s.csv' au lieu de 'float64'.\n",
      "Erreur : Le fichier 'wta_rankings_80s.csv' a des formats de colonnes différents.\n",
      "  - La colonne 'points' a le format 'float64' dans 'wta_rankings_80s.csv' au lieu de 'int64'.\n",
      "Erreur : Le fichier 'wta_rankings_90s.csv' a des formats de colonnes différents.\n",
      "  - La colonne 'points' a le format 'float64' dans 'wta_rankings_90s.csv' au lieu de 'int64'.\n",
      "Erreur : Le fichier 'wta_rankings_current.csv' a des formats de colonnes différents.\n",
      "  - La colonne 'tours' a le format 'int64' dans 'wta_rankings_current.csv' au lieu de 'float64'.\n"
     ]
    }
   ],
   "source": [
    "comp_format(formats_colonnes)"
   ]
  },
  {
   "cell_type": "code",
   "execution_count": null,
   "id": "dd652309",
   "metadata": {},
   "outputs": [],
   "source": [
    "for fichier in data_dict.keys():\n",
    "    data_dict, formats_colonnes = modif_format(\n",
    "        fichier,\n",
    "        'points',\n",
    "        'int64',\n",
    "        data_dict,\n",
    "        formats_colonnes\n",
    "        )\n",
    "\n",
    "    data_dict, formats_colonnes = modif_format(\n",
    "        fichier,\n",
    "        'tours',\n",
    "        'int64',\n",
    "        data_dict,\n",
    "        formats_colonnes\n",
    "        )\n"
   ]
  },
  {
   "cell_type": "code",
   "execution_count": 11,
   "id": "2385f68b",
   "metadata": {},
   "outputs": [
    {
     "name": "stdout",
     "output_type": "stream",
     "text": [
      "\n",
      "Comparaison des formats de colonnes entre les DataFrames:\n",
      "------------------------------------------------------\n",
      "Le fichier 'wta_rankings_10s.csv' a le même format de colonnes que les précédents.\n",
      "Le fichier 'wta_rankings_20s.csv' a le même format de colonnes que les précédents.\n",
      "Le fichier 'wta_rankings_80s.csv' a le même format de colonnes que les précédents.\n",
      "Le fichier 'wta_rankings_90s.csv' a le même format de colonnes que les précédents.\n",
      "Le fichier 'wta_rankings_current.csv' a le même format de colonnes que les précédents.\n"
     ]
    }
   ],
   "source": [
    "comp_format(formats_colonnes)"
   ]
  },
  {
   "cell_type": "markdown",
   "id": "6ca9e3c3",
   "metadata": {},
   "source": [
    "Concaténation"
   ]
  },
  {
   "cell_type": "code",
   "execution_count": 12,
   "id": "8f6a0d3f",
   "metadata": {},
   "outputs": [],
   "source": [
    "wta_rankings = concatenation(data_dict)"
   ]
  },
  {
   "cell_type": "markdown",
   "id": "9563b4ed",
   "metadata": {},
   "source": [
    "Selection des variables d'intérêts"
   ]
  },
  {
   "cell_type": "code",
   "execution_count": 13,
   "id": "b2ac4ff7",
   "metadata": {},
   "outputs": [],
   "source": [
    "wta_rankings = wta_rankings[[\"ranking_date\", \"rank\", \"player\"]]"
   ]
  },
  {
   "cell_type": "code",
   "execution_count": 14,
   "id": "1867ab4a",
   "metadata": {},
   "outputs": [
    {
     "data": {
      "application/vnd.microsoft.datawrangler.viewer.v0+json": {
       "columns": [
        {
         "name": "index",
         "rawType": "object",
         "type": "string"
        },
        {
         "name": "Type",
         "rawType": "object",
         "type": "unknown"
        },
        {
         "name": "Nombre de valeurs manquantes",
         "rawType": "int64",
         "type": "integer"
        },
        {
         "name": "Pourcentage de valeurs manquantes",
         "rawType": "float64",
         "type": "float"
        }
       ],
       "conversionMethod": "pd.DataFrame",
       "ref": "156e0332-97e5-48f4-b9cd-7d69709b3686",
       "rows": [
        [
         "annee",
         "int32",
         "0",
         "0.0"
        ],
        [
         "ranking_date",
         "object",
         "0",
         "0.0"
        ],
        [
         "rank",
         "int64",
         "0",
         "0.0"
        ],
        [
         "player",
         "int64",
         "0",
         "0.0"
        ]
       ],
       "shape": {
        "columns": 3,
        "rows": 4
       }
      },
      "text/html": [
       "<div>\n",
       "<style scoped>\n",
       "    .dataframe tbody tr th:only-of-type {\n",
       "        vertical-align: middle;\n",
       "    }\n",
       "\n",
       "    .dataframe tbody tr th {\n",
       "        vertical-align: top;\n",
       "    }\n",
       "\n",
       "    .dataframe thead th {\n",
       "        text-align: right;\n",
       "    }\n",
       "</style>\n",
       "<table border=\"1\" class=\"dataframe\">\n",
       "  <thead>\n",
       "    <tr style=\"text-align: right;\">\n",
       "      <th></th>\n",
       "      <th>Type</th>\n",
       "      <th>Nombre de valeurs manquantes</th>\n",
       "      <th>Pourcentage de valeurs manquantes</th>\n",
       "    </tr>\n",
       "  </thead>\n",
       "  <tbody>\n",
       "    <tr>\n",
       "      <th>annee</th>\n",
       "      <td>int32</td>\n",
       "      <td>0</td>\n",
       "      <td>0.0</td>\n",
       "    </tr>\n",
       "    <tr>\n",
       "      <th>ranking_date</th>\n",
       "      <td>object</td>\n",
       "      <td>0</td>\n",
       "      <td>0.0</td>\n",
       "    </tr>\n",
       "    <tr>\n",
       "      <th>rank</th>\n",
       "      <td>int64</td>\n",
       "      <td>0</td>\n",
       "      <td>0.0</td>\n",
       "    </tr>\n",
       "    <tr>\n",
       "      <th>player</th>\n",
       "      <td>int64</td>\n",
       "      <td>0</td>\n",
       "      <td>0.0</td>\n",
       "    </tr>\n",
       "  </tbody>\n",
       "</table>\n",
       "</div>"
      ],
      "text/plain": [
       "                Type  Nombre de valeurs manquantes  \\\n",
       "annee          int32                             0   \n",
       "ranking_date  object                             0   \n",
       "rank           int64                             0   \n",
       "player         int64                             0   \n",
       "\n",
       "              Pourcentage de valeurs manquantes  \n",
       "annee                                       0.0  \n",
       "ranking_date                                0.0  \n",
       "rank                                        0.0  \n",
       "player                                      0.0  "
      ]
     },
     "metadata": {},
     "output_type": "display_data"
    }
   ],
   "source": [
    "wta_rankings = ajout_annee(wta_rankings,'ranking_date')\n",
    "afficher(wta_rankings)"
   ]
  },
  {
   "cell_type": "markdown",
   "id": "adf54064",
   "metadata": {},
   "source": [
    "Enregistrement"
   ]
  },
  {
   "cell_type": "code",
   "execution_count": 295,
   "id": "bdafd63c",
   "metadata": {},
   "outputs": [],
   "source": [
    "wta_rankings.to_csv(\"../Donnees/wta_rankings.csv\", index=False)"
   ]
  }
 ],
 "metadata": {
  "kernelspec": {
   "display_name": "Python 3",
   "language": "python",
   "name": "python3"
  },
  "language_info": {
   "codemirror_mode": {
    "name": "ipython",
    "version": 3
   },
   "file_extension": ".py",
   "mimetype": "text/x-python",
   "name": "python",
   "nbconvert_exporter": "python",
   "pygments_lexer": "ipython3",
   "version": "3.11.9"
  }
 },
 "nbformat": 4,
 "nbformat_minor": 5
}
