{
 "cells": [
  {
   "cell_type": "code",
   "execution_count": 1,
   "id": "836ebb75",
   "metadata": {},
   "outputs": [],
   "source": [
    "import pandas as pd"
   ]
  },
  {
   "cell_type": "markdown",
   "id": "e909e826",
   "metadata": {},
   "source": [
    "Variables à ajouter : \n",
    "- annee dans toutes les tables de matchs\n",
    "- type_tournoi (elimatoire, round robine, elimatoire_qualif) dans toutes les tables de matchs\n"
   ]
  },
  {
   "cell_type": "markdown",
   "id": "88538e65",
   "metadata": {},
   "source": [
    "Création des fonctions"
   ]
  },
  {
   "cell_type": "code",
   "execution_count": 2,
   "id": "c001079b",
   "metadata": {},
   "outputs": [],
   "source": [
    "def ajout_annee(data):\n",
    "    \"\"\"\n",
    "    Ajoute une colonne 'annee' au DataFrame correspond à la composante annee de \"tourney_date\".\n",
    "\n",
    "    \"\"\"\n",
    "    # Conversion de int64 -> datetime\n",
    "    data['tourney_date'] = pd.to_datetime(data['tourney_date'].astype(str), format=\"%Y%m%d\", errors='coerce')\n",
    "\n",
    "    # Création de la colonne année\n",
    "    data['annee'] = data['tourney_date'].dt.year\n",
    "\n",
    "    # Conversion en date simple (sans heure)\n",
    "    data['tourney_date'] = data['tourney_date'].dt.date\n",
    "\n",
    "    # Placer 'annee' en première position\n",
    "    colonnes = ['annee'] + [col for col in data.columns if col != 'annee']\n",
    "    data = data[colonnes]\n",
    "\n",
    "    return data"
   ]
  },
  {
   "cell_type": "code",
   "execution_count": 7,
   "id": "dfa31c82",
   "metadata": {},
   "outputs": [],
   "source": [
    "def ajout_type_tournoi(data):\n",
    "    \"\"\"\n",
    "    Ajoute une colonne 'type_tournoi' au DataFrame correspond à la composante type de \"tourney_id\".\n",
    "\n",
    "    \"\"\"\n",
    "    # Initialisation de la colonne 'type_tournoi' à 'Eliminatoire'\n",
    "    data['type_tournoi'] = 'Eliminatoire'\n",
    "\n",
    "    # Récupération des types Round Robin -> tourney_id ou 'RR' est présent dans les rounds\n",
    "    # Parcours par les id_tournois\n",
    "    id_tournois = data['tourney_id'].unique()\n",
    "\n",
    "    # initialisation\n",
    "    data_result = pd.DataFrame()\n",
    "\n",
    "    for id_tournoi in id_tournois:\n",
    "\n",
    "        # Récupération des rounds du tournoi\n",
    "        rounds = data[data['tourney_id'] == id_tournoi]['round'].unique()\n",
    "\n",
    "        # Test Round Robin\n",
    "        if 'RR' in rounds:\n",
    "            data['type_tournoi'] = 'Round Robin'\n",
    "\n",
    "\n",
    "        # Test Q1, Q2, Q3, Q4\n",
    "        elif any(round_ in rounds for round_ in ['Q1', 'Q2', 'Q3', 'Q4']):\n",
    "            data['type_tournoi'] = 'Qualification'\n",
    "\n",
    "        data_result = pd.concat([data_result, data], axis=0)\n",
    "\n",
    "\n",
    "    return data_result"
   ]
  },
  {
   "cell_type": "code",
   "execution_count": 8,
   "id": "e976d2f6",
   "metadata": {},
   "outputs": [],
   "source": [
    "def traitement():\n",
    "\n",
    "    liste_fichier = [\"../Donnees/atp_matches_1968_2024.csv\",\n",
    "                    \"../Donnees/atp_matches_futures_1992_2024.csv\",\n",
    "                    \"../Donnees/atp_matches_qual_1978_2024.csv\"\n",
    "                    \"../Donnees/wta_matches_1968_2024.csv\",\n",
    "                    \"../Donnees/wta_matches_qual_1968_2024.csv\"\n",
    "                    ]\n",
    "\n",
    "    for fichier in liste_fichier:\n",
    "\n",
    "        # Lecture du fichier\n",
    "        data = pd.read_csv(fichier, index_col=False)\n",
    "\n",
    "        # Ajout de la colonne 'annee'\n",
    "        data = ajout_annee(data)\n",
    "\n",
    "        # Ajout de la colonne 'type_tournoi'\n",
    "        data = ajout_type_tournoi(data)\n",
    "\n",
    "        # Enregistrement du fichier\n",
    "        data.to_csv(fichier, index=False)\n",
    "\n",
    "        print(f\"Traitement du fichier {fichier} terminé.\")\n"
   ]
  },
  {
   "cell_type": "code",
   "execution_count": 9,
   "id": "012685a6",
   "metadata": {},
   "outputs": [
    {
     "ename": "KeyboardInterrupt",
     "evalue": "",
     "output_type": "error",
     "traceback": [
      "\u001b[1;31m---------------------------------------------------------------------------\u001b[0m",
      "\u001b[1;31mKeyboardInterrupt\u001b[0m                         Traceback (most recent call last)",
      "Cell \u001b[1;32mIn[9], line 1\u001b[0m\n\u001b[1;32m----> 1\u001b[0m \u001b[43mtraitement\u001b[49m\u001b[43m(\u001b[49m\u001b[43m)\u001b[49m\n",
      "Cell \u001b[1;32mIn[8], line 19\u001b[0m, in \u001b[0;36mtraitement\u001b[1;34m()\u001b[0m\n\u001b[0;32m     16\u001b[0m data \u001b[38;5;241m=\u001b[39m ajout_annee(data)\n\u001b[0;32m     18\u001b[0m \u001b[38;5;66;03m# Ajout de la colonne 'type_tournoi'\u001b[39;00m\n\u001b[1;32m---> 19\u001b[0m data \u001b[38;5;241m=\u001b[39m \u001b[43majout_type_tournoi\u001b[49m\u001b[43m(\u001b[49m\u001b[43mdata\u001b[49m\u001b[43m)\u001b[49m\n\u001b[0;32m     21\u001b[0m \u001b[38;5;66;03m# Enregistrement du fichier\u001b[39;00m\n\u001b[0;32m     22\u001b[0m data\u001b[38;5;241m.\u001b[39mto_csv(fichier, index\u001b[38;5;241m=\u001b[39m\u001b[38;5;28;01mFalse\u001b[39;00m)\n",
      "Cell \u001b[1;32mIn[7], line 30\u001b[0m, in \u001b[0;36majout_type_tournoi\u001b[1;34m(data)\u001b[0m\n\u001b[0;32m     27\u001b[0m     \u001b[38;5;28;01melif\u001b[39;00m \u001b[38;5;28many\u001b[39m(round_ \u001b[38;5;129;01min\u001b[39;00m rounds \u001b[38;5;28;01mfor\u001b[39;00m round_ \u001b[38;5;129;01min\u001b[39;00m [\u001b[38;5;124m'\u001b[39m\u001b[38;5;124mQ1\u001b[39m\u001b[38;5;124m'\u001b[39m, \u001b[38;5;124m'\u001b[39m\u001b[38;5;124mQ2\u001b[39m\u001b[38;5;124m'\u001b[39m, \u001b[38;5;124m'\u001b[39m\u001b[38;5;124mQ3\u001b[39m\u001b[38;5;124m'\u001b[39m, \u001b[38;5;124m'\u001b[39m\u001b[38;5;124mQ4\u001b[39m\u001b[38;5;124m'\u001b[39m]):\n\u001b[0;32m     28\u001b[0m         data[\u001b[38;5;124m'\u001b[39m\u001b[38;5;124mtype_tournoi\u001b[39m\u001b[38;5;124m'\u001b[39m] \u001b[38;5;241m=\u001b[39m \u001b[38;5;124m'\u001b[39m\u001b[38;5;124mQualification\u001b[39m\u001b[38;5;124m'\u001b[39m\n\u001b[1;32m---> 30\u001b[0m     data_result \u001b[38;5;241m=\u001b[39m \u001b[43mpd\u001b[49m\u001b[38;5;241;43m.\u001b[39;49m\u001b[43mconcat\u001b[49m\u001b[43m(\u001b[49m\u001b[43m[\u001b[49m\u001b[43mdata_result\u001b[49m\u001b[43m,\u001b[49m\u001b[43m \u001b[49m\u001b[43mdata\u001b[49m\u001b[43m]\u001b[49m\u001b[43m,\u001b[49m\u001b[43m \u001b[49m\u001b[43maxis\u001b[49m\u001b[38;5;241;43m=\u001b[39;49m\u001b[38;5;241;43m0\u001b[39;49m\u001b[43m)\u001b[49m\n\u001b[0;32m     33\u001b[0m \u001b[38;5;28;01mreturn\u001b[39;00m data_result\n",
      "File \u001b[1;32m~\\AppData\\Local\\Packages\\PythonSoftwareFoundation.Python.3.11_qbz5n2kfra8p0\\LocalCache\\local-packages\\Python311\\site-packages\\pandas\\core\\reshape\\concat.py:395\u001b[0m, in \u001b[0;36mconcat\u001b[1;34m(objs, axis, join, ignore_index, keys, levels, names, verify_integrity, sort, copy)\u001b[0m\n\u001b[0;32m    380\u001b[0m     copy \u001b[38;5;241m=\u001b[39m \u001b[38;5;28;01mFalse\u001b[39;00m\n\u001b[0;32m    382\u001b[0m op \u001b[38;5;241m=\u001b[39m _Concatenator(\n\u001b[0;32m    383\u001b[0m     objs,\n\u001b[0;32m    384\u001b[0m     axis\u001b[38;5;241m=\u001b[39maxis,\n\u001b[1;32m   (...)\u001b[0m\n\u001b[0;32m    392\u001b[0m     sort\u001b[38;5;241m=\u001b[39msort,\n\u001b[0;32m    393\u001b[0m )\n\u001b[1;32m--> 395\u001b[0m \u001b[38;5;28;01mreturn\u001b[39;00m \u001b[43mop\u001b[49m\u001b[38;5;241;43m.\u001b[39;49m\u001b[43mget_result\u001b[49m\u001b[43m(\u001b[49m\u001b[43m)\u001b[49m\n",
      "File \u001b[1;32m~\\AppData\\Local\\Packages\\PythonSoftwareFoundation.Python.3.11_qbz5n2kfra8p0\\LocalCache\\local-packages\\Python311\\site-packages\\pandas\\core\\reshape\\concat.py:684\u001b[0m, in \u001b[0;36m_Concatenator.get_result\u001b[1;34m(self)\u001b[0m\n\u001b[0;32m    680\u001b[0m             indexers[ax] \u001b[38;5;241m=\u001b[39m obj_labels\u001b[38;5;241m.\u001b[39mget_indexer(new_labels)\n\u001b[0;32m    682\u001b[0m     mgrs_indexers\u001b[38;5;241m.\u001b[39mappend((obj\u001b[38;5;241m.\u001b[39m_mgr, indexers))\n\u001b[1;32m--> 684\u001b[0m new_data \u001b[38;5;241m=\u001b[39m \u001b[43mconcatenate_managers\u001b[49m\u001b[43m(\u001b[49m\n\u001b[0;32m    685\u001b[0m \u001b[43m    \u001b[49m\u001b[43mmgrs_indexers\u001b[49m\u001b[43m,\u001b[49m\u001b[43m \u001b[49m\u001b[38;5;28;43mself\u001b[39;49m\u001b[38;5;241;43m.\u001b[39;49m\u001b[43mnew_axes\u001b[49m\u001b[43m,\u001b[49m\u001b[43m \u001b[49m\u001b[43mconcat_axis\u001b[49m\u001b[38;5;241;43m=\u001b[39;49m\u001b[38;5;28;43mself\u001b[39;49m\u001b[38;5;241;43m.\u001b[39;49m\u001b[43mbm_axis\u001b[49m\u001b[43m,\u001b[49m\u001b[43m \u001b[49m\u001b[43mcopy\u001b[49m\u001b[38;5;241;43m=\u001b[39;49m\u001b[38;5;28;43mself\u001b[39;49m\u001b[38;5;241;43m.\u001b[39;49m\u001b[43mcopy\u001b[49m\n\u001b[0;32m    686\u001b[0m \u001b[43m\u001b[49m\u001b[43m)\u001b[49m\n\u001b[0;32m    687\u001b[0m \u001b[38;5;28;01mif\u001b[39;00m \u001b[38;5;129;01mnot\u001b[39;00m \u001b[38;5;28mself\u001b[39m\u001b[38;5;241m.\u001b[39mcopy \u001b[38;5;129;01mand\u001b[39;00m \u001b[38;5;129;01mnot\u001b[39;00m using_copy_on_write():\n\u001b[0;32m    688\u001b[0m     new_data\u001b[38;5;241m.\u001b[39m_consolidate_inplace()\n",
      "File \u001b[1;32m~\\AppData\\Local\\Packages\\PythonSoftwareFoundation.Python.3.11_qbz5n2kfra8p0\\LocalCache\\local-packages\\Python311\\site-packages\\pandas\\core\\internals\\concat.py:166\u001b[0m, in \u001b[0;36mconcatenate_managers\u001b[1;34m(mgrs_indexers, axes, concat_axis, copy)\u001b[0m\n\u001b[0;32m    163\u001b[0m unit \u001b[38;5;241m=\u001b[39m join_units[\u001b[38;5;241m0\u001b[39m]\n\u001b[0;32m    164\u001b[0m blk \u001b[38;5;241m=\u001b[39m unit\u001b[38;5;241m.\u001b[39mblock\n\u001b[1;32m--> 166\u001b[0m \u001b[38;5;28;01mif\u001b[39;00m \u001b[43m_is_uniform_join_units\u001b[49m\u001b[43m(\u001b[49m\u001b[43mjoin_units\u001b[49m\u001b[43m)\u001b[49m:\n\u001b[0;32m    167\u001b[0m     vals \u001b[38;5;241m=\u001b[39m [ju\u001b[38;5;241m.\u001b[39mblock\u001b[38;5;241m.\u001b[39mvalues \u001b[38;5;28;01mfor\u001b[39;00m ju \u001b[38;5;129;01min\u001b[39;00m join_units]\n\u001b[0;32m    169\u001b[0m     \u001b[38;5;28;01mif\u001b[39;00m \u001b[38;5;129;01mnot\u001b[39;00m blk\u001b[38;5;241m.\u001b[39mis_extension:\n\u001b[0;32m    170\u001b[0m         \u001b[38;5;66;03m# _is_uniform_join_units ensures a single dtype, so\u001b[39;00m\n\u001b[0;32m    171\u001b[0m         \u001b[38;5;66;03m#  we can use np.concatenate, which is more performant\u001b[39;00m\n\u001b[1;32m   (...)\u001b[0m\n\u001b[0;32m    175\u001b[0m         \u001b[38;5;66;03m# expected \"Union[_SupportsArray[dtype[Any]],\u001b[39;00m\n\u001b[0;32m    176\u001b[0m         \u001b[38;5;66;03m# _NestedSequence[_SupportsArray[dtype[Any]]]]\"\u001b[39;00m\n",
      "File \u001b[1;32m~\\AppData\\Local\\Packages\\PythonSoftwareFoundation.Python.3.11_qbz5n2kfra8p0\\LocalCache\\local-packages\\Python311\\site-packages\\pandas\\core\\internals\\concat.py:597\u001b[0m, in \u001b[0;36m_is_uniform_join_units\u001b[1;34m(join_units)\u001b[0m\n\u001b[0;32m    580\u001b[0m \u001b[38;5;28;01mif\u001b[39;00m first\u001b[38;5;241m.\u001b[39mdtype\u001b[38;5;241m.\u001b[39mkind \u001b[38;5;241m==\u001b[39m \u001b[38;5;124m\"\u001b[39m\u001b[38;5;124mV\u001b[39m\u001b[38;5;124m\"\u001b[39m:\n\u001b[0;32m    581\u001b[0m     \u001b[38;5;28;01mreturn\u001b[39;00m \u001b[38;5;28;01mFalse\u001b[39;00m\n\u001b[0;32m    582\u001b[0m \u001b[38;5;28;01mreturn\u001b[39;00m (\n\u001b[0;32m    583\u001b[0m     \u001b[38;5;66;03m# exclude cases where a) ju.block is None or b) we have e.g. Int64+int64\u001b[39;00m\n\u001b[0;32m    584\u001b[0m     \u001b[38;5;28mall\u001b[39m(\u001b[38;5;28mtype\u001b[39m(ju\u001b[38;5;241m.\u001b[39mblock) \u001b[38;5;129;01mis\u001b[39;00m \u001b[38;5;28mtype\u001b[39m(first) \u001b[38;5;28;01mfor\u001b[39;00m ju \u001b[38;5;129;01min\u001b[39;00m join_units)\n\u001b[0;32m    585\u001b[0m     \u001b[38;5;129;01mand\u001b[39;00m\n\u001b[0;32m    586\u001b[0m     \u001b[38;5;66;03m# e.g. DatetimeLikeBlock can be dt64 or td64, but these are not uniform\u001b[39;00m\n\u001b[0;32m    587\u001b[0m     \u001b[38;5;28mall\u001b[39m(\n\u001b[0;32m    588\u001b[0m         ju\u001b[38;5;241m.\u001b[39mblock\u001b[38;5;241m.\u001b[39mdtype \u001b[38;5;241m==\u001b[39m first\u001b[38;5;241m.\u001b[39mdtype\n\u001b[0;32m    589\u001b[0m         \u001b[38;5;66;03m# GH#42092 we only want the dtype_equal check for non-numeric blocks\u001b[39;00m\n\u001b[0;32m    590\u001b[0m         \u001b[38;5;66;03m#  (for now, may change but that would need a deprecation)\u001b[39;00m\n\u001b[0;32m    591\u001b[0m         \u001b[38;5;129;01mor\u001b[39;00m ju\u001b[38;5;241m.\u001b[39mblock\u001b[38;5;241m.\u001b[39mdtype\u001b[38;5;241m.\u001b[39mkind \u001b[38;5;129;01min\u001b[39;00m \u001b[38;5;124m\"\u001b[39m\u001b[38;5;124miub\u001b[39m\u001b[38;5;124m\"\u001b[39m\n\u001b[0;32m    592\u001b[0m         \u001b[38;5;28;01mfor\u001b[39;00m ju \u001b[38;5;129;01min\u001b[39;00m join_units\n\u001b[0;32m    593\u001b[0m     )\n\u001b[0;32m    594\u001b[0m     \u001b[38;5;129;01mand\u001b[39;00m\n\u001b[0;32m    595\u001b[0m     \u001b[38;5;66;03m# no blocks that would get missing values (can lead to type upcasts)\u001b[39;00m\n\u001b[0;32m    596\u001b[0m     \u001b[38;5;66;03m# unless we're an extension dtype.\u001b[39;00m\n\u001b[1;32m--> 597\u001b[0m     \u001b[38;5;28mall\u001b[39m(\u001b[38;5;129;01mnot\u001b[39;00m ju\u001b[38;5;241m.\u001b[39mis_na \u001b[38;5;129;01mor\u001b[39;00m ju\u001b[38;5;241m.\u001b[39mblock\u001b[38;5;241m.\u001b[39mis_extension \u001b[38;5;28;01mfor\u001b[39;00m ju \u001b[38;5;129;01min\u001b[39;00m join_units)\n\u001b[0;32m    598\u001b[0m )\n",
      "File \u001b[1;32m~\\AppData\\Local\\Packages\\PythonSoftwareFoundation.Python.3.11_qbz5n2kfra8p0\\LocalCache\\local-packages\\Python311\\site-packages\\pandas\\core\\internals\\concat.py:597\u001b[0m, in \u001b[0;36m<genexpr>\u001b[1;34m(.0)\u001b[0m\n\u001b[0;32m    580\u001b[0m \u001b[38;5;28;01mif\u001b[39;00m first\u001b[38;5;241m.\u001b[39mdtype\u001b[38;5;241m.\u001b[39mkind \u001b[38;5;241m==\u001b[39m \u001b[38;5;124m\"\u001b[39m\u001b[38;5;124mV\u001b[39m\u001b[38;5;124m\"\u001b[39m:\n\u001b[0;32m    581\u001b[0m     \u001b[38;5;28;01mreturn\u001b[39;00m \u001b[38;5;28;01mFalse\u001b[39;00m\n\u001b[0;32m    582\u001b[0m \u001b[38;5;28;01mreturn\u001b[39;00m (\n\u001b[0;32m    583\u001b[0m     \u001b[38;5;66;03m# exclude cases where a) ju.block is None or b) we have e.g. Int64+int64\u001b[39;00m\n\u001b[0;32m    584\u001b[0m     \u001b[38;5;28mall\u001b[39m(\u001b[38;5;28mtype\u001b[39m(ju\u001b[38;5;241m.\u001b[39mblock) \u001b[38;5;129;01mis\u001b[39;00m \u001b[38;5;28mtype\u001b[39m(first) \u001b[38;5;28;01mfor\u001b[39;00m ju \u001b[38;5;129;01min\u001b[39;00m join_units)\n\u001b[0;32m    585\u001b[0m     \u001b[38;5;129;01mand\u001b[39;00m\n\u001b[0;32m    586\u001b[0m     \u001b[38;5;66;03m# e.g. DatetimeLikeBlock can be dt64 or td64, but these are not uniform\u001b[39;00m\n\u001b[0;32m    587\u001b[0m     \u001b[38;5;28mall\u001b[39m(\n\u001b[0;32m    588\u001b[0m         ju\u001b[38;5;241m.\u001b[39mblock\u001b[38;5;241m.\u001b[39mdtype \u001b[38;5;241m==\u001b[39m first\u001b[38;5;241m.\u001b[39mdtype\n\u001b[0;32m    589\u001b[0m         \u001b[38;5;66;03m# GH#42092 we only want the dtype_equal check for non-numeric blocks\u001b[39;00m\n\u001b[0;32m    590\u001b[0m         \u001b[38;5;66;03m#  (for now, may change but that would need a deprecation)\u001b[39;00m\n\u001b[0;32m    591\u001b[0m         \u001b[38;5;129;01mor\u001b[39;00m ju\u001b[38;5;241m.\u001b[39mblock\u001b[38;5;241m.\u001b[39mdtype\u001b[38;5;241m.\u001b[39mkind \u001b[38;5;129;01min\u001b[39;00m \u001b[38;5;124m\"\u001b[39m\u001b[38;5;124miub\u001b[39m\u001b[38;5;124m\"\u001b[39m\n\u001b[0;32m    592\u001b[0m         \u001b[38;5;28;01mfor\u001b[39;00m ju \u001b[38;5;129;01min\u001b[39;00m join_units\n\u001b[0;32m    593\u001b[0m     )\n\u001b[0;32m    594\u001b[0m     \u001b[38;5;129;01mand\u001b[39;00m\n\u001b[0;32m    595\u001b[0m     \u001b[38;5;66;03m# no blocks that would get missing values (can lead to type upcasts)\u001b[39;00m\n\u001b[0;32m    596\u001b[0m     \u001b[38;5;66;03m# unless we're an extension dtype.\u001b[39;00m\n\u001b[1;32m--> 597\u001b[0m     \u001b[38;5;28mall\u001b[39m(\u001b[38;5;129;01mnot\u001b[39;00m \u001b[43mju\u001b[49m\u001b[38;5;241;43m.\u001b[39;49m\u001b[43mis_na\u001b[49m \u001b[38;5;129;01mor\u001b[39;00m ju\u001b[38;5;241m.\u001b[39mblock\u001b[38;5;241m.\u001b[39mis_extension \u001b[38;5;28;01mfor\u001b[39;00m ju \u001b[38;5;129;01min\u001b[39;00m join_units)\n\u001b[0;32m    598\u001b[0m )\n",
      "File \u001b[1;32mproperties.pyx:36\u001b[0m, in \u001b[0;36mpandas._libs.properties.CachedProperty.__get__\u001b[1;34m()\u001b[0m\n",
      "File \u001b[1;32m~\\AppData\\Local\\Packages\\PythonSoftwareFoundation.Python.3.11_qbz5n2kfra8p0\\LocalCache\\local-packages\\Python311\\site-packages\\pandas\\core\\internals\\concat.py:418\u001b[0m, in \u001b[0;36mJoinUnit.is_na\u001b[1;34m(self)\u001b[0m\n\u001b[0;32m    415\u001b[0m \u001b[38;5;28;01mif\u001b[39;00m \u001b[38;5;129;01mnot\u001b[39;00m is_scalar(val) \u001b[38;5;129;01mor\u001b[39;00m \u001b[38;5;129;01mnot\u001b[39;00m isna(val):\n\u001b[0;32m    416\u001b[0m     \u001b[38;5;66;03m# ideally isna_all would do this short-circuiting\u001b[39;00m\n\u001b[0;32m    417\u001b[0m     \u001b[38;5;28;01mreturn\u001b[39;00m \u001b[38;5;28;01mFalse\u001b[39;00m\n\u001b[1;32m--> 418\u001b[0m \u001b[38;5;28;01mreturn\u001b[39;00m \u001b[38;5;28mall\u001b[39m(isna_all(row) \u001b[38;5;28;01mfor\u001b[39;00m row \u001b[38;5;129;01min\u001b[39;00m values)\n",
      "File \u001b[1;32m~\\AppData\\Local\\Packages\\PythonSoftwareFoundation.Python.3.11_qbz5n2kfra8p0\\LocalCache\\local-packages\\Python311\\site-packages\\pandas\\core\\internals\\concat.py:418\u001b[0m, in \u001b[0;36m<genexpr>\u001b[1;34m(.0)\u001b[0m\n\u001b[0;32m    415\u001b[0m \u001b[38;5;28;01mif\u001b[39;00m \u001b[38;5;129;01mnot\u001b[39;00m is_scalar(val) \u001b[38;5;129;01mor\u001b[39;00m \u001b[38;5;129;01mnot\u001b[39;00m isna(val):\n\u001b[0;32m    416\u001b[0m     \u001b[38;5;66;03m# ideally isna_all would do this short-circuiting\u001b[39;00m\n\u001b[0;32m    417\u001b[0m     \u001b[38;5;28;01mreturn\u001b[39;00m \u001b[38;5;28;01mFalse\u001b[39;00m\n\u001b[1;32m--> 418\u001b[0m \u001b[38;5;28;01mreturn\u001b[39;00m \u001b[38;5;28mall\u001b[39m(\u001b[43misna_all\u001b[49m\u001b[43m(\u001b[49m\u001b[43mrow\u001b[49m\u001b[43m)\u001b[49m \u001b[38;5;28;01mfor\u001b[39;00m row \u001b[38;5;129;01min\u001b[39;00m values)\n",
      "File \u001b[1;32m~\\AppData\\Local\\Packages\\PythonSoftwareFoundation.Python.3.11_qbz5n2kfra8p0\\LocalCache\\local-packages\\Python311\\site-packages\\pandas\\core\\dtypes\\missing.py:808\u001b[0m, in \u001b[0;36misna_all\u001b[1;34m(arr)\u001b[0m\n\u001b[0;32m    801\u001b[0m \u001b[38;5;28;01melse\u001b[39;00m:\n\u001b[0;32m    802\u001b[0m     \u001b[38;5;66;03m# error: Incompatible types in assignment (expression has type \"Callable[[Any],\u001b[39;00m\n\u001b[0;32m    803\u001b[0m     \u001b[38;5;66;03m# Any]\", variable has type \"ufunc\")\u001b[39;00m\n\u001b[0;32m    804\u001b[0m     checker \u001b[38;5;241m=\u001b[39m \u001b[38;5;28;01mlambda\u001b[39;00m x: _isna_array(  \u001b[38;5;66;03m# type: ignore[assignment]\u001b[39;00m\n\u001b[0;32m    805\u001b[0m         x, inf_as_na\u001b[38;5;241m=\u001b[39mINF_AS_NA\n\u001b[0;32m    806\u001b[0m     )\n\u001b[1;32m--> 808\u001b[0m \u001b[38;5;28;01mreturn\u001b[39;00m \u001b[38;5;28mall\u001b[39m(\n\u001b[0;32m    809\u001b[0m     checker(arr[i : i \u001b[38;5;241m+\u001b[39m chunk_len])\u001b[38;5;241m.\u001b[39mall() \u001b[38;5;28;01mfor\u001b[39;00m i \u001b[38;5;129;01min\u001b[39;00m \u001b[38;5;28mrange\u001b[39m(\u001b[38;5;241m0\u001b[39m, total_len, chunk_len)\n\u001b[0;32m    810\u001b[0m )\n",
      "File \u001b[1;32m~\\AppData\\Local\\Packages\\PythonSoftwareFoundation.Python.3.11_qbz5n2kfra8p0\\LocalCache\\local-packages\\Python311\\site-packages\\pandas\\core\\dtypes\\missing.py:809\u001b[0m, in \u001b[0;36m<genexpr>\u001b[1;34m(.0)\u001b[0m\n\u001b[0;32m    801\u001b[0m \u001b[38;5;28;01melse\u001b[39;00m:\n\u001b[0;32m    802\u001b[0m     \u001b[38;5;66;03m# error: Incompatible types in assignment (expression has type \"Callable[[Any],\u001b[39;00m\n\u001b[0;32m    803\u001b[0m     \u001b[38;5;66;03m# Any]\", variable has type \"ufunc\")\u001b[39;00m\n\u001b[0;32m    804\u001b[0m     checker \u001b[38;5;241m=\u001b[39m \u001b[38;5;28;01mlambda\u001b[39;00m x: _isna_array(  \u001b[38;5;66;03m# type: ignore[assignment]\u001b[39;00m\n\u001b[0;32m    805\u001b[0m         x, inf_as_na\u001b[38;5;241m=\u001b[39mINF_AS_NA\n\u001b[0;32m    806\u001b[0m     )\n\u001b[0;32m    808\u001b[0m \u001b[38;5;28;01mreturn\u001b[39;00m \u001b[38;5;28mall\u001b[39m(\n\u001b[1;32m--> 809\u001b[0m     \u001b[43mchecker\u001b[49m\u001b[43m(\u001b[49m\u001b[43marr\u001b[49m\u001b[43m[\u001b[49m\u001b[43mi\u001b[49m\u001b[43m \u001b[49m\u001b[43m:\u001b[49m\u001b[43m \u001b[49m\u001b[43mi\u001b[49m\u001b[43m \u001b[49m\u001b[38;5;241;43m+\u001b[39;49m\u001b[43m \u001b[49m\u001b[43mchunk_len\u001b[49m\u001b[43m]\u001b[49m\u001b[43m)\u001b[49m\u001b[38;5;241m.\u001b[39mall() \u001b[38;5;28;01mfor\u001b[39;00m i \u001b[38;5;129;01min\u001b[39;00m \u001b[38;5;28mrange\u001b[39m(\u001b[38;5;241m0\u001b[39m, total_len, chunk_len)\n\u001b[0;32m    810\u001b[0m )\n",
      "\u001b[1;31mKeyboardInterrupt\u001b[0m: "
     ]
    }
   ],
   "source": [
    "traitement()"
   ]
  }
 ],
 "metadata": {
  "kernelspec": {
   "display_name": "Python 3",
   "language": "python",
   "name": "python3"
  },
  "language_info": {
   "codemirror_mode": {
    "name": "ipython",
    "version": 3
   },
   "file_extension": ".py",
   "mimetype": "text/x-python",
   "name": "python",
   "nbconvert_exporter": "python",
   "pygments_lexer": "ipython3",
   "version": "3.11.9"
  }
 },
 "nbformat": 4,
 "nbformat_minor": 5
}
