{
 "cells": [
  {
   "cell_type": "code",
   "execution_count": 1,
   "id": "9a40dcb5",
   "metadata": {},
   "outputs": [],
   "source": [
    "import streamlit as st\n",
    "import pandas as pd\n",
    "import altair as alt\n",
    "import os\n",
    "import sys\n",
    "import math\n",
    "\n",
    "# Utiliser le répertoire courant pour Streamlit\n",
    "base_path = os.getcwd()\n",
    "code_path = os.path.join(base_path, \"Code\")\n",
    "\n",
    "# Ajouter au sys.path\n",
    "if code_path not in sys.path:\n",
    "    sys.path.append(code_path)\n",
    "\n",
    "# Maintenant importer\n",
    "from classe_joueur import Joueur\n",
    "from creer_joueur import creer_joueur"
   ]
  },
  {
   "cell_type": "code",
   "execution_count": 2,
   "id": "040ec68d",
   "metadata": {},
   "outputs": [],
   "source": [
    "joueur = creer_joueur(nom = 'Nadal', prenom = 'Rafael')"
   ]
  },
  {
   "cell_type": "code",
   "execution_count": 3,
   "id": "12a918d5",
   "metadata": {},
   "outputs": [
    {
     "name": "stderr",
     "output_type": "stream",
     "text": [
      "c:\\Users\\33663\\Desktop\\Projet traitement de données\\Code\\classe_joueur.py:72: DtypeWarning: Columns (5) have mixed types. Specify dtype option on import or set low_memory=False.\n",
      "  data = pd.read_csv(fichier)\n"
     ]
    }
   ],
   "source": [
    "rencontre = joueur.chercher_resultat(annee = 2022)"
   ]
  },
  {
   "cell_type": "code",
   "execution_count": 4,
   "id": "6db556ef",
   "metadata": {},
   "outputs": [
    {
     "data": {
      "application/vnd.microsoft.datawrangler.viewer.v0+json": {
       "columns": [
        {
         "name": "index",
         "rawType": "int64",
         "type": "integer"
        },
        {
         "name": "tourney_id",
         "rawType": "object",
         "type": "string"
        },
        {
         "name": "tourney_date",
         "rawType": "object",
         "type": "string"
        },
        {
         "name": "tourney_name",
         "rawType": "object",
         "type": "string"
        },
        {
         "name": "tourney_level",
         "rawType": "object",
         "type": "string"
        },
        {
         "name": "surface",
         "rawType": "object",
         "type": "string"
        },
        {
         "name": "type",
         "rawType": "object",
         "type": "string"
        },
        {
         "name": "resultat",
         "rawType": "int64",
         "type": "integer"
        },
        {
         "name": "round_label",
         "rawType": "object",
         "type": "string"
        }
       ],
       "conversionMethod": "pd.DataFrame",
       "ref": "f1d07170-ce71-48e1-85f4-3a8569a2d3ba",
       "rows": [
        [
         "186098",
         "2022-9665",
         "2022-01-03",
         "Melbourne",
         "A",
         "Hard",
         "simple",
         "1",
         "Finale"
        ],
        [
         "186305",
         "2022-580",
         "2022-01-17",
         "Australian Open",
         "G",
         "Hard",
         "simple",
         "1",
         "Finale"
        ],
        [
         "186580",
         "2022-0807",
         "2022-02-21",
         "Acapulco",
         "A",
         "Hard",
         "simple",
         "1",
         "Finale"
        ],
        [
         "186669",
         "2022-0404",
         "2022-03-07",
         "Indian Wells Masters",
         "M",
         "Hard",
         "simple",
         "0",
         "Finale"
        ],
        [
         "187104",
         "2022-1536",
         "2022-05-02",
         "Madrid Masters",
         "M",
         "Clay",
         "simple",
         "0",
         "Quart de finale"
        ]
       ],
       "shape": {
        "columns": 8,
        "rows": 5
       }
      },
      "text/html": [
       "<div>\n",
       "<style scoped>\n",
       "    .dataframe tbody tr th:only-of-type {\n",
       "        vertical-align: middle;\n",
       "    }\n",
       "\n",
       "    .dataframe tbody tr th {\n",
       "        vertical-align: top;\n",
       "    }\n",
       "\n",
       "    .dataframe thead th {\n",
       "        text-align: right;\n",
       "    }\n",
       "</style>\n",
       "<table border=\"1\" class=\"dataframe\">\n",
       "  <thead>\n",
       "    <tr style=\"text-align: right;\">\n",
       "      <th></th>\n",
       "      <th>tourney_id</th>\n",
       "      <th>tourney_date</th>\n",
       "      <th>tourney_name</th>\n",
       "      <th>tourney_level</th>\n",
       "      <th>surface</th>\n",
       "      <th>type</th>\n",
       "      <th>resultat</th>\n",
       "      <th>round_label</th>\n",
       "    </tr>\n",
       "  </thead>\n",
       "  <tbody>\n",
       "    <tr>\n",
       "      <th>186098</th>\n",
       "      <td>2022-9665</td>\n",
       "      <td>2022-01-03</td>\n",
       "      <td>Melbourne</td>\n",
       "      <td>A</td>\n",
       "      <td>Hard</td>\n",
       "      <td>simple</td>\n",
       "      <td>1</td>\n",
       "      <td>Finale</td>\n",
       "    </tr>\n",
       "    <tr>\n",
       "      <th>186305</th>\n",
       "      <td>2022-580</td>\n",
       "      <td>2022-01-17</td>\n",
       "      <td>Australian Open</td>\n",
       "      <td>G</td>\n",
       "      <td>Hard</td>\n",
       "      <td>simple</td>\n",
       "      <td>1</td>\n",
       "      <td>Finale</td>\n",
       "    </tr>\n",
       "    <tr>\n",
       "      <th>186580</th>\n",
       "      <td>2022-0807</td>\n",
       "      <td>2022-02-21</td>\n",
       "      <td>Acapulco</td>\n",
       "      <td>A</td>\n",
       "      <td>Hard</td>\n",
       "      <td>simple</td>\n",
       "      <td>1</td>\n",
       "      <td>Finale</td>\n",
       "    </tr>\n",
       "    <tr>\n",
       "      <th>186669</th>\n",
       "      <td>2022-0404</td>\n",
       "      <td>2022-03-07</td>\n",
       "      <td>Indian Wells Masters</td>\n",
       "      <td>M</td>\n",
       "      <td>Hard</td>\n",
       "      <td>simple</td>\n",
       "      <td>0</td>\n",
       "      <td>Finale</td>\n",
       "    </tr>\n",
       "    <tr>\n",
       "      <th>187104</th>\n",
       "      <td>2022-1536</td>\n",
       "      <td>2022-05-02</td>\n",
       "      <td>Madrid Masters</td>\n",
       "      <td>M</td>\n",
       "      <td>Clay</td>\n",
       "      <td>simple</td>\n",
       "      <td>0</td>\n",
       "      <td>Quart de finale</td>\n",
       "    </tr>\n",
       "  </tbody>\n",
       "</table>\n",
       "</div>"
      ],
      "text/plain": [
       "       tourney_id tourney_date          tourney_name tourney_level surface  \\\n",
       "186098  2022-9665   2022-01-03             Melbourne             A    Hard   \n",
       "186305   2022-580   2022-01-17       Australian Open             G    Hard   \n",
       "186580  2022-0807   2022-02-21              Acapulco             A    Hard   \n",
       "186669  2022-0404   2022-03-07  Indian Wells Masters             M    Hard   \n",
       "187104  2022-1536   2022-05-02        Madrid Masters             M    Clay   \n",
       "\n",
       "          type  resultat      round_label  \n",
       "186098  simple         1           Finale  \n",
       "186305  simple         1           Finale  \n",
       "186580  simple         1           Finale  \n",
       "186669  simple         0           Finale  \n",
       "187104  simple         0  Quart de finale  "
      ]
     },
     "execution_count": 4,
     "metadata": {},
     "output_type": "execute_result"
    }
   ],
   "source": [
    "rencontre.head()"
   ]
  },
  {
   "cell_type": "code",
   "execution_count": 33,
   "id": "871185b9",
   "metadata": {},
   "outputs": [
    {
     "name": "stderr",
     "output_type": "stream",
     "text": [
      "C:\\Users\\33663\\AppData\\Local\\Temp\\ipykernel_123680\\352377627.py:2: DtypeWarning: Columns (5) have mixed types. Specify dtype option on import or set low_memory=False.\n",
      "  data2 = pd.read_csv('../Donnees/atp_matches_futures_1992_2024.csv')\n"
     ]
    }
   ],
   "source": [
    "data1 = pd.read_csv('../Donnees/atp_matches_1968_2024.csv')\n",
    "data2 = pd.read_csv('../Donnees/atp_matches_futures_1992_2024.csv')\n",
    "data3 = pd.read_csv('../Donnees/atp_matches_qual_1978_2024.csv')\n",
    "data4 = pd.read_csv('../Donnees/wta_matches_1968_2024.csv')\n",
    "data5 = pd.read_csv('../Donnees/wta_matches_qual_1968_2024.csv')"
   ]
  },
  {
   "cell_type": "code",
   "execution_count": 34,
   "id": "c1dc84d7",
   "metadata": {},
   "outputs": [
    {
     "name": "stdout",
     "output_type": "stream",
     "text": [
      "data1 ['R32' 'R16' 'QF' 'SF' 'F' 'R64' 'R128' 'RR' 'BR' 'ER']\n",
      "data2 ['R32' 'R16' 'QF' 'SF' 'F' 'R64' 'Q4']\n",
      "data3 ['R32' 'R16' 'QF' 'SF' 'F' 'R64' 'Q1' 'Q2' 'Q3' 'RR']\n",
      "data4 ['R16' 'QF' 'SF' 'F' 'R64' 'R32' 'R128' 'RR' 'BR']\n",
      "data5 ['Q1' 'Q2' 'Q3' 'Q4' 'Q5' 'R32' 'R16' 'QF' 'SF' 'F' 'R64' 'BR' 'RR' 'R128'\n",
      " 'f']\n"
     ]
    }
   ],
   "source": [
    "print(\"data1\",data1['round'].unique())\n",
    "print(\"data2\",data2['round'].unique())\n",
    "print(\"data3\",data3['round'].unique())\n",
    "print(\"data4\",data4['round'].unique())\n",
    "print(\"data5\",data5['round'].unique())"
   ]
  },
  {
   "cell_type": "code",
   "execution_count": null,
   "id": "28422461",
   "metadata": {},
   "outputs": [],
   "source": [
    "data_test = pd.read_csv(\"../donnees_tennis/WTA/wta_matches_qual_itf_1980.csv\")"
   ]
  },
  {
   "cell_type": "code",
   "execution_count": 25,
   "id": "b185fdd5",
   "metadata": {},
   "outputs": [
    {
     "data": {
      "text/plain": [
       "Index(['tourney_id', 'tourney_name', 'surface', 'draw_size', 'tourney_level',\n",
       "       'tourney_date', 'match_num', 'winner_id', 'winner_seed', 'winner_entry',\n",
       "       'winner_name', 'winner_hand', 'winner_ht', 'winner_ioc', 'winner_age',\n",
       "       'loser_id', 'loser_seed', 'loser_entry', 'loser_name', 'loser_hand',\n",
       "       'loser_ht', 'loser_ioc', 'loser_age', 'score', 'best_of', 'round',\n",
       "       'minutes', 'w_ace', 'w_df', 'w_svpt', 'w_1stIn', 'w_1stWon', 'w_2ndWon',\n",
       "       'w_SvGms', 'w_bpSaved', 'w_bpFaced', 'l_ace', 'l_df', 'l_svpt',\n",
       "       'l_1stIn', 'l_1stWon', 'l_2ndWon', 'l_SvGms', 'l_bpSaved', 'l_bpFaced',\n",
       "       'winner_rank', 'winner_rank_points', 'loser_rank', 'loser_rank_points'],\n",
       "      dtype='object')"
      ]
     },
     "execution_count": 25,
     "metadata": {},
     "output_type": "execute_result"
    }
   ],
   "source": [
    "data_test = data_test[data_test['tourney_id']=='1980-1106']\n",
    "data_test.columns"
   ]
  },
  {
   "cell_type": "code",
   "execution_count": 28,
   "id": "8c2918d0",
   "metadata": {},
   "outputs": [
    {
     "data": {
      "application/vnd.microsoft.datawrangler.viewer.v0+json": {
       "columns": [
        {
         "name": "index",
         "rawType": "int64",
         "type": "integer"
        },
        {
         "name": "draw_size",
         "rawType": "float64",
         "type": "float"
        },
        {
         "name": "tourney_level",
         "rawType": "object",
         "type": "string"
        },
        {
         "name": "match_num",
         "rawType": "int64",
         "type": "integer"
        },
        {
         "name": "round",
         "rawType": "object",
         "type": "string"
        },
        {
         "name": "winner_name",
         "rawType": "object",
         "type": "string"
        },
        {
         "name": "loser_name",
         "rawType": "object",
         "type": "string"
        }
       ],
       "conversionMethod": "pd.DataFrame",
       "ref": "0483ca72-2686-48d7-ba16-80113d327c54",
       "rows": [
        [
         "546",
         null,
         "C",
         "1",
         "RR",
         "Ivanna Madruga",
         "Patricia Medrado"
        ],
        [
         "547",
         null,
         "C",
         "2",
         "RR",
         "Brigitte Simon Glinel",
         "Patrizia Murgo"
        ],
        [
         "548",
         null,
         "C",
         "3",
         "RR",
         "Patricia Medrado",
         "Patrizia Murgo"
        ],
        [
         "549",
         null,
         "C",
         "4",
         "RR",
         "Ivanna Madruga",
         "Brigitte Simon Glinel"
        ],
        [
         "550",
         null,
         "C",
         "5",
         "RR",
         "Kim Steinmetz",
         "Viviana Gonzalez"
        ],
        [
         "551",
         null,
         "C",
         "6",
         "RR",
         "Liliana Giussani",
         "Emilse Raponi Longo"
        ],
        [
         "552",
         null,
         "C",
         "7",
         "RR",
         "Viviana Gonzalez",
         "Emilse Raponi Longo"
        ],
        [
         "553",
         null,
         "C",
         "8",
         "RR",
         "Liliana Giussani",
         "Kim Steinmetz"
        ],
        [
         "554",
         null,
         "C",
         "9",
         "RR",
         "Kim Steinmetz",
         "Brigitte Simon Glinel"
        ],
        [
         "555",
         null,
         "C",
         "10",
         "RR",
         "Emilse Raponi Longo",
         "Patrizia Murgo"
        ],
        [
         "556",
         null,
         "C",
         "11",
         "QF",
         "Patricia Medrado",
         "Kim Steinmetz"
        ],
        [
         "557",
         null,
         "C",
         "12",
         "QF",
         "Viviana Gonzalez",
         "Brigitte Simon Glinel"
        ],
        [
         "558",
         null,
         "C",
         "13",
         "SF",
         "Ivanna Madruga",
         "Viviana Gonzalez"
        ],
        [
         "559",
         null,
         "C",
         "14",
         "SF",
         "Liliana Giussani",
         "Patricia Medrado"
        ],
        [
         "560",
         null,
         "C",
         "15",
         "F",
         "Ivanna Madruga",
         "Liliana Giussani"
        ],
        [
         "561",
         null,
         "C",
         "16",
         "BR",
         "Patricia Medrado",
         "Viviana Gonzalez"
        ]
       ],
       "shape": {
        "columns": 6,
        "rows": 16
       }
      },
      "text/html": [
       "<div>\n",
       "<style scoped>\n",
       "    .dataframe tbody tr th:only-of-type {\n",
       "        vertical-align: middle;\n",
       "    }\n",
       "\n",
       "    .dataframe tbody tr th {\n",
       "        vertical-align: top;\n",
       "    }\n",
       "\n",
       "    .dataframe thead th {\n",
       "        text-align: right;\n",
       "    }\n",
       "</style>\n",
       "<table border=\"1\" class=\"dataframe\">\n",
       "  <thead>\n",
       "    <tr style=\"text-align: right;\">\n",
       "      <th></th>\n",
       "      <th>draw_size</th>\n",
       "      <th>tourney_level</th>\n",
       "      <th>match_num</th>\n",
       "      <th>round</th>\n",
       "      <th>winner_name</th>\n",
       "      <th>loser_name</th>\n",
       "    </tr>\n",
       "  </thead>\n",
       "  <tbody>\n",
       "    <tr>\n",
       "      <th>546</th>\n",
       "      <td>NaN</td>\n",
       "      <td>C</td>\n",
       "      <td>1</td>\n",
       "      <td>RR</td>\n",
       "      <td>Ivanna Madruga</td>\n",
       "      <td>Patricia Medrado</td>\n",
       "    </tr>\n",
       "    <tr>\n",
       "      <th>547</th>\n",
       "      <td>NaN</td>\n",
       "      <td>C</td>\n",
       "      <td>2</td>\n",
       "      <td>RR</td>\n",
       "      <td>Brigitte Simon Glinel</td>\n",
       "      <td>Patrizia Murgo</td>\n",
       "    </tr>\n",
       "    <tr>\n",
       "      <th>548</th>\n",
       "      <td>NaN</td>\n",
       "      <td>C</td>\n",
       "      <td>3</td>\n",
       "      <td>RR</td>\n",
       "      <td>Patricia Medrado</td>\n",
       "      <td>Patrizia Murgo</td>\n",
       "    </tr>\n",
       "    <tr>\n",
       "      <th>549</th>\n",
       "      <td>NaN</td>\n",
       "      <td>C</td>\n",
       "      <td>4</td>\n",
       "      <td>RR</td>\n",
       "      <td>Ivanna Madruga</td>\n",
       "      <td>Brigitte Simon Glinel</td>\n",
       "    </tr>\n",
       "    <tr>\n",
       "      <th>550</th>\n",
       "      <td>NaN</td>\n",
       "      <td>C</td>\n",
       "      <td>5</td>\n",
       "      <td>RR</td>\n",
       "      <td>Kim Steinmetz</td>\n",
       "      <td>Viviana Gonzalez</td>\n",
       "    </tr>\n",
       "    <tr>\n",
       "      <th>551</th>\n",
       "      <td>NaN</td>\n",
       "      <td>C</td>\n",
       "      <td>6</td>\n",
       "      <td>RR</td>\n",
       "      <td>Liliana Giussani</td>\n",
       "      <td>Emilse Raponi Longo</td>\n",
       "    </tr>\n",
       "    <tr>\n",
       "      <th>552</th>\n",
       "      <td>NaN</td>\n",
       "      <td>C</td>\n",
       "      <td>7</td>\n",
       "      <td>RR</td>\n",
       "      <td>Viviana Gonzalez</td>\n",
       "      <td>Emilse Raponi Longo</td>\n",
       "    </tr>\n",
       "    <tr>\n",
       "      <th>553</th>\n",
       "      <td>NaN</td>\n",
       "      <td>C</td>\n",
       "      <td>8</td>\n",
       "      <td>RR</td>\n",
       "      <td>Liliana Giussani</td>\n",
       "      <td>Kim Steinmetz</td>\n",
       "    </tr>\n",
       "    <tr>\n",
       "      <th>554</th>\n",
       "      <td>NaN</td>\n",
       "      <td>C</td>\n",
       "      <td>9</td>\n",
       "      <td>RR</td>\n",
       "      <td>Kim Steinmetz</td>\n",
       "      <td>Brigitte Simon Glinel</td>\n",
       "    </tr>\n",
       "    <tr>\n",
       "      <th>555</th>\n",
       "      <td>NaN</td>\n",
       "      <td>C</td>\n",
       "      <td>10</td>\n",
       "      <td>RR</td>\n",
       "      <td>Emilse Raponi Longo</td>\n",
       "      <td>Patrizia Murgo</td>\n",
       "    </tr>\n",
       "    <tr>\n",
       "      <th>556</th>\n",
       "      <td>NaN</td>\n",
       "      <td>C</td>\n",
       "      <td>11</td>\n",
       "      <td>QF</td>\n",
       "      <td>Patricia Medrado</td>\n",
       "      <td>Kim Steinmetz</td>\n",
       "    </tr>\n",
       "    <tr>\n",
       "      <th>557</th>\n",
       "      <td>NaN</td>\n",
       "      <td>C</td>\n",
       "      <td>12</td>\n",
       "      <td>QF</td>\n",
       "      <td>Viviana Gonzalez</td>\n",
       "      <td>Brigitte Simon Glinel</td>\n",
       "    </tr>\n",
       "    <tr>\n",
       "      <th>558</th>\n",
       "      <td>NaN</td>\n",
       "      <td>C</td>\n",
       "      <td>13</td>\n",
       "      <td>SF</td>\n",
       "      <td>Ivanna Madruga</td>\n",
       "      <td>Viviana Gonzalez</td>\n",
       "    </tr>\n",
       "    <tr>\n",
       "      <th>559</th>\n",
       "      <td>NaN</td>\n",
       "      <td>C</td>\n",
       "      <td>14</td>\n",
       "      <td>SF</td>\n",
       "      <td>Liliana Giussani</td>\n",
       "      <td>Patricia Medrado</td>\n",
       "    </tr>\n",
       "    <tr>\n",
       "      <th>560</th>\n",
       "      <td>NaN</td>\n",
       "      <td>C</td>\n",
       "      <td>15</td>\n",
       "      <td>F</td>\n",
       "      <td>Ivanna Madruga</td>\n",
       "      <td>Liliana Giussani</td>\n",
       "    </tr>\n",
       "    <tr>\n",
       "      <th>561</th>\n",
       "      <td>NaN</td>\n",
       "      <td>C</td>\n",
       "      <td>16</td>\n",
       "      <td>BR</td>\n",
       "      <td>Patricia Medrado</td>\n",
       "      <td>Viviana Gonzalez</td>\n",
       "    </tr>\n",
       "  </tbody>\n",
       "</table>\n",
       "</div>"
      ],
      "text/plain": [
       "     draw_size tourney_level  match_num round            winner_name  \\\n",
       "546        NaN             C          1    RR         Ivanna Madruga   \n",
       "547        NaN             C          2    RR  Brigitte Simon Glinel   \n",
       "548        NaN             C          3    RR       Patricia Medrado   \n",
       "549        NaN             C          4    RR         Ivanna Madruga   \n",
       "550        NaN             C          5    RR          Kim Steinmetz   \n",
       "551        NaN             C          6    RR       Liliana Giussani   \n",
       "552        NaN             C          7    RR       Viviana Gonzalez   \n",
       "553        NaN             C          8    RR       Liliana Giussani   \n",
       "554        NaN             C          9    RR          Kim Steinmetz   \n",
       "555        NaN             C         10    RR    Emilse Raponi Longo   \n",
       "556        NaN             C         11    QF       Patricia Medrado   \n",
       "557        NaN             C         12    QF       Viviana Gonzalez   \n",
       "558        NaN             C         13    SF         Ivanna Madruga   \n",
       "559        NaN             C         14    SF       Liliana Giussani   \n",
       "560        NaN             C         15     F         Ivanna Madruga   \n",
       "561        NaN             C         16    BR       Patricia Medrado   \n",
       "\n",
       "                loser_name  \n",
       "546       Patricia Medrado  \n",
       "547         Patrizia Murgo  \n",
       "548         Patrizia Murgo  \n",
       "549  Brigitte Simon Glinel  \n",
       "550       Viviana Gonzalez  \n",
       "551    Emilse Raponi Longo  \n",
       "552    Emilse Raponi Longo  \n",
       "553          Kim Steinmetz  \n",
       "554  Brigitte Simon Glinel  \n",
       "555         Patrizia Murgo  \n",
       "556          Kim Steinmetz  \n",
       "557  Brigitte Simon Glinel  \n",
       "558       Viviana Gonzalez  \n",
       "559       Patricia Medrado  \n",
       "560       Liliana Giussani  \n",
       "561       Viviana Gonzalez  "
      ]
     },
     "execution_count": 28,
     "metadata": {},
     "output_type": "execute_result"
    }
   ],
   "source": [
    "data_test[['draw_size','tourney_level', 'match_num','round','winner_name','loser_name']].head(100)"
   ]
  }
 ],
 "metadata": {
  "kernelspec": {
   "display_name": "Python 3",
   "language": "python",
   "name": "python3"
  },
  "language_info": {
   "codemirror_mode": {
    "name": "ipython",
    "version": 3
   },
   "file_extension": ".py",
   "mimetype": "text/x-python",
   "name": "python",
   "nbconvert_exporter": "python",
   "pygments_lexer": "ipython3",
   "version": "3.11.9"
  }
 },
 "nbformat": 4,
 "nbformat_minor": 5
}
