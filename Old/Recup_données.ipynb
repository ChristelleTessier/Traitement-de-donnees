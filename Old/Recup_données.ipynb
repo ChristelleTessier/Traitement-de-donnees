{
 "cells": [
  {
   "cell_type": "markdown",
   "metadata": {},
   "source": [
    "# Importation des bibliotheques"
   ]
  },
  {
   "cell_type": "code",
   "execution_count": 2,
   "metadata": {},
   "outputs": [],
   "source": [
    "# Module\n",
    "import pandas as pd\n",
    "import numpy as np\n",
    "import os"
   ]
  },
  {
   "cell_type": "markdown",
   "metadata": {},
   "source": [
    "# Récupération et concaténation des informations sur les annees"
   ]
  },
  {
   "cell_type": "markdown",
   "metadata": {},
   "source": [
    "## ATP"
   ]
  },
  {
   "cell_type": "markdown",
   "metadata": {},
   "source": [
    "### Match simple homme"
   ]
  },
  {
   "cell_type": "code",
   "execution_count": 3,
   "metadata": {},
   "outputs": [],
   "source": [
    "matchs_simple = pd.DataFrame()\n",
    "\n",
    "liste_fichier = os.listdir('donnees_tennis\\ATP')\n",
    "for fichier in liste_fichier:\n",
    "    if fichier.startswith('atp_matches_19') or fichier.startswith('atp_matches_20'):\n",
    "        data_annee = pd.read_csv('donnees_tennis\\ATP\\\\' + fichier)\n",
    "        matchs_simple = pd.concat([matchs_simple, data_annee], axis=0)"
   ]
  },
  {
   "cell_type": "code",
   "execution_count": 5,
   "metadata": {},
   "outputs": [],
   "source": [
    "matchs_simple.to_csv(\"Donnees\\ATP_match_simple.csv\")"
   ]
  },
  {
   "cell_type": "markdown",
   "metadata": {},
   "source": [
    "### Match double homme -> pb inversion colonne"
   ]
  },
  {
   "cell_type": "code",
   "execution_count": 6,
   "metadata": {},
   "outputs": [],
   "source": [
    "matchs_double = pd.DataFrame()\n",
    "\n",
    "liste_fichier = os.listdir('donnees_tennis\\ATP')\n",
    "for fichier in liste_fichier:\n",
    "    if fichier.startswith('atp_matches_doubles'):\n",
    "        data_annee = pd.read_csv('donnees_tennis\\ATP\\\\' + fichier)\n",
    "        matchs_double = pd.concat([matchs_double, data_annee], axis=0)"
   ]
  },
  {
   "cell_type": "code",
   "execution_count": 7,
   "metadata": {},
   "outputs": [],
   "source": [
    "matchs_double.to_csv(\"Donnees\\ATP_match_double.csv\")"
   ]
  },
  {
   "cell_type": "markdown",
   "metadata": {},
   "source": [
    "### Match espoir homme"
   ]
  },
  {
   "cell_type": "code",
   "execution_count": 8,
   "metadata": {},
   "outputs": [],
   "source": [
    "matchs_espoir = pd.DataFrame()\n",
    "\n",
    "liste_fichier = os.listdir('donnees_tennis\\ATP')\n",
    "for fichier in liste_fichier:\n",
    "    if fichier.startswith('atp_matches_futures'):\n",
    "        data_annee = pd.read_csv('donnees_tennis\\ATP\\\\' + fichier)\n",
    "        matchs_espoir = pd.concat([matchs_espoir, data_annee], axis=0)"
   ]
  },
  {
   "cell_type": "code",
   "execution_count": 9,
   "metadata": {},
   "outputs": [],
   "source": [
    "matchs_espoir.to_csv(\"Donnees\\ATP_match_espoir.csv\")"
   ]
  },
  {
   "cell_type": "markdown",
   "metadata": {},
   "source": [
    "### Matchs qualificatifs"
   ]
  },
  {
   "cell_type": "code",
   "execution_count": 10,
   "metadata": {},
   "outputs": [],
   "source": [
    "matchs_qualif = pd.DataFrame()\n",
    "\n",
    "liste_fichier = os.listdir('donnees_tennis\\ATP')\n",
    "for fichier in liste_fichier:\n",
    "    if fichier.startswith('atp_matches_qual'):\n",
    "        data_annee = pd.read_csv('donnees_tennis\\ATP\\\\' + fichier)\n",
    "        matchs_qualif = pd.concat([matchs_qualif, data_annee], axis=0)"
   ]
  },
  {
   "cell_type": "code",
   "execution_count": 11,
   "metadata": {},
   "outputs": [],
   "source": [
    "matchs_qualif.to_csv(\"Donnees\\ATP_match_qualif.csv\")"
   ]
  },
  {
   "cell_type": "markdown",
   "metadata": {},
   "source": [
    "### Classements"
   ]
  },
  {
   "cell_type": "code",
   "execution_count": 14,
   "metadata": {},
   "outputs": [],
   "source": [
    "classement = pd.DataFrame()\n",
    "\n",
    "liste_fichier = os.listdir('donnees_tennis\\ATP')\n",
    "for fichier in liste_fichier:\n",
    "    if fichier.startswith('atp_ranking'):\n",
    "        data_annee = pd.read_csv('donnees_tennis\\ATP\\\\' + fichier)\n",
    "        classement = pd.concat([classement, data_annee], axis=0)"
   ]
  },
  {
   "cell_type": "code",
   "execution_count": 15,
   "metadata": {},
   "outputs": [],
   "source": [
    "classement.to_csv(\"Donnees\\ATP_classement.csv\")"
   ]
  },
  {
   "cell_type": "markdown",
   "metadata": {},
   "source": [
    "## WTA"
   ]
  },
  {
   "cell_type": "markdown",
   "metadata": {},
   "source": [
    "### Matchs simple femmes"
   ]
  },
  {
   "cell_type": "code",
   "execution_count": 16,
   "metadata": {},
   "outputs": [],
   "source": [
    "matchs_simple = pd.DataFrame()\n",
    "\n",
    "liste_fichier = os.listdir('donnees_tennis\\WTA')\n",
    "for fichier in liste_fichier:\n",
    "    if fichier.startswith('wta_matches_19') or fichier.startswith('wta_matches_20'):\n",
    "        data_annee = pd.read_csv('donnees_tennis\\WTA\\\\' + fichier)\n",
    "        matchs_simple = pd.concat([matchs_simple, data_annee], axis=0)"
   ]
  },
  {
   "cell_type": "code",
   "execution_count": 17,
   "metadata": {},
   "outputs": [],
   "source": [
    "matchs_simple.to_csv(\"Donnees\\WTA_match_simple.csv\")"
   ]
  },
  {
   "cell_type": "markdown",
   "metadata": {},
   "source": [
    "### Matchs qualifications"
   ]
  },
  {
   "cell_type": "markdown",
   "metadata": {},
   "source": [
    "```python\n",
    "matchs_qualif = pd.DataFrame()\n",
    "\n",
    "liste_fichier = os.listdir('donnees_tennis\\WTA')\n",
    "for fichier in liste_fichier:\n",
    "    if fichier.startswith('wta_matches_qual'):\n",
    "        data_annee = pd.read_csv('donnees_tennis\\WTA\\\\' + fichier)\n",
    "        matchs_qualif = pd.concat([matchs_qualif, data_annee], axis=0)\n",
    "```\n",
    "\n",
    "Problème dans lecture des fihciers 2019/2021/2022 et 2024\n",
    "\n",
    "Messages erreurs (2019 - 2021 et 2022)\n",
    "```bash\n",
    "C:\\Users\\33663\\AppData\\Local\\Temp\\ipykernel_47532\\2823193680.py:7: DtypeWarning: Columns (8,16) have mixed types. Specify dtype option on import or set low_memory=False.\n",
    "  data_annee = pd.read_csv('donnees_tennis\\WTA\\\\' + fichier)\n",
    "```\n",
    "\n",
    "Message erreur 2024\n",
    "```bash\n",
    "C:\\Users\\33663\\AppData\\Local\\Temp\\ipykernel_47532\\2823193680.py:7: DtypeWarning: Columns (4) have mixed types. Specify dtype option on import or set low_memory=False.\n",
    "  data_annee = pd.read_csv('donnees_tennis\\WTA\\\\' + fichier)\n",
    "```\n",
    "\n",
    "Solution possible : ajouter low_memory=False à la lecture des fichiers"
   ]
  },
  {
   "cell_type": "code",
   "execution_count": 28,
   "metadata": {},
   "outputs": [],
   "source": [
    "matchs_qualif = pd.DataFrame()\n",
    "\n",
    "liste_fichier = os.listdir('donnees_tennis\\WTA')\n",
    "for fichier in liste_fichier:\n",
    "    if fichier.startswith('wta_matches_qual'):\n",
    "        data_annee = pd.read_csv('donnees_tennis\\WTA\\\\' + fichier, low_memory=False)\n",
    "        matchs_qualif = pd.concat([matchs_qualif, data_annee], axis=0)"
   ]
  },
  {
   "cell_type": "code",
   "execution_count": 19,
   "metadata": {},
   "outputs": [],
   "source": [
    "matchs_qualif.to_csv(\"Donnees\\WTA_match_qualif.csv\")"
   ]
  },
  {
   "cell_type": "markdown",
   "metadata": {},
   "source": [
    "### WTA classements"
   ]
  },
  {
   "cell_type": "code",
   "execution_count": 20,
   "metadata": {},
   "outputs": [],
   "source": [
    "classement = pd.DataFrame()\n",
    "\n",
    "liste_fichier = os.listdir('donnees_tennis\\WTA')\n",
    "for fichier in liste_fichier:\n",
    "    if fichier.startswith('wta_ranking'):\n",
    "        data_annee = pd.read_csv('donnees_tennis\\WTA\\\\' + fichier)\n",
    "        classement = pd.concat([classement, data_annee], axis=0)"
   ]
  },
  {
   "cell_type": "code",
   "execution_count": 21,
   "metadata": {},
   "outputs": [],
   "source": [
    "classement.to_csv(\"Donnees\\WTA_classement.csv\")"
   ]
  },
  {
   "cell_type": "markdown",
   "metadata": {},
   "source": [
    "# Nétoyage des données"
   ]
  },
  {
   "cell_type": "markdown",
   "metadata": {},
   "source": [
    "## Etape 1 : Vérification des données matchs qualifications WTA"
   ]
  },
  {
   "cell_type": "markdown",
   "metadata": {},
   "source": [
    "## Etape 2 : Vérification des valeurs manquantes"
   ]
  },
  {
   "cell_type": "markdown",
   "metadata": {},
   "source": [
    "## Etape 3 : suppressions des données redondantes"
   ]
  }
 ],
 "metadata": {
  "kernelspec": {
   "display_name": "base",
   "language": "python",
   "name": "python3"
  },
  "language_info": {
   "codemirror_mode": {
    "name": "ipython",
    "version": 3
   },
   "file_extension": ".py",
   "mimetype": "text/x-python",
   "name": "python",
   "nbconvert_exporter": "python",
   "pygments_lexer": "ipython3",
   "version": "3.11.7"
  }
 },
 "nbformat": 4,
 "nbformat_minor": 2
}
