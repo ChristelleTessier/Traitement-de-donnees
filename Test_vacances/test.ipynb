{
 "cells": [
  {
   "cell_type": "code",
   "execution_count": 4,
   "id": "9a40dcb5",
   "metadata": {},
   "outputs": [],
   "source": [
    "import pandas as pd"
   ]
  },
  {
   "cell_type": "code",
   "execution_count": 6,
   "id": "a7695634",
   "metadata": {},
   "outputs": [],
   "source": [
    "data = pd.read_csv(\"../Donnees/atp_rankings.csv\", index_col= 0)"
   ]
  },
  {
   "cell_type": "code",
   "execution_count": null,
   "id": "fa0f25b4",
   "metadata": {},
   "outputs": [],
   "source": [
    "data.head()"
   ]
  },
  {
   "cell_type": "code",
   "execution_count": null,
   "id": "1f05427a",
   "metadata": {},
   "outputs": [],
   "source": [
    "data['ranking_date']"
   ]
  },
  {
   "cell_type": "code",
   "execution_count": null,
   "id": "eb259478",
   "metadata": {},
   "outputs": [],
   "source": [
    "from Test_vacances.classe_joueur import Joueur,creer_joueur"
   ]
  },
  {
   "cell_type": "code",
   "execution_count": null,
   "id": "040ec68d",
   "metadata": {},
   "outputs": [],
   "source": [
    "joueur = creer_joueur(nom = 'Nadal', prenom = 'Rafael')\n",
    "print(joueur)"
   ]
  }
 ],
 "metadata": {
  "kernelspec": {
   "display_name": "base",
   "language": "python",
   "name": "python3"
  },
  "language_info": {
   "codemirror_mode": {
    "name": "ipython",
    "version": 3
   },
   "file_extension": ".py",
   "mimetype": "text/x-python",
   "name": "python",
   "nbconvert_exporter": "python",
   "pygments_lexer": "ipython3",
   "version": "3.11.7"
  }
 },
 "nbformat": 4,
 "nbformat_minor": 5
}
