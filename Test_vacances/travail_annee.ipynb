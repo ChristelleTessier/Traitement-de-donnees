{
 "cells": [
  {
   "cell_type": "code",
   "execution_count": 2,
   "id": "4d90d83f",
   "metadata": {},
   "outputs": [],
   "source": [
    "import pandas as pd"
   ]
  },
  {
   "cell_type": "markdown",
   "id": "00dc3694",
   "metadata": {},
   "source": [
    "Objectif : Ajouter une colonne annee pour faire un tri plus facile"
   ]
  },
  {
   "cell_type": "code",
   "execution_count": 84,
   "id": "29a0c8ae",
   "metadata": {},
   "outputs": [],
   "source": [
    "def ajout_annee(nom):\n",
    "    nom_fichier = \"../Donnees/\" + nom + \".csv\"\n",
    "    data = pd.read_csv(nom_fichier,index_col = 0)\n",
    "\n",
    "    annee = data[\"tourney_id\"].str[:4]\n",
    "\n",
    "    # Insérer la colonne 'annee' en première position (index 0)\n",
    "    data.insert(0, 'annee', annee)\n",
    "\n",
    "    data.to_csv(nom_fichier)\n"
   ]
  },
  {
   "cell_type": "code",
   "execution_count": null,
   "id": "880eee92",
   "metadata": {},
   "outputs": [],
   "source": [
    "ajout_annee(\"atp_matches_1968_2024\")\n",
    "ajout_annee(\"atp_matches_doubles_2000_2024\")\n",
    "ajout_annee(\"atp_matches_futures_1992_2024\")\n",
    "ajout_annee(\"atp_matches_qual_1978_2024\")\n",
    "ajout_annee(\"wta_matches_1968_2024\")\n",
    "ajout_annee(\"wta_matches_qual_1968_2024\")"
   ]
  },
  {
   "cell_type": "code",
   "execution_count": 129,
   "id": "cfe1589f",
   "metadata": {},
   "outputs": [],
   "source": [
    "def transfo_format_date(nom):\n",
    "    nom_fichier = \"../Donnees/\" + nom + \".csv\"\n",
    "    data = pd.read_csv(nom_fichier,index_col = 0)\n",
    "\n",
    "    data[\"tourney_date\"] = pd.to_datetime(data[\"tourney_date\"], format=\"%Y%m%d\")\n",
    "\n",
    "    data.to_csv(nom_fichier)"
   ]
  },
  {
   "cell_type": "code",
   "execution_count": 130,
   "id": "520765c4",
   "metadata": {},
   "outputs": [
    {
     "name": "stderr",
     "output_type": "stream",
     "text": [
      "C:\\Users\\33663\\AppData\\Local\\Temp\\ipykernel_15508\\2685076489.py:3: DtypeWarning: Columns (6) have mixed types. Specify dtype option on import or set low_memory=False.\n",
      "  data = pd.read_csv(nom_fichier,index_col = 0)\n",
      "C:\\Users\\33663\\AppData\\Local\\Temp\\ipykernel_15508\\2685076489.py:3: DtypeWarning: Columns (6,10,18) have mixed types. Specify dtype option on import or set low_memory=False.\n",
      "  data = pd.read_csv(nom_fichier,index_col = 0)\n",
      "C:\\Users\\33663\\AppData\\Local\\Temp\\ipykernel_15508\\2685076489.py:3: DtypeWarning: Columns (6,10,18) have mixed types. Specify dtype option on import or set low_memory=False.\n",
      "  data = pd.read_csv(nom_fichier,index_col = 0)\n"
     ]
    }
   ],
   "source": [
    "transfo_format_date(\"atp_matches_1968_2024\")\n",
    "transfo_format_date(\"atp_matches_doubles_2000_2024\")\n",
    "transfo_format_date(\"atp_matches_futures_1992_2024\")\n",
    "transfo_format_date(\"atp_matches_qual_1978_2024\")\n",
    "transfo_format_date(\"wta_matches_1968_2024\")\n",
    "transfo_format_date(\"wta_matches_qual_1968_2024\")"
   ]
  },
  {
   "cell_type": "markdown",
   "id": "09e49fa6",
   "metadata": {},
   "source": [
    "Gestion des conflits de format"
   ]
  },
  {
   "cell_type": "code",
   "execution_count": null,
   "id": "379fa2af",
   "metadata": {},
   "outputs": [],
   "source": [
    "data = pd.read_csv(\"../Donnees/atp_matches_1968_2024.csv\")"
   ]
  },
  {
   "cell_type": "code",
   "execution_count": 100,
   "id": "f4f96641",
   "metadata": {},
   "outputs": [],
   "source": [
    "data = pd.read_csv(\"../Donnees/atp_matches_doubles_2000_2024.csv\")"
   ]
  },
  {
   "cell_type": "code",
   "execution_count": 107,
   "id": "cae67653",
   "metadata": {},
   "outputs": [
    {
     "name": "stderr",
     "output_type": "stream",
     "text": [
      "C:\\Users\\33663\\AppData\\Local\\Temp\\ipykernel_15508\\2269665754.py:1: DtypeWarning: Columns (6) have mixed types. Specify dtype option on import or set low_memory=False.\n",
      "  data = pd.read_csv(\"../Donnees/atp_matches_futures_1992_2024.csv\")\n"
     ]
    }
   ],
   "source": [
    "data = pd.read_csv(\"../Donnees/atp_matches_futures_1992_2024.csv\")"
   ]
  },
  {
   "cell_type": "code",
   "execution_count": 103,
   "id": "8b8fd84d",
   "metadata": {},
   "outputs": [
    {
     "name": "stdout",
     "output_type": "stream",
     "text": [
      "tourney_level\n"
     ]
    }
   ],
   "source": [
    "col_names = data.columns\n",
    "print(col_names[6])"
   ]
  },
  {
   "cell_type": "code",
   "execution_count": 108,
   "id": "c8b66228",
   "metadata": {},
   "outputs": [
    {
     "data": {
      "text/plain": [
       "array(['S', '25', '15', 15, 25], dtype=object)"
      ]
     },
     "execution_count": 108,
     "metadata": {},
     "output_type": "execute_result"
    }
   ],
   "source": [
    "data[\"tourney_level\"].unique()"
   ]
  },
  {
   "cell_type": "code",
   "execution_count": 104,
   "id": "6c59bcb4",
   "metadata": {},
   "outputs": [],
   "source": [
    "data = pd.read_csv(\"../Donnees/atp_matches_qual_1978_2024.csv\")"
   ]
  },
  {
   "cell_type": "code",
   "execution_count": 109,
   "id": "925e3496",
   "metadata": {},
   "outputs": [
    {
     "name": "stderr",
     "output_type": "stream",
     "text": [
      "C:\\Users\\33663\\AppData\\Local\\Temp\\ipykernel_15508\\3108148667.py:1: DtypeWarning: Columns (6,10,18) have mixed types. Specify dtype option on import or set low_memory=False.\n",
      "  data = pd.read_csv(\"../Donnees/wta_matches_1968_2024.csv\")\n"
     ]
    }
   ],
   "source": [
    "data = pd.read_csv(\"../Donnees/wta_matches_1968_2024.csv\")"
   ]
  },
  {
   "cell_type": "code",
   "execution_count": 110,
   "id": "4dde0d12",
   "metadata": {},
   "outputs": [
    {
     "name": "stdout",
     "output_type": "stream",
     "text": [
      "tourney_level\n",
      "winner_seed\n",
      "loser_seed\n"
     ]
    }
   ],
   "source": [
    "col_names = data2.columns\n",
    "print(col_names[6])\n",
    "print(col_names[10])\n",
    "print(col_names[18])"
   ]
  },
  {
   "cell_type": "code",
   "execution_count": 111,
   "id": "46f30579",
   "metadata": {},
   "outputs": [
    {
     "data": {
      "text/plain": [
       "array(['W', 'G', 'C', 'E', 'T1', '25', '50', '10', 'T5', '75', '20', 'T2',\n",
       "       'T3', 'T4', '100', 'I', 'PM', 'P', '15', 100, 10, 25, 50, 75, 15,\n",
       "       '60', '80', 60, 80, '40', 40, '35', 35], dtype=object)"
      ]
     },
     "metadata": {},
     "output_type": "display_data"
    },
    {
     "data": {
      "text/plain": [
       "array(['5.0', '0.0', '6.0', '4.0', '0', '4', '6', '5', '3', '7', '8',\n",
       "       '2F', '13', '14', '11', '1F', '8.0', '2.0', '1.0', '3.0', '7.0',\n",
       "       '10.0', '12.0', '14.0', '15.0', '9.0', '16.0', '13.0', '11.0', '1',\n",
       "       '2', '10', '12', '9', '15', '16', '7(Q', 0.0, 1.0, 4.0, 6.0, 5.0,\n",
       "       3.0, 2.0, 8.0, 7.0, 14.0, 15.0, 11.0, 13.0, 16.0, 10.0, 12.0, 9.0,\n",
       "       17.0, 22.0, 20.0, 21.0, 29.0, 24.0, 27.0, 23.0, 18.0, 32.0, 19.0,\n",
       "       26.0, 28.0, 30.0, 25.0, 31.0, '18', '21', '17', '20', '23', '19',\n",
       "       '22', '29', '32', '30', '28', '26', '24', '31', '25', '27', 'WC',\n",
       "       '17.0', '28.0', '24.0', '26.0', '22.0', '31.0', '19.0', '21.0',\n",
       "       '25.0', '27.0'], dtype=object)"
      ]
     },
     "metadata": {},
     "output_type": "display_data"
    },
    {
     "data": {
      "text/plain": [
       "array([0.0, 3.0, 4.0, 2.0, 6.0, 7.0, 1.0, 5.0, 8.0, 11.0, 13.0, 12.0,\n",
       "       16.0, 10.0, 15.0, 14.0, 9.0, 17.0, 22.0, 25.0, 31.0, 27.0, 23.0,\n",
       "       19.0, 20.0, 29.0, 18.0, 26.0, 21.0, 30.0, 24.0, 32.0, 28.0, 33.0,\n",
       "       '0', '5', '12', '13', '2', '7', '14', '11', '15', '10', '16', '9',\n",
       "       '3', '8', '4', '6', '1', '22', '19', '24', '21', '20', '23', '18',\n",
       "       '17', '25', '33', '27', '32', '26', '31', '30', 'WC', '29', '28',\n",
       "       '2.0', '6.0', '4.0', '7.0', '1.0', '3.0', '8.0', '5.0', '9.0',\n",
       "       '15.0', '10.0', '11.0', '14.0', '13.0', '12.0', '16.0', '17.0',\n",
       "       '20.0', '29.0', '32.0', '30.0', '24.0', '19.0', '21.0', '25.0',\n",
       "       '26.0', '31.0', '0.0'], dtype=object)"
      ]
     },
     "metadata": {},
     "output_type": "display_data"
    }
   ],
   "source": [
    "display(data[\"tourney_level\"].unique())\n",
    "display(data[\"winner_seed\"].unique())\n",
    "display(data[\"loser_seed\"].unique())"
   ]
  },
  {
   "cell_type": "code",
   "execution_count": 115,
   "id": "77a00003",
   "metadata": {},
   "outputs": [
    {
     "name": "stderr",
     "output_type": "stream",
     "text": [
      "C:\\Users\\33663\\AppData\\Local\\Temp\\ipykernel_15508\\501218761.py:1: DtypeWarning: Columns (6,10,18) have mixed types. Specify dtype option on import or set low_memory=False.\n",
      "  data = pd.read_csv(\"../Donnees/wta_matches_qual_1968_2024.csv\")\n"
     ]
    }
   ],
   "source": [
    "data = pd.read_csv(\"../Donnees/wta_matches_qual_1968_2024.csv\")"
   ]
  },
  {
   "cell_type": "code",
   "execution_count": 119,
   "id": "701e5727",
   "metadata": {},
   "outputs": [
    {
     "name": "stdout",
     "output_type": "stream",
     "text": [
      "tourney_level\n",
      "winner_seed\n",
      "loser_seed\n"
     ]
    }
   ],
   "source": [
    "col_names = data.columns\n",
    "print(col_names[6])\n",
    "print(col_names[10])\n",
    "print(col_names[18])"
   ]
  },
  {
   "cell_type": "code",
   "execution_count": 121,
   "id": "c5264b28",
   "metadata": {},
   "outputs": [
    {
     "data": {
      "text/plain": [
       "array(['W', 'G', 'C', 'E', 'T1', '25', '50', '10', 'T5', '75', '20', 'T2',\n",
       "       'T3', 'T4', '100', 'I', 'PM', 'P', '15', 100, 10, 25, 50, 75, 15,\n",
       "       '60', '80', 60, 80, '40', 40, '35', 35], dtype=object)"
      ]
     },
     "metadata": {},
     "output_type": "display_data"
    },
    {
     "data": {
      "text/plain": [
       "array(['5.0', '0.0', '6.0', '4.0', '0', '4', '6', '5', '3', '7', '8',\n",
       "       '2F', '13', '14', '11', '1F', '8.0', '2.0', '1.0', '3.0', '7.0',\n",
       "       '10.0', '12.0', '14.0', '15.0', '9.0', '16.0', '13.0', '11.0', '1',\n",
       "       '2', '10', '12', '9', '15', '16', '7(Q', 0.0, 1.0, 4.0, 6.0, 5.0,\n",
       "       3.0, 2.0, 8.0, 7.0, 14.0, 15.0, 11.0, 13.0, 16.0, 10.0, 12.0, 9.0,\n",
       "       17.0, 22.0, 20.0, 21.0, 29.0, 24.0, 27.0, 23.0, 18.0, 32.0, 19.0,\n",
       "       26.0, 28.0, 30.0, 25.0, 31.0, '18', '21', '17', '20', '23', '19',\n",
       "       '22', '29', '32', '30', '28', '26', '24', '31', '25', '27', 'WC',\n",
       "       '17.0', '28.0', '24.0', '26.0', '22.0', '31.0', '19.0', '21.0',\n",
       "       '25.0', '27.0'], dtype=object)"
      ]
     },
     "metadata": {},
     "output_type": "display_data"
    },
    {
     "data": {
      "text/plain": [
       "array([0.0, 3.0, 4.0, 2.0, 6.0, 7.0, 1.0, 5.0, 8.0, 11.0, 13.0, 12.0,\n",
       "       16.0, 10.0, 15.0, 14.0, 9.0, 17.0, 22.0, 25.0, 31.0, 27.0, 23.0,\n",
       "       19.0, 20.0, 29.0, 18.0, 26.0, 21.0, 30.0, 24.0, 32.0, 28.0, 33.0,\n",
       "       '0', '5', '12', '13', '2', '7', '14', '11', '15', '10', '16', '9',\n",
       "       '3', '8', '4', '6', '1', '22', '19', '24', '21', '20', '23', '18',\n",
       "       '17', '25', '33', '27', '32', '26', '31', '30', 'WC', '29', '28',\n",
       "       '2.0', '6.0', '4.0', '7.0', '1.0', '3.0', '8.0', '5.0', '9.0',\n",
       "       '15.0', '10.0', '11.0', '14.0', '13.0', '12.0', '16.0', '17.0',\n",
       "       '20.0', '29.0', '32.0', '30.0', '24.0', '19.0', '21.0', '25.0',\n",
       "       '26.0', '31.0', '0.0'], dtype=object)"
      ]
     },
     "metadata": {},
     "output_type": "display_data"
    }
   ],
   "source": [
    "display(data[\"tourney_level\"].unique())\n",
    "display(data[\"winner_seed\"].unique())\n",
    "display(data[\"loser_seed\"].unique())"
   ]
  }
 ],
 "metadata": {
  "kernelspec": {
   "display_name": "base",
   "language": "python",
   "name": "python3"
  },
  "language_info": {
   "codemirror_mode": {
    "name": "ipython",
    "version": 3
   },
   "file_extension": ".py",
   "mimetype": "text/x-python",
   "name": "python",
   "nbconvert_exporter": "python",
   "pygments_lexer": "ipython3",
   "version": "3.11.7"
  }
 },
 "nbformat": 4,
 "nbformat_minor": 5
}
