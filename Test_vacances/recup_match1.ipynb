{
 "cells": [
  {
   "cell_type": "code",
   "execution_count": null,
   "id": "40cb5aeb",
   "metadata": {},
   "outputs": [],
   "source": [
    "import pandas as pd"
   ]
  },
  {
   "cell_type": "markdown",
   "id": "940993bf",
   "metadata": {},
   "source": [
    "# Objectif : Compléter les tables atp_player et wta_player avec la variable \"match_first\""
   ]
  },
  {
   "cell_type": "markdown",
   "id": "1becb120",
   "metadata": {},
   "source": [
    "## Pour les hommes"
   ]
  },
  {
   "cell_type": "code",
   "execution_count": 2,
   "id": "6268e599",
   "metadata": {},
   "outputs": [],
   "source": [
    "# Récupération de la table et de l'identifiant\n",
    "data_homme = pd.read_csv(\"../donnees_tennis/ATP/atp_players.csv\",low_memory=False)\n"
   ]
  },
  {
   "cell_type": "code",
   "execution_count": 3,
   "id": "ccca2239",
   "metadata": {},
   "outputs": [],
   "source": [
    "# Récupérer la liste de tous les fichier\n",
    "liste_fichier = os.listdir('../donnees_tennis\\ATP')"
   ]
  },
  {
   "cell_type": "markdown",
   "id": "04c3032e",
   "metadata": {},
   "source": [
    "### Trouver le premier match"
   ]
  },
  {
   "cell_type": "code",
   "execution_count": 4,
   "id": "39a8cf0d",
   "metadata": {},
   "outputs": [],
   "source": [
    "def trouver_match(id_player, liste_data, type):\n",
    "\n",
    "    # Initialisation d'une date vide\n",
    "    date_temp = None\n",
    "\n",
    "    for indice, data in enumerate(liste_data):\n",
    "\n",
    "\n",
    "        # Récuperation des data frame\n",
    "        date = None\n",
    "\n",
    "        if indice ==1 and type == 'atp':  # pour vérifié si le match est un double\n",
    "            if id_player in data[\"winner1_id\"].values :\n",
    "                date = data[data[\"winner1_id\"]== id_player][\"tourney_date\"].values[0]\n",
    "            elif id_player in data[\"winner2_id\"].values:\n",
    "                date = data[data[\"winner2_id\"]== id_player][\"tourney_date\"].values[0]\n",
    "            elif id_player in data[\"loser1_id\"].values:\n",
    "                date = data[data[\"loser1_id\"]== id_player][\"tourney_date\"].values[0]\n",
    "            elif id_player in data[\"loser2_id\"].values:\n",
    "                date = data[data[\"loser2_id\"]== id_player][\"tourney_date\"].values[0]\n",
    "\n",
    "\n",
    "        else: # pour match simple\n",
    "            if id_player in data[\"winner_id\"].values :\n",
    "                date = data[data[\"winner_id\"]== id_player][\"tourney_date\"].values[0]\n",
    "\n",
    "            elif id_player in data[\"loser_id\"].values :\n",
    "                date = data[data[\"loser_id\"]== id_player][\"tourney_date\"].values[0]\n",
    "\n",
    "\n",
    "\n",
    "        if date is not None:\n",
    "            # Modification des dates au format date\n",
    "            match_date = pd.to_datetime(date, format=\"%Y%m%d\")\n",
    "            # Comparaison à la date trouvé dans tournoi précédent\n",
    "            if (date_temp is None) or (match_date < date_temp):\n",
    "                date_temp = match_date\n",
    "\n",
    "\n",
    "    return date_temp\n"
   ]
  },
  {
   "cell_type": "markdown",
   "id": "339955b5",
   "metadata": {},
   "source": [
    "### Ajouter la variable \"date_match1\"\n",
    " "
   ]
  },
  {
   "cell_type": "code",
   "execution_count": 5,
   "id": "30a45530",
   "metadata": {},
   "outputs": [
    {
     "name": "stderr",
     "output_type": "stream",
     "text": [
      "C:\\Users\\33663\\AppData\\Local\\Temp\\ipykernel_51120\\3144811732.py:3: DtypeWarning: Columns (5) have mixed types. Specify dtype option on import or set low_memory=False.\n",
      "  data3 = pd.read_csv(\"../Donnees/atp_matches_futures_1992_2024.csv\")\n"
     ]
    }
   ],
   "source": [
    "data1 = pd.read_csv(\"../Donnees/atp_matches_1968_2024.csv\")\n",
    "data2 = pd.read_csv(\"../Donnees/atp_matches_doubles_2000_2024.csv\")\n",
    "data3 = pd.read_csv(\"../Donnees/atp_matches_futures_1992_2024.csv\")\n",
    "data4 = pd.read_csv(\"../Donnees/atp_matches_qual_1978_2024.csv\")"
   ]
  },
  {
   "cell_type": "code",
   "execution_count": 6,
   "id": "896ea64e",
   "metadata": {},
   "outputs": [],
   "source": [
    "liste = [data1, data2, data3, data4]"
   ]
  },
  {
   "cell_type": "code",
   "execution_count": 7,
   "id": "7fe7ae46",
   "metadata": {},
   "outputs": [],
   "source": [
    "data_homme['first_match_date'] = data_homme['player_id'].apply(trouver_match,liste_data = liste, type= 'atp')"
   ]
  },
  {
   "cell_type": "code",
   "execution_count": 8,
   "id": "a5b0dc8a",
   "metadata": {},
   "outputs": [
    {
     "data": {
      "application/vnd.microsoft.datawrangler.viewer.v0+json": {
       "columns": [
        {
         "name": "index",
         "rawType": "int64",
         "type": "integer"
        },
        {
         "name": "player_id",
         "rawType": "int64",
         "type": "integer"
        },
        {
         "name": "name_first",
         "rawType": "object",
         "type": "string"
        },
        {
         "name": "name_last",
         "rawType": "object",
         "type": "string"
        },
        {
         "name": "hand",
         "rawType": "object",
         "type": "string"
        },
        {
         "name": "dob",
         "rawType": "float64",
         "type": "float"
        },
        {
         "name": "ioc",
         "rawType": "object",
         "type": "string"
        },
        {
         "name": "height",
         "rawType": "float64",
         "type": "float"
        },
        {
         "name": "wikidata_id",
         "rawType": "object",
         "type": "string"
        },
        {
         "name": "first_match_date",
         "rawType": "datetime64[ns]",
         "type": "datetime"
        }
       ],
       "conversionMethod": "pd.DataFrame",
       "ref": "b491c9e4-85b8-4a98-90a3-3aad24c47618",
       "rows": [
        [
         "0",
         "100001",
         "Gardnar",
         "Mulloy",
         "R",
         "19131122.0",
         "USA",
         "185.0",
         "Q54544",
         "1968-03-04 00:00:00"
        ],
        [
         "1",
         "100002",
         "Pancho",
         "Segura",
         "R",
         "19210620.0",
         "ECU",
         "168.0",
         "Q54581",
         "1968-09-14 00:00:00"
        ],
        [
         "2",
         "100003",
         "Frank",
         "Sedgman",
         "R",
         "19271002.0",
         "AUS",
         "180.0",
         "Q962049",
         "1968-06-17 00:00:00"
        ],
        [
         "3",
         "100004",
         "Giuseppe",
         "Merlo",
         "R",
         "19271011.0",
         "ITA",
         null,
         "Q1258752",
         "1968-05-06 00:00:00"
        ],
        [
         "4",
         "100005",
         "Richard",
         "Gonzalez",
         "R",
         "19280509.0",
         "USA",
         "188.0",
         "Q53554",
         "1968-04-22 00:00:00"
        ]
       ],
       "shape": {
        "columns": 9,
        "rows": 5
       }
      },
      "text/html": [
       "<div>\n",
       "<style scoped>\n",
       "    .dataframe tbody tr th:only-of-type {\n",
       "        vertical-align: middle;\n",
       "    }\n",
       "\n",
       "    .dataframe tbody tr th {\n",
       "        vertical-align: top;\n",
       "    }\n",
       "\n",
       "    .dataframe thead th {\n",
       "        text-align: right;\n",
       "    }\n",
       "</style>\n",
       "<table border=\"1\" class=\"dataframe\">\n",
       "  <thead>\n",
       "    <tr style=\"text-align: right;\">\n",
       "      <th></th>\n",
       "      <th>player_id</th>\n",
       "      <th>name_first</th>\n",
       "      <th>name_last</th>\n",
       "      <th>hand</th>\n",
       "      <th>dob</th>\n",
       "      <th>ioc</th>\n",
       "      <th>height</th>\n",
       "      <th>wikidata_id</th>\n",
       "      <th>first_match_date</th>\n",
       "    </tr>\n",
       "  </thead>\n",
       "  <tbody>\n",
       "    <tr>\n",
       "      <th>0</th>\n",
       "      <td>100001</td>\n",
       "      <td>Gardnar</td>\n",
       "      <td>Mulloy</td>\n",
       "      <td>R</td>\n",
       "      <td>19131122.0</td>\n",
       "      <td>USA</td>\n",
       "      <td>185.0</td>\n",
       "      <td>Q54544</td>\n",
       "      <td>1968-03-04</td>\n",
       "    </tr>\n",
       "    <tr>\n",
       "      <th>1</th>\n",
       "      <td>100002</td>\n",
       "      <td>Pancho</td>\n",
       "      <td>Segura</td>\n",
       "      <td>R</td>\n",
       "      <td>19210620.0</td>\n",
       "      <td>ECU</td>\n",
       "      <td>168.0</td>\n",
       "      <td>Q54581</td>\n",
       "      <td>1968-09-14</td>\n",
       "    </tr>\n",
       "    <tr>\n",
       "      <th>2</th>\n",
       "      <td>100003</td>\n",
       "      <td>Frank</td>\n",
       "      <td>Sedgman</td>\n",
       "      <td>R</td>\n",
       "      <td>19271002.0</td>\n",
       "      <td>AUS</td>\n",
       "      <td>180.0</td>\n",
       "      <td>Q962049</td>\n",
       "      <td>1968-06-17</td>\n",
       "    </tr>\n",
       "    <tr>\n",
       "      <th>3</th>\n",
       "      <td>100004</td>\n",
       "      <td>Giuseppe</td>\n",
       "      <td>Merlo</td>\n",
       "      <td>R</td>\n",
       "      <td>19271011.0</td>\n",
       "      <td>ITA</td>\n",
       "      <td>NaN</td>\n",
       "      <td>Q1258752</td>\n",
       "      <td>1968-05-06</td>\n",
       "    </tr>\n",
       "    <tr>\n",
       "      <th>4</th>\n",
       "      <td>100005</td>\n",
       "      <td>Richard</td>\n",
       "      <td>Gonzalez</td>\n",
       "      <td>R</td>\n",
       "      <td>19280509.0</td>\n",
       "      <td>USA</td>\n",
       "      <td>188.0</td>\n",
       "      <td>Q53554</td>\n",
       "      <td>1968-04-22</td>\n",
       "    </tr>\n",
       "  </tbody>\n",
       "</table>\n",
       "</div>"
      ],
      "text/plain": [
       "   player_id name_first name_last hand         dob  ioc  height wikidata_id  \\\n",
       "0     100001    Gardnar    Mulloy    R  19131122.0  USA   185.0      Q54544   \n",
       "1     100002     Pancho    Segura    R  19210620.0  ECU   168.0      Q54581   \n",
       "2     100003      Frank   Sedgman    R  19271002.0  AUS   180.0     Q962049   \n",
       "3     100004   Giuseppe     Merlo    R  19271011.0  ITA     NaN    Q1258752   \n",
       "4     100005    Richard  Gonzalez    R  19280509.0  USA   188.0      Q53554   \n",
       "\n",
       "  first_match_date  \n",
       "0       1968-03-04  \n",
       "1       1968-09-14  \n",
       "2       1968-06-17  \n",
       "3       1968-05-06  \n",
       "4       1968-04-22  "
      ]
     },
     "execution_count": 8,
     "metadata": {},
     "output_type": "execute_result"
    }
   ],
   "source": [
    "data_homme.head()"
   ]
  },
  {
   "cell_type": "code",
   "execution_count": 9,
   "id": "c5ae580a",
   "metadata": {},
   "outputs": [],
   "source": [
    "data_homme.to_csv(\"../Donnees/atp_players_comp.csv\")"
   ]
  },
  {
   "cell_type": "code",
   "execution_count": null,
   "id": "3f2d5d97",
   "metadata": {},
   "outputs": [],
   "source": [
    "\n",
    "data_femme = pd.read_csv(\"../donnees_tennis/WTA/wta_players.csv\",low_memory=False)"
   ]
  },
  {
   "cell_type": "code",
   "execution_count": 11,
   "id": "d2840a79",
   "metadata": {},
   "outputs": [
    {
     "name": "stderr",
     "output_type": "stream",
     "text": [
      "C:\\Users\\33663\\AppData\\Local\\Temp\\ipykernel_51120\\2491456969.py:1: DtypeWarning: Columns (5,9,17) have mixed types. Specify dtype option on import or set low_memory=False.\n",
      "  data1 = pd.read_csv(\"../Donnees/wta_matches_1968_2024.csv\")\n",
      "C:\\Users\\33663\\AppData\\Local\\Temp\\ipykernel_51120\\2491456969.py:2: DtypeWarning: Columns (5,9,17) have mixed types. Specify dtype option on import or set low_memory=False.\n",
      "  data2 = pd.read_csv(\"../Donnees/wta_matches_qual_1968_2024.csv\")\n"
     ]
    }
   ],
   "source": [
    "data1 = pd.read_csv(\"../Donnees/wta_matches_1968_2024.csv\")\n",
    "data2 = pd.read_csv(\"../Donnees/wta_matches_qual_1968_2024.csv\")\n"
   ]
  },
  {
   "cell_type": "code",
   "execution_count": 12,
   "id": "eaf33c7b",
   "metadata": {},
   "outputs": [],
   "source": [
    "liste = [data1, data2]"
   ]
  },
  {
   "cell_type": "code",
   "execution_count": 13,
   "id": "e24ad72f",
   "metadata": {},
   "outputs": [],
   "source": [
    "data_femme['first_match_date'] = data_femme['player_id'].apply(trouver_match,liste_data = liste,type= 'wta')"
   ]
  },
  {
   "cell_type": "code",
   "execution_count": 14,
   "id": "b6efc51a",
   "metadata": {},
   "outputs": [
    {
     "data": {
      "application/vnd.microsoft.datawrangler.viewer.v0+json": {
       "columns": [
        {
         "name": "index",
         "rawType": "int64",
         "type": "integer"
        },
        {
         "name": "player_id",
         "rawType": "int64",
         "type": "integer"
        },
        {
         "name": "name_first",
         "rawType": "object",
         "type": "string"
        },
        {
         "name": "name_last",
         "rawType": "object",
         "type": "string"
        },
        {
         "name": "hand",
         "rawType": "object",
         "type": "string"
        },
        {
         "name": "dob",
         "rawType": "float64",
         "type": "float"
        },
        {
         "name": "ioc",
         "rawType": "object",
         "type": "string"
        },
        {
         "name": "height",
         "rawType": "float64",
         "type": "float"
        },
        {
         "name": "wikidata_id",
         "rawType": "object",
         "type": "unknown"
        },
        {
         "name": "first_match_date",
         "rawType": "datetime64[ns]",
         "type": "datetime"
        }
       ],
       "conversionMethod": "pd.DataFrame",
       "ref": "2ca4f764-aee1-4aa6-b01e-3627451adf83",
       "rows": [
        [
         "0",
         "113190",
         "Bobby",
         "Riggs",
         "U",
         null,
         "USA",
         null,
         null,
         null
        ],
        [
         "1",
         "200000",
         "X",
         "X",
         "U",
         "19000000.0",
         "UNK",
         null,
         null,
         null
        ],
        [
         "2",
         "200001",
         "Martina",
         "Hingis",
         "R",
         "19800930.0",
         "SUI",
         "170.0",
         "Q134720",
         "1993-10-18 00:00:00"
        ],
        [
         "3",
         "200002",
         "Mirjana",
         "Lucic",
         "R",
         "19820309.0",
         "CRO",
         "181.0",
         "Q239686",
         "1996-12-09 00:00:00"
        ],
        [
         "4",
         "200003",
         "Justine",
         "Henin",
         "R",
         "19820601.0",
         "BEL",
         "167.0",
         "Q11682",
         "1996-11-18 00:00:00"
        ]
       ],
       "shape": {
        "columns": 9,
        "rows": 5
       }
      },
      "text/html": [
       "<div>\n",
       "<style scoped>\n",
       "    .dataframe tbody tr th:only-of-type {\n",
       "        vertical-align: middle;\n",
       "    }\n",
       "\n",
       "    .dataframe tbody tr th {\n",
       "        vertical-align: top;\n",
       "    }\n",
       "\n",
       "    .dataframe thead th {\n",
       "        text-align: right;\n",
       "    }\n",
       "</style>\n",
       "<table border=\"1\" class=\"dataframe\">\n",
       "  <thead>\n",
       "    <tr style=\"text-align: right;\">\n",
       "      <th></th>\n",
       "      <th>player_id</th>\n",
       "      <th>name_first</th>\n",
       "      <th>name_last</th>\n",
       "      <th>hand</th>\n",
       "      <th>dob</th>\n",
       "      <th>ioc</th>\n",
       "      <th>height</th>\n",
       "      <th>wikidata_id</th>\n",
       "      <th>first_match_date</th>\n",
       "    </tr>\n",
       "  </thead>\n",
       "  <tbody>\n",
       "    <tr>\n",
       "      <th>0</th>\n",
       "      <td>113190</td>\n",
       "      <td>Bobby</td>\n",
       "      <td>Riggs</td>\n",
       "      <td>U</td>\n",
       "      <td>NaN</td>\n",
       "      <td>USA</td>\n",
       "      <td>NaN</td>\n",
       "      <td>NaN</td>\n",
       "      <td>NaT</td>\n",
       "    </tr>\n",
       "    <tr>\n",
       "      <th>1</th>\n",
       "      <td>200000</td>\n",
       "      <td>X</td>\n",
       "      <td>X</td>\n",
       "      <td>U</td>\n",
       "      <td>19000000.0</td>\n",
       "      <td>UNK</td>\n",
       "      <td>NaN</td>\n",
       "      <td>NaN</td>\n",
       "      <td>NaT</td>\n",
       "    </tr>\n",
       "    <tr>\n",
       "      <th>2</th>\n",
       "      <td>200001</td>\n",
       "      <td>Martina</td>\n",
       "      <td>Hingis</td>\n",
       "      <td>R</td>\n",
       "      <td>19800930.0</td>\n",
       "      <td>SUI</td>\n",
       "      <td>170.0</td>\n",
       "      <td>Q134720</td>\n",
       "      <td>1993-10-18</td>\n",
       "    </tr>\n",
       "    <tr>\n",
       "      <th>3</th>\n",
       "      <td>200002</td>\n",
       "      <td>Mirjana</td>\n",
       "      <td>Lucic</td>\n",
       "      <td>R</td>\n",
       "      <td>19820309.0</td>\n",
       "      <td>CRO</td>\n",
       "      <td>181.0</td>\n",
       "      <td>Q239686</td>\n",
       "      <td>1996-12-09</td>\n",
       "    </tr>\n",
       "    <tr>\n",
       "      <th>4</th>\n",
       "      <td>200003</td>\n",
       "      <td>Justine</td>\n",
       "      <td>Henin</td>\n",
       "      <td>R</td>\n",
       "      <td>19820601.0</td>\n",
       "      <td>BEL</td>\n",
       "      <td>167.0</td>\n",
       "      <td>Q11682</td>\n",
       "      <td>1996-11-18</td>\n",
       "    </tr>\n",
       "  </tbody>\n",
       "</table>\n",
       "</div>"
      ],
      "text/plain": [
       "   player_id name_first name_last hand         dob  ioc  height wikidata_id  \\\n",
       "0     113190      Bobby     Riggs    U         NaN  USA     NaN         NaN   \n",
       "1     200000          X         X    U  19000000.0  UNK     NaN         NaN   \n",
       "2     200001    Martina    Hingis    R  19800930.0  SUI   170.0     Q134720   \n",
       "3     200002    Mirjana     Lucic    R  19820309.0  CRO   181.0     Q239686   \n",
       "4     200003    Justine     Henin    R  19820601.0  BEL   167.0      Q11682   \n",
       "\n",
       "  first_match_date  \n",
       "0              NaT  \n",
       "1              NaT  \n",
       "2       1993-10-18  \n",
       "3       1996-12-09  \n",
       "4       1996-11-18  "
      ]
     },
     "execution_count": 14,
     "metadata": {},
     "output_type": "execute_result"
    }
   ],
   "source": [
    "data_femme.head()"
   ]
  },
  {
   "cell_type": "code",
   "execution_count": 15,
   "id": "ac5d3e66",
   "metadata": {},
   "outputs": [],
   "source": [
    "data_femme.to_csv(\"../Donnees/wta_players_comp.csv\")"
   ]
  }
 ],
 "metadata": {
  "kernelspec": {
   "display_name": "base",
   "language": "python",
   "name": "python3"
  },
  "language_info": {
   "codemirror_mode": {
    "name": "ipython",
    "version": 3
   },
   "file_extension": ".py",
   "mimetype": "text/x-python",
   "name": "python",
   "nbconvert_exporter": "python",
   "pygments_lexer": "ipython3",
   "version": "3.11.7"
  }
 },
 "nbformat": 4,
 "nbformat_minor": 5
}
