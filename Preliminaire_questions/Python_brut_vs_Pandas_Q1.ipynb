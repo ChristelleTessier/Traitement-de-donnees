{
 "cells": [
  {
   "cell_type": "markdown",
   "id": "6545b758",
   "metadata": {},
   "source": [
    "# Question n°1\n",
    "\n",
    "Quels joueurs et quelles joueuses ont gagné au moins 10 titres du Grand Chelem ? Indiquez le nombre de titres pour ces personnes."
   ]
  },
  {
   "cell_type": "markdown",
   "id": "da145965",
   "metadata": {},
   "source": [
    "## Python brut"
   ]
  },
  {
   "cell_type": "code",
   "execution_count": 168,
   "id": "82f987d3",
   "metadata": {},
   "outputs": [],
   "source": [
    "for name in list(locals().keys()):\n",
    "    del locals()[name]"
   ]
  },
  {
   "cell_type": "code",
   "execution_count": 169,
   "id": "74abbcf5",
   "metadata": {},
   "outputs": [],
   "source": [
    "# Modules\n",
    "import pandas as pd\n",
    "import numpy as np\n",
    "import matplotlib.pyplot as plt\n",
    "import os\n",
    "import time\n",
    "import psutil"
   ]
  },
  {
   "cell_type": "markdown",
   "id": "d329d785",
   "metadata": {},
   "source": [
    "Initialisation du temps"
   ]
  },
  {
   "cell_type": "code",
   "execution_count": 170,
   "id": "b8568a33",
   "metadata": {},
   "outputs": [
    {
     "name": "stdout",
     "output_type": "stream",
     "text": [
      "Début de l'exécution du notebook...\n"
     ]
    }
   ],
   "source": [
    "notebook_start_time = time.time()\n",
    "print(\"Début de l'exécution du notebook...\")"
   ]
  },
  {
   "cell_type": "markdown",
   "id": "343721ad",
   "metadata": {},
   "source": [
    "### Récupération des données"
   ]
  },
  {
   "cell_type": "code",
   "execution_count": 171,
   "id": "b24a5ad2",
   "metadata": {},
   "outputs": [],
   "source": [
    "joueurs_hommes = []\n",
    "\n",
    "liste_fichier = os.listdir('donnees_tennis\\ATP')\n",
    "\n",
    "for fichier in liste_fichier:\n",
    "    if fichier.startswith('atp_matches_19') or fichier.startswith('atp_matches_20'):\n",
    "\n",
    "        chemin = os.path.join(\"donnees_tennis\",\"ATP\",fichier)\n",
    "\n",
    "        with open(chemin, 'r') as fd:\n",
    "            for ligne in fd:\n",
    "                s = ligne.strip('\\n')\n",
    "                l = s.split(',')\n",
    "\n",
    "                # Selection des variables d'intérêt\n",
    "                # l[4] = type de tournoi -> G pour grans Chelem\n",
    "                # l[25] = round -> F pour finale\n",
    "                # l[10] = nom du joueur\n",
    "                if l[4] == 'G' and l[25] == 'F':\n",
    "                    liste = l[10]\n",
    "                    joueurs_hommes.append(liste)"
   ]
  },
  {
   "cell_type": "code",
   "execution_count": 172,
   "id": "513287d3",
   "metadata": {},
   "outputs": [],
   "source": [
    "joueurs_femmes = []\n",
    "\n",
    "liste_fichier = os.listdir('donnees_tennis\\WTA')\n",
    "\n",
    "for fichier in liste_fichier:\n",
    "\n",
    "    if fichier.startswith('wta_matches_19') or fichier.startswith('wta_matches_20'):\n",
    "\n",
    "        chemin = os.path.join(\"donnees_tennis\",\"WTA\",fichier)\n",
    "\n",
    "        with open(chemin, 'r') as fd:\n",
    "            for ligne in fd:\n",
    "                s = ligne.strip('\\n')\n",
    "                l = s.split(',')\n",
    "                if l[4] == 'G' and l[25] == 'F':\n",
    "                    liste = l[10]\n",
    "                    joueurs_femmes.append(liste)"
   ]
  },
  {
   "cell_type": "code",
   "execution_count": 173,
   "id": "b855c2ac",
   "metadata": {},
   "outputs": [],
   "source": [
    "time_telechargement = time.time()"
   ]
  },
  {
   "cell_type": "markdown",
   "id": "d23814a6",
   "metadata": {},
   "source": [
    "### Traitement\n",
    "\n",
    "Création d'un dictionnaire pour compter le nombre de titres par joueur/joueuse."
   ]
  },
  {
   "cell_type": "code",
   "execution_count": 174,
   "id": "5292291b",
   "metadata": {},
   "outputs": [],
   "source": [
    "resultat_bilan = {joueurs_hommes[0]: 1}\n",
    "for joueur in joueurs_hommes:\n",
    "    if joueur in resultat_bilan.keys():\n",
    "        resultat_bilan[joueur]+=1\n",
    "    else:\n",
    "        resultat_bilan[joueur]=1\n",
    "\n",
    "for joueur in joueurs_femmes:\n",
    "    if joueur in resultat_bilan.keys():\n",
    "        resultat_bilan[joueur]+=1\n",
    "    else:\n",
    "        resultat_bilan[joueur]=1"
   ]
  },
  {
   "cell_type": "markdown",
   "id": "0c0e7b86",
   "metadata": {},
   "source": [
    "Selection des joueurs et joueuses ayant au moins 10 titres."
   ]
  },
  {
   "cell_type": "code",
   "execution_count": 175,
   "id": "766baaf8",
   "metadata": {},
   "outputs": [],
   "source": [
    "resultat_bilan2 = {}\n",
    "for clef in resultat_bilan.keys():\n",
    "    if resultat_bilan[clef]>=10:\n",
    "        resultat_bilan2[clef]=resultat_bilan[clef]\n"
   ]
  },
  {
   "cell_type": "code",
   "execution_count": 176,
   "id": "82575f6a",
   "metadata": {},
   "outputs": [],
   "source": [
    "time_traitement = time.time()"
   ]
  },
  {
   "cell_type": "markdown",
   "id": "935294aa",
   "metadata": {},
   "source": [
    "### Affichage des résultats"
   ]
  },
  {
   "cell_type": "code",
   "execution_count": 177,
   "id": "9f107113",
   "metadata": {},
   "outputs": [
    {
     "data": {
      "text/plain": [
       "{'Bjorn Borg': 11,\n",
       " 'Pete Sampras': 14,\n",
       " 'Roger Federer': 20,\n",
       " 'Rafael Nadal': 22,\n",
       " 'Novak Djokovic': 24,\n",
       " 'Margaret Court': 11,\n",
       " 'Chris Evert': 18,\n",
       " 'Martina Navratilova': 18,\n",
       " 'Steffi Graf': 22,\n",
       " 'Serena Williams': 23}"
      ]
     },
     "metadata": {},
     "output_type": "display_data"
    }
   ],
   "source": [
    "display(resultat_bilan2)"
   ]
  },
  {
   "cell_type": "code",
   "execution_count": 178,
   "id": "5072c736",
   "metadata": {},
   "outputs": [
    {
     "data": {
      "image/png": "[encoded data removed]",
      "text/plain": [
       "<Figure size 1000x600 with 1 Axes>"
      ]
     },
     "metadata": {},
     "output_type": "display_data"
    }
   ],
   "source": [
    "# Séparer les noms et les valeurs\n",
    "names = list(resultat_bilan2.keys())\n",
    "values = list(resultat_bilan2.values())\n",
    "\n",
    "# Créer le diagramme en barres\n",
    "plt.figure(figsize=(10, 6))\n",
    "bars = plt.bar(names, values, color='skyblue')\n",
    "\n",
    "# Ajouter les valeurs au-dessus de chaque barre\n",
    "for bar in bars:\n",
    "    yval = bar.get_height()\n",
    "    plt.text(bar.get_x() + bar.get_width()/2, yval + 0.2, round(yval, 2), ha='center', va='bottom')\n",
    "\n",
    "# Ajouter des labels et un titre\n",
    "plt.xlabel('Joueur/Joueuse', fontweight='bold')\n",
    "plt.ylabel('Nombre de titres du Grand Chelem', fontweight='bold')\n",
    "plt.title('Nombre de titres du Grand Chelem par joueur/joueuse', fontweight='bold')\n",
    "\n",
    "# Rotation des étiquettes de l'axe x pour une meilleure lisibilité\n",
    "plt.xticks(rotation=45, ha='right')\n",
    "\n",
    "# Ajouter une grille pour faciliter la lecture (optionnel)\n",
    "plt.grid(axis='y', linestyle='--', alpha=0.7)\n",
    "\n",
    "# Ajuster la disposition pour éviter que les labels ne se chevauchent\n",
    "plt.tight_layout()\n",
    "\n",
    "# Pour enregistrer le diagramme dans un fichier (optionnel)\n",
    "plt.savefig('Graphiques/grand_chelem_titles_python.png')\n",
    "\n",
    "# Afficher le diagramme\n",
    "plt.show()\n"
   ]
  },
  {
   "cell_type": "code",
   "execution_count": 179,
   "id": "b556c44a",
   "metadata": {},
   "outputs": [
    {
     "name": "stdout",
     "output_type": "stream",
     "text": [
      "Fin de l'exécution de la partie Pandas DataFrame.\n",
      "Temps d'exécution total du notebook : 1.35 secondes\n",
      "Temps de téléchargement des données : 0.88 secondes\n",
      "Temps de traitement des données : 0.04 secondes\n",
      "Temps d'affichage des graphiques : 0.43 secondes\n"
     ]
    }
   ],
   "source": [
    "notebook_end_time = time.time()\n",
    "total_execution_time = notebook_end_time - notebook_start_time\n",
    "print(f\"Fin de l'exécution de la partie Pandas DataFrame.\")\n",
    "print(f\"Temps d'exécution total du notebook : {total_execution_time:.2f} secondes\")\n",
    "print(f\"Temps de téléchargement des données : {time_telechargement - notebook_start_time:.2f} secondes\")\n",
    "print(f\"Temps de traitement des données : {time_traitement - time_telechargement:.2f} secondes\")\n",
    "print(f\"Temps d'affichage des graphiques : {notebook_end_time - time_traitement:.2f} secondes\")"
   ]
  },
  {
   "cell_type": "code",
   "execution_count": 180,
   "id": "9310fac9",
   "metadata": {},
   "outputs": [
    {
     "name": "stdout",
     "output_type": "stream",
     "text": [
      "Taille de l'ensemble résident (RSS) : 325.50 Mo\n",
      "Taille de la mémoire virtuelle (VMS) : 338.12 Mo\n"
     ]
    }
   ],
   "source": [
    "processus = psutil.Process(os.getpid())\n",
    "info_memoire = processus.memory_info()\n",
    "rss_mo = info_memoire.rss / (1024 * 1024)  # Resident Set Size (RAM réellement utilisée)\n",
    "vms_mo = info_memoire.vms / (1024 * 1024)  # Virtual Memory Size (Taille de la mémoire virtuelle)\n",
    "print(f\"Taille de l'ensemble résident (RSS) : {rss_mo:.2f} Mo\")\n",
    "print(f\"Taille de la mémoire virtuelle (VMS) : {vms_mo:.2f} Mo\")"
   ]
  },
  {
   "cell_type": "markdown",
   "id": "f1deb9ab",
   "metadata": {},
   "source": [
    "## Pandas"
   ]
  },
  {
   "cell_type": "code",
   "execution_count": 181,
   "id": "29322e2a",
   "metadata": {},
   "outputs": [],
   "source": [
    "for name in list(locals().keys()):\n",
    "    del locals()[name]"
   ]
  },
  {
   "cell_type": "code",
   "execution_count": 182,
   "id": "4c107e0b",
   "metadata": {},
   "outputs": [],
   "source": [
    "# Librairies\n",
    "import time\n",
    "import psutil\n",
    "import pandas as pd\n",
    "import os\n",
    "import matplotlib.pyplot as plt\n",
    "import numpy as np"
   ]
  },
  {
   "cell_type": "markdown",
   "id": "bcd4e401",
   "metadata": {},
   "source": [
    "Initialisation du temps"
   ]
  },
  {
   "cell_type": "code",
   "execution_count": 183,
   "id": "bd376aaa",
   "metadata": {},
   "outputs": [
    {
     "name": "stdout",
     "output_type": "stream",
     "text": [
      "Début de l'exécution du notebook...\n"
     ]
    }
   ],
   "source": [
    "notebook_start_time = time.time()\n",
    "print(\"Début de l'exécution du notebook...\")"
   ]
  },
  {
   "cell_type": "markdown",
   "id": "8af4b80c",
   "metadata": {},
   "source": [
    "### Récupération des données"
   ]
  },
  {
   "cell_type": "code",
   "execution_count": 184,
   "id": "859d369f",
   "metadata": {},
   "outputs": [],
   "source": [
    "matchs_hommes = pd.DataFrame()\n",
    "\n",
    "liste_fichier = os.listdir('donnees_tennis\\ATP')\n",
    "for fichier in liste_fichier:\n",
    "    if fichier.startswith('atp_matches_19') or fichier.startswith('atp_matches_20'):\n",
    "        data_annee = pd.read_csv('donnees_tennis\\ATP\\\\' + fichier)\n",
    "        # Selection des finales\n",
    "        data_annee = data_annee[data_annee[\"round\"]==\"F\"]\n",
    "        # Selection des matchs de grand Chelem\n",
    "        data_annee = data_annee[data_annee[\"tourney_level\"]==\"G\"]\n",
    "        # Selection des variables d'intéret\n",
    "        data_annee = data_annee[[\"winner_name\"]] # Double crochet pour garder le nom de la colonne\n",
    "\n",
    "        matchs_hommes = pd.concat([matchs_hommes, data_annee], axis=0)"
   ]
  },
  {
   "cell_type": "code",
   "execution_count": 185,
   "id": "43037f5b",
   "metadata": {},
   "outputs": [],
   "source": [
    "matchs_femmes = pd.DataFrame()\n",
    "\n",
    "liste_fichier = os.listdir('donnees_tennis\\WTA')\n",
    "for fichier in liste_fichier:\n",
    "    if fichier.startswith('wta_matches_19') or fichier.startswith('wta_matches_20'):\n",
    "        data_annee = pd.read_csv('donnees_tennis\\WTA\\\\' + fichier)\n",
    "        # Selection des finales\n",
    "        data_annee = data_annee[data_annee[\"round\"]==\"F\"]\n",
    "        # Selection des matchs de grand Chelem\n",
    "        data_annee = data_annee[data_annee[\"tourney_level\"]==\"G\"]\n",
    "        # Selection des variables d'intéret\n",
    "        data_annee = data_annee[[\"winner_name\"]] # Double crochet pour garder le nom de la colonne\n",
    "\n",
    "        matchs_femmes = pd.concat([matchs_femmes, data_annee], axis=0)"
   ]
  },
  {
   "cell_type": "code",
   "execution_count": 186,
   "id": "5f4bdb69",
   "metadata": {},
   "outputs": [],
   "source": [
    "time_telechargement = time.time()"
   ]
  },
  {
   "cell_type": "markdown",
   "id": "21e26262",
   "metadata": {},
   "source": [
    "### Traitement\n",
    "\n",
    "Récupération des tournois du Grand Chelem et de la finale. Selection des variables d'intéret"
   ]
  },
  {
   "cell_type": "code",
   "execution_count": 187,
   "id": "e5f17803",
   "metadata": {},
   "outputs": [],
   "source": [
    "# Traitement des matchs hommes\n",
    "resultat_hommes_counts = matchs_hommes[\"winner_name\"].value_counts().reset_index()\n",
    "plus_10_victoires_hommes = resultat_hommes_counts.rename(columns={'winner_name': 'Joueur', 'count': 'Nombre tournois'})\n",
    "plus_10_victoires_hommes = plus_10_victoires_hommes[plus_10_victoires_hommes['Nombre tournois'] >= 10]\n",
    "\n",
    "# Traitement des matchs femmes\n",
    "resultat_femmes_counts = matchs_femmes[\"winner_name\"].value_counts().reset_index()\n",
    "plus_10_victoires_femmes = resultat_femmes_counts.rename(columns={'winner_name': 'Joueur', 'count': 'Nombre tournois'})\n",
    "plus_10_victoires_femmes = plus_10_victoires_femmes[plus_10_victoires_femmes['Nombre tournois'] >= 10]\n",
    "\n",
    "# Concaténation des résultats hommes et femmes\n",
    "resultat_bilan = pd.concat([plus_10_victoires_hommes, plus_10_victoires_femmes], axis=0)\n"
   ]
  },
  {
   "cell_type": "code",
   "execution_count": 188,
   "id": "6038f135",
   "metadata": {},
   "outputs": [],
   "source": [
    "time_traitement = time.time()"
   ]
  },
  {
   "cell_type": "markdown",
   "id": "a82f2f35",
   "metadata": {},
   "source": [
    "### Affichage des résultats"
   ]
  },
  {
   "cell_type": "code",
   "execution_count": 189,
   "id": "f33ec02e",
   "metadata": {},
   "outputs": [
    {
     "data": {
      "application/vnd.microsoft.datawrangler.viewer.v0+json": {
       "columns": [
        {
         "name": "index",
         "rawType": "int64",
         "type": "integer"
        },
        {
         "name": "Joueur",
         "rawType": "object",
         "type": "string"
        },
        {
         "name": "Nombre tournois",
         "rawType": "int64",
         "type": "integer"
        }
       ],
       "conversionMethod": "pd.DataFrame",
       "ref": "3c105f58-9244-41ae-a153-1d1b9e6b7d20",
       "rows": [
        [
         "0",
         "Novak Djokovic",
         "24"
        ],
        [
         "1",
         "Rafael Nadal",
         "22"
        ],
        [
         "2",
         "Roger Federer",
         "20"
        ],
        [
         "3",
         "Pete Sampras",
         "14"
        ],
        [
         "4",
         "Bjorn Borg",
         "11"
        ],
        [
         "0",
         "Serena Williams",
         "23"
        ],
        [
         "1",
         "Steffi Graf",
         "22"
        ],
        [
         "2",
         "Chris Evert",
         "18"
        ],
        [
         "3",
         "Martina Navratilova",
         "18"
        ],
        [
         "4",
         "Margaret Court",
         "11"
        ]
       ],
       "shape": {
        "columns": 2,
        "rows": 10
       }
      },
      "text/html": [
       "<div>\n",
       "<style scoped>\n",
       "    .dataframe tbody tr th:only-of-type {\n",
       "        vertical-align: middle;\n",
       "    }\n",
       "\n",
       "    .dataframe tbody tr th {\n",
       "        vertical-align: top;\n",
       "    }\n",
       "\n",
       "    .dataframe thead th {\n",
       "        text-align: right;\n",
       "    }\n",
       "</style>\n",
       "<table border=\"1\" class=\"dataframe\">\n",
       "  <thead>\n",
       "    <tr style=\"text-align: right;\">\n",
       "      <th></th>\n",
       "      <th>Joueur</th>\n",
       "      <th>Nombre tournois</th>\n",
       "    </tr>\n",
       "  </thead>\n",
       "  <tbody>\n",
       "    <tr>\n",
       "      <th>0</th>\n",
       "      <td>Novak Djokovic</td>\n",
       "      <td>24</td>\n",
       "    </tr>\n",
       "    <tr>\n",
       "      <th>1</th>\n",
       "      <td>Rafael Nadal</td>\n",
       "      <td>22</td>\n",
       "    </tr>\n",
       "    <tr>\n",
       "      <th>2</th>\n",
       "      <td>Roger Federer</td>\n",
       "      <td>20</td>\n",
       "    </tr>\n",
       "    <tr>\n",
       "      <th>3</th>\n",
       "      <td>Pete Sampras</td>\n",
       "      <td>14</td>\n",
       "    </tr>\n",
       "    <tr>\n",
       "      <th>4</th>\n",
       "      <td>Bjorn Borg</td>\n",
       "      <td>11</td>\n",
       "    </tr>\n",
       "    <tr>\n",
       "      <th>0</th>\n",
       "      <td>Serena Williams</td>\n",
       "      <td>23</td>\n",
       "    </tr>\n",
       "    <tr>\n",
       "      <th>1</th>\n",
       "      <td>Steffi Graf</td>\n",
       "      <td>22</td>\n",
       "    </tr>\n",
       "    <tr>\n",
       "      <th>2</th>\n",
       "      <td>Chris Evert</td>\n",
       "      <td>18</td>\n",
       "    </tr>\n",
       "    <tr>\n",
       "      <th>3</th>\n",
       "      <td>Martina Navratilova</td>\n",
       "      <td>18</td>\n",
       "    </tr>\n",
       "    <tr>\n",
       "      <th>4</th>\n",
       "      <td>Margaret Court</td>\n",
       "      <td>11</td>\n",
       "    </tr>\n",
       "  </tbody>\n",
       "</table>\n",
       "</div>"
      ],
      "text/plain": [
       "                Joueur  Nombre tournois\n",
       "0       Novak Djokovic               24\n",
       "1         Rafael Nadal               22\n",
       "2        Roger Federer               20\n",
       "3         Pete Sampras               14\n",
       "4           Bjorn Borg               11\n",
       "0      Serena Williams               23\n",
       "1          Steffi Graf               22\n",
       "2          Chris Evert               18\n",
       "3  Martina Navratilova               18\n",
       "4       Margaret Court               11"
      ]
     },
     "metadata": {},
     "output_type": "display_data"
    }
   ],
   "source": [
    "display(resultat_bilan)\n"
   ]
  },
  {
   "cell_type": "code",
   "execution_count": 190,
   "id": "ffe22392",
   "metadata": {},
   "outputs": [
    {
     "data": {
      "image/png": "[encoded data removed]",
      "text/plain": [
       "<Figure size 640x480 with 1 Axes>"
      ]
     },
     "metadata": {},
     "output_type": "display_data"
    }
   ],
   "source": [
    "bars = plt.bar(resultat_bilan['Joueur'], resultat_bilan['Nombre tournois'], color='skyblue')\n",
    "\n",
    "# Ajouter les valeurs au-dessus de chaque barre\n",
    "for bar in bars:\n",
    "    yval = bar.get_height()\n",
    "    plt.text(bar.get_x() + bar.get_width()/2, yval + 0.2, int(yval), ha='center', va='bottom')\n",
    "\n",
    "# Ajouter des labels et un titre\n",
    "plt.xlabel('Joueur/Joueuse', fontweight='bold')\n",
    "plt.ylabel('Nombre de titres du Grand Chelem', fontweight='bold')\n",
    "plt.title('Nombre de titres du Grand Chelem par joueur/joueuse', fontweight='bold')\n",
    "plt.xticks(rotation=45, ha='right')\n",
    "plt.tight_layout()\n",
    "plt.grid(axis='y', linestyle='--', alpha=0.7)\n",
    "\n",
    "# Enregistrer le graphique\n",
    "plt.savefig('Graphiques/grand_chelem_titles_pandas.png')\n",
    "\n",
    "# Afficher le graphique\n",
    "plt.show()"
   ]
  },
  {
   "cell_type": "code",
   "execution_count": 191,
   "id": "a61e17b2",
   "metadata": {},
   "outputs": [
    {
     "name": "stdout",
     "output_type": "stream",
     "text": [
      "Fin de l'exécution de la partie Pandas DataFrame.\n",
      "Temps d'exécution total du notebook : 2.16 secondes\n",
      "Temps de téléchargement des données : 1.72 secondes\n",
      "Temps de traitement des données : 0.03 secondes\n",
      "Temps d'affichage des graphiques : 0.40 secondes\n"
     ]
    }
   ],
   "source": [
    "notebook_end_time = time.time()\n",
    "total_execution_time = notebook_end_time - notebook_start_time\n",
    "print(f\"Fin de l'exécution de la partie Pandas DataFrame.\")\n",
    "print(f\"Temps d'exécution total du notebook : {total_execution_time:.2f} secondes\")\n",
    "print(f\"Temps de téléchargement des données : {time_telechargement - notebook_start_time:.2f} secondes\")\n",
    "print(f\"Temps de traitement des données : {time_traitement - time_telechargement:.2f} secondes\")\n",
    "print(f\"Temps d'affichage des graphiques : {notebook_end_time - time_traitement:.2f} secondes\")"
   ]
  },
  {
   "cell_type": "code",
   "execution_count": 192,
   "id": "704c91eb",
   "metadata": {},
   "outputs": [
    {
     "name": "stdout",
     "output_type": "stream",
     "text": [
      "Taille de l'ensemble résident (RSS) : 326.60 Mo\n",
      "Taille de la mémoire virtuelle (VMS) : 339.36 Mo\n"
     ]
    }
   ],
   "source": [
    "processus = psutil.Process(os.getpid())\n",
    "info_memoire = processus.memory_info()\n",
    "rss_mo = info_memoire.rss / (1024 * 1024)  # Resident Set Size (RAM réellement utilisée)\n",
    "vms_mo = info_memoire.vms / (1024 * 1024)  # Virtual Memory Size (Taille de la mémoire virtuelle)\n",
    "print(f\"Taille de l'ensemble résident (RSS) : {rss_mo:.2f} Mo\")\n",
    "print(f\"Taille de la mémoire virtuelle (VMS) : {vms_mo:.2f} Mo\")"
   ]
  }
 ],
 "metadata": {
  "kernelspec": {
   "display_name": "base",
   "language": "python",
   "name": "python3"
  },
  "language_info": {
   "codemirror_mode": {
    "name": "ipython",
    "version": 3
   },
   "file_extension": ".py",
   "mimetype": "text/x-python",
   "name": "python",
   "nbconvert_exporter": "python",
   "pygments_lexer": "ipython3",
   "version": "3.11.7"
  }
 },
 "nbformat": 4,
 "nbformat_minor": 5
}
