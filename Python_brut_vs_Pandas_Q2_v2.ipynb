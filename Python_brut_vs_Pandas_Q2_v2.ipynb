{
 "cells": [
  {
   "cell_type": "markdown",
   "metadata": {},
   "source": [
    "# Question 2\n",
    "\n",
    "En 2024, quelles sont les nombres et les proportions de matchs masculins et féminins où la personne gagnant le match a gagné moins de jeux que la personne perdant le match ? On enlèvera les matchs où le troisième set n’est qu’un supertie-break, ainsi que les matchs non joués ou avec un abandon en cours de match."
   ]
  },
  {
   "cell_type": "markdown",
   "metadata": {},
   "source": [
    "## I. Python brut"
   ]
  },
  {
   "cell_type": "markdown",
   "metadata": {},
   "source": [
    "Récupération des informations chez les hommes"
   ]
  },
  {
   "cell_type": "code",
   "execution_count": 201,
   "metadata": {},
   "outputs": [],
   "source": [
    "for name in list(locals().keys()):\n",
    "    del locals()[name]"
   ]
  },
  {
   "cell_type": "code",
   "execution_count": 202,
   "metadata": {},
   "outputs": [],
   "source": [
    "import os\n",
    "import re\n",
    "import time # calcul temps\n",
    "import psutil # calcul memoire"
   ]
  },
  {
   "cell_type": "markdown",
   "metadata": {},
   "source": [
    "Initialisation du temps"
   ]
  },
  {
   "cell_type": "code",
   "execution_count": 203,
   "metadata": {},
   "outputs": [
    {
     "name": "stdout",
     "output_type": "stream",
     "text": [
      "Début de l'exécution du notebook...\n"
     ]
    }
   ],
   "source": [
    "notebook_start_time = time.time()\n",
    "print(\"Début de l'exécution du notebook...\")"
   ]
  },
  {
   "cell_type": "markdown",
   "metadata": {},
   "source": [
    "### Récupération des données"
   ]
  },
  {
   "cell_type": "code",
   "execution_count": 204,
   "metadata": {},
   "outputs": [],
   "source": [
    "matchs_hommes = []\n",
    "chemin = os.path.join(\"donnees_tennis\",\"ATP\",\"atp_matches_2024.csv\")\n",
    "with open(chemin, 'r') as fd:\n",
    "    for ligne in fd:\n",
    "        s = ligne.strip('\\n')\n",
    "        l = s.split(',')\n",
    "        # Récupération des variables d'intérêt\n",
    "        # l[23] = score_final\n",
    "        if l[23] != 'score':\n",
    "            matchs_hommes.append(l[23])"
   ]
  },
  {
   "cell_type": "code",
   "execution_count": 205,
   "metadata": {},
   "outputs": [],
   "source": [
    "matchs_femmes = []\n",
    "chemin = os.path.join(\"donnees_tennis\",\"WTA\",\"wta_matches_2024.csv\")\n",
    "with open(chemin, 'r') as fd:\n",
    "    for ligne in fd:\n",
    "        s = ligne.strip('\\n')\n",
    "        l = s.split(',')\n",
    "        # Récupération des variables d'intérêt\n",
    "        # l[23] = score_final\n",
    "        if l[23] != 'score':\n",
    "            matchs_femmes.append(l[23])"
   ]
  },
  {
   "cell_type": "code",
   "execution_count": 206,
   "metadata": {},
   "outputs": [],
   "source": [
    "time_telechargement = time.time()"
   ]
  },
  {
   "cell_type": "markdown",
   "metadata": {},
   "source": [
    "### Traitement des données"
   ]
  },
  {
   "cell_type": "markdown",
   "metadata": {},
   "source": [
    "Nettoyage des matchs, on ne garde que les match sans super tie-break et sans abandon."
   ]
  },
  {
   "cell_type": "code",
   "execution_count": 207,
   "metadata": {},
   "outputs": [],
   "source": [
    "matchs_hommes_nettoye = []\n",
    "for match in matchs_hommes :\n",
    "    # SUppression des parenthèses\n",
    "    match = re.sub(r'\\(.*?\\)', \"\", match)\n",
    "    # Suppression des super tie-breaks\n",
    "    if \"[\" not in match :\n",
    "        # Suppression des \"RET\" et \"DEF\" (abandons)\n",
    "        if \"RET\" not in match  and \"DEF\" not in match :\n",
    "            # On ne garde que les matchs en 3 sets\n",
    "            if match.count(\"-\") >= 3 :\n",
    "                matchs_hommes_nettoye.append(match)\n",
    "\n",
    "\n",
    "matchs_femmes_nettoye = []\n",
    "for match in matchs_femmes:\n",
    "    # SUppression des parenthèses\n",
    "    match = re.sub(r'\\(.*?\\)', \"\", match)\n",
    "    # Suppression des super tie-breaks\n",
    "    if \"[\" not in match :\n",
    "        # Suppression des \"RET\" et \"DEF\" (abandons)\n",
    "        if \"RET\" not in match  and \"DEF\" not in match :\n",
    "            # On ne garde que les matchs en 3 sets\n",
    "            if match.count(\"-\") >= 3 :\n",
    "                matchs_femmes_nettoye.append(match)\n"
   ]
  },
  {
   "cell_type": "markdown",
   "metadata": {},
   "source": [
    "Récupération du nombre de sets gagnés et du nombres de jeux gagnés par chaque joueur"
   ]
  },
  {
   "cell_type": "code",
   "execution_count": 208,
   "metadata": {},
   "outputs": [],
   "source": [
    "resultats_hommes = []\n",
    "for match in matchs_hommes_nettoye:\n",
    "\n",
    "    nb_set = match.count('-')\n",
    "    match = match.replace(\" \", \"\").replace(\"-\", \"\")\n",
    "    nb_jeux_j1 = 0\n",
    "    nb_jeux_j2 = 0\n",
    "\n",
    "    for i in range(nb_set):\n",
    "        nb_jeux_j1 += int(match[2*i])\n",
    "        nb_jeux_j2 += int(match[2*i+1])\n",
    "\n",
    "    resultats_hommes.append([nb_jeux_j1, nb_jeux_j2])\n",
    "\n",
    "resultats_femmes = []\n",
    "for match in matchs_femmes_nettoye:\n",
    "\n",
    "    nb_set = match.count('-')\n",
    "    match = match.replace(\" \", \"\").replace(\"-\", \"\")\n",
    "    nb_jeux_j1 = 0\n",
    "    nb_jeux_j2 = 0\n",
    "\n",
    "    for i in range(nb_set):\n",
    "        nb_jeux_j1 += int(match[2*i])\n",
    "        nb_jeux_j2 += int(match[2*i+1])\n",
    "\n",
    "    resultats_femmes.append([nb_jeux_j1, nb_jeux_j2])\n"
   ]
  },
  {
   "cell_type": "markdown",
   "metadata": {},
   "source": [
    "Récupération du nombre match ou le gagnant à gagner le moins de jeux"
   ]
  },
  {
   "cell_type": "code",
   "execution_count": 209,
   "metadata": {},
   "outputs": [],
   "source": [
    "nb_match_hommes = 0\n",
    "for resultat in resultats_hommes:\n",
    "    if resultat[0] < resultat[1]:\n",
    "        nb_match_hommes += 1\n",
    "\n",
    "\n",
    "nb_match_femmes = 0\n",
    "for resultat in resultats_femmes:\n",
    "    if resultat[0] < resultat[1]:\n",
    "        nb_match_femmes += 1\n"
   ]
  },
  {
   "cell_type": "code",
   "execution_count": 210,
   "metadata": {},
   "outputs": [],
   "source": [
    "time_traitement = time.time()"
   ]
  },
  {
   "cell_type": "markdown",
   "metadata": {},
   "source": [
    "### Affichage des résultats"
   ]
  },
  {
   "cell_type": "code",
   "execution_count": 211,
   "metadata": {},
   "outputs": [
    {
     "name": "stdout",
     "output_type": "stream",
     "text": [
      "Il y a 59 matchs gagnés avec moins de jeux chez les hommes sur 1360 matchs joués. Soit une proportion de 4.34 %\n",
      "Il y a 54 matchs gagnés avec moins de jeux chez les femmes sur 917 matchs joués. Soit une proportion de 5.89 %\n"
     ]
    }
   ],
   "source": [
    "print(f\"Il y a {nb_match_hommes} matchs gagnés avec moins de jeux chez les hommes sur {len(resultats_hommes)} matchs joués.\"\n",
    "      f\" Soit une proportion de {round(nb_match_hommes/len(resultats_hommes) * 100,2)} %\")\n",
    "\n",
    "print(f\"Il y a {nb_match_femmes} matchs gagnés avec moins de jeux chez les femmes sur {len(resultats_femmes)} matchs joués.\"\n",
    "      f\" Soit une proportion de {round(nb_match_femmes/len(resultats_femmes) * 100,2)} %\")"
   ]
  },
  {
   "cell_type": "code",
   "execution_count": 212,
   "metadata": {},
   "outputs": [],
   "source": [
    "time_affichage = time.time()"
   ]
  },
  {
   "cell_type": "code",
   "execution_count": 213,
   "metadata": {},
   "outputs": [
    {
     "name": "stdout",
     "output_type": "stream",
     "text": [
      "Fin de l'exécution de la partie Pandas DataFrame.\n",
      "Temps d'exécution total du notebook : 0.16 secondes\n",
      "Temps de téléchargement des données : 0.05 secondes\n",
      "Temps de traitement des données : 0.07 secondes\n",
      "Temps d'affichage des graphiques : 0.04 secondes\n"
     ]
    }
   ],
   "source": [
    "notebook_end_time = time.time()\n",
    "total_execution_time = notebook_end_time - notebook_start_time\n",
    "print(f\"Fin de l'exécution de la partie Pandas DataFrame.\")\n",
    "print(f\"Temps d'exécution total du notebook : {total_execution_time:.2f} secondes\")\n",
    "print(f\"Temps de téléchargement des données : {time_telechargement - notebook_start_time:.2f} secondes\")\n",
    "print(f\"Temps de traitement des données : {time_traitement - time_telechargement:.2f} secondes\")\n",
    "print(f\"Temps d'affichage des graphiques : {notebook_end_time - time_traitement:.2f} secondes\")"
   ]
  },
  {
   "cell_type": "code",
   "execution_count": 214,
   "metadata": {},
   "outputs": [
    {
     "name": "stdout",
     "output_type": "stream",
     "text": [
      "Taille de l'ensemble résident (RSS) : 470.78 Mo\n",
      "Taille de la mémoire virtuelle (VMS) : 490.80 Mo\n"
     ]
    }
   ],
   "source": [
    "processus = psutil.Process(os.getpid())\n",
    "info_memoire = processus.memory_info()\n",
    "rss_mo = info_memoire.rss / (1024 * 1024)  # Resident Set Size (RAM réellement utilisée)\n",
    "vms_mo = info_memoire.vms / (1024 * 1024)  # Virtual Memory Size (Taille de la mémoire virtuelle)\n",
    "print(f\"Taille de l'ensemble résident (RSS) : {rss_mo:.2f} Mo\")\n",
    "print(f\"Taille de la mémoire virtuelle (VMS) : {vms_mo:.2f} Mo\")"
   ]
  },
  {
   "cell_type": "markdown",
   "metadata": {},
   "source": [
    "## II. Pandas"
   ]
  },
  {
   "cell_type": "code",
   "execution_count": 215,
   "metadata": {},
   "outputs": [],
   "source": [
    "for name in list(locals().keys()):\n",
    "    del locals()[name]"
   ]
  },
  {
   "cell_type": "code",
   "execution_count": 216,
   "metadata": {},
   "outputs": [],
   "source": [
    "import os\n",
    "import re\n",
    "import time # calcul temps\n",
    "import psutil # calcul memoire\n",
    "import pandas as pd"
   ]
  },
  {
   "cell_type": "code",
   "execution_count": 217,
   "metadata": {},
   "outputs": [
    {
     "name": "stdout",
     "output_type": "stream",
     "text": [
      "Début de l'exécution du notebook...\n"
     ]
    }
   ],
   "source": [
    "notebook_start_time = time.time()\n",
    "print(\"Début de l'exécution du notebook...\")"
   ]
  },
  {
   "cell_type": "markdown",
   "metadata": {},
   "source": [
    "### Récupération des données"
   ]
  },
  {
   "cell_type": "code",
   "execution_count": 218,
   "metadata": {},
   "outputs": [],
   "source": [
    "matchs_homme = pd.read_csv('donnees_tennis/ATP/atp_matches_2024.csv')\n",
    "# Selection des variables d'intéret\n",
    "matchs_homme = matchs_homme[[\"score\"]]\n",
    "\n",
    "\n",
    "matchs_femme = pd.read_csv('donnees_tennis/WTA/wta_matches_2024.csv')\n",
    "# Selection des variables d'intéret\n",
    "matchs_femme = matchs_femme[[\"score\"]]"
   ]
  },
  {
   "cell_type": "code",
   "execution_count": 219,
   "metadata": {},
   "outputs": [],
   "source": [
    "time_telechargement = time.time()"
   ]
  },
  {
   "cell_type": "markdown",
   "metadata": {},
   "source": [
    "### Traitement des données"
   ]
  },
  {
   "cell_type": "code",
   "execution_count": 220,
   "metadata": {},
   "outputs": [
    {
     "name": "stderr",
     "output_type": "stream",
     "text": [
      "C:\\Users\\33663\\AppData\\Local\\Temp\\ipykernel_25612\\4288342918.py:17: FutureWarning: Series.__getitem__ treating keys as positions is deprecated. In a future version, integer keys will always be treated as labels (consistent with DataFrame behavior). To access a value by position, use `ser.iloc[pos]`\n",
      "  match_str = row[0]  # Assumer que la chaîne de score est dans la première colonne\n"
     ]
    }
   ],
   "source": [
    "# 1. Supprimer les parenthèses\n",
    "matchs_homme['score'] = matchs_homme['score'].str.replace(r'\\(.*?\\)', '', regex=True)\n",
    "\n",
    "# 2. Filtrer les lignes qui ne contiennent pas de super tie-breaks '['\n",
    "matchs_homme = matchs_homme[~matchs_homme['score'].str.contains(r'\\[')]\n",
    "\n",
    "# 3. Filtrer les lignes qui ne contiennent pas 'RET' ou 'DEF'\n",
    "matchs_homme = matchs_homme[~matchs_homme['score'].str.contains(r'RET|DEF')]\n",
    "\n",
    "# 4. Filtrer les lignes où le score contient exactement trois '-'\n",
    "matchs_homme = matchs_homme[matchs_homme['score'].str.count('-') >= 3]\n",
    "\n",
    "# 5. Calculer le nombres de jeux de chaque joueurs\n",
    "matchs_homme['nb_jeux_j1']=0\n",
    "matchs_homme['nb_jeux_j2']=0\n",
    "for index, row in matchs_homme.iterrows():\n",
    "        match_str = row[0]  # Assumer que la chaîne de score est dans la première colonne\n",
    "        nb_set = match_str.count('-')\n",
    "        match = match_str.replace(\" \", \"\").replace(\"-\", \"\")\n",
    "        nb_jeux_j1 = 0\n",
    "        nb_jeux_j2 = 0\n",
    "\n",
    "        for i in range(nb_set):\n",
    "            nb_jeux_j1 += int(match[2 * i])\n",
    "            nb_jeux_j2 += int(match[2 * i + 1])\n",
    "\n",
    "        matchs_homme.loc[index, 'nb_jeux_j1'] = nb_jeux_j1\n",
    "        matchs_homme.loc[index, 'nb_jeux_j2'] = nb_jeux_j2\n"
   ]
  },
  {
   "cell_type": "code",
   "execution_count": 221,
   "metadata": {},
   "outputs": [
    {
     "name": "stderr",
     "output_type": "stream",
     "text": [
      "C:\\Users\\33663\\AppData\\Local\\Temp\\ipykernel_25612\\3377190325.py:17: FutureWarning: Series.__getitem__ treating keys as positions is deprecated. In a future version, integer keys will always be treated as labels (consistent with DataFrame behavior). To access a value by position, use `ser.iloc[pos]`\n",
      "  match_str = row[0]  # Assumer que la chaîne de score est dans la première colonne\n"
     ]
    }
   ],
   "source": [
    "# 1. Supprimer les parenthèses\n",
    "matchs_femme['score'] = matchs_femme['score'].str.replace(r'\\(.*?\\)', '', regex=True)\n",
    "\n",
    "# 2. Filtrer les lignes qui ne contiennent pas de super tie-breaks '['\n",
    "matchs_femme = matchs_femme[~matchs_femme['score'].str.contains(r'\\[')]\n",
    "\n",
    "# 3. Filtrer les lignes qui ne contiennent pas 'RET' ou 'DEF'\n",
    "matchs_femme = matchs_femme[~matchs_femme['score'].str.contains(r'RET|DEF')]\n",
    "\n",
    "# 4. Filtrer les lignes où le score contient exactement trois '-'\n",
    "matchs_femme = matchs_femme[matchs_femme['score'].str.count('-') >= 3]\n",
    "\n",
    "# 5. Calculer le nombres de jeux de chaque joueurs\n",
    "matchs_femme['nb_jeux_j1']=0\n",
    "matchs_femme['nb_jeux_j2']=0\n",
    "for index, row in matchs_femme.iterrows():\n",
    "        match_str = row[0]  # Assumer que la chaîne de score est dans la première colonne\n",
    "        nb_set = match_str.count('-')\n",
    "        match = match_str.replace(\" \", \"\").replace(\"-\", \"\")\n",
    "        nb_jeux_j1 = 0\n",
    "        nb_jeux_j2 = 0\n",
    "\n",
    "        for i in range(nb_set):\n",
    "            nb_jeux_j1 += int(match[2 * i])\n",
    "            nb_jeux_j2 += int(match[2 * i + 1])\n",
    "\n",
    "        matchs_femme.loc[index, 'nb_jeux_j1'] = nb_jeux_j1\n",
    "        matchs_femme.loc[index, 'nb_jeux_j2'] = nb_jeux_j2"
   ]
  },
  {
   "cell_type": "code",
   "execution_count": 222,
   "metadata": {},
   "outputs": [],
   "source": [
    "nombre_lignes_homme = (matchs_homme['nb_jeux_j2'] > matchs_homme['nb_jeux_j1']).sum()\n",
    "nombre_lignes_femme = (matchs_femme['nb_jeux_j2'] > matchs_femme['nb_jeux_j1']).sum()\n"
   ]
  },
  {
   "cell_type": "code",
   "execution_count": 223,
   "metadata": {},
   "outputs": [],
   "source": [
    "time_traitement = time.time()"
   ]
  },
  {
   "cell_type": "markdown",
   "metadata": {},
   "source": [
    "### Affichage"
   ]
  },
  {
   "cell_type": "code",
   "execution_count": 224,
   "metadata": {},
   "outputs": [
    {
     "name": "stdout",
     "output_type": "stream",
     "text": [
      "Il y a 59 matchs gagnés avec moins de jeux chez les hommes sur 1360 matchs joués. Soit une proportion de 4.34 %\n",
      "Il y a 54 matchs gagnés avec moins de jeux chez les femmes sur 917 matchs joués. Soit une proportion de 5.89 %\n"
     ]
    }
   ],
   "source": [
    "print(f\"Il y a {nombre_lignes_homme} matchs gagnés avec moins de jeux chez les hommes sur {len(matchs_homme)} matchs joués.\"\n",
    "      f\" Soit une proportion de {round(nombre_lignes_homme/len(matchs_homme) * 100,2)} %\")\n",
    "print(f\"Il y a {nombre_lignes_femme} matchs gagnés avec moins de jeux chez les femmes sur {len(matchs_femme)} matchs joués.\"\n",
    "      f\" Soit une proportion de {round(nombre_lignes_femme/len(matchs_femme) * 100,2)} %\")"
   ]
  },
  {
   "cell_type": "code",
   "execution_count": 225,
   "metadata": {},
   "outputs": [],
   "source": [
    "time_affichage = time.time()"
   ]
  },
  {
   "cell_type": "code",
   "execution_count": 226,
   "metadata": {},
   "outputs": [
    {
     "name": "stdout",
     "output_type": "stream",
     "text": [
      "Fin de l'exécution de la partie Pandas DataFrame.\n",
      "Temps d'exécution total du notebook : 0.69 secondes\n",
      "Temps de téléchargement des données : 0.08 secondes\n",
      "Temps de traitement des données : 0.56 secondes\n",
      "Temps d'affichage des graphiques : 0.05 secondes\n"
     ]
    }
   ],
   "source": [
    "notebook_end_time = time.time()\n",
    "total_execution_time = notebook_end_time - notebook_start_time\n",
    "print(f\"Fin de l'exécution de la partie Pandas DataFrame.\")\n",
    "print(f\"Temps d'exécution total du notebook : {total_execution_time:.2f} secondes\")\n",
    "print(f\"Temps de téléchargement des données : {time_telechargement - notebook_start_time:.2f} secondes\")\n",
    "print(f\"Temps de traitement des données : {time_traitement - time_telechargement:.2f} secondes\")\n",
    "print(f\"Temps d'affichage des graphiques : {notebook_end_time - time_traitement:.2f} secondes\")"
   ]
  },
  {
   "cell_type": "code",
   "execution_count": 227,
   "metadata": {},
   "outputs": [
    {
     "name": "stdout",
     "output_type": "stream",
     "text": [
      "Taille de l'ensemble résident (RSS) : 470.80 Mo\n",
      "Taille de la mémoire virtuelle (VMS) : 490.80 Mo\n"
     ]
    }
   ],
   "source": [
    "processus = psutil.Process(os.getpid())\n",
    "info_memoire = processus.memory_info()\n",
    "rss_mo = info_memoire.rss / (1024 * 1024)  # Resident Set Size (RAM réellement utilisée)\n",
    "vms_mo = info_memoire.vms / (1024 * 1024)  # Virtual Memory Size (Taille de la mémoire virtuelle)\n",
    "print(f\"Taille de l'ensemble résident (RSS) : {rss_mo:.2f} Mo\")\n",
    "print(f\"Taille de la mémoire virtuelle (VMS) : {vms_mo:.2f} Mo\")"
   ]
  }
 ],
 "metadata": {
  "kernelspec": {
   "display_name": "base",
   "language": "python",
   "name": "python3"
  },
  "language_info": {
   "codemirror_mode": {
    "name": "ipython",
    "version": 3
   },
   "file_extension": ".py",
   "mimetype": "text/x-python",
   "name": "python",
   "nbconvert_exporter": "python",
   "pygments_lexer": "ipython3",
   "version": "3.11.7"
  }
 },
 "nbformat": 4,
 "nbformat_minor": 2
}
